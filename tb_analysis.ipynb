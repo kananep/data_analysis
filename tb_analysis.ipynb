{
 "cells": [
  {
   "cell_type": "markdown",
   "metadata": {},
   "source": [
    "Introduction to Data Analysis\n",
    "\n",
    "Analyst = Kofi Anane Poku\n",
    "\n",
    "Linkedin Profile : linkedin.com/in/kofi-poku-anane\n"
   ]
  },
  {
   "cell_type": "markdown",
   "metadata": {},
   "source": [
    "TABLE OF CONTENT"
   ]
  },
  {
   "cell_type": "markdown",
   "metadata": {},
   "source": [
    "For this project, the data covers world tuberculosis cases with HIV from 1990 to 2013. \n",
    "I sampled data from the dataset with visualization\n",
    "The data sampling contains the information of Ghana cases and analysis\n",
    "The analysed the whole dataset with choropleth\n",
    "\n",
    "The analysed data contains the following objectives and questions:\n",
    "\n",
    "1. Data Cleaning and Manipulation\n",
    "\n",
    "\n",
    "2. Meta Information from DataFrame using the Transpose T Type\n",
    "\n",
    "\n",
    "3. Statistical Information from DataFrame using the Describe function\n",
    "\n",
    "\n",
    "4. Data Visualization And Information Extraction.\n",
    "   Under Data Visualization, here is the subset:\n",
    "\n",
    "   1. Method to derive prevalence estimates\n",
    "\n",
    "   2. Method to derive mortality estimates\n",
    "\n",
    "   3. Method to derive incidence estimates\n",
    "\n",
    "   4. Sampled Data of Ghana and information analysis of Ghana from 1990 to 2013\n",
    "\n",
    "   5. Year\n",
    "\n",
    "   6. Question 1: What Are The Most and Least Populated Countries in 1990?\n",
    "\n",
    "   7. Question 2: The Change in Global Population Distribution from 1990 to 2013\n",
    "\n",
    "   8.  Question 3: Countries with Most Population Growth and Least Population Growth  (2012–2023)\n",
    "   \n",
    "5. Conclusion "
   ]
  },
  {
   "cell_type": "markdown",
   "metadata": {},
   "source": [
    "Download dataset from :\n",
    "\n",
    "Link : https://github.com/kananep/datasets/blob/main/TB_Burden_Country.csv\n",
    "Link : https://drive.google.com/file/d/1rKTNA_jYA50RO94ZVp7iTNwMBdxhO-MT/view?usp=drive_link"
   ]
  },
  {
   "cell_type": "code",
   "execution_count": 131,
   "metadata": {},
   "outputs": [],
   "source": [
    "import pandas as pd \n",
    "import numpy as np\n",
    "import matplotlib.pyplot as plt\n",
    "import seaborn as sns\n",
    "import folium\n",
    "import plotly.express as px\n",
    "%matplotlib inline"
   ]
  },
  {
   "cell_type": "code",
   "execution_count": 132,
   "metadata": {},
   "outputs": [
    {
     "data": {
      "text/html": [
       "<div>\n",
       "<style scoped>\n",
       "    .dataframe tbody tr th:only-of-type {\n",
       "        vertical-align: middle;\n",
       "    }\n",
       "\n",
       "    .dataframe tbody tr th {\n",
       "        vertical-align: top;\n",
       "    }\n",
       "\n",
       "    .dataframe thead th {\n",
       "        text-align: right;\n",
       "    }\n",
       "</style>\n",
       "<table border=\"1\" class=\"dataframe\">\n",
       "  <thead>\n",
       "    <tr style=\"text-align: right;\">\n",
       "      <th></th>\n",
       "      <th>Country or territory name</th>\n",
       "      <th>ISO 2-character country/territory code</th>\n",
       "      <th>ISO 3-character country/territory code</th>\n",
       "      <th>ISO numeric country/territory code</th>\n",
       "      <th>Region</th>\n",
       "      <th>Year</th>\n",
       "      <th>Estimated total population number</th>\n",
       "      <th>Estimated prevalence of TB (all forms) per 100 000 population</th>\n",
       "      <th>Estimated prevalence of TB (all forms) per 100 000 population, low bound</th>\n",
       "      <th>Estimated prevalence of TB (all forms) per 100 000 population, high bound</th>\n",
       "      <th>...</th>\n",
       "      <th>Estimated incidence of TB cases who are HIV-positive per 100 000 population</th>\n",
       "      <th>Estimated incidence of TB cases who are HIV-positive per 100 000 population, low bound</th>\n",
       "      <th>Estimated incidence of TB cases who are HIV-positive per 100 000 population, high bound</th>\n",
       "      <th>Estimated incidence of TB cases who are HIV-positive</th>\n",
       "      <th>Estimated incidence of TB cases who are HIV-positive, low bound</th>\n",
       "      <th>Estimated incidence of TB cases who are HIV-positive, high bound</th>\n",
       "      <th>Method to derive TBHIV estimates</th>\n",
       "      <th>Case detection rate (all forms), percent</th>\n",
       "      <th>Case detection rate (all forms), percent, low bound</th>\n",
       "      <th>Case detection rate (all forms), percent, high bound</th>\n",
       "    </tr>\n",
       "  </thead>\n",
       "  <tbody>\n",
       "    <tr>\n",
       "      <th>0</th>\n",
       "      <td>Afghanistan</td>\n",
       "      <td>AF</td>\n",
       "      <td>AFG</td>\n",
       "      <td>4</td>\n",
       "      <td>EMR</td>\n",
       "      <td>1990</td>\n",
       "      <td>11731193</td>\n",
       "      <td>306.0</td>\n",
       "      <td>156.0</td>\n",
       "      <td>506.0</td>\n",
       "      <td>...</td>\n",
       "      <td>0.11</td>\n",
       "      <td>0.08</td>\n",
       "      <td>0.14</td>\n",
       "      <td>12.0</td>\n",
       "      <td>9.4</td>\n",
       "      <td>16.0</td>\n",
       "      <td>NaN</td>\n",
       "      <td>20.0</td>\n",
       "      <td>15.0</td>\n",
       "      <td>24.0</td>\n",
       "    </tr>\n",
       "    <tr>\n",
       "      <th>1</th>\n",
       "      <td>Afghanistan</td>\n",
       "      <td>AF</td>\n",
       "      <td>AFG</td>\n",
       "      <td>4</td>\n",
       "      <td>EMR</td>\n",
       "      <td>1991</td>\n",
       "      <td>12612043</td>\n",
       "      <td>343.0</td>\n",
       "      <td>178.0</td>\n",
       "      <td>562.0</td>\n",
       "      <td>...</td>\n",
       "      <td>0.13</td>\n",
       "      <td>0.11</td>\n",
       "      <td>0.16</td>\n",
       "      <td>17.0</td>\n",
       "      <td>14.0</td>\n",
       "      <td>20.0</td>\n",
       "      <td>NaN</td>\n",
       "      <td>96.0</td>\n",
       "      <td>80.0</td>\n",
       "      <td>110.0</td>\n",
       "    </tr>\n",
       "    <tr>\n",
       "      <th>2</th>\n",
       "      <td>Afghanistan</td>\n",
       "      <td>AF</td>\n",
       "      <td>AFG</td>\n",
       "      <td>4</td>\n",
       "      <td>EMR</td>\n",
       "      <td>1992</td>\n",
       "      <td>13811876</td>\n",
       "      <td>371.0</td>\n",
       "      <td>189.0</td>\n",
       "      <td>614.0</td>\n",
       "      <td>...</td>\n",
       "      <td>0.16</td>\n",
       "      <td>0.14</td>\n",
       "      <td>0.18</td>\n",
       "      <td>22.0</td>\n",
       "      <td>19.0</td>\n",
       "      <td>24.0</td>\n",
       "      <td>NaN</td>\n",
       "      <td>NaN</td>\n",
       "      <td>NaN</td>\n",
       "      <td>NaN</td>\n",
       "    </tr>\n",
       "    <tr>\n",
       "      <th>3</th>\n",
       "      <td>Afghanistan</td>\n",
       "      <td>AF</td>\n",
       "      <td>AFG</td>\n",
       "      <td>4</td>\n",
       "      <td>EMR</td>\n",
       "      <td>1993</td>\n",
       "      <td>15175325</td>\n",
       "      <td>392.0</td>\n",
       "      <td>194.0</td>\n",
       "      <td>657.0</td>\n",
       "      <td>...</td>\n",
       "      <td>0.19</td>\n",
       "      <td>0.17</td>\n",
       "      <td>0.21</td>\n",
       "      <td>28.0</td>\n",
       "      <td>25.0</td>\n",
       "      <td>31.0</td>\n",
       "      <td>NaN</td>\n",
       "      <td>NaN</td>\n",
       "      <td>NaN</td>\n",
       "      <td>NaN</td>\n",
       "    </tr>\n",
       "    <tr>\n",
       "      <th>4</th>\n",
       "      <td>Afghanistan</td>\n",
       "      <td>AF</td>\n",
       "      <td>AFG</td>\n",
       "      <td>4</td>\n",
       "      <td>EMR</td>\n",
       "      <td>1994</td>\n",
       "      <td>16485018</td>\n",
       "      <td>410.0</td>\n",
       "      <td>198.0</td>\n",
       "      <td>697.0</td>\n",
       "      <td>...</td>\n",
       "      <td>0.21</td>\n",
       "      <td>0.18</td>\n",
       "      <td>0.24</td>\n",
       "      <td>35.0</td>\n",
       "      <td>30.0</td>\n",
       "      <td>39.0</td>\n",
       "      <td>NaN</td>\n",
       "      <td>NaN</td>\n",
       "      <td>NaN</td>\n",
       "      <td>NaN</td>\n",
       "    </tr>\n",
       "    <tr>\n",
       "      <th>...</th>\n",
       "      <td>...</td>\n",
       "      <td>...</td>\n",
       "      <td>...</td>\n",
       "      <td>...</td>\n",
       "      <td>...</td>\n",
       "      <td>...</td>\n",
       "      <td>...</td>\n",
       "      <td>...</td>\n",
       "      <td>...</td>\n",
       "      <td>...</td>\n",
       "      <td>...</td>\n",
       "      <td>...</td>\n",
       "      <td>...</td>\n",
       "      <td>...</td>\n",
       "      <td>...</td>\n",
       "      <td>...</td>\n",
       "      <td>...</td>\n",
       "      <td>...</td>\n",
       "      <td>...</td>\n",
       "      <td>...</td>\n",
       "      <td>...</td>\n",
       "    </tr>\n",
       "    <tr>\n",
       "      <th>5115</th>\n",
       "      <td>Zimbabwe</td>\n",
       "      <td>ZW</td>\n",
       "      <td>ZWE</td>\n",
       "      <td>716</td>\n",
       "      <td>AFR</td>\n",
       "      <td>2009</td>\n",
       "      <td>12888918</td>\n",
       "      <td>449.0</td>\n",
       "      <td>258.0</td>\n",
       "      <td>692.0</td>\n",
       "      <td>...</td>\n",
       "      <td>511.00</td>\n",
       "      <td>460.00</td>\n",
       "      <td>566.00</td>\n",
       "      <td>66000.0</td>\n",
       "      <td>59000.0</td>\n",
       "      <td>73000.0</td>\n",
       "      <td>NaN</td>\n",
       "      <td>50.0</td>\n",
       "      <td>45.0</td>\n",
       "      <td>54.0</td>\n",
       "    </tr>\n",
       "    <tr>\n",
       "      <th>5116</th>\n",
       "      <td>Zimbabwe</td>\n",
       "      <td>ZW</td>\n",
       "      <td>ZWE</td>\n",
       "      <td>716</td>\n",
       "      <td>AFR</td>\n",
       "      <td>2010</td>\n",
       "      <td>13076978</td>\n",
       "      <td>415.0</td>\n",
       "      <td>239.0</td>\n",
       "      <td>639.0</td>\n",
       "      <td>...</td>\n",
       "      <td>487.00</td>\n",
       "      <td>433.00</td>\n",
       "      <td>545.00</td>\n",
       "      <td>64000.0</td>\n",
       "      <td>57000.0</td>\n",
       "      <td>71000.0</td>\n",
       "      <td>NaN</td>\n",
       "      <td>53.0</td>\n",
       "      <td>48.0</td>\n",
       "      <td>59.0</td>\n",
       "    </tr>\n",
       "    <tr>\n",
       "      <th>5117</th>\n",
       "      <td>Zimbabwe</td>\n",
       "      <td>ZW</td>\n",
       "      <td>ZWE</td>\n",
       "      <td>716</td>\n",
       "      <td>AFR</td>\n",
       "      <td>2011</td>\n",
       "      <td>13358738</td>\n",
       "      <td>417.0</td>\n",
       "      <td>241.0</td>\n",
       "      <td>639.0</td>\n",
       "      <td>...</td>\n",
       "      <td>448.00</td>\n",
       "      <td>403.00</td>\n",
       "      <td>502.00</td>\n",
       "      <td>60000.0</td>\n",
       "      <td>54000.0</td>\n",
       "      <td>67000.0</td>\n",
       "      <td>NaN</td>\n",
       "      <td>48.0</td>\n",
       "      <td>43.0</td>\n",
       "      <td>53.0</td>\n",
       "    </tr>\n",
       "    <tr>\n",
       "      <th>5118</th>\n",
       "      <td>Zimbabwe</td>\n",
       "      <td>ZW</td>\n",
       "      <td>ZWE</td>\n",
       "      <td>716</td>\n",
       "      <td>AFR</td>\n",
       "      <td>2012</td>\n",
       "      <td>13724317</td>\n",
       "      <td>425.0</td>\n",
       "      <td>245.0</td>\n",
       "      <td>654.0</td>\n",
       "      <td>...</td>\n",
       "      <td>411.00</td>\n",
       "      <td>362.00</td>\n",
       "      <td>471.00</td>\n",
       "      <td>56000.0</td>\n",
       "      <td>50000.0</td>\n",
       "      <td>65000.0</td>\n",
       "      <td>NaN</td>\n",
       "      <td>45.0</td>\n",
       "      <td>40.0</td>\n",
       "      <td>52.0</td>\n",
       "    </tr>\n",
       "    <tr>\n",
       "      <th>5119</th>\n",
       "      <td>Zimbabwe</td>\n",
       "      <td>ZW</td>\n",
       "      <td>ZWE</td>\n",
       "      <td>716</td>\n",
       "      <td>AFR</td>\n",
       "      <td>2013</td>\n",
       "      <td>14149648</td>\n",
       "      <td>409.0</td>\n",
       "      <td>235.0</td>\n",
       "      <td>630.0</td>\n",
       "      <td>...</td>\n",
       "      <td>395.00</td>\n",
       "      <td>341.00</td>\n",
       "      <td>464.00</td>\n",
       "      <td>56000.0</td>\n",
       "      <td>48000.0</td>\n",
       "      <td>66000.0</td>\n",
       "      <td>NaN</td>\n",
       "      <td>42.0</td>\n",
       "      <td>36.0</td>\n",
       "      <td>49.0</td>\n",
       "    </tr>\n",
       "  </tbody>\n",
       "</table>\n",
       "<p>5120 rows × 47 columns</p>\n",
       "</div>"
      ],
      "text/plain": [
       "     Country or territory name ISO 2-character country/territory code  \\\n",
       "0                  Afghanistan                                     AF   \n",
       "1                  Afghanistan                                     AF   \n",
       "2                  Afghanistan                                     AF   \n",
       "3                  Afghanistan                                     AF   \n",
       "4                  Afghanistan                                     AF   \n",
       "...                        ...                                    ...   \n",
       "5115                  Zimbabwe                                     ZW   \n",
       "5116                  Zimbabwe                                     ZW   \n",
       "5117                  Zimbabwe                                     ZW   \n",
       "5118                  Zimbabwe                                     ZW   \n",
       "5119                  Zimbabwe                                     ZW   \n",
       "\n",
       "     ISO 3-character country/territory code  \\\n",
       "0                                       AFG   \n",
       "1                                       AFG   \n",
       "2                                       AFG   \n",
       "3                                       AFG   \n",
       "4                                       AFG   \n",
       "...                                     ...   \n",
       "5115                                    ZWE   \n",
       "5116                                    ZWE   \n",
       "5117                                    ZWE   \n",
       "5118                                    ZWE   \n",
       "5119                                    ZWE   \n",
       "\n",
       "      ISO numeric country/territory code Region  Year  \\\n",
       "0                                      4    EMR  1990   \n",
       "1                                      4    EMR  1991   \n",
       "2                                      4    EMR  1992   \n",
       "3                                      4    EMR  1993   \n",
       "4                                      4    EMR  1994   \n",
       "...                                  ...    ...   ...   \n",
       "5115                                 716    AFR  2009   \n",
       "5116                                 716    AFR  2010   \n",
       "5117                                 716    AFR  2011   \n",
       "5118                                 716    AFR  2012   \n",
       "5119                                 716    AFR  2013   \n",
       "\n",
       "      Estimated total population number  \\\n",
       "0                              11731193   \n",
       "1                              12612043   \n",
       "2                              13811876   \n",
       "3                              15175325   \n",
       "4                              16485018   \n",
       "...                                 ...   \n",
       "5115                           12888918   \n",
       "5116                           13076978   \n",
       "5117                           13358738   \n",
       "5118                           13724317   \n",
       "5119                           14149648   \n",
       "\n",
       "      Estimated prevalence of TB (all forms) per 100 000 population  \\\n",
       "0                                                 306.0               \n",
       "1                                                 343.0               \n",
       "2                                                 371.0               \n",
       "3                                                 392.0               \n",
       "4                                                 410.0               \n",
       "...                                                 ...               \n",
       "5115                                              449.0               \n",
       "5116                                              415.0               \n",
       "5117                                              417.0               \n",
       "5118                                              425.0               \n",
       "5119                                              409.0               \n",
       "\n",
       "      Estimated prevalence of TB (all forms) per 100 000 population, low bound  \\\n",
       "0                                                 156.0                          \n",
       "1                                                 178.0                          \n",
       "2                                                 189.0                          \n",
       "3                                                 194.0                          \n",
       "4                                                 198.0                          \n",
       "...                                                 ...                          \n",
       "5115                                              258.0                          \n",
       "5116                                              239.0                          \n",
       "5117                                              241.0                          \n",
       "5118                                              245.0                          \n",
       "5119                                              235.0                          \n",
       "\n",
       "      Estimated prevalence of TB (all forms) per 100 000 population, high bound  \\\n",
       "0                                                 506.0                           \n",
       "1                                                 562.0                           \n",
       "2                                                 614.0                           \n",
       "3                                                 657.0                           \n",
       "4                                                 697.0                           \n",
       "...                                                 ...                           \n",
       "5115                                              692.0                           \n",
       "5116                                              639.0                           \n",
       "5117                                              639.0                           \n",
       "5118                                              654.0                           \n",
       "5119                                              630.0                           \n",
       "\n",
       "      ...  \\\n",
       "0     ...   \n",
       "1     ...   \n",
       "2     ...   \n",
       "3     ...   \n",
       "4     ...   \n",
       "...   ...   \n",
       "5115  ...   \n",
       "5116  ...   \n",
       "5117  ...   \n",
       "5118  ...   \n",
       "5119  ...   \n",
       "\n",
       "      Estimated incidence of TB cases who are HIV-positive per 100 000 population  \\\n",
       "0                                                  0.11                             \n",
       "1                                                  0.13                             \n",
       "2                                                  0.16                             \n",
       "3                                                  0.19                             \n",
       "4                                                  0.21                             \n",
       "...                                                 ...                             \n",
       "5115                                             511.00                             \n",
       "5116                                             487.00                             \n",
       "5117                                             448.00                             \n",
       "5118                                             411.00                             \n",
       "5119                                             395.00                             \n",
       "\n",
       "      Estimated incidence of TB cases who are HIV-positive per 100 000 population, low bound  \\\n",
       "0                                                  0.08                                        \n",
       "1                                                  0.11                                        \n",
       "2                                                  0.14                                        \n",
       "3                                                  0.17                                        \n",
       "4                                                  0.18                                        \n",
       "...                                                 ...                                        \n",
       "5115                                             460.00                                        \n",
       "5116                                             433.00                                        \n",
       "5117                                             403.00                                        \n",
       "5118                                             362.00                                        \n",
       "5119                                             341.00                                        \n",
       "\n",
       "      Estimated incidence of TB cases who are HIV-positive per 100 000 population, high bound  \\\n",
       "0                                                  0.14                                         \n",
       "1                                                  0.16                                         \n",
       "2                                                  0.18                                         \n",
       "3                                                  0.21                                         \n",
       "4                                                  0.24                                         \n",
       "...                                                 ...                                         \n",
       "5115                                             566.00                                         \n",
       "5116                                             545.00                                         \n",
       "5117                                             502.00                                         \n",
       "5118                                             471.00                                         \n",
       "5119                                             464.00                                         \n",
       "\n",
       "     Estimated incidence of TB cases who are HIV-positive  \\\n",
       "0                                                  12.0     \n",
       "1                                                  17.0     \n",
       "2                                                  22.0     \n",
       "3                                                  28.0     \n",
       "4                                                  35.0     \n",
       "...                                                 ...     \n",
       "5115                                            66000.0     \n",
       "5116                                            64000.0     \n",
       "5117                                            60000.0     \n",
       "5118                                            56000.0     \n",
       "5119                                            56000.0     \n",
       "\n",
       "      Estimated incidence of TB cases who are HIV-positive, low bound  \\\n",
       "0                                                   9.4                 \n",
       "1                                                  14.0                 \n",
       "2                                                  19.0                 \n",
       "3                                                  25.0                 \n",
       "4                                                  30.0                 \n",
       "...                                                 ...                 \n",
       "5115                                            59000.0                 \n",
       "5116                                            57000.0                 \n",
       "5117                                            54000.0                 \n",
       "5118                                            50000.0                 \n",
       "5119                                            48000.0                 \n",
       "\n",
       "      Estimated incidence of TB cases who are HIV-positive, high bound  \\\n",
       "0                                                  16.0                  \n",
       "1                                                  20.0                  \n",
       "2                                                  24.0                  \n",
       "3                                                  31.0                  \n",
       "4                                                  39.0                  \n",
       "...                                                 ...                  \n",
       "5115                                            73000.0                  \n",
       "5116                                            71000.0                  \n",
       "5117                                            67000.0                  \n",
       "5118                                            65000.0                  \n",
       "5119                                            66000.0                  \n",
       "\n",
       "      Method to derive TBHIV estimates  \\\n",
       "0                                  NaN   \n",
       "1                                  NaN   \n",
       "2                                  NaN   \n",
       "3                                  NaN   \n",
       "4                                  NaN   \n",
       "...                                ...   \n",
       "5115                               NaN   \n",
       "5116                               NaN   \n",
       "5117                               NaN   \n",
       "5118                               NaN   \n",
       "5119                               NaN   \n",
       "\n",
       "      Case detection rate (all forms), percent  \\\n",
       "0                                         20.0   \n",
       "1                                         96.0   \n",
       "2                                          NaN   \n",
       "3                                          NaN   \n",
       "4                                          NaN   \n",
       "...                                        ...   \n",
       "5115                                      50.0   \n",
       "5116                                      53.0   \n",
       "5117                                      48.0   \n",
       "5118                                      45.0   \n",
       "5119                                      42.0   \n",
       "\n",
       "      Case detection rate (all forms), percent, low bound  \\\n",
       "0                                                  15.0     \n",
       "1                                                  80.0     \n",
       "2                                                   NaN     \n",
       "3                                                   NaN     \n",
       "4                                                   NaN     \n",
       "...                                                 ...     \n",
       "5115                                               45.0     \n",
       "5116                                               48.0     \n",
       "5117                                               43.0     \n",
       "5118                                               40.0     \n",
       "5119                                               36.0     \n",
       "\n",
       "      Case detection rate (all forms), percent, high bound  \n",
       "0                                                  24.0     \n",
       "1                                                 110.0     \n",
       "2                                                   NaN     \n",
       "3                                                   NaN     \n",
       "4                                                   NaN     \n",
       "...                                                 ...     \n",
       "5115                                               54.0     \n",
       "5116                                               59.0     \n",
       "5117                                               53.0     \n",
       "5118                                               52.0     \n",
       "5119                                               49.0     \n",
       "\n",
       "[5120 rows x 47 columns]"
      ]
     },
     "execution_count": 132,
     "metadata": {},
     "output_type": "execute_result"
    }
   ],
   "source": [
    "tb_analysis = pd.read_csv('./TB_Burden_Country.csv')\n",
    "tb_analysis    \n"
   ]
  },
  {
   "cell_type": "code",
   "execution_count": 133,
   "metadata": {},
   "outputs": [
    {
     "data": {
      "text/plain": [
       "Country or territory name                                                                          object\n",
       "ISO 2-character country/territory code                                                             object\n",
       "ISO 3-character country/territory code                                                             object\n",
       "ISO numeric country/territory code                                                                  int64\n",
       "Region                                                                                             object\n",
       "Year                                                                                                int64\n",
       "Estimated total population number                                                                   int64\n",
       "Estimated prevalence of TB (all forms) per 100 000 population                                     float64\n",
       "Estimated prevalence of TB (all forms) per 100 000 population, low bound                          float64\n",
       "Estimated prevalence of TB (all forms) per 100 000 population, high bound                         float64\n",
       "Estimated prevalence of TB (all forms)                                                            float64\n",
       "Estimated prevalence of TB (all forms), low bound                                                 float64\n",
       "Estimated prevalence of TB (all forms), high bound                                                float64\n",
       "Method to derive prevalence estimates                                                              object\n",
       "Estimated mortality of TB cases (all forms, excluding HIV) per 100 000 population                 float64\n",
       "Estimated mortality of TB cases (all forms, excluding HIV), per 100 000 population, low bound     float64\n",
       "Estimated mortality of TB cases (all forms, excluding HIV), per 100 000 population, high bound    float64\n",
       "Estimated number of deaths from TB (all forms, excluding HIV)                                     float64\n",
       "Estimated number of deaths from TB (all forms, excluding HIV), low bound                          float64\n",
       "Estimated number of deaths from TB (all forms, excluding HIV), high bound                         float64\n",
       "Estimated mortality of TB cases who are HIV-positive, per 100 000 population                      float64\n",
       "Estimated mortality of TB cases who are HIV-positive, per 100 000 population, low bound           float64\n",
       "Estimated mortality of TB cases who are HIV-positive, per 100 000 population, high bound          float64\n",
       "Estimated number of deaths from TB in people who are HIV-positive                                 float64\n",
       "Estimated number of deaths from TB in people who are HIV-positive, low bound                      float64\n",
       "Estimated number of deaths from TB in people who are HIV-positive, high bound                     float64\n",
       "Method to derive mortality estimates                                                               object\n",
       "Estimated incidence (all forms) per 100 000 population                                            float64\n",
       "Estimated incidence (all forms) per 100 000 population, low bound                                 float64\n",
       "Estimated incidence (all forms) per 100 000 population, high bound                                float64\n",
       "Estimated number of incident cases (all forms)                                                    float64\n",
       "Estimated number of incident cases (all forms), low bound                                         float64\n",
       "Estimated number of incident cases (all forms), high bound                                        float64\n",
       "Method to derive incidence estimates                                                               object\n",
       "Estimated HIV in incident TB (percent)                                                            float64\n",
       "Estimated HIV in incident TB (percent), low bound                                                 float64\n",
       "Estimated HIV in incident TB (percent), high bound                                                float64\n",
       "Estimated incidence of TB cases who are HIV-positive per 100 000 population                       float64\n",
       "Estimated incidence of TB cases who are HIV-positive per 100 000 population, low bound            float64\n",
       "Estimated incidence of TB cases who are HIV-positive per 100 000 population, high bound           float64\n",
       "Estimated incidence of TB cases who are HIV-positive                                              float64\n",
       "Estimated incidence of TB cases who are HIV-positive, low bound                                   float64\n",
       "Estimated incidence of TB cases who are HIV-positive, high bound                                  float64\n",
       "Method to derive TBHIV estimates                                                                  float64\n",
       "Case detection rate (all forms), percent                                                          float64\n",
       "Case detection rate (all forms), percent, low bound                                               float64\n",
       "Case detection rate (all forms), percent, high bound                                              float64\n",
       "dtype: object"
      ]
     },
     "execution_count": 133,
     "metadata": {},
     "output_type": "execute_result"
    }
   ],
   "source": [
    "tb_analysis.dtypes"
   ]
  },
  {
   "cell_type": "code",
   "execution_count": 134,
   "metadata": {},
   "outputs": [
    {
     "name": "stdout",
     "output_type": "stream",
     "text": [
      "<class 'pandas.core.frame.DataFrame'>\n",
      "RangeIndex: 5120 entries, 0 to 5119\n",
      "Data columns (total 47 columns):\n",
      " #   Column                                                                                          Non-Null Count  Dtype  \n",
      "---  ------                                                                                          --------------  -----  \n",
      " 0   Country or territory name                                                                       5120 non-null   object \n",
      " 1   ISO 2-character country/territory code                                                          5096 non-null   object \n",
      " 2   ISO 3-character country/territory code                                                          5120 non-null   object \n",
      " 3   ISO numeric country/territory code                                                              5120 non-null   int64  \n",
      " 4   Region                                                                                          5120 non-null   object \n",
      " 5   Year                                                                                            5120 non-null   int64  \n",
      " 6   Estimated total population number                                                               5120 non-null   int64  \n",
      " 7   Estimated prevalence of TB (all forms) per 100 000 population                                   5120 non-null   float64\n",
      " 8   Estimated prevalence of TB (all forms) per 100 000 population, low bound                        5100 non-null   float64\n",
      " 9   Estimated prevalence of TB (all forms) per 100 000 population, high bound                       5100 non-null   float64\n",
      " 10  Estimated prevalence of TB (all forms)                                                          5120 non-null   float64\n",
      " 11  Estimated prevalence of TB (all forms), low bound                                               5100 non-null   float64\n",
      " 12  Estimated prevalence of TB (all forms), high bound                                              5100 non-null   float64\n",
      " 13  Method to derive prevalence estimates                                                           5120 non-null   object \n",
      " 14  Estimated mortality of TB cases (all forms, excluding HIV) per 100 000 population               5120 non-null   float64\n",
      " 15  Estimated mortality of TB cases (all forms, excluding HIV), per 100 000 population, low bound   5120 non-null   float64\n",
      " 16  Estimated mortality of TB cases (all forms, excluding HIV), per 100 000 population, high bound  5120 non-null   float64\n",
      " 17  Estimated number of deaths from TB (all forms, excluding HIV)                                   5120 non-null   float64\n",
      " 18  Estimated number of deaths from TB (all forms, excluding HIV), low bound                        5120 non-null   float64\n",
      " 19  Estimated number of deaths from TB (all forms, excluding HIV), high bound                       5120 non-null   float64\n",
      " 20  Estimated mortality of TB cases who are HIV-positive, per 100 000 population                    5120 non-null   float64\n",
      " 21  Estimated mortality of TB cases who are HIV-positive, per 100 000 population, low bound         3178 non-null   float64\n",
      " 22  Estimated mortality of TB cases who are HIV-positive, per 100 000 population, high bound        3178 non-null   float64\n",
      " 23  Estimated number of deaths from TB in people who are HIV-positive                               5120 non-null   float64\n",
      " 24  Estimated number of deaths from TB in people who are HIV-positive, low bound                    3178 non-null   float64\n",
      " 25  Estimated number of deaths from TB in people who are HIV-positive, high bound                   3178 non-null   float64\n",
      " 26  Method to derive mortality estimates                                                            5120 non-null   object \n",
      " 27  Estimated incidence (all forms) per 100 000 population                                          5120 non-null   float64\n",
      " 28  Estimated incidence (all forms) per 100 000 population, low bound                               5026 non-null   float64\n",
      " 29  Estimated incidence (all forms) per 100 000 population, high bound                              5026 non-null   float64\n",
      " 30  Estimated number of incident cases (all forms)                                                  5120 non-null   float64\n",
      " 31  Estimated number of incident cases (all forms), low bound                                       5026 non-null   float64\n",
      " 32  Estimated number of incident cases (all forms), high bound                                      5026 non-null   float64\n",
      " 33  Method to derive incidence estimates                                                            2987 non-null   object \n",
      " 34  Estimated HIV in incident TB (percent)                                                          3645 non-null   float64\n",
      " 35  Estimated HIV in incident TB (percent), low bound                                               3642 non-null   float64\n",
      " 36  Estimated HIV in incident TB (percent), high bound                                              3642 non-null   float64\n",
      " 37  Estimated incidence of TB cases who are HIV-positive per 100 000 population                     3645 non-null   float64\n",
      " 38  Estimated incidence of TB cases who are HIV-positive per 100 000 population, low bound          3642 non-null   float64\n",
      " 39  Estimated incidence of TB cases who are HIV-positive per 100 000 population, high bound         3642 non-null   float64\n",
      " 40  Estimated incidence of TB cases who are HIV-positive                                            3645 non-null   float64\n",
      " 41  Estimated incidence of TB cases who are HIV-positive, low bound                                 3642 non-null   float64\n",
      " 42  Estimated incidence of TB cases who are HIV-positive, high bound                                3642 non-null   float64\n",
      " 43  Method to derive TBHIV estimates                                                                0 non-null      float64\n",
      " 44  Case detection rate (all forms), percent                                                        4671 non-null   float64\n",
      " 45  Case detection rate (all forms), percent, low bound                                             4671 non-null   float64\n",
      " 46  Case detection rate (all forms), percent, high bound                                            4671 non-null   float64\n",
      "dtypes: float64(37), int64(3), object(7)\n",
      "memory usage: 1.8+ MB\n"
     ]
    }
   ],
   "source": [
    "tb_analysis.info('Non-Null Count')"
   ]
  },
  {
   "cell_type": "code",
   "execution_count": 135,
   "metadata": {},
   "outputs": [
    {
     "name": "stdout",
     "output_type": "stream",
     "text": [
      "There is no duplicated rows in the csv data\n"
     ]
    }
   ],
   "source": [
    "duplicatedrows = tb_analysis[tb_analysis.duplicated(keep=False)].shape[0]\n",
    "if(duplicatedrows==0):\n",
    "    print('There is no duplicated rows in the csv data')\n",
    "else:\n",
    "    print('There is duplicated rows in the csv data')"
   ]
  },
  {
   "cell_type": "markdown",
   "metadata": {},
   "source": [
    "Code to Check right values hidden in info()  function"
   ]
  },
  {
   "cell_type": "code",
   "execution_count": 136,
   "metadata": {},
   "outputs": [
    {
     "name": "stdout",
     "output_type": "stream",
     "text": [
      "Not Null Values\n",
      " Country or territory name                                                                         True\n",
      "ISO 3-character country/territory code                                                            True\n",
      "ISO numeric country/territory code                                                                True\n",
      "Region                                                                                            True\n",
      "Year                                                                                              True\n",
      "Estimated total population number                                                                 True\n",
      "Estimated prevalence of TB (all forms) per 100 000 population                                     True\n",
      "Estimated prevalence of TB (all forms)                                                            True\n",
      "Method to derive prevalence estimates                                                             True\n",
      "Estimated mortality of TB cases (all forms, excluding HIV) per 100 000 population                 True\n",
      "Estimated mortality of TB cases (all forms, excluding HIV), per 100 000 population, low bound     True\n",
      "Estimated mortality of TB cases (all forms, excluding HIV), per 100 000 population, high bound    True\n",
      "Estimated number of deaths from TB (all forms, excluding HIV)                                     True\n",
      "Estimated number of deaths from TB (all forms, excluding HIV), low bound                          True\n",
      "Estimated number of deaths from TB (all forms, excluding HIV), high bound                         True\n",
      "Estimated mortality of TB cases who are HIV-positive, per 100 000 population                      True\n",
      "Estimated number of deaths from TB in people who are HIV-positive                                 True\n",
      "Method to derive mortality estimates                                                              True\n",
      "Estimated incidence (all forms) per 100 000 population                                            True\n",
      "Estimated number of incident cases (all forms)                                                    True\n",
      "dtype: bool\n"
     ]
    }
   ],
   "source": [
    "#Not Null Values . Nalls are 0\n",
    "na_and_notnal = tb_analysis.isnull().sum()\n",
    "if(na_and_notnal.all() == 0):\n",
    "    not_nall = na_and_notnal == 0\n",
    "    not_nall = not_nall.loc[not_nall]\n",
    "    print(\"Not Null Values\\n\",not_nall)     \n",
    "else:\n",
    "    print(' Wrong code writing')    "
   ]
  },
  {
   "cell_type": "markdown",
   "metadata": {},
   "source": [
    "Code to Check NaN values Hidden in info() function"
   ]
  },
  {
   "cell_type": "code",
   "execution_count": 137,
   "metadata": {},
   "outputs": [
    {
     "name": "stdout",
     "output_type": "stream",
     "text": [
      "Null Values\n",
      " ISO 2-character country/territory code                                                      True\n",
      "Estimated prevalence of TB (all forms) per 100 000 population, low bound                    True\n",
      "Estimated prevalence of TB (all forms) per 100 000 population, high bound                   True\n",
      "Estimated prevalence of TB (all forms), low bound                                           True\n",
      "Estimated prevalence of TB (all forms), high bound                                          True\n",
      "Estimated mortality of TB cases who are HIV-positive, per 100 000 population, low bound     True\n",
      "Estimated mortality of TB cases who are HIV-positive, per 100 000 population, high bound    True\n",
      "Estimated number of deaths from TB in people who are HIV-positive, low bound                True\n",
      "Estimated number of deaths from TB in people who are HIV-positive, high bound               True\n",
      "Estimated incidence (all forms) per 100 000 population, low bound                           True\n",
      "Estimated incidence (all forms) per 100 000 population, high bound                          True\n",
      "Estimated number of incident cases (all forms), low bound                                   True\n",
      "Estimated number of incident cases (all forms), high bound                                  True\n",
      "Method to derive incidence estimates                                                        True\n",
      "Estimated HIV in incident TB (percent)                                                      True\n",
      "Estimated HIV in incident TB (percent), low bound                                           True\n",
      "Estimated HIV in incident TB (percent), high bound                                          True\n",
      "Estimated incidence of TB cases who are HIV-positive per 100 000 population                 True\n",
      "Estimated incidence of TB cases who are HIV-positive per 100 000 population, low bound      True\n",
      "Estimated incidence of TB cases who are HIV-positive per 100 000 population, high bound     True\n",
      "Estimated incidence of TB cases who are HIV-positive                                        True\n",
      "Estimated incidence of TB cases who are HIV-positive, low bound                             True\n",
      "Estimated incidence of TB cases who are HIV-positive, high bound                            True\n",
      "Method to derive TBHIV estimates                                                            True\n",
      "Case detection rate (all forms), percent                                                    True\n",
      "Case detection rate (all forms), percent, low bound                                         True\n",
      "Case detection rate (all forms), percent, high bound                                        True\n",
      "dtype: bool\n"
     ]
    }
   ],
   "source": [
    "#Null Values . Values contain nulls\n",
    "\n",
    "na_and_notnal = tb_analysis.isnull().sum()\n",
    "if(na_and_notnal.any() != 0):\n",
    "    nals = na_and_notnal != 0\n",
    "    nals = nals.loc[nals]\n",
    "    print(\"Null Values\\n\", nals)\n",
    "else:\n",
    "    print(' Wrong code writing') "
   ]
  },
  {
   "cell_type": "markdown",
   "metadata": {},
   "source": [
    "Removing NaN Values"
   ]
  },
  {
   "cell_type": "code",
   "execution_count": 138,
   "metadata": {},
   "outputs": [],
   "source": [
    "tb_analysis['Estimated incidence (all forms) per 100 000 population, high bound'] = tb_analysis['Estimated incidence (all forms) per 100 000 population, high bound'].fillna(0)\n",
    "tb_analysis['Estimated number of incident cases (all forms), low bound'] = tb_analysis['Estimated number of incident cases (all forms), low bound'].fillna(0)\n",
    "tb_analysis['Estimated incidence (all forms) per 100 000 population, low bound'] = tb_analysis['Estimated incidence (all forms) per 100 000 population, low bound'].fillna(0)\n",
    "tb_analysis['Estimated number of deaths from TB in people who are HIV-positive, high bound'] = tb_analysis['Estimated number of deaths from TB in people who are HIV-positive, high bound'].fillna(0)\n",
    "tb_analysis['Estimated number of incident cases (all forms), high bound'] = tb_analysis['Estimated number of incident cases (all forms), high bound'].fillna(0)\n",
    "tb_analysis['Method to derive incidence estimates'] = tb_analysis['Method to derive incidence estimates'].fillna(0)\n",
    "tb_analysis['Estimated HIV in incident TB (percent)'] = tb_analysis['Estimated HIV in incident TB (percent)'].fillna(0)\n",
    "tb_analysis['Estimated HIV in incident TB (percent), low bound'] = tb_analysis['Estimated HIV in incident TB (percent), low bound'].fillna(0)\n",
    "tb_analysis['Estimated HIV in incident TB (percent), high bound'] = tb_analysis['Estimated HIV in incident TB (percent), high bound'].fillna(0)\n",
    "tb_analysis['Estimated incidence of TB cases who are HIV-positive per 100 000 population'] = tb_analysis['Estimated incidence of TB cases who are HIV-positive per 100 000 population'].fillna(0)\n",
    "tb_analysis['Estimated incidence of TB cases who are HIV-positive per 100 000 population, low bound'] = tb_analysis['Estimated incidence of TB cases who are HIV-positive per 100 000 population, low bound'].fillna(0)\n",
    "tb_analysis['Estimated incidence of TB cases who are HIV-positive, low bound'] = tb_analysis['Estimated incidence of TB cases who are HIV-positive, low bound'].fillna(0)\n",
    "tb_analysis['Estimated incidence of TB cases who are HIV-positive, high bound '] = tb_analysis['Estimated incidence of TB cases who are HIV-positive, high bound'].fillna(0)\n",
    "tb_analysis['Method to derive TBHIV estimates'] = tb_analysis['Method to derive TBHIV estimates'].fillna(0)\n",
    "tb_analysis['Case detection rate (all forms), percent'] = tb_analysis['Case detection rate (all forms), percent'].fillna(0)\n",
    "tb_analysis['Case detection rate (all forms), percent, low bound'] = tb_analysis['Case detection rate (all forms), percent, low bound'].fillna(0)\n",
    "tb_analysis['Case detection rate (all forms), percent, high bound'] = tb_analysis['Case detection rate (all forms), percent, high bound'].fillna(0)\n",
    "tb_analysis['Estimated incidence of TB cases who are HIV-positive, high bound'] = tb_analysis['Estimated incidence of TB cases who are HIV-positive, high bound'].fillna(0)\n",
    "tb_analysis['Estimated prevalence of TB (all forms) per 100 000 population, low bound'] = tb_analysis['Estimated prevalence of TB (all forms) per 100 000 population, low bound'].fillna(0)\n",
    "tb_analysis['Estimated prevalence of TB (all forms) per 100 000 population, high bound'] = tb_analysis['Estimated prevalence of TB (all forms) per 100 000 population, high bound'].fillna(0)\n",
    "tb_analysis['Estimated prevalence of TB (all forms), low bound'] = tb_analysis['Estimated prevalence of TB (all forms), low bound'].fillna(0)\n",
    "tb_analysis['Estimated prevalence of TB (all forms), high bound'] = tb_analysis['Estimated prevalence of TB (all forms), high bound'].fillna(0)\n",
    "tb_analysis['Estimated mortality of TB cases who are HIV-positive, per 100 000 population, high bound'] = tb_analysis['Estimated mortality of TB cases who are HIV-positive, per 100 000 population, high bound'].fillna(0)\n",
    "tb_analysis['Estimated mortality of TB cases who are HIV-positive, per 100 000 population, low bound'] = tb_analysis['Estimated number of deaths from TB in people who are HIV-positive, low bound'].fillna(0)\n",
    "tb_analysis['Estimated number of deaths from TB in people who are HIV-positive, low bound'] = tb_analysis['ISO 2-character country/territory code'].fillna(0)\n",
    "tb_analysis['Estimated incidence of TB cases who are HIV-positive per 100 000 population, high bound'] = tb_analysis['Estimated incidence of TB cases who are HIV-positive per 100 000 population, high bound'].fillna(0)\n",
    "tb_analysis['Estimated incidence of TB cases who are HIV-positive'] = tb_analysis['Estimated incidence of TB cases who are HIV-positive'].fillna(0)\n",
    "tb_analysis['ISO 2-character country/territory code'] = tb_analysis['ISO 2-character country/territory code'].fillna(0)"
   ]
  },
  {
   "cell_type": "code",
   "execution_count": 139,
   "metadata": {},
   "outputs": [
    {
     "name": "stdout",
     "output_type": "stream",
     "text": [
      " Null Values Cleared\n"
     ]
    }
   ],
   "source": [
    "na_and_notnal = tb_analysis.isnull().sum()\n",
    "if(na_and_notnal.any() != 0):\n",
    "    nals = na_and_notnal != 0\n",
    "    nals = nals.loc[nals]\n",
    "    print(\"Null Values\\n\", nals)\n",
    "else:\n",
    "    print(' Null Values Cleared') "
   ]
  },
  {
   "cell_type": "code",
   "execution_count": 140,
   "metadata": {},
   "outputs": [
    {
     "data": {
      "text/plain": [
       "Country or territory name                                                                         0\n",
       "ISO 2-character country/territory code                                                            0\n",
       "ISO 3-character country/territory code                                                            0\n",
       "ISO numeric country/territory code                                                                0\n",
       "Region                                                                                            0\n",
       "Year                                                                                              0\n",
       "Estimated total population number                                                                 0\n",
       "Estimated prevalence of TB (all forms) per 100 000 population                                     0\n",
       "Estimated prevalence of TB (all forms) per 100 000 population, low bound                          0\n",
       "Estimated prevalence of TB (all forms) per 100 000 population, high bound                         0\n",
       "Estimated prevalence of TB (all forms)                                                            0\n",
       "Estimated prevalence of TB (all forms), low bound                                                 0\n",
       "Estimated prevalence of TB (all forms), high bound                                                0\n",
       "Method to derive prevalence estimates                                                             0\n",
       "Estimated mortality of TB cases (all forms, excluding HIV) per 100 000 population                 0\n",
       "Estimated mortality of TB cases (all forms, excluding HIV), per 100 000 population, low bound     0\n",
       "Estimated mortality of TB cases (all forms, excluding HIV), per 100 000 population, high bound    0\n",
       "Estimated number of deaths from TB (all forms, excluding HIV)                                     0\n",
       "Estimated number of deaths from TB (all forms, excluding HIV), low bound                          0\n",
       "Estimated number of deaths from TB (all forms, excluding HIV), high bound                         0\n",
       "Estimated mortality of TB cases who are HIV-positive, per 100 000 population                      0\n",
       "Estimated mortality of TB cases who are HIV-positive, per 100 000 population, low bound           0\n",
       "Estimated mortality of TB cases who are HIV-positive, per 100 000 population, high bound          0\n",
       "Estimated number of deaths from TB in people who are HIV-positive                                 0\n",
       "Estimated number of deaths from TB in people who are HIV-positive, low bound                      0\n",
       "Estimated number of deaths from TB in people who are HIV-positive, high bound                     0\n",
       "Method to derive mortality estimates                                                              0\n",
       "Estimated incidence (all forms) per 100 000 population                                            0\n",
       "Estimated incidence (all forms) per 100 000 population, low bound                                 0\n",
       "Estimated incidence (all forms) per 100 000 population, high bound                                0\n",
       "Estimated number of incident cases (all forms)                                                    0\n",
       "Estimated number of incident cases (all forms), low bound                                         0\n",
       "Estimated number of incident cases (all forms), high bound                                        0\n",
       "Method to derive incidence estimates                                                              0\n",
       "Estimated HIV in incident TB (percent)                                                            0\n",
       "Estimated HIV in incident TB (percent), low bound                                                 0\n",
       "Estimated HIV in incident TB (percent), high bound                                                0\n",
       "Estimated incidence of TB cases who are HIV-positive per 100 000 population                       0\n",
       "Estimated incidence of TB cases who are HIV-positive per 100 000 population, low bound            0\n",
       "Estimated incidence of TB cases who are HIV-positive per 100 000 population, high bound           0\n",
       "Estimated incidence of TB cases who are HIV-positive                                              0\n",
       "Estimated incidence of TB cases who are HIV-positive, low bound                                   0\n",
       "Estimated incidence of TB cases who are HIV-positive, high bound                                  0\n",
       "Method to derive TBHIV estimates                                                                  0\n",
       "Case detection rate (all forms), percent                                                          0\n",
       "Case detection rate (all forms), percent, low bound                                               0\n",
       "Case detection rate (all forms), percent, high bound                                              0\n",
       "Estimated incidence of TB cases who are HIV-positive, high bound                                  0\n",
       "dtype: int64"
      ]
     },
     "execution_count": 140,
     "metadata": {},
     "output_type": "execute_result"
    }
   ],
   "source": [
    "tb_analysis.isnull().sum()"
   ]
  },
  {
   "cell_type": "markdown",
   "metadata": {},
   "source": [
    "Meta Information from DataFrame using the Transpose T Type"
   ]
  },
  {
   "cell_type": "code",
   "execution_count": 141,
   "metadata": {},
   "outputs": [
    {
     "data": {
      "text/html": [
       "<div>\n",
       "<style scoped>\n",
       "    .dataframe tbody tr th:only-of-type {\n",
       "        vertical-align: middle;\n",
       "    }\n",
       "\n",
       "    .dataframe tbody tr th {\n",
       "        vertical-align: top;\n",
       "    }\n",
       "\n",
       "    .dataframe thead th {\n",
       "        text-align: right;\n",
       "    }\n",
       "</style>\n",
       "<table border=\"1\" class=\"dataframe\">\n",
       "  <thead>\n",
       "    <tr style=\"text-align: right;\">\n",
       "      <th></th>\n",
       "      <th>0</th>\n",
       "      <th>1</th>\n",
       "      <th>2</th>\n",
       "      <th>3</th>\n",
       "      <th>4</th>\n",
       "      <th>5</th>\n",
       "      <th>6</th>\n",
       "      <th>7</th>\n",
       "      <th>8</th>\n",
       "      <th>9</th>\n",
       "      <th>...</th>\n",
       "      <th>5110</th>\n",
       "      <th>5111</th>\n",
       "      <th>5112</th>\n",
       "      <th>5113</th>\n",
       "      <th>5114</th>\n",
       "      <th>5115</th>\n",
       "      <th>5116</th>\n",
       "      <th>5117</th>\n",
       "      <th>5118</th>\n",
       "      <th>5119</th>\n",
       "    </tr>\n",
       "  </thead>\n",
       "  <tbody>\n",
       "    <tr>\n",
       "      <th>Country or territory name</th>\n",
       "      <td>Afghanistan</td>\n",
       "      <td>Afghanistan</td>\n",
       "      <td>Afghanistan</td>\n",
       "      <td>Afghanistan</td>\n",
       "      <td>Afghanistan</td>\n",
       "      <td>Afghanistan</td>\n",
       "      <td>Afghanistan</td>\n",
       "      <td>Afghanistan</td>\n",
       "      <td>Afghanistan</td>\n",
       "      <td>Afghanistan</td>\n",
       "      <td>...</td>\n",
       "      <td>Zimbabwe</td>\n",
       "      <td>Zimbabwe</td>\n",
       "      <td>Zimbabwe</td>\n",
       "      <td>Zimbabwe</td>\n",
       "      <td>Zimbabwe</td>\n",
       "      <td>Zimbabwe</td>\n",
       "      <td>Zimbabwe</td>\n",
       "      <td>Zimbabwe</td>\n",
       "      <td>Zimbabwe</td>\n",
       "      <td>Zimbabwe</td>\n",
       "    </tr>\n",
       "    <tr>\n",
       "      <th>ISO 2-character country/territory code</th>\n",
       "      <td>AF</td>\n",
       "      <td>AF</td>\n",
       "      <td>AF</td>\n",
       "      <td>AF</td>\n",
       "      <td>AF</td>\n",
       "      <td>AF</td>\n",
       "      <td>AF</td>\n",
       "      <td>AF</td>\n",
       "      <td>AF</td>\n",
       "      <td>AF</td>\n",
       "      <td>...</td>\n",
       "      <td>ZW</td>\n",
       "      <td>ZW</td>\n",
       "      <td>ZW</td>\n",
       "      <td>ZW</td>\n",
       "      <td>ZW</td>\n",
       "      <td>ZW</td>\n",
       "      <td>ZW</td>\n",
       "      <td>ZW</td>\n",
       "      <td>ZW</td>\n",
       "      <td>ZW</td>\n",
       "    </tr>\n",
       "    <tr>\n",
       "      <th>ISO 3-character country/territory code</th>\n",
       "      <td>AFG</td>\n",
       "      <td>AFG</td>\n",
       "      <td>AFG</td>\n",
       "      <td>AFG</td>\n",
       "      <td>AFG</td>\n",
       "      <td>AFG</td>\n",
       "      <td>AFG</td>\n",
       "      <td>AFG</td>\n",
       "      <td>AFG</td>\n",
       "      <td>AFG</td>\n",
       "      <td>...</td>\n",
       "      <td>ZWE</td>\n",
       "      <td>ZWE</td>\n",
       "      <td>ZWE</td>\n",
       "      <td>ZWE</td>\n",
       "      <td>ZWE</td>\n",
       "      <td>ZWE</td>\n",
       "      <td>ZWE</td>\n",
       "      <td>ZWE</td>\n",
       "      <td>ZWE</td>\n",
       "      <td>ZWE</td>\n",
       "    </tr>\n",
       "    <tr>\n",
       "      <th>ISO numeric country/territory code</th>\n",
       "      <td>4</td>\n",
       "      <td>4</td>\n",
       "      <td>4</td>\n",
       "      <td>4</td>\n",
       "      <td>4</td>\n",
       "      <td>4</td>\n",
       "      <td>4</td>\n",
       "      <td>4</td>\n",
       "      <td>4</td>\n",
       "      <td>4</td>\n",
       "      <td>...</td>\n",
       "      <td>716</td>\n",
       "      <td>716</td>\n",
       "      <td>716</td>\n",
       "      <td>716</td>\n",
       "      <td>716</td>\n",
       "      <td>716</td>\n",
       "      <td>716</td>\n",
       "      <td>716</td>\n",
       "      <td>716</td>\n",
       "      <td>716</td>\n",
       "    </tr>\n",
       "    <tr>\n",
       "      <th>Region</th>\n",
       "      <td>EMR</td>\n",
       "      <td>EMR</td>\n",
       "      <td>EMR</td>\n",
       "      <td>EMR</td>\n",
       "      <td>EMR</td>\n",
       "      <td>EMR</td>\n",
       "      <td>EMR</td>\n",
       "      <td>EMR</td>\n",
       "      <td>EMR</td>\n",
       "      <td>EMR</td>\n",
       "      <td>...</td>\n",
       "      <td>AFR</td>\n",
       "      <td>AFR</td>\n",
       "      <td>AFR</td>\n",
       "      <td>AFR</td>\n",
       "      <td>AFR</td>\n",
       "      <td>AFR</td>\n",
       "      <td>AFR</td>\n",
       "      <td>AFR</td>\n",
       "      <td>AFR</td>\n",
       "      <td>AFR</td>\n",
       "    </tr>\n",
       "    <tr>\n",
       "      <th>Year</th>\n",
       "      <td>1990</td>\n",
       "      <td>1991</td>\n",
       "      <td>1992</td>\n",
       "      <td>1993</td>\n",
       "      <td>1994</td>\n",
       "      <td>1995</td>\n",
       "      <td>1996</td>\n",
       "      <td>1997</td>\n",
       "      <td>1998</td>\n",
       "      <td>1999</td>\n",
       "      <td>...</td>\n",
       "      <td>2004</td>\n",
       "      <td>2005</td>\n",
       "      <td>2006</td>\n",
       "      <td>2007</td>\n",
       "      <td>2008</td>\n",
       "      <td>2009</td>\n",
       "      <td>2010</td>\n",
       "      <td>2011</td>\n",
       "      <td>2012</td>\n",
       "      <td>2013</td>\n",
       "    </tr>\n",
       "    <tr>\n",
       "      <th>Estimated total population number</th>\n",
       "      <td>11731193</td>\n",
       "      <td>12612043</td>\n",
       "      <td>13811876</td>\n",
       "      <td>15175325</td>\n",
       "      <td>16485018</td>\n",
       "      <td>17586073</td>\n",
       "      <td>18415307</td>\n",
       "      <td>19021226</td>\n",
       "      <td>19496836</td>\n",
       "      <td>19987071</td>\n",
       "      <td>...</td>\n",
       "      <td>12693047</td>\n",
       "      <td>12710589</td>\n",
       "      <td>12724308</td>\n",
       "      <td>12740160</td>\n",
       "      <td>12784041</td>\n",
       "      <td>12888918</td>\n",
       "      <td>13076978</td>\n",
       "      <td>13358738</td>\n",
       "      <td>13724317</td>\n",
       "      <td>14149648</td>\n",
       "    </tr>\n",
       "    <tr>\n",
       "      <th>Estimated prevalence of TB (all forms) per 100 000 population</th>\n",
       "      <td>306.0</td>\n",
       "      <td>343.0</td>\n",
       "      <td>371.0</td>\n",
       "      <td>392.0</td>\n",
       "      <td>410.0</td>\n",
       "      <td>424.0</td>\n",
       "      <td>438.0</td>\n",
       "      <td>448.0</td>\n",
       "      <td>454.0</td>\n",
       "      <td>446.0</td>\n",
       "      <td>...</td>\n",
       "      <td>478.0</td>\n",
       "      <td>495.0</td>\n",
       "      <td>500.0</td>\n",
       "      <td>497.0</td>\n",
       "      <td>473.0</td>\n",
       "      <td>449.0</td>\n",
       "      <td>415.0</td>\n",
       "      <td>417.0</td>\n",
       "      <td>425.0</td>\n",
       "      <td>409.0</td>\n",
       "    </tr>\n",
       "    <tr>\n",
       "      <th>Estimated prevalence of TB (all forms) per 100 000 population, low bound</th>\n",
       "      <td>156.0</td>\n",
       "      <td>178.0</td>\n",
       "      <td>189.0</td>\n",
       "      <td>194.0</td>\n",
       "      <td>198.0</td>\n",
       "      <td>199.0</td>\n",
       "      <td>202.0</td>\n",
       "      <td>203.0</td>\n",
       "      <td>204.0</td>\n",
       "      <td>203.0</td>\n",
       "      <td>...</td>\n",
       "      <td>264.0</td>\n",
       "      <td>279.0</td>\n",
       "      <td>284.0</td>\n",
       "      <td>286.0</td>\n",
       "      <td>272.0</td>\n",
       "      <td>258.0</td>\n",
       "      <td>239.0</td>\n",
       "      <td>241.0</td>\n",
       "      <td>245.0</td>\n",
       "      <td>235.0</td>\n",
       "    </tr>\n",
       "    <tr>\n",
       "      <th>Estimated prevalence of TB (all forms) per 100 000 population, high bound</th>\n",
       "      <td>506.0</td>\n",
       "      <td>562.0</td>\n",
       "      <td>614.0</td>\n",
       "      <td>657.0</td>\n",
       "      <td>697.0</td>\n",
       "      <td>733.0</td>\n",
       "      <td>764.0</td>\n",
       "      <td>788.0</td>\n",
       "      <td>800.0</td>\n",
       "      <td>782.0</td>\n",
       "      <td>...</td>\n",
       "      <td>755.0</td>\n",
       "      <td>771.0</td>\n",
       "      <td>775.0</td>\n",
       "      <td>765.0</td>\n",
       "      <td>728.0</td>\n",
       "      <td>692.0</td>\n",
       "      <td>639.0</td>\n",
       "      <td>639.0</td>\n",
       "      <td>654.0</td>\n",
       "      <td>630.0</td>\n",
       "    </tr>\n",
       "    <tr>\n",
       "      <th>Estimated prevalence of TB (all forms)</th>\n",
       "      <td>36000.0</td>\n",
       "      <td>43000.0</td>\n",
       "      <td>51000.0</td>\n",
       "      <td>59000.0</td>\n",
       "      <td>68000.0</td>\n",
       "      <td>75000.0</td>\n",
       "      <td>81000.0</td>\n",
       "      <td>85000.0</td>\n",
       "      <td>88000.0</td>\n",
       "      <td>89000.0</td>\n",
       "      <td>...</td>\n",
       "      <td>61000.0</td>\n",
       "      <td>63000.0</td>\n",
       "      <td>64000.0</td>\n",
       "      <td>63000.0</td>\n",
       "      <td>60000.0</td>\n",
       "      <td>58000.0</td>\n",
       "      <td>54000.0</td>\n",
       "      <td>56000.0</td>\n",
       "      <td>58000.0</td>\n",
       "      <td>58000.0</td>\n",
       "    </tr>\n",
       "    <tr>\n",
       "      <th>Estimated prevalence of TB (all forms), low bound</th>\n",
       "      <td>18000.0</td>\n",
       "      <td>22000.0</td>\n",
       "      <td>26000.0</td>\n",
       "      <td>30000.0</td>\n",
       "      <td>33000.0</td>\n",
       "      <td>35000.0</td>\n",
       "      <td>37000.0</td>\n",
       "      <td>39000.0</td>\n",
       "      <td>40000.0</td>\n",
       "      <td>41000.0</td>\n",
       "      <td>...</td>\n",
       "      <td>34000.0</td>\n",
       "      <td>35000.0</td>\n",
       "      <td>36000.0</td>\n",
       "      <td>36000.0</td>\n",
       "      <td>35000.0</td>\n",
       "      <td>33000.0</td>\n",
       "      <td>31000.0</td>\n",
       "      <td>32000.0</td>\n",
       "      <td>34000.0</td>\n",
       "      <td>33000.0</td>\n",
       "    </tr>\n",
       "    <tr>\n",
       "      <th>Estimated prevalence of TB (all forms), high bound</th>\n",
       "      <td>59000.0</td>\n",
       "      <td>71000.0</td>\n",
       "      <td>85000.0</td>\n",
       "      <td>100000.0</td>\n",
       "      <td>110000.0</td>\n",
       "      <td>130000.0</td>\n",
       "      <td>140000.0</td>\n",
       "      <td>150000.0</td>\n",
       "      <td>160000.0</td>\n",
       "      <td>160000.0</td>\n",
       "      <td>...</td>\n",
       "      <td>96000.0</td>\n",
       "      <td>98000.0</td>\n",
       "      <td>99000.0</td>\n",
       "      <td>97000.0</td>\n",
       "      <td>93000.0</td>\n",
       "      <td>89000.0</td>\n",
       "      <td>84000.0</td>\n",
       "      <td>85000.0</td>\n",
       "      <td>90000.0</td>\n",
       "      <td>89000.0</td>\n",
       "    </tr>\n",
       "    <tr>\n",
       "      <th>Method to derive prevalence estimates</th>\n",
       "      <td>predicted</td>\n",
       "      <td>predicted</td>\n",
       "      <td>predicted</td>\n",
       "      <td>predicted</td>\n",
       "      <td>predicted</td>\n",
       "      <td>predicted</td>\n",
       "      <td>predicted</td>\n",
       "      <td>predicted</td>\n",
       "      <td>predicted</td>\n",
       "      <td>predicted</td>\n",
       "      <td>...</td>\n",
       "      <td>predicted</td>\n",
       "      <td>predicted</td>\n",
       "      <td>predicted</td>\n",
       "      <td>predicted</td>\n",
       "      <td>predicted</td>\n",
       "      <td>predicted</td>\n",
       "      <td>predicted</td>\n",
       "      <td>predicted</td>\n",
       "      <td>predicted</td>\n",
       "      <td>predicted</td>\n",
       "    </tr>\n",
       "    <tr>\n",
       "      <th>Estimated mortality of TB cases (all forms, excluding HIV) per 100 000 population</th>\n",
       "      <td>37.0</td>\n",
       "      <td>46.0</td>\n",
       "      <td>54.0</td>\n",
       "      <td>60.0</td>\n",
       "      <td>65.0</td>\n",
       "      <td>69.0</td>\n",
       "      <td>71.0</td>\n",
       "      <td>72.0</td>\n",
       "      <td>72.0</td>\n",
       "      <td>71.0</td>\n",
       "      <td>...</td>\n",
       "      <td>35.0</td>\n",
       "      <td>39.0</td>\n",
       "      <td>41.0</td>\n",
       "      <td>43.0</td>\n",
       "      <td>41.0</td>\n",
       "      <td>39.0</td>\n",
       "      <td>36.0</td>\n",
       "      <td>38.0</td>\n",
       "      <td>41.0</td>\n",
       "      <td>40.0</td>\n",
       "    </tr>\n",
       "    <tr>\n",
       "      <th>Estimated mortality of TB cases (all forms, excluding HIV), per 100 000 population, low bound</th>\n",
       "      <td>24.0</td>\n",
       "      <td>29.0</td>\n",
       "      <td>34.0</td>\n",
       "      <td>38.0</td>\n",
       "      <td>41.0</td>\n",
       "      <td>45.0</td>\n",
       "      <td>48.0</td>\n",
       "      <td>51.0</td>\n",
       "      <td>51.0</td>\n",
       "      <td>50.0</td>\n",
       "      <td>...</td>\n",
       "      <td>22.0</td>\n",
       "      <td>24.0</td>\n",
       "      <td>26.0</td>\n",
       "      <td>28.0</td>\n",
       "      <td>28.0</td>\n",
       "      <td>27.0</td>\n",
       "      <td>25.0</td>\n",
       "      <td>26.0</td>\n",
       "      <td>27.0</td>\n",
       "      <td>25.0</td>\n",
       "    </tr>\n",
       "    <tr>\n",
       "      <th>Estimated mortality of TB cases (all forms, excluding HIV), per 100 000 population, high bound</th>\n",
       "      <td>54.0</td>\n",
       "      <td>61.0</td>\n",
       "      <td>68.0</td>\n",
       "      <td>73.0</td>\n",
       "      <td>79.0</td>\n",
       "      <td>82.0</td>\n",
       "      <td>85.0</td>\n",
       "      <td>85.0</td>\n",
       "      <td>85.0</td>\n",
       "      <td>84.0</td>\n",
       "      <td>...</td>\n",
       "      <td>42.0</td>\n",
       "      <td>47.0</td>\n",
       "      <td>49.0</td>\n",
       "      <td>53.0</td>\n",
       "      <td>52.0</td>\n",
       "      <td>52.0</td>\n",
       "      <td>48.0</td>\n",
       "      <td>51.0</td>\n",
       "      <td>55.0</td>\n",
       "      <td>52.0</td>\n",
       "    </tr>\n",
       "    <tr>\n",
       "      <th>Estimated number of deaths from TB (all forms, excluding HIV)</th>\n",
       "      <td>4300.0</td>\n",
       "      <td>5800.0</td>\n",
       "      <td>7400.0</td>\n",
       "      <td>9100.0</td>\n",
       "      <td>11000.0</td>\n",
       "      <td>12000.0</td>\n",
       "      <td>13000.0</td>\n",
       "      <td>14000.0</td>\n",
       "      <td>14000.0</td>\n",
       "      <td>14000.0</td>\n",
       "      <td>...</td>\n",
       "      <td>4400.0</td>\n",
       "      <td>4900.0</td>\n",
       "      <td>5200.0</td>\n",
       "      <td>5400.0</td>\n",
       "      <td>5200.0</td>\n",
       "      <td>5000.0</td>\n",
       "      <td>4700.0</td>\n",
       "      <td>5100.0</td>\n",
       "      <td>5600.0</td>\n",
       "      <td>5700.0</td>\n",
       "    </tr>\n",
       "    <tr>\n",
       "      <th>Estimated number of deaths from TB (all forms, excluding HIV), low bound</th>\n",
       "      <td>2800.0</td>\n",
       "      <td>3700.0</td>\n",
       "      <td>4700.0</td>\n",
       "      <td>5800.0</td>\n",
       "      <td>6800.0</td>\n",
       "      <td>7800.0</td>\n",
       "      <td>8900.0</td>\n",
       "      <td>9700.0</td>\n",
       "      <td>10000.0</td>\n",
       "      <td>10000.0</td>\n",
       "      <td>...</td>\n",
       "      <td>2800.0</td>\n",
       "      <td>3100.0</td>\n",
       "      <td>3300.0</td>\n",
       "      <td>3500.0</td>\n",
       "      <td>3500.0</td>\n",
       "      <td>3500.0</td>\n",
       "      <td>3300.0</td>\n",
       "      <td>3500.0</td>\n",
       "      <td>3700.0</td>\n",
       "      <td>3600.0</td>\n",
       "    </tr>\n",
       "    <tr>\n",
       "      <th>Estimated number of deaths from TB (all forms, excluding HIV), high bound</th>\n",
       "      <td>6400.0</td>\n",
       "      <td>7700.0</td>\n",
       "      <td>9400.0</td>\n",
       "      <td>11000.0</td>\n",
       "      <td>13000.0</td>\n",
       "      <td>14000.0</td>\n",
       "      <td>16000.0</td>\n",
       "      <td>16000.0</td>\n",
       "      <td>17000.0</td>\n",
       "      <td>17000.0</td>\n",
       "      <td>...</td>\n",
       "      <td>5300.0</td>\n",
       "      <td>5900.0</td>\n",
       "      <td>6300.0</td>\n",
       "      <td>6700.0</td>\n",
       "      <td>6700.0</td>\n",
       "      <td>6700.0</td>\n",
       "      <td>6300.0</td>\n",
       "      <td>6800.0</td>\n",
       "      <td>7500.0</td>\n",
       "      <td>7400.0</td>\n",
       "    </tr>\n",
       "    <tr>\n",
       "      <th>Estimated mortality of TB cases who are HIV-positive, per 100 000 population</th>\n",
       "      <td>0.04</td>\n",
       "      <td>0.06</td>\n",
       "      <td>0.08</td>\n",
       "      <td>0.11</td>\n",
       "      <td>0.13</td>\n",
       "      <td>0.15</td>\n",
       "      <td>0.17</td>\n",
       "      <td>0.19</td>\n",
       "      <td>0.21</td>\n",
       "      <td>0.22</td>\n",
       "      <td>...</td>\n",
       "      <td>279.0</td>\n",
       "      <td>275.0</td>\n",
       "      <td>262.0</td>\n",
       "      <td>244.0</td>\n",
       "      <td>227.0</td>\n",
       "      <td>206.0</td>\n",
       "      <td>196.0</td>\n",
       "      <td>176.0</td>\n",
       "      <td>160.0</td>\n",
       "      <td>153.0</td>\n",
       "    </tr>\n",
       "    <tr>\n",
       "      <th>Estimated mortality of TB cases who are HIV-positive, per 100 000 population, low bound</th>\n",
       "      <td>4.1</td>\n",
       "      <td>6.2</td>\n",
       "      <td>8.3</td>\n",
       "      <td>13.0</td>\n",
       "      <td>17.0</td>\n",
       "      <td>21.0</td>\n",
       "      <td>26.0</td>\n",
       "      <td>31.0</td>\n",
       "      <td>35.0</td>\n",
       "      <td>37.0</td>\n",
       "      <td>...</td>\n",
       "      <td>28000.0</td>\n",
       "      <td>28000.0</td>\n",
       "      <td>27000.0</td>\n",
       "      <td>26000.0</td>\n",
       "      <td>24000.0</td>\n",
       "      <td>22000.0</td>\n",
       "      <td>21000.0</td>\n",
       "      <td>19000.0</td>\n",
       "      <td>18000.0</td>\n",
       "      <td>17000.0</td>\n",
       "    </tr>\n",
       "    <tr>\n",
       "      <th>Estimated mortality of TB cases who are HIV-positive, per 100 000 population, high bound</th>\n",
       "      <td>0.05</td>\n",
       "      <td>0.08</td>\n",
       "      <td>0.1</td>\n",
       "      <td>0.14</td>\n",
       "      <td>0.16</td>\n",
       "      <td>0.19</td>\n",
       "      <td>0.21</td>\n",
       "      <td>0.23</td>\n",
       "      <td>0.24</td>\n",
       "      <td>0.26</td>\n",
       "      <td>...</td>\n",
       "      <td>343.0</td>\n",
       "      <td>336.0</td>\n",
       "      <td>314.0</td>\n",
       "      <td>291.0</td>\n",
       "      <td>271.0</td>\n",
       "      <td>246.0</td>\n",
       "      <td>236.0</td>\n",
       "      <td>211.0</td>\n",
       "      <td>194.0</td>\n",
       "      <td>189.0</td>\n",
       "    </tr>\n",
       "    <tr>\n",
       "      <th>Estimated number of deaths from TB in people who are HIV-positive</th>\n",
       "      <td>5.0</td>\n",
       "      <td>8.0</td>\n",
       "      <td>11.0</td>\n",
       "      <td>17.0</td>\n",
       "      <td>22.0</td>\n",
       "      <td>27.0</td>\n",
       "      <td>32.0</td>\n",
       "      <td>37.0</td>\n",
       "      <td>41.0</td>\n",
       "      <td>44.0</td>\n",
       "      <td>...</td>\n",
       "      <td>35000.0</td>\n",
       "      <td>35000.0</td>\n",
       "      <td>33000.0</td>\n",
       "      <td>31000.0</td>\n",
       "      <td>29000.0</td>\n",
       "      <td>27000.0</td>\n",
       "      <td>26000.0</td>\n",
       "      <td>24000.0</td>\n",
       "      <td>22000.0</td>\n",
       "      <td>22000.0</td>\n",
       "    </tr>\n",
       "    <tr>\n",
       "      <th>Estimated number of deaths from TB in people who are HIV-positive, low bound</th>\n",
       "      <td>AF</td>\n",
       "      <td>AF</td>\n",
       "      <td>AF</td>\n",
       "      <td>AF</td>\n",
       "      <td>AF</td>\n",
       "      <td>AF</td>\n",
       "      <td>AF</td>\n",
       "      <td>AF</td>\n",
       "      <td>AF</td>\n",
       "      <td>AF</td>\n",
       "      <td>...</td>\n",
       "      <td>ZW</td>\n",
       "      <td>ZW</td>\n",
       "      <td>ZW</td>\n",
       "      <td>ZW</td>\n",
       "      <td>ZW</td>\n",
       "      <td>ZW</td>\n",
       "      <td>ZW</td>\n",
       "      <td>ZW</td>\n",
       "      <td>ZW</td>\n",
       "      <td>ZW</td>\n",
       "    </tr>\n",
       "    <tr>\n",
       "      <th>Estimated number of deaths from TB in people who are HIV-positive, high bound</th>\n",
       "      <td>6.0</td>\n",
       "      <td>10.0</td>\n",
       "      <td>14.0</td>\n",
       "      <td>21.0</td>\n",
       "      <td>27.0</td>\n",
       "      <td>34.0</td>\n",
       "      <td>39.0</td>\n",
       "      <td>44.0</td>\n",
       "      <td>48.0</td>\n",
       "      <td>51.0</td>\n",
       "      <td>...</td>\n",
       "      <td>43000.0</td>\n",
       "      <td>43000.0</td>\n",
       "      <td>40000.0</td>\n",
       "      <td>37000.0</td>\n",
       "      <td>35000.0</td>\n",
       "      <td>32000.0</td>\n",
       "      <td>31000.0</td>\n",
       "      <td>28000.0</td>\n",
       "      <td>27000.0</td>\n",
       "      <td>27000.0</td>\n",
       "    </tr>\n",
       "    <tr>\n",
       "      <th>Method to derive mortality estimates</th>\n",
       "      <td>Indirect</td>\n",
       "      <td>Indirect</td>\n",
       "      <td>Indirect</td>\n",
       "      <td>Indirect</td>\n",
       "      <td>Indirect</td>\n",
       "      <td>Indirect</td>\n",
       "      <td>Indirect</td>\n",
       "      <td>Indirect</td>\n",
       "      <td>Indirect</td>\n",
       "      <td>Indirect</td>\n",
       "      <td>...</td>\n",
       "      <td>Indirect</td>\n",
       "      <td>Indirect</td>\n",
       "      <td>Indirect</td>\n",
       "      <td>Indirect</td>\n",
       "      <td>Indirect</td>\n",
       "      <td>Indirect</td>\n",
       "      <td>Indirect</td>\n",
       "      <td>Indirect</td>\n",
       "      <td>Indirect</td>\n",
       "      <td>Indirect</td>\n",
       "    </tr>\n",
       "    <tr>\n",
       "      <th>Estimated incidence (all forms) per 100 000 population</th>\n",
       "      <td>189.0</td>\n",
       "      <td>191.0</td>\n",
       "      <td>191.0</td>\n",
       "      <td>189.0</td>\n",
       "      <td>188.0</td>\n",
       "      <td>188.0</td>\n",
       "      <td>188.0</td>\n",
       "      <td>189.0</td>\n",
       "      <td>189.0</td>\n",
       "      <td>190.0</td>\n",
       "      <td>...</td>\n",
       "      <td>809.0</td>\n",
       "      <td>801.0</td>\n",
       "      <td>780.0</td>\n",
       "      <td>749.0</td>\n",
       "      <td>712.0</td>\n",
       "      <td>673.0</td>\n",
       "      <td>635.0</td>\n",
       "      <td>602.0</td>\n",
       "      <td>575.0</td>\n",
       "      <td>552.0</td>\n",
       "    </tr>\n",
       "    <tr>\n",
       "      <th>Estimated incidence (all forms) per 100 000 population, low bound</th>\n",
       "      <td>157.0</td>\n",
       "      <td>167.0</td>\n",
       "      <td>171.0</td>\n",
       "      <td>171.0</td>\n",
       "      <td>169.0</td>\n",
       "      <td>166.0</td>\n",
       "      <td>169.0</td>\n",
       "      <td>172.0</td>\n",
       "      <td>174.0</td>\n",
       "      <td>175.0</td>\n",
       "      <td>...</td>\n",
       "      <td>745.0</td>\n",
       "      <td>735.0</td>\n",
       "      <td>720.0</td>\n",
       "      <td>689.0</td>\n",
       "      <td>657.0</td>\n",
       "      <td>620.0</td>\n",
       "      <td>576.0</td>\n",
       "      <td>543.0</td>\n",
       "      <td>504.0</td>\n",
       "      <td>474.0</td>\n",
       "    </tr>\n",
       "    <tr>\n",
       "      <th>Estimated incidence (all forms) per 100 000 population, high bound</th>\n",
       "      <td>238.0</td>\n",
       "      <td>227.0</td>\n",
       "      <td>217.0</td>\n",
       "      <td>209.0</td>\n",
       "      <td>208.0</td>\n",
       "      <td>209.0</td>\n",
       "      <td>206.0</td>\n",
       "      <td>205.0</td>\n",
       "      <td>202.0</td>\n",
       "      <td>206.0</td>\n",
       "      <td>...</td>\n",
       "      <td>874.0</td>\n",
       "      <td>867.0</td>\n",
       "      <td>835.0</td>\n",
       "      <td>805.0</td>\n",
       "      <td>773.0</td>\n",
       "      <td>740.0</td>\n",
       "      <td>708.0</td>\n",
       "      <td>674.0</td>\n",
       "      <td>656.0</td>\n",
       "      <td>643.0</td>\n",
       "    </tr>\n",
       "    <tr>\n",
       "      <th>Estimated number of incident cases (all forms)</th>\n",
       "      <td>22000.0</td>\n",
       "      <td>24000.0</td>\n",
       "      <td>26000.0</td>\n",
       "      <td>29000.0</td>\n",
       "      <td>31000.0</td>\n",
       "      <td>33000.0</td>\n",
       "      <td>35000.0</td>\n",
       "      <td>36000.0</td>\n",
       "      <td>37000.0</td>\n",
       "      <td>38000.0</td>\n",
       "      <td>...</td>\n",
       "      <td>100000.0</td>\n",
       "      <td>100000.0</td>\n",
       "      <td>99000.0</td>\n",
       "      <td>95000.0</td>\n",
       "      <td>91000.0</td>\n",
       "      <td>87000.0</td>\n",
       "      <td>83000.0</td>\n",
       "      <td>80000.0</td>\n",
       "      <td>79000.0</td>\n",
       "      <td>78000.0</td>\n",
       "    </tr>\n",
       "    <tr>\n",
       "      <th>Estimated number of incident cases (all forms), low bound</th>\n",
       "      <td>18000.0</td>\n",
       "      <td>21000.0</td>\n",
       "      <td>24000.0</td>\n",
       "      <td>26000.0</td>\n",
       "      <td>28000.0</td>\n",
       "      <td>29000.0</td>\n",
       "      <td>31000.0</td>\n",
       "      <td>33000.0</td>\n",
       "      <td>34000.0</td>\n",
       "      <td>35000.0</td>\n",
       "      <td>...</td>\n",
       "      <td>95000.0</td>\n",
       "      <td>93000.0</td>\n",
       "      <td>92000.0</td>\n",
       "      <td>88000.0</td>\n",
       "      <td>84000.0</td>\n",
       "      <td>80000.0</td>\n",
       "      <td>75000.0</td>\n",
       "      <td>72000.0</td>\n",
       "      <td>69000.0</td>\n",
       "      <td>67000.0</td>\n",
       "    </tr>\n",
       "    <tr>\n",
       "      <th>Estimated number of incident cases (all forms), high bound</th>\n",
       "      <td>28000.0</td>\n",
       "      <td>29000.0</td>\n",
       "      <td>30000.0</td>\n",
       "      <td>32000.0</td>\n",
       "      <td>34000.0</td>\n",
       "      <td>37000.0</td>\n",
       "      <td>38000.0</td>\n",
       "      <td>39000.0</td>\n",
       "      <td>39000.0</td>\n",
       "      <td>41000.0</td>\n",
       "      <td>...</td>\n",
       "      <td>110000.0</td>\n",
       "      <td>110000.0</td>\n",
       "      <td>110000.0</td>\n",
       "      <td>100000.0</td>\n",
       "      <td>99000.0</td>\n",
       "      <td>95000.0</td>\n",
       "      <td>93000.0</td>\n",
       "      <td>90000.0</td>\n",
       "      <td>90000.0</td>\n",
       "      <td>91000.0</td>\n",
       "    </tr>\n",
       "    <tr>\n",
       "      <th>Method to derive incidence estimates</th>\n",
       "      <td>0</td>\n",
       "      <td>0</td>\n",
       "      <td>0</td>\n",
       "      <td>0</td>\n",
       "      <td>0</td>\n",
       "      <td>0</td>\n",
       "      <td>0</td>\n",
       "      <td>0</td>\n",
       "      <td>0</td>\n",
       "      <td>0</td>\n",
       "      <td>...</td>\n",
       "      <td>0</td>\n",
       "      <td>0</td>\n",
       "      <td>0</td>\n",
       "      <td>0</td>\n",
       "      <td>0</td>\n",
       "      <td>0</td>\n",
       "      <td>0</td>\n",
       "      <td>0</td>\n",
       "      <td>0</td>\n",
       "      <td>0</td>\n",
       "    </tr>\n",
       "    <tr>\n",
       "      <th>Estimated HIV in incident TB (percent)</th>\n",
       "      <td>0.06</td>\n",
       "      <td>0.07</td>\n",
       "      <td>0.08</td>\n",
       "      <td>0.1</td>\n",
       "      <td>0.11</td>\n",
       "      <td>0.12</td>\n",
       "      <td>0.14</td>\n",
       "      <td>0.15</td>\n",
       "      <td>0.16</td>\n",
       "      <td>0.17</td>\n",
       "      <td>...</td>\n",
       "      <td>81.0</td>\n",
       "      <td>79.0</td>\n",
       "      <td>78.0</td>\n",
       "      <td>76.0</td>\n",
       "      <td>76.0</td>\n",
       "      <td>76.0</td>\n",
       "      <td>77.0</td>\n",
       "      <td>75.0</td>\n",
       "      <td>72.0</td>\n",
       "      <td>72.0</td>\n",
       "    </tr>\n",
       "    <tr>\n",
       "      <th>Estimated HIV in incident TB (percent), low bound</th>\n",
       "      <td>0.04</td>\n",
       "      <td>0.06</td>\n",
       "      <td>0.07</td>\n",
       "      <td>0.09</td>\n",
       "      <td>0.1</td>\n",
       "      <td>0.1</td>\n",
       "      <td>0.12</td>\n",
       "      <td>0.13</td>\n",
       "      <td>0.14</td>\n",
       "      <td>0.15</td>\n",
       "      <td>...</td>\n",
       "      <td>70.0</td>\n",
       "      <td>68.0</td>\n",
       "      <td>68.0</td>\n",
       "      <td>67.0</td>\n",
       "      <td>67.0</td>\n",
       "      <td>65.0</td>\n",
       "      <td>64.0</td>\n",
       "      <td>63.0</td>\n",
       "      <td>58.0</td>\n",
       "      <td>55.0</td>\n",
       "    </tr>\n",
       "    <tr>\n",
       "      <th>Estimated HIV in incident TB (percent), high bound</th>\n",
       "      <td>0.08</td>\n",
       "      <td>0.09</td>\n",
       "      <td>0.1</td>\n",
       "      <td>0.11</td>\n",
       "      <td>0.13</td>\n",
       "      <td>0.15</td>\n",
       "      <td>0.16</td>\n",
       "      <td>0.17</td>\n",
       "      <td>0.18</td>\n",
       "      <td>0.19</td>\n",
       "      <td>...</td>\n",
       "      <td>90.0</td>\n",
       "      <td>89.0</td>\n",
       "      <td>86.0</td>\n",
       "      <td>85.0</td>\n",
       "      <td>85.0</td>\n",
       "      <td>85.0</td>\n",
       "      <td>88.0</td>\n",
       "      <td>85.0</td>\n",
       "      <td>84.0</td>\n",
       "      <td>86.0</td>\n",
       "    </tr>\n",
       "    <tr>\n",
       "      <th>Estimated incidence of TB cases who are HIV-positive per 100 000 population</th>\n",
       "      <td>0.11</td>\n",
       "      <td>0.13</td>\n",
       "      <td>0.16</td>\n",
       "      <td>0.19</td>\n",
       "      <td>0.21</td>\n",
       "      <td>0.23</td>\n",
       "      <td>0.25</td>\n",
       "      <td>0.28</td>\n",
       "      <td>0.3</td>\n",
       "      <td>0.32</td>\n",
       "      <td>...</td>\n",
       "      <td>655.0</td>\n",
       "      <td>635.0</td>\n",
       "      <td>605.0</td>\n",
       "      <td>571.0</td>\n",
       "      <td>543.0</td>\n",
       "      <td>511.0</td>\n",
       "      <td>487.0</td>\n",
       "      <td>448.0</td>\n",
       "      <td>411.0</td>\n",
       "      <td>395.0</td>\n",
       "    </tr>\n",
       "    <tr>\n",
       "      <th>Estimated incidence of TB cases who are HIV-positive per 100 000 population, low bound</th>\n",
       "      <td>0.08</td>\n",
       "      <td>0.11</td>\n",
       "      <td>0.14</td>\n",
       "      <td>0.17</td>\n",
       "      <td>0.18</td>\n",
       "      <td>0.21</td>\n",
       "      <td>0.23</td>\n",
       "      <td>0.26</td>\n",
       "      <td>0.27</td>\n",
       "      <td>0.29</td>\n",
       "      <td>...</td>\n",
       "      <td>600.0</td>\n",
       "      <td>576.0</td>\n",
       "      <td>549.0</td>\n",
       "      <td>522.0</td>\n",
       "      <td>497.0</td>\n",
       "      <td>460.0</td>\n",
       "      <td>433.0</td>\n",
       "      <td>403.0</td>\n",
       "      <td>362.0</td>\n",
       "      <td>341.0</td>\n",
       "    </tr>\n",
       "    <tr>\n",
       "      <th>Estimated incidence of TB cases who are HIV-positive per 100 000 population, high bound</th>\n",
       "      <td>0.14</td>\n",
       "      <td>0.16</td>\n",
       "      <td>0.18</td>\n",
       "      <td>0.21</td>\n",
       "      <td>0.24</td>\n",
       "      <td>0.27</td>\n",
       "      <td>0.28</td>\n",
       "      <td>0.3</td>\n",
       "      <td>0.32</td>\n",
       "      <td>0.35</td>\n",
       "      <td>...</td>\n",
       "      <td>731.0</td>\n",
       "      <td>709.0</td>\n",
       "      <td>668.0</td>\n",
       "      <td>627.0</td>\n",
       "      <td>594.0</td>\n",
       "      <td>566.0</td>\n",
       "      <td>545.0</td>\n",
       "      <td>502.0</td>\n",
       "      <td>471.0</td>\n",
       "      <td>464.0</td>\n",
       "    </tr>\n",
       "    <tr>\n",
       "      <th>Estimated incidence of TB cases who are HIV-positive</th>\n",
       "      <td>12.0</td>\n",
       "      <td>17.0</td>\n",
       "      <td>22.0</td>\n",
       "      <td>28.0</td>\n",
       "      <td>35.0</td>\n",
       "      <td>41.0</td>\n",
       "      <td>47.0</td>\n",
       "      <td>53.0</td>\n",
       "      <td>59.0</td>\n",
       "      <td>64.0</td>\n",
       "      <td>...</td>\n",
       "      <td>83000.0</td>\n",
       "      <td>81000.0</td>\n",
       "      <td>77000.0</td>\n",
       "      <td>73000.0</td>\n",
       "      <td>69000.0</td>\n",
       "      <td>66000.0</td>\n",
       "      <td>64000.0</td>\n",
       "      <td>60000.0</td>\n",
       "      <td>56000.0</td>\n",
       "      <td>56000.0</td>\n",
       "    </tr>\n",
       "    <tr>\n",
       "      <th>Estimated incidence of TB cases who are HIV-positive, low bound</th>\n",
       "      <td>9.4</td>\n",
       "      <td>14.0</td>\n",
       "      <td>19.0</td>\n",
       "      <td>25.0</td>\n",
       "      <td>30.0</td>\n",
       "      <td>37.0</td>\n",
       "      <td>42.0</td>\n",
       "      <td>49.0</td>\n",
       "      <td>54.0</td>\n",
       "      <td>59.0</td>\n",
       "      <td>...</td>\n",
       "      <td>76000.0</td>\n",
       "      <td>73000.0</td>\n",
       "      <td>70000.0</td>\n",
       "      <td>67000.0</td>\n",
       "      <td>64000.0</td>\n",
       "      <td>59000.0</td>\n",
       "      <td>57000.0</td>\n",
       "      <td>54000.0</td>\n",
       "      <td>50000.0</td>\n",
       "      <td>48000.0</td>\n",
       "    </tr>\n",
       "    <tr>\n",
       "      <th>Estimated incidence of TB cases who are HIV-positive, high bound</th>\n",
       "      <td>16.0</td>\n",
       "      <td>20.0</td>\n",
       "      <td>24.0</td>\n",
       "      <td>31.0</td>\n",
       "      <td>39.0</td>\n",
       "      <td>47.0</td>\n",
       "      <td>52.0</td>\n",
       "      <td>58.0</td>\n",
       "      <td>63.0</td>\n",
       "      <td>70.0</td>\n",
       "      <td>...</td>\n",
       "      <td>93000.0</td>\n",
       "      <td>90000.0</td>\n",
       "      <td>85000.0</td>\n",
       "      <td>80000.0</td>\n",
       "      <td>76000.0</td>\n",
       "      <td>73000.0</td>\n",
       "      <td>71000.0</td>\n",
       "      <td>67000.0</td>\n",
       "      <td>65000.0</td>\n",
       "      <td>66000.0</td>\n",
       "    </tr>\n",
       "    <tr>\n",
       "      <th>Method to derive TBHIV estimates</th>\n",
       "      <td>0.0</td>\n",
       "      <td>0.0</td>\n",
       "      <td>0.0</td>\n",
       "      <td>0.0</td>\n",
       "      <td>0.0</td>\n",
       "      <td>0.0</td>\n",
       "      <td>0.0</td>\n",
       "      <td>0.0</td>\n",
       "      <td>0.0</td>\n",
       "      <td>0.0</td>\n",
       "      <td>...</td>\n",
       "      <td>0.0</td>\n",
       "      <td>0.0</td>\n",
       "      <td>0.0</td>\n",
       "      <td>0.0</td>\n",
       "      <td>0.0</td>\n",
       "      <td>0.0</td>\n",
       "      <td>0.0</td>\n",
       "      <td>0.0</td>\n",
       "      <td>0.0</td>\n",
       "      <td>0.0</td>\n",
       "    </tr>\n",
       "    <tr>\n",
       "      <th>Case detection rate (all forms), percent</th>\n",
       "      <td>20.0</td>\n",
       "      <td>96.0</td>\n",
       "      <td>0.0</td>\n",
       "      <td>0.0</td>\n",
       "      <td>0.0</td>\n",
       "      <td>0.0</td>\n",
       "      <td>0.0</td>\n",
       "      <td>3.6</td>\n",
       "      <td>8.3</td>\n",
       "      <td>8.7</td>\n",
       "      <td>...</td>\n",
       "      <td>55.0</td>\n",
       "      <td>50.0</td>\n",
       "      <td>45.0</td>\n",
       "      <td>42.0</td>\n",
       "      <td>40.0</td>\n",
       "      <td>50.0</td>\n",
       "      <td>53.0</td>\n",
       "      <td>48.0</td>\n",
       "      <td>45.0</td>\n",
       "      <td>42.0</td>\n",
       "    </tr>\n",
       "    <tr>\n",
       "      <th>Case detection rate (all forms), percent, low bound</th>\n",
       "      <td>15.0</td>\n",
       "      <td>80.0</td>\n",
       "      <td>0.0</td>\n",
       "      <td>0.0</td>\n",
       "      <td>0.0</td>\n",
       "      <td>0.0</td>\n",
       "      <td>0.0</td>\n",
       "      <td>3.3</td>\n",
       "      <td>7.8</td>\n",
       "      <td>8.1</td>\n",
       "      <td>...</td>\n",
       "      <td>51.0</td>\n",
       "      <td>46.0</td>\n",
       "      <td>42.0</td>\n",
       "      <td>39.0</td>\n",
       "      <td>37.0</td>\n",
       "      <td>45.0</td>\n",
       "      <td>48.0</td>\n",
       "      <td>43.0</td>\n",
       "      <td>40.0</td>\n",
       "      <td>36.0</td>\n",
       "    </tr>\n",
       "    <tr>\n",
       "      <th>Case detection rate (all forms), percent, high bound</th>\n",
       "      <td>24.0</td>\n",
       "      <td>110.0</td>\n",
       "      <td>0.0</td>\n",
       "      <td>0.0</td>\n",
       "      <td>0.0</td>\n",
       "      <td>0.0</td>\n",
       "      <td>0.0</td>\n",
       "      <td>4.0</td>\n",
       "      <td>9.1</td>\n",
       "      <td>9.5</td>\n",
       "      <td>...</td>\n",
       "      <td>59.0</td>\n",
       "      <td>54.0</td>\n",
       "      <td>48.0</td>\n",
       "      <td>46.0</td>\n",
       "      <td>44.0</td>\n",
       "      <td>54.0</td>\n",
       "      <td>59.0</td>\n",
       "      <td>53.0</td>\n",
       "      <td>52.0</td>\n",
       "      <td>49.0</td>\n",
       "    </tr>\n",
       "    <tr>\n",
       "      <th>Estimated incidence of TB cases who are HIV-positive, high bound</th>\n",
       "      <td>16.0</td>\n",
       "      <td>20.0</td>\n",
       "      <td>24.0</td>\n",
       "      <td>31.0</td>\n",
       "      <td>39.0</td>\n",
       "      <td>47.0</td>\n",
       "      <td>52.0</td>\n",
       "      <td>58.0</td>\n",
       "      <td>63.0</td>\n",
       "      <td>70.0</td>\n",
       "      <td>...</td>\n",
       "      <td>93000.0</td>\n",
       "      <td>90000.0</td>\n",
       "      <td>85000.0</td>\n",
       "      <td>80000.0</td>\n",
       "      <td>76000.0</td>\n",
       "      <td>73000.0</td>\n",
       "      <td>71000.0</td>\n",
       "      <td>67000.0</td>\n",
       "      <td>65000.0</td>\n",
       "      <td>66000.0</td>\n",
       "    </tr>\n",
       "  </tbody>\n",
       "</table>\n",
       "<p>48 rows × 5120 columns</p>\n",
       "</div>"
      ],
      "text/plain": [
       "                                                           0            1     \\\n",
       "Country or territory name                           Afghanistan  Afghanistan   \n",
       "ISO 2-character country/territory code                       AF           AF   \n",
       "ISO 3-character country/territory code                      AFG          AFG   \n",
       "ISO numeric country/territory code                            4            4   \n",
       "Region                                                      EMR          EMR   \n",
       "Year                                                       1990         1991   \n",
       "Estimated total population number                      11731193     12612043   \n",
       "Estimated prevalence of TB (all forms) per 100 ...        306.0        343.0   \n",
       "Estimated prevalence of TB (all forms) per 100 ...        156.0        178.0   \n",
       "Estimated prevalence of TB (all forms) per 100 ...        506.0        562.0   \n",
       "Estimated prevalence of TB (all forms)                  36000.0      43000.0   \n",
       "Estimated prevalence of TB (all forms), low bound       18000.0      22000.0   \n",
       "Estimated prevalence of TB (all forms), high bound      59000.0      71000.0   \n",
       "Method to derive prevalence estimates                 predicted    predicted   \n",
       "Estimated mortality of TB cases (all forms, exc...         37.0         46.0   \n",
       "Estimated mortality of TB cases (all forms, exc...         24.0         29.0   \n",
       "Estimated mortality of TB cases (all forms, exc...         54.0         61.0   \n",
       "Estimated number of deaths from TB (all forms, ...       4300.0       5800.0   \n",
       "Estimated number of deaths from TB (all forms, ...       2800.0       3700.0   \n",
       "Estimated number of deaths from TB (all forms, ...       6400.0       7700.0   \n",
       "Estimated mortality of TB cases who are HIV-pos...         0.04         0.06   \n",
       "Estimated mortality of TB cases who are HIV-pos...          4.1          6.2   \n",
       "Estimated mortality of TB cases who are HIV-pos...         0.05         0.08   \n",
       "Estimated number of deaths from TB in people wh...          5.0          8.0   \n",
       "Estimated number of deaths from TB in people wh...           AF           AF   \n",
       "Estimated number of deaths from TB in people wh...          6.0         10.0   \n",
       "Method to derive mortality estimates                   Indirect     Indirect   \n",
       "Estimated incidence (all forms) per 100 000 pop...        189.0        191.0   \n",
       "Estimated incidence (all forms) per 100 000 pop...        157.0        167.0   \n",
       "Estimated incidence (all forms) per 100 000 pop...        238.0        227.0   \n",
       "Estimated number of incident cases (all forms)          22000.0      24000.0   \n",
       "Estimated number of incident cases (all forms),...      18000.0      21000.0   \n",
       "Estimated number of incident cases (all forms),...      28000.0      29000.0   \n",
       "Method to derive incidence estimates                          0            0   \n",
       "Estimated HIV in incident TB (percent)                     0.06         0.07   \n",
       "Estimated HIV in incident TB (percent), low bound          0.04         0.06   \n",
       "Estimated HIV in incident TB (percent), high bound         0.08         0.09   \n",
       "Estimated incidence of TB cases who are HIV-pos...         0.11         0.13   \n",
       "Estimated incidence of TB cases who are HIV-pos...         0.08         0.11   \n",
       "Estimated incidence of TB cases who are HIV-pos...         0.14         0.16   \n",
       "Estimated incidence of TB cases who are HIV-pos...         12.0         17.0   \n",
       "Estimated incidence of TB cases who are HIV-pos...          9.4         14.0   \n",
       "Estimated incidence of TB cases who are HIV-pos...         16.0         20.0   \n",
       "Method to derive TBHIV estimates                            0.0          0.0   \n",
       "Case detection rate (all forms), percent                   20.0         96.0   \n",
       "Case detection rate (all forms), percent, low b...         15.0         80.0   \n",
       "Case detection rate (all forms), percent, high ...         24.0        110.0   \n",
       "Estimated incidence of TB cases who are HIV-pos...         16.0         20.0   \n",
       "\n",
       "                                                           2            3     \\\n",
       "Country or territory name                           Afghanistan  Afghanistan   \n",
       "ISO 2-character country/territory code                       AF           AF   \n",
       "ISO 3-character country/territory code                      AFG          AFG   \n",
       "ISO numeric country/territory code                            4            4   \n",
       "Region                                                      EMR          EMR   \n",
       "Year                                                       1992         1993   \n",
       "Estimated total population number                      13811876     15175325   \n",
       "Estimated prevalence of TB (all forms) per 100 ...        371.0        392.0   \n",
       "Estimated prevalence of TB (all forms) per 100 ...        189.0        194.0   \n",
       "Estimated prevalence of TB (all forms) per 100 ...        614.0        657.0   \n",
       "Estimated prevalence of TB (all forms)                  51000.0      59000.0   \n",
       "Estimated prevalence of TB (all forms), low bound       26000.0      30000.0   \n",
       "Estimated prevalence of TB (all forms), high bound      85000.0     100000.0   \n",
       "Method to derive prevalence estimates                 predicted    predicted   \n",
       "Estimated mortality of TB cases (all forms, exc...         54.0         60.0   \n",
       "Estimated mortality of TB cases (all forms, exc...         34.0         38.0   \n",
       "Estimated mortality of TB cases (all forms, exc...         68.0         73.0   \n",
       "Estimated number of deaths from TB (all forms, ...       7400.0       9100.0   \n",
       "Estimated number of deaths from TB (all forms, ...       4700.0       5800.0   \n",
       "Estimated number of deaths from TB (all forms, ...       9400.0      11000.0   \n",
       "Estimated mortality of TB cases who are HIV-pos...         0.08         0.11   \n",
       "Estimated mortality of TB cases who are HIV-pos...          8.3         13.0   \n",
       "Estimated mortality of TB cases who are HIV-pos...          0.1         0.14   \n",
       "Estimated number of deaths from TB in people wh...         11.0         17.0   \n",
       "Estimated number of deaths from TB in people wh...           AF           AF   \n",
       "Estimated number of deaths from TB in people wh...         14.0         21.0   \n",
       "Method to derive mortality estimates                   Indirect     Indirect   \n",
       "Estimated incidence (all forms) per 100 000 pop...        191.0        189.0   \n",
       "Estimated incidence (all forms) per 100 000 pop...        171.0        171.0   \n",
       "Estimated incidence (all forms) per 100 000 pop...        217.0        209.0   \n",
       "Estimated number of incident cases (all forms)          26000.0      29000.0   \n",
       "Estimated number of incident cases (all forms),...      24000.0      26000.0   \n",
       "Estimated number of incident cases (all forms),...      30000.0      32000.0   \n",
       "Method to derive incidence estimates                          0            0   \n",
       "Estimated HIV in incident TB (percent)                     0.08          0.1   \n",
       "Estimated HIV in incident TB (percent), low bound          0.07         0.09   \n",
       "Estimated HIV in incident TB (percent), high bound          0.1         0.11   \n",
       "Estimated incidence of TB cases who are HIV-pos...         0.16         0.19   \n",
       "Estimated incidence of TB cases who are HIV-pos...         0.14         0.17   \n",
       "Estimated incidence of TB cases who are HIV-pos...         0.18         0.21   \n",
       "Estimated incidence of TB cases who are HIV-pos...         22.0         28.0   \n",
       "Estimated incidence of TB cases who are HIV-pos...         19.0         25.0   \n",
       "Estimated incidence of TB cases who are HIV-pos...         24.0         31.0   \n",
       "Method to derive TBHIV estimates                            0.0          0.0   \n",
       "Case detection rate (all forms), percent                    0.0          0.0   \n",
       "Case detection rate (all forms), percent, low b...          0.0          0.0   \n",
       "Case detection rate (all forms), percent, high ...          0.0          0.0   \n",
       "Estimated incidence of TB cases who are HIV-pos...         24.0         31.0   \n",
       "\n",
       "                                                           4            5     \\\n",
       "Country or territory name                           Afghanistan  Afghanistan   \n",
       "ISO 2-character country/territory code                       AF           AF   \n",
       "ISO 3-character country/territory code                      AFG          AFG   \n",
       "ISO numeric country/territory code                            4            4   \n",
       "Region                                                      EMR          EMR   \n",
       "Year                                                       1994         1995   \n",
       "Estimated total population number                      16485018     17586073   \n",
       "Estimated prevalence of TB (all forms) per 100 ...        410.0        424.0   \n",
       "Estimated prevalence of TB (all forms) per 100 ...        198.0        199.0   \n",
       "Estimated prevalence of TB (all forms) per 100 ...        697.0        733.0   \n",
       "Estimated prevalence of TB (all forms)                  68000.0      75000.0   \n",
       "Estimated prevalence of TB (all forms), low bound       33000.0      35000.0   \n",
       "Estimated prevalence of TB (all forms), high bound     110000.0     130000.0   \n",
       "Method to derive prevalence estimates                 predicted    predicted   \n",
       "Estimated mortality of TB cases (all forms, exc...         65.0         69.0   \n",
       "Estimated mortality of TB cases (all forms, exc...         41.0         45.0   \n",
       "Estimated mortality of TB cases (all forms, exc...         79.0         82.0   \n",
       "Estimated number of deaths from TB (all forms, ...      11000.0      12000.0   \n",
       "Estimated number of deaths from TB (all forms, ...       6800.0       7800.0   \n",
       "Estimated number of deaths from TB (all forms, ...      13000.0      14000.0   \n",
       "Estimated mortality of TB cases who are HIV-pos...         0.13         0.15   \n",
       "Estimated mortality of TB cases who are HIV-pos...         17.0         21.0   \n",
       "Estimated mortality of TB cases who are HIV-pos...         0.16         0.19   \n",
       "Estimated number of deaths from TB in people wh...         22.0         27.0   \n",
       "Estimated number of deaths from TB in people wh...           AF           AF   \n",
       "Estimated number of deaths from TB in people wh...         27.0         34.0   \n",
       "Method to derive mortality estimates                   Indirect     Indirect   \n",
       "Estimated incidence (all forms) per 100 000 pop...        188.0        188.0   \n",
       "Estimated incidence (all forms) per 100 000 pop...        169.0        166.0   \n",
       "Estimated incidence (all forms) per 100 000 pop...        208.0        209.0   \n",
       "Estimated number of incident cases (all forms)          31000.0      33000.0   \n",
       "Estimated number of incident cases (all forms),...      28000.0      29000.0   \n",
       "Estimated number of incident cases (all forms),...      34000.0      37000.0   \n",
       "Method to derive incidence estimates                          0            0   \n",
       "Estimated HIV in incident TB (percent)                     0.11         0.12   \n",
       "Estimated HIV in incident TB (percent), low bound           0.1          0.1   \n",
       "Estimated HIV in incident TB (percent), high bound         0.13         0.15   \n",
       "Estimated incidence of TB cases who are HIV-pos...         0.21         0.23   \n",
       "Estimated incidence of TB cases who are HIV-pos...         0.18         0.21   \n",
       "Estimated incidence of TB cases who are HIV-pos...         0.24         0.27   \n",
       "Estimated incidence of TB cases who are HIV-pos...         35.0         41.0   \n",
       "Estimated incidence of TB cases who are HIV-pos...         30.0         37.0   \n",
       "Estimated incidence of TB cases who are HIV-pos...         39.0         47.0   \n",
       "Method to derive TBHIV estimates                            0.0          0.0   \n",
       "Case detection rate (all forms), percent                    0.0          0.0   \n",
       "Case detection rate (all forms), percent, low b...          0.0          0.0   \n",
       "Case detection rate (all forms), percent, high ...          0.0          0.0   \n",
       "Estimated incidence of TB cases who are HIV-pos...         39.0         47.0   \n",
       "\n",
       "                                                           6            7     \\\n",
       "Country or territory name                           Afghanistan  Afghanistan   \n",
       "ISO 2-character country/territory code                       AF           AF   \n",
       "ISO 3-character country/territory code                      AFG          AFG   \n",
       "ISO numeric country/territory code                            4            4   \n",
       "Region                                                      EMR          EMR   \n",
       "Year                                                       1996         1997   \n",
       "Estimated total population number                      18415307     19021226   \n",
       "Estimated prevalence of TB (all forms) per 100 ...        438.0        448.0   \n",
       "Estimated prevalence of TB (all forms) per 100 ...        202.0        203.0   \n",
       "Estimated prevalence of TB (all forms) per 100 ...        764.0        788.0   \n",
       "Estimated prevalence of TB (all forms)                  81000.0      85000.0   \n",
       "Estimated prevalence of TB (all forms), low bound       37000.0      39000.0   \n",
       "Estimated prevalence of TB (all forms), high bound     140000.0     150000.0   \n",
       "Method to derive prevalence estimates                 predicted    predicted   \n",
       "Estimated mortality of TB cases (all forms, exc...         71.0         72.0   \n",
       "Estimated mortality of TB cases (all forms, exc...         48.0         51.0   \n",
       "Estimated mortality of TB cases (all forms, exc...         85.0         85.0   \n",
       "Estimated number of deaths from TB (all forms, ...      13000.0      14000.0   \n",
       "Estimated number of deaths from TB (all forms, ...       8900.0       9700.0   \n",
       "Estimated number of deaths from TB (all forms, ...      16000.0      16000.0   \n",
       "Estimated mortality of TB cases who are HIV-pos...         0.17         0.19   \n",
       "Estimated mortality of TB cases who are HIV-pos...         26.0         31.0   \n",
       "Estimated mortality of TB cases who are HIV-pos...         0.21         0.23   \n",
       "Estimated number of deaths from TB in people wh...         32.0         37.0   \n",
       "Estimated number of deaths from TB in people wh...           AF           AF   \n",
       "Estimated number of deaths from TB in people wh...         39.0         44.0   \n",
       "Method to derive mortality estimates                   Indirect     Indirect   \n",
       "Estimated incidence (all forms) per 100 000 pop...        188.0        189.0   \n",
       "Estimated incidence (all forms) per 100 000 pop...        169.0        172.0   \n",
       "Estimated incidence (all forms) per 100 000 pop...        206.0        205.0   \n",
       "Estimated number of incident cases (all forms)          35000.0      36000.0   \n",
       "Estimated number of incident cases (all forms),...      31000.0      33000.0   \n",
       "Estimated number of incident cases (all forms),...      38000.0      39000.0   \n",
       "Method to derive incidence estimates                          0            0   \n",
       "Estimated HIV in incident TB (percent)                     0.14         0.15   \n",
       "Estimated HIV in incident TB (percent), low bound          0.12         0.13   \n",
       "Estimated HIV in incident TB (percent), high bound         0.16         0.17   \n",
       "Estimated incidence of TB cases who are HIV-pos...         0.25         0.28   \n",
       "Estimated incidence of TB cases who are HIV-pos...         0.23         0.26   \n",
       "Estimated incidence of TB cases who are HIV-pos...         0.28          0.3   \n",
       "Estimated incidence of TB cases who are HIV-pos...         47.0         53.0   \n",
       "Estimated incidence of TB cases who are HIV-pos...         42.0         49.0   \n",
       "Estimated incidence of TB cases who are HIV-pos...         52.0         58.0   \n",
       "Method to derive TBHIV estimates                            0.0          0.0   \n",
       "Case detection rate (all forms), percent                    0.0          3.6   \n",
       "Case detection rate (all forms), percent, low b...          0.0          3.3   \n",
       "Case detection rate (all forms), percent, high ...          0.0          4.0   \n",
       "Estimated incidence of TB cases who are HIV-pos...         52.0         58.0   \n",
       "\n",
       "                                                           8            9     \\\n",
       "Country or territory name                           Afghanistan  Afghanistan   \n",
       "ISO 2-character country/territory code                       AF           AF   \n",
       "ISO 3-character country/territory code                      AFG          AFG   \n",
       "ISO numeric country/territory code                            4            4   \n",
       "Region                                                      EMR          EMR   \n",
       "Year                                                       1998         1999   \n",
       "Estimated total population number                      19496836     19987071   \n",
       "Estimated prevalence of TB (all forms) per 100 ...        454.0        446.0   \n",
       "Estimated prevalence of TB (all forms) per 100 ...        204.0        203.0   \n",
       "Estimated prevalence of TB (all forms) per 100 ...        800.0        782.0   \n",
       "Estimated prevalence of TB (all forms)                  88000.0      89000.0   \n",
       "Estimated prevalence of TB (all forms), low bound       40000.0      41000.0   \n",
       "Estimated prevalence of TB (all forms), high bound     160000.0     160000.0   \n",
       "Method to derive prevalence estimates                 predicted    predicted   \n",
       "Estimated mortality of TB cases (all forms, exc...         72.0         71.0   \n",
       "Estimated mortality of TB cases (all forms, exc...         51.0         50.0   \n",
       "Estimated mortality of TB cases (all forms, exc...         85.0         84.0   \n",
       "Estimated number of deaths from TB (all forms, ...      14000.0      14000.0   \n",
       "Estimated number of deaths from TB (all forms, ...      10000.0      10000.0   \n",
       "Estimated number of deaths from TB (all forms, ...      17000.0      17000.0   \n",
       "Estimated mortality of TB cases who are HIV-pos...         0.21         0.22   \n",
       "Estimated mortality of TB cases who are HIV-pos...         35.0         37.0   \n",
       "Estimated mortality of TB cases who are HIV-pos...         0.24         0.26   \n",
       "Estimated number of deaths from TB in people wh...         41.0         44.0   \n",
       "Estimated number of deaths from TB in people wh...           AF           AF   \n",
       "Estimated number of deaths from TB in people wh...         48.0         51.0   \n",
       "Method to derive mortality estimates                   Indirect     Indirect   \n",
       "Estimated incidence (all forms) per 100 000 pop...        189.0        190.0   \n",
       "Estimated incidence (all forms) per 100 000 pop...        174.0        175.0   \n",
       "Estimated incidence (all forms) per 100 000 pop...        202.0        206.0   \n",
       "Estimated number of incident cases (all forms)          37000.0      38000.0   \n",
       "Estimated number of incident cases (all forms),...      34000.0      35000.0   \n",
       "Estimated number of incident cases (all forms),...      39000.0      41000.0   \n",
       "Method to derive incidence estimates                          0            0   \n",
       "Estimated HIV in incident TB (percent)                     0.16         0.17   \n",
       "Estimated HIV in incident TB (percent), low bound          0.14         0.15   \n",
       "Estimated HIV in incident TB (percent), high bound         0.18         0.19   \n",
       "Estimated incidence of TB cases who are HIV-pos...          0.3         0.32   \n",
       "Estimated incidence of TB cases who are HIV-pos...         0.27         0.29   \n",
       "Estimated incidence of TB cases who are HIV-pos...         0.32         0.35   \n",
       "Estimated incidence of TB cases who are HIV-pos...         59.0         64.0   \n",
       "Estimated incidence of TB cases who are HIV-pos...         54.0         59.0   \n",
       "Estimated incidence of TB cases who are HIV-pos...         63.0         70.0   \n",
       "Method to derive TBHIV estimates                            0.0          0.0   \n",
       "Case detection rate (all forms), percent                    8.3          8.7   \n",
       "Case detection rate (all forms), percent, low b...          7.8          8.1   \n",
       "Case detection rate (all forms), percent, high ...          9.1          9.5   \n",
       "Estimated incidence of TB cases who are HIV-pos...         63.0         70.0   \n",
       "\n",
       "                                                    ...       5110       5111  \\\n",
       "Country or territory name                           ...   Zimbabwe   Zimbabwe   \n",
       "ISO 2-character country/territory code              ...         ZW         ZW   \n",
       "ISO 3-character country/territory code              ...        ZWE        ZWE   \n",
       "ISO numeric country/territory code                  ...        716        716   \n",
       "Region                                              ...        AFR        AFR   \n",
       "Year                                                ...       2004       2005   \n",
       "Estimated total population number                   ...   12693047   12710589   \n",
       "Estimated prevalence of TB (all forms) per 100 ...  ...      478.0      495.0   \n",
       "Estimated prevalence of TB (all forms) per 100 ...  ...      264.0      279.0   \n",
       "Estimated prevalence of TB (all forms) per 100 ...  ...      755.0      771.0   \n",
       "Estimated prevalence of TB (all forms)              ...    61000.0    63000.0   \n",
       "Estimated prevalence of TB (all forms), low bound   ...    34000.0    35000.0   \n",
       "Estimated prevalence of TB (all forms), high bound  ...    96000.0    98000.0   \n",
       "Method to derive prevalence estimates               ...  predicted  predicted   \n",
       "Estimated mortality of TB cases (all forms, exc...  ...       35.0       39.0   \n",
       "Estimated mortality of TB cases (all forms, exc...  ...       22.0       24.0   \n",
       "Estimated mortality of TB cases (all forms, exc...  ...       42.0       47.0   \n",
       "Estimated number of deaths from TB (all forms, ...  ...     4400.0     4900.0   \n",
       "Estimated number of deaths from TB (all forms, ...  ...     2800.0     3100.0   \n",
       "Estimated number of deaths from TB (all forms, ...  ...     5300.0     5900.0   \n",
       "Estimated mortality of TB cases who are HIV-pos...  ...      279.0      275.0   \n",
       "Estimated mortality of TB cases who are HIV-pos...  ...    28000.0    28000.0   \n",
       "Estimated mortality of TB cases who are HIV-pos...  ...      343.0      336.0   \n",
       "Estimated number of deaths from TB in people wh...  ...    35000.0    35000.0   \n",
       "Estimated number of deaths from TB in people wh...  ...         ZW         ZW   \n",
       "Estimated number of deaths from TB in people wh...  ...    43000.0    43000.0   \n",
       "Method to derive mortality estimates                ...   Indirect   Indirect   \n",
       "Estimated incidence (all forms) per 100 000 pop...  ...      809.0      801.0   \n",
       "Estimated incidence (all forms) per 100 000 pop...  ...      745.0      735.0   \n",
       "Estimated incidence (all forms) per 100 000 pop...  ...      874.0      867.0   \n",
       "Estimated number of incident cases (all forms)      ...   100000.0   100000.0   \n",
       "Estimated number of incident cases (all forms),...  ...    95000.0    93000.0   \n",
       "Estimated number of incident cases (all forms),...  ...   110000.0   110000.0   \n",
       "Method to derive incidence estimates                ...          0          0   \n",
       "Estimated HIV in incident TB (percent)              ...       81.0       79.0   \n",
       "Estimated HIV in incident TB (percent), low bound   ...       70.0       68.0   \n",
       "Estimated HIV in incident TB (percent), high bound  ...       90.0       89.0   \n",
       "Estimated incidence of TB cases who are HIV-pos...  ...      655.0      635.0   \n",
       "Estimated incidence of TB cases who are HIV-pos...  ...      600.0      576.0   \n",
       "Estimated incidence of TB cases who are HIV-pos...  ...      731.0      709.0   \n",
       "Estimated incidence of TB cases who are HIV-pos...  ...    83000.0    81000.0   \n",
       "Estimated incidence of TB cases who are HIV-pos...  ...    76000.0    73000.0   \n",
       "Estimated incidence of TB cases who are HIV-pos...  ...    93000.0    90000.0   \n",
       "Method to derive TBHIV estimates                    ...        0.0        0.0   \n",
       "Case detection rate (all forms), percent            ...       55.0       50.0   \n",
       "Case detection rate (all forms), percent, low b...  ...       51.0       46.0   \n",
       "Case detection rate (all forms), percent, high ...  ...       59.0       54.0   \n",
       "Estimated incidence of TB cases who are HIV-pos...  ...    93000.0    90000.0   \n",
       "\n",
       "                                                         5112       5113  \\\n",
       "Country or territory name                            Zimbabwe   Zimbabwe   \n",
       "ISO 2-character country/territory code                     ZW         ZW   \n",
       "ISO 3-character country/territory code                    ZWE        ZWE   \n",
       "ISO numeric country/territory code                        716        716   \n",
       "Region                                                    AFR        AFR   \n",
       "Year                                                     2006       2007   \n",
       "Estimated total population number                    12724308   12740160   \n",
       "Estimated prevalence of TB (all forms) per 100 ...      500.0      497.0   \n",
       "Estimated prevalence of TB (all forms) per 100 ...      284.0      286.0   \n",
       "Estimated prevalence of TB (all forms) per 100 ...      775.0      765.0   \n",
       "Estimated prevalence of TB (all forms)                64000.0    63000.0   \n",
       "Estimated prevalence of TB (all forms), low bound     36000.0    36000.0   \n",
       "Estimated prevalence of TB (all forms), high bound    99000.0    97000.0   \n",
       "Method to derive prevalence estimates               predicted  predicted   \n",
       "Estimated mortality of TB cases (all forms, exc...       41.0       43.0   \n",
       "Estimated mortality of TB cases (all forms, exc...       26.0       28.0   \n",
       "Estimated mortality of TB cases (all forms, exc...       49.0       53.0   \n",
       "Estimated number of deaths from TB (all forms, ...     5200.0     5400.0   \n",
       "Estimated number of deaths from TB (all forms, ...     3300.0     3500.0   \n",
       "Estimated number of deaths from TB (all forms, ...     6300.0     6700.0   \n",
       "Estimated mortality of TB cases who are HIV-pos...      262.0      244.0   \n",
       "Estimated mortality of TB cases who are HIV-pos...    27000.0    26000.0   \n",
       "Estimated mortality of TB cases who are HIV-pos...      314.0      291.0   \n",
       "Estimated number of deaths from TB in people wh...    33000.0    31000.0   \n",
       "Estimated number of deaths from TB in people wh...         ZW         ZW   \n",
       "Estimated number of deaths from TB in people wh...    40000.0    37000.0   \n",
       "Method to derive mortality estimates                 Indirect   Indirect   \n",
       "Estimated incidence (all forms) per 100 000 pop...      780.0      749.0   \n",
       "Estimated incidence (all forms) per 100 000 pop...      720.0      689.0   \n",
       "Estimated incidence (all forms) per 100 000 pop...      835.0      805.0   \n",
       "Estimated number of incident cases (all forms)        99000.0    95000.0   \n",
       "Estimated number of incident cases (all forms),...    92000.0    88000.0   \n",
       "Estimated number of incident cases (all forms),...   110000.0   100000.0   \n",
       "Method to derive incidence estimates                        0          0   \n",
       "Estimated HIV in incident TB (percent)                   78.0       76.0   \n",
       "Estimated HIV in incident TB (percent), low bound        68.0       67.0   \n",
       "Estimated HIV in incident TB (percent), high bound       86.0       85.0   \n",
       "Estimated incidence of TB cases who are HIV-pos...      605.0      571.0   \n",
       "Estimated incidence of TB cases who are HIV-pos...      549.0      522.0   \n",
       "Estimated incidence of TB cases who are HIV-pos...      668.0      627.0   \n",
       "Estimated incidence of TB cases who are HIV-pos...    77000.0    73000.0   \n",
       "Estimated incidence of TB cases who are HIV-pos...    70000.0    67000.0   \n",
       "Estimated incidence of TB cases who are HIV-pos...    85000.0    80000.0   \n",
       "Method to derive TBHIV estimates                          0.0        0.0   \n",
       "Case detection rate (all forms), percent                 45.0       42.0   \n",
       "Case detection rate (all forms), percent, low b...       42.0       39.0   \n",
       "Case detection rate (all forms), percent, high ...       48.0       46.0   \n",
       "Estimated incidence of TB cases who are HIV-pos...    85000.0    80000.0   \n",
       "\n",
       "                                                         5114       5115  \\\n",
       "Country or territory name                            Zimbabwe   Zimbabwe   \n",
       "ISO 2-character country/territory code                     ZW         ZW   \n",
       "ISO 3-character country/territory code                    ZWE        ZWE   \n",
       "ISO numeric country/territory code                        716        716   \n",
       "Region                                                    AFR        AFR   \n",
       "Year                                                     2008       2009   \n",
       "Estimated total population number                    12784041   12888918   \n",
       "Estimated prevalence of TB (all forms) per 100 ...      473.0      449.0   \n",
       "Estimated prevalence of TB (all forms) per 100 ...      272.0      258.0   \n",
       "Estimated prevalence of TB (all forms) per 100 ...      728.0      692.0   \n",
       "Estimated prevalence of TB (all forms)                60000.0    58000.0   \n",
       "Estimated prevalence of TB (all forms), low bound     35000.0    33000.0   \n",
       "Estimated prevalence of TB (all forms), high bound    93000.0    89000.0   \n",
       "Method to derive prevalence estimates               predicted  predicted   \n",
       "Estimated mortality of TB cases (all forms, exc...       41.0       39.0   \n",
       "Estimated mortality of TB cases (all forms, exc...       28.0       27.0   \n",
       "Estimated mortality of TB cases (all forms, exc...       52.0       52.0   \n",
       "Estimated number of deaths from TB (all forms, ...     5200.0     5000.0   \n",
       "Estimated number of deaths from TB (all forms, ...     3500.0     3500.0   \n",
       "Estimated number of deaths from TB (all forms, ...     6700.0     6700.0   \n",
       "Estimated mortality of TB cases who are HIV-pos...      227.0      206.0   \n",
       "Estimated mortality of TB cases who are HIV-pos...    24000.0    22000.0   \n",
       "Estimated mortality of TB cases who are HIV-pos...      271.0      246.0   \n",
       "Estimated number of deaths from TB in people wh...    29000.0    27000.0   \n",
       "Estimated number of deaths from TB in people wh...         ZW         ZW   \n",
       "Estimated number of deaths from TB in people wh...    35000.0    32000.0   \n",
       "Method to derive mortality estimates                 Indirect   Indirect   \n",
       "Estimated incidence (all forms) per 100 000 pop...      712.0      673.0   \n",
       "Estimated incidence (all forms) per 100 000 pop...      657.0      620.0   \n",
       "Estimated incidence (all forms) per 100 000 pop...      773.0      740.0   \n",
       "Estimated number of incident cases (all forms)        91000.0    87000.0   \n",
       "Estimated number of incident cases (all forms),...    84000.0    80000.0   \n",
       "Estimated number of incident cases (all forms),...    99000.0    95000.0   \n",
       "Method to derive incidence estimates                        0          0   \n",
       "Estimated HIV in incident TB (percent)                   76.0       76.0   \n",
       "Estimated HIV in incident TB (percent), low bound        67.0       65.0   \n",
       "Estimated HIV in incident TB (percent), high bound       85.0       85.0   \n",
       "Estimated incidence of TB cases who are HIV-pos...      543.0      511.0   \n",
       "Estimated incidence of TB cases who are HIV-pos...      497.0      460.0   \n",
       "Estimated incidence of TB cases who are HIV-pos...      594.0      566.0   \n",
       "Estimated incidence of TB cases who are HIV-pos...    69000.0    66000.0   \n",
       "Estimated incidence of TB cases who are HIV-pos...    64000.0    59000.0   \n",
       "Estimated incidence of TB cases who are HIV-pos...    76000.0    73000.0   \n",
       "Method to derive TBHIV estimates                          0.0        0.0   \n",
       "Case detection rate (all forms), percent                 40.0       50.0   \n",
       "Case detection rate (all forms), percent, low b...       37.0       45.0   \n",
       "Case detection rate (all forms), percent, high ...       44.0       54.0   \n",
       "Estimated incidence of TB cases who are HIV-pos...    76000.0    73000.0   \n",
       "\n",
       "                                                         5116       5117  \\\n",
       "Country or territory name                            Zimbabwe   Zimbabwe   \n",
       "ISO 2-character country/territory code                     ZW         ZW   \n",
       "ISO 3-character country/territory code                    ZWE        ZWE   \n",
       "ISO numeric country/territory code                        716        716   \n",
       "Region                                                    AFR        AFR   \n",
       "Year                                                     2010       2011   \n",
       "Estimated total population number                    13076978   13358738   \n",
       "Estimated prevalence of TB (all forms) per 100 ...      415.0      417.0   \n",
       "Estimated prevalence of TB (all forms) per 100 ...      239.0      241.0   \n",
       "Estimated prevalence of TB (all forms) per 100 ...      639.0      639.0   \n",
       "Estimated prevalence of TB (all forms)                54000.0    56000.0   \n",
       "Estimated prevalence of TB (all forms), low bound     31000.0    32000.0   \n",
       "Estimated prevalence of TB (all forms), high bound    84000.0    85000.0   \n",
       "Method to derive prevalence estimates               predicted  predicted   \n",
       "Estimated mortality of TB cases (all forms, exc...       36.0       38.0   \n",
       "Estimated mortality of TB cases (all forms, exc...       25.0       26.0   \n",
       "Estimated mortality of TB cases (all forms, exc...       48.0       51.0   \n",
       "Estimated number of deaths from TB (all forms, ...     4700.0     5100.0   \n",
       "Estimated number of deaths from TB (all forms, ...     3300.0     3500.0   \n",
       "Estimated number of deaths from TB (all forms, ...     6300.0     6800.0   \n",
       "Estimated mortality of TB cases who are HIV-pos...      196.0      176.0   \n",
       "Estimated mortality of TB cases who are HIV-pos...    21000.0    19000.0   \n",
       "Estimated mortality of TB cases who are HIV-pos...      236.0      211.0   \n",
       "Estimated number of deaths from TB in people wh...    26000.0    24000.0   \n",
       "Estimated number of deaths from TB in people wh...         ZW         ZW   \n",
       "Estimated number of deaths from TB in people wh...    31000.0    28000.0   \n",
       "Method to derive mortality estimates                 Indirect   Indirect   \n",
       "Estimated incidence (all forms) per 100 000 pop...      635.0      602.0   \n",
       "Estimated incidence (all forms) per 100 000 pop...      576.0      543.0   \n",
       "Estimated incidence (all forms) per 100 000 pop...      708.0      674.0   \n",
       "Estimated number of incident cases (all forms)        83000.0    80000.0   \n",
       "Estimated number of incident cases (all forms),...    75000.0    72000.0   \n",
       "Estimated number of incident cases (all forms),...    93000.0    90000.0   \n",
       "Method to derive incidence estimates                        0          0   \n",
       "Estimated HIV in incident TB (percent)                   77.0       75.0   \n",
       "Estimated HIV in incident TB (percent), low bound        64.0       63.0   \n",
       "Estimated HIV in incident TB (percent), high bound       88.0       85.0   \n",
       "Estimated incidence of TB cases who are HIV-pos...      487.0      448.0   \n",
       "Estimated incidence of TB cases who are HIV-pos...      433.0      403.0   \n",
       "Estimated incidence of TB cases who are HIV-pos...      545.0      502.0   \n",
       "Estimated incidence of TB cases who are HIV-pos...    64000.0    60000.0   \n",
       "Estimated incidence of TB cases who are HIV-pos...    57000.0    54000.0   \n",
       "Estimated incidence of TB cases who are HIV-pos...    71000.0    67000.0   \n",
       "Method to derive TBHIV estimates                          0.0        0.0   \n",
       "Case detection rate (all forms), percent                 53.0       48.0   \n",
       "Case detection rate (all forms), percent, low b...       48.0       43.0   \n",
       "Case detection rate (all forms), percent, high ...       59.0       53.0   \n",
       "Estimated incidence of TB cases who are HIV-pos...    71000.0    67000.0   \n",
       "\n",
       "                                                         5118       5119  \n",
       "Country or territory name                            Zimbabwe   Zimbabwe  \n",
       "ISO 2-character country/territory code                     ZW         ZW  \n",
       "ISO 3-character country/territory code                    ZWE        ZWE  \n",
       "ISO numeric country/territory code                        716        716  \n",
       "Region                                                    AFR        AFR  \n",
       "Year                                                     2012       2013  \n",
       "Estimated total population number                    13724317   14149648  \n",
       "Estimated prevalence of TB (all forms) per 100 ...      425.0      409.0  \n",
       "Estimated prevalence of TB (all forms) per 100 ...      245.0      235.0  \n",
       "Estimated prevalence of TB (all forms) per 100 ...      654.0      630.0  \n",
       "Estimated prevalence of TB (all forms)                58000.0    58000.0  \n",
       "Estimated prevalence of TB (all forms), low bound     34000.0    33000.0  \n",
       "Estimated prevalence of TB (all forms), high bound    90000.0    89000.0  \n",
       "Method to derive prevalence estimates               predicted  predicted  \n",
       "Estimated mortality of TB cases (all forms, exc...       41.0       40.0  \n",
       "Estimated mortality of TB cases (all forms, exc...       27.0       25.0  \n",
       "Estimated mortality of TB cases (all forms, exc...       55.0       52.0  \n",
       "Estimated number of deaths from TB (all forms, ...     5600.0     5700.0  \n",
       "Estimated number of deaths from TB (all forms, ...     3700.0     3600.0  \n",
       "Estimated number of deaths from TB (all forms, ...     7500.0     7400.0  \n",
       "Estimated mortality of TB cases who are HIV-pos...      160.0      153.0  \n",
       "Estimated mortality of TB cases who are HIV-pos...    18000.0    17000.0  \n",
       "Estimated mortality of TB cases who are HIV-pos...      194.0      189.0  \n",
       "Estimated number of deaths from TB in people wh...    22000.0    22000.0  \n",
       "Estimated number of deaths from TB in people wh...         ZW         ZW  \n",
       "Estimated number of deaths from TB in people wh...    27000.0    27000.0  \n",
       "Method to derive mortality estimates                 Indirect   Indirect  \n",
       "Estimated incidence (all forms) per 100 000 pop...      575.0      552.0  \n",
       "Estimated incidence (all forms) per 100 000 pop...      504.0      474.0  \n",
       "Estimated incidence (all forms) per 100 000 pop...      656.0      643.0  \n",
       "Estimated number of incident cases (all forms)        79000.0    78000.0  \n",
       "Estimated number of incident cases (all forms),...    69000.0    67000.0  \n",
       "Estimated number of incident cases (all forms),...    90000.0    91000.0  \n",
       "Method to derive incidence estimates                        0          0  \n",
       "Estimated HIV in incident TB (percent)                   72.0       72.0  \n",
       "Estimated HIV in incident TB (percent), low bound        58.0       55.0  \n",
       "Estimated HIV in incident TB (percent), high bound       84.0       86.0  \n",
       "Estimated incidence of TB cases who are HIV-pos...      411.0      395.0  \n",
       "Estimated incidence of TB cases who are HIV-pos...      362.0      341.0  \n",
       "Estimated incidence of TB cases who are HIV-pos...      471.0      464.0  \n",
       "Estimated incidence of TB cases who are HIV-pos...    56000.0    56000.0  \n",
       "Estimated incidence of TB cases who are HIV-pos...    50000.0    48000.0  \n",
       "Estimated incidence of TB cases who are HIV-pos...    65000.0    66000.0  \n",
       "Method to derive TBHIV estimates                          0.0        0.0  \n",
       "Case detection rate (all forms), percent                 45.0       42.0  \n",
       "Case detection rate (all forms), percent, low b...       40.0       36.0  \n",
       "Case detection rate (all forms), percent, high ...       52.0       49.0  \n",
       "Estimated incidence of TB cases who are HIV-pos...    65000.0    66000.0  \n",
       "\n",
       "[48 rows x 5120 columns]"
      ]
     },
     "execution_count": 141,
     "metadata": {},
     "output_type": "execute_result"
    }
   ],
   "source": [
    "tb_analysis.T"
   ]
  },
  {
   "cell_type": "markdown",
   "metadata": {},
   "source": [
    "Statistical Information from DataFrame using the Describe function"
   ]
  },
  {
   "cell_type": "code",
   "execution_count": 142,
   "metadata": {},
   "outputs": [
    {
     "data": {
      "text/html": [
       "<style type=\"text/css\">\n",
       "#T_d4503_row0_col1, #T_d4503_row1_col1, #T_d4503_row3_col1, #T_d4503_row4_col1, #T_d4503_row5_col1, #T_d4503_row9_col1, #T_d4503_row10_col1, #T_d4503_row11_col1, #T_d4503_row12_col1, #T_d4503_row13_col1, #T_d4503_row14_col1, #T_d4503_row15_col1, #T_d4503_row16_col1, #T_d4503_row17_col1, #T_d4503_row18_col1, #T_d4503_row19_col1, #T_d4503_row20_col1, #T_d4503_row21_col1, #T_d4503_row22_col1, #T_d4503_row26_col1, #T_d4503_row27_col1, #T_d4503_row28_col1, #T_d4503_row29_col1, #T_d4503_row30_col1, #T_d4503_row31_col1, #T_d4503_row32_col1, #T_d4503_row33_col1, #T_d4503_row34_col1, #T_d4503_row36_col1, #T_d4503_row37_col1, #T_d4503_row38_col1, #T_d4503_row39_col1 {\n",
       "  width: 10em;\n",
       "  background: linear-gradient(90deg, #505ff2 0.0%, transparent 0.0%);\n",
       "}\n",
       "#T_d4503_row0_col2, #T_d4503_row1_col2, #T_d4503_row3_col2, #T_d4503_row4_col2, #T_d4503_row5_col2, #T_d4503_row6_col2, #T_d4503_row7_col2, #T_d4503_row8_col2, #T_d4503_row9_col2, #T_d4503_row10_col2, #T_d4503_row11_col2, #T_d4503_row12_col2, #T_d4503_row13_col2, #T_d4503_row14_col2, #T_d4503_row15_col2, #T_d4503_row16_col2, #T_d4503_row17_col2, #T_d4503_row18_col2, #T_d4503_row19_col2, #T_d4503_row20_col2, #T_d4503_row21_col2, #T_d4503_row22_col2, #T_d4503_row23_col2, #T_d4503_row24_col2, #T_d4503_row25_col2, #T_d4503_row26_col2, #T_d4503_row27_col2, #T_d4503_row28_col2, #T_d4503_row29_col2, #T_d4503_row30_col2, #T_d4503_row31_col2, #T_d4503_row32_col2, #T_d4503_row33_col2, #T_d4503_row34_col2, #T_d4503_row35_col2, #T_d4503_row36_col2, #T_d4503_row37_col2, #T_d4503_row38_col2, #T_d4503_row39_col2 {\n",
       "  background-color: #fff5f0;\n",
       "  color: #000000;\n",
       "}\n",
       "#T_d4503_row0_col5, #T_d4503_row1_col5, #T_d4503_row3_col5, #T_d4503_row4_col5, #T_d4503_row5_col5, #T_d4503_row6_col5, #T_d4503_row7_col5, #T_d4503_row8_col5, #T_d4503_row9_col5, #T_d4503_row10_col5, #T_d4503_row11_col5, #T_d4503_row12_col5, #T_d4503_row13_col5, #T_d4503_row14_col5, #T_d4503_row15_col5, #T_d4503_row16_col5, #T_d4503_row17_col5, #T_d4503_row18_col5, #T_d4503_row19_col5, #T_d4503_row20_col5, #T_d4503_row21_col5, #T_d4503_row22_col5, #T_d4503_row23_col5, #T_d4503_row24_col5, #T_d4503_row25_col5, #T_d4503_row26_col5, #T_d4503_row27_col5, #T_d4503_row28_col5, #T_d4503_row29_col5, #T_d4503_row30_col5, #T_d4503_row31_col5, #T_d4503_row32_col5, #T_d4503_row33_col5, #T_d4503_row34_col5, #T_d4503_row35_col5, #T_d4503_row36_col5, #T_d4503_row37_col5, #T_d4503_row38_col5, #T_d4503_row39_col5 {\n",
       "  background-color: #3b4cc0;\n",
       "  color: #f1f1f1;\n",
       "}\n",
       "#T_d4503_row2_col1 {\n",
       "  width: 10em;\n",
       "  background: linear-gradient(90deg, #505ff2 100.0%, transparent 100.0%);\n",
       "}\n",
       "#T_d4503_row2_col2 {\n",
       "  background-color: #67000d;\n",
       "  color: #f1f1f1;\n",
       "}\n",
       "#T_d4503_row2_col5 {\n",
       "  background-color: #b40426;\n",
       "  color: #f1f1f1;\n",
       "}\n",
       "#T_d4503_row6_col1, #T_d4503_row7_col1, #T_d4503_row25_col1 {\n",
       "  width: 10em;\n",
       "  background: linear-gradient(90deg, #505ff2 0.2%, transparent 0.2%);\n",
       "}\n",
       "#T_d4503_row8_col1 {\n",
       "  width: 10em;\n",
       "  background: linear-gradient(90deg, #505ff2 0.3%, transparent 0.3%);\n",
       "}\n",
       "#T_d4503_row23_col1, #T_d4503_row24_col1 {\n",
       "  width: 10em;\n",
       "  background: linear-gradient(90deg, #505ff2 0.1%, transparent 0.1%);\n",
       "}\n",
       "#T_d4503_row35_col1 {\n",
       "  width: 10em;\n",
       "}\n",
       "</style>\n",
       "<table id=\"T_d4503\">\n",
       "  <thead>\n",
       "    <tr>\n",
       "      <th class=\"blank level0\" >&nbsp;</th>\n",
       "      <th id=\"T_d4503_level0_col0\" class=\"col_heading level0 col0\" >count</th>\n",
       "      <th id=\"T_d4503_level0_col1\" class=\"col_heading level0 col1\" >mean</th>\n",
       "      <th id=\"T_d4503_level0_col2\" class=\"col_heading level0 col2\" >std</th>\n",
       "      <th id=\"T_d4503_level0_col3\" class=\"col_heading level0 col3\" >min</th>\n",
       "      <th id=\"T_d4503_level0_col4\" class=\"col_heading level0 col4\" >25%</th>\n",
       "      <th id=\"T_d4503_level0_col5\" class=\"col_heading level0 col5\" >50%</th>\n",
       "      <th id=\"T_d4503_level0_col6\" class=\"col_heading level0 col6\" >75%</th>\n",
       "      <th id=\"T_d4503_level0_col7\" class=\"col_heading level0 col7\" >max</th>\n",
       "    </tr>\n",
       "  </thead>\n",
       "  <tbody>\n",
       "    <tr>\n",
       "      <th id=\"T_d4503_level0_row0\" class=\"row_heading level0 row0\" >ISO numeric country/territory code</th>\n",
       "      <td id=\"T_d4503_row0_col0\" class=\"data row0 col0\" >5120.000000</td>\n",
       "      <td id=\"T_d4503_row0_col1\" class=\"data row0 col1\" >433.576563</td>\n",
       "      <td id=\"T_d4503_row0_col2\" class=\"data row0 col2\" >255.116018</td>\n",
       "      <td id=\"T_d4503_row0_col3\" class=\"data row0 col3\" >4.000000</td>\n",
       "      <td id=\"T_d4503_row0_col4\" class=\"data row0 col4\" >212.000000</td>\n",
       "      <td id=\"T_d4503_row0_col5\" class=\"data row0 col5\" >430.000000</td>\n",
       "      <td id=\"T_d4503_row0_col6\" class=\"data row0 col6\" >646.000000</td>\n",
       "      <td id=\"T_d4503_row0_col7\" class=\"data row0 col7\" >894.000000</td>\n",
       "    </tr>\n",
       "    <tr>\n",
       "      <th id=\"T_d4503_level0_row1\" class=\"row_heading level0 row1\" >Year</th>\n",
       "      <td id=\"T_d4503_row1_col0\" class=\"data row1 col0\" >5120.000000</td>\n",
       "      <td id=\"T_d4503_row1_col1\" class=\"data row1 col1\" >2001.549023</td>\n",
       "      <td id=\"T_d4503_row1_col2\" class=\"data row1 col2\" >6.933272</td>\n",
       "      <td id=\"T_d4503_row1_col3\" class=\"data row1 col3\" >1990.000000</td>\n",
       "      <td id=\"T_d4503_row1_col4\" class=\"data row1 col4\" >1996.000000</td>\n",
       "      <td id=\"T_d4503_row1_col5\" class=\"data row1 col5\" >2002.000000</td>\n",
       "      <td id=\"T_d4503_row1_col6\" class=\"data row1 col6\" >2008.000000</td>\n",
       "      <td id=\"T_d4503_row1_col7\" class=\"data row1 col7\" >2013.000000</td>\n",
       "    </tr>\n",
       "    <tr>\n",
       "      <th id=\"T_d4503_level0_row2\" class=\"row_heading level0 row2\" >Estimated total population number</th>\n",
       "      <td id=\"T_d4503_row2_col0\" class=\"data row2 col0\" >5120.000000</td>\n",
       "      <td id=\"T_d4503_row2_col1\" class=\"data row2 col1\" >29156711.614844</td>\n",
       "      <td id=\"T_d4503_row2_col2\" class=\"data row2 col2\" >118372539.240080</td>\n",
       "      <td id=\"T_d4503_row2_col3\" class=\"data row2 col3\" >1129.000000</td>\n",
       "      <td id=\"T_d4503_row2_col4\" class=\"data row2 col4\" >560119.000000</td>\n",
       "      <td id=\"T_d4503_row2_col5\" class=\"data row2 col5\" >5172117.500000</td>\n",
       "      <td id=\"T_d4503_row2_col6\" class=\"data row2 col6\" >17524043.750000</td>\n",
       "      <td id=\"T_d4503_row2_col7\" class=\"data row2 col7\" >1385566537.000000</td>\n",
       "    </tr>\n",
       "    <tr>\n",
       "      <th id=\"T_d4503_level0_row3\" class=\"row_heading level0 row3\" >Estimated prevalence of TB (all forms) per 100 000 population</th>\n",
       "      <td id=\"T_d4503_row3_col0\" class=\"data row3 col0\" >5120.000000</td>\n",
       "      <td id=\"T_d4503_row3_col1\" class=\"data row3 col1\" >194.386100</td>\n",
       "      <td id=\"T_d4503_row3_col2\" class=\"data row3 col2\" >259.016385</td>\n",
       "      <td id=\"T_d4503_row3_col3\" class=\"data row3 col3\" >0.000000</td>\n",
       "      <td id=\"T_d4503_row3_col4\" class=\"data row3 col4\" >23.000000</td>\n",
       "      <td id=\"T_d4503_row3_col5\" class=\"data row3 col5\" >85.000000</td>\n",
       "      <td id=\"T_d4503_row3_col6\" class=\"data row3 col6\" >272.000000</td>\n",
       "      <td id=\"T_d4503_row3_col7\" class=\"data row3 col7\" >1762.000000</td>\n",
       "    </tr>\n",
       "    <tr>\n",
       "      <th id=\"T_d4503_level0_row4\" class=\"row_heading level0 row4\" >Estimated prevalence of TB (all forms) per 100 000 population, low bound</th>\n",
       "      <td id=\"T_d4503_row4_col0\" class=\"data row4 col0\" >5120.000000</td>\n",
       "      <td id=\"T_d4503_row4_col1\" class=\"data row4 col1\" >101.417637</td>\n",
       "      <td id=\"T_d4503_row4_col2\" class=\"data row4 col2\" >145.114378</td>\n",
       "      <td id=\"T_d4503_row4_col3\" class=\"data row4 col3\" >0.000000</td>\n",
       "      <td id=\"T_d4503_row4_col4\" class=\"data row4 col4\" >10.000000</td>\n",
       "      <td id=\"T_d4503_row4_col5\" class=\"data row4 col5\" >39.000000</td>\n",
       "      <td id=\"T_d4503_row4_col6\" class=\"data row4 col6\" >139.000000</td>\n",
       "      <td id=\"T_d4503_row4_col7\" class=\"data row4 col7\" >1316.000000</td>\n",
       "    </tr>\n",
       "    <tr>\n",
       "      <th id=\"T_d4503_level0_row5\" class=\"row_heading level0 row5\" >Estimated prevalence of TB (all forms) per 100 000 population, high bound</th>\n",
       "      <td id=\"T_d4503_row5_col0\" class=\"data row5 col0\" >5120.000000</td>\n",
       "      <td id=\"T_d4503_row5_col1\" class=\"data row5 col1\" >319.752436</td>\n",
       "      <td id=\"T_d4503_row5_col2\" class=\"data row5 col2\" >420.978841</td>\n",
       "      <td id=\"T_d4503_row5_col3\" class=\"data row5 col3\" >0.000000</td>\n",
       "      <td id=\"T_d4503_row5_col4\" class=\"data row5 col4\" >43.000000</td>\n",
       "      <td id=\"T_d4503_row5_col5\" class=\"data row5 col5\" >145.500000</td>\n",
       "      <td id=\"T_d4503_row5_col6\" class=\"data row5 col6\" >443.000000</td>\n",
       "      <td id=\"T_d4503_row5_col7\" class=\"data row5 col7\" >3038.000000</td>\n",
       "    </tr>\n",
       "    <tr>\n",
       "      <th id=\"T_d4503_level0_row6\" class=\"row_heading level0 row6\" >Estimated prevalence of TB (all forms)</th>\n",
       "      <td id=\"T_d4503_row6_col0\" class=\"data row6 col0\" >5120.000000</td>\n",
       "      <td id=\"T_d4503_row6_col1\" class=\"data row6 col1\" >66543.315580</td>\n",
       "      <td id=\"T_d4503_row6_col2\" class=\"data row6 col2\" >324948.753133</td>\n",
       "      <td id=\"T_d4503_row6_col3\" class=\"data row6 col3\" >0.000000</td>\n",
       "      <td id=\"T_d4503_row6_col4\" class=\"data row6 col4\" >380.000000</td>\n",
       "      <td id=\"T_d4503_row6_col5\" class=\"data row6 col5\" >4300.000000</td>\n",
       "      <td id=\"T_d4503_row6_col6\" class=\"data row6 col6\" >27000.000000</td>\n",
       "      <td id=\"T_d4503_row6_col7\" class=\"data row6 col7\" >4600000.000000</td>\n",
       "    </tr>\n",
       "    <tr>\n",
       "      <th id=\"T_d4503_level0_row7\" class=\"row_heading level0 row7\" >Estimated prevalence of TB (all forms), low bound</th>\n",
       "      <td id=\"T_d4503_row7_col0\" class=\"data row7 col0\" >5120.000000</td>\n",
       "      <td id=\"T_d4503_row7_col1\" class=\"data row7 col1\" >45978.839787</td>\n",
       "      <td id=\"T_d4503_row7_col2\" class=\"data row7 col2\" >270676.783787</td>\n",
       "      <td id=\"T_d4503_row7_col3\" class=\"data row7 col3\" >0.000000</td>\n",
       "      <td id=\"T_d4503_row7_col4\" class=\"data row7 col4\" >170.000000</td>\n",
       "      <td id=\"T_d4503_row7_col5\" class=\"data row7 col5\" >2000.000000</td>\n",
       "      <td id=\"T_d4503_row7_col6\" class=\"data row7 col6\" >14000.000000</td>\n",
       "      <td id=\"T_d4503_row7_col7\" class=\"data row7 col7\" >4000000.000000</td>\n",
       "    </tr>\n",
       "    <tr>\n",
       "      <th id=\"T_d4503_level0_row8\" class=\"row_heading level0 row8\" >Estimated prevalence of TB (all forms), high bound</th>\n",
       "      <td id=\"T_d4503_row8_col0\" class=\"data row8 col0\" >5120.000000</td>\n",
       "      <td id=\"T_d4503_row8_col1\" class=\"data row8 col1\" >92833.856846</td>\n",
       "      <td id=\"T_d4503_row8_col2\" class=\"data row8 col2\" >393135.944715</td>\n",
       "      <td id=\"T_d4503_row8_col3\" class=\"data row8 col3\" >0.000000</td>\n",
       "      <td id=\"T_d4503_row8_col4\" class=\"data row8 col4\" >707.500000</td>\n",
       "      <td id=\"T_d4503_row8_col5\" class=\"data row8 col5\" >7500.000000</td>\n",
       "      <td id=\"T_d4503_row8_col6\" class=\"data row8 col6\" >45000.000000</td>\n",
       "      <td id=\"T_d4503_row8_col7\" class=\"data row8 col7\" >5200000.000000</td>\n",
       "    </tr>\n",
       "    <tr>\n",
       "      <th id=\"T_d4503_level0_row9\" class=\"row_heading level0 row9\" >Estimated mortality of TB cases (all forms, excluding HIV) per 100 000 population</th>\n",
       "      <td id=\"T_d4503_row9_col0\" class=\"data row9 col0\" >5120.000000</td>\n",
       "      <td id=\"T_d4503_row9_col1\" class=\"data row9 col1\" >20.174426</td>\n",
       "      <td id=\"T_d4503_row9_col2\" class=\"data row9 col2\" >32.893800</td>\n",
       "      <td id=\"T_d4503_row9_col3\" class=\"data row9 col3\" >0.000000</td>\n",
       "      <td id=\"T_d4503_row9_col4\" class=\"data row9 col4\" >1.300000</td>\n",
       "      <td id=\"T_d4503_row9_col5\" class=\"data row9 col5\" >5.400000</td>\n",
       "      <td id=\"T_d4503_row9_col6\" class=\"data row9 col6\" >25.000000</td>\n",
       "      <td id=\"T_d4503_row9_col7\" class=\"data row9 col7\" >278.000000</td>\n",
       "    </tr>\n",
       "    <tr>\n",
       "      <th id=\"T_d4503_level0_row10\" class=\"row_heading level0 row10\" >Estimated mortality of TB cases (all forms, excluding HIV), per 100 000 population, low bound</th>\n",
       "      <td id=\"T_d4503_row10_col0\" class=\"data row10 col0\" >5120.000000</td>\n",
       "      <td id=\"T_d4503_row10_col1\" class=\"data row10 col1\" >13.379484</td>\n",
       "      <td id=\"T_d4503_row10_col2\" class=\"data row10 col2\" >22.322593</td>\n",
       "      <td id=\"T_d4503_row10_col3\" class=\"data row10 col3\" >0.000000</td>\n",
       "      <td id=\"T_d4503_row10_col4\" class=\"data row10 col4\" >0.917500</td>\n",
       "      <td id=\"T_d4503_row10_col5\" class=\"data row10 col5\" >3.700000</td>\n",
       "      <td id=\"T_d4503_row10_col6\" class=\"data row10 col6\" >16.250000</td>\n",
       "      <td id=\"T_d4503_row10_col7\" class=\"data row10 col7\" >202.000000</td>\n",
       "    </tr>\n",
       "    <tr>\n",
       "      <th id=\"T_d4503_level0_row11\" class=\"row_heading level0 row11\" >Estimated mortality of TB cases (all forms, excluding HIV), per 100 000 population, high bound</th>\n",
       "      <td id=\"T_d4503_row11_col0\" class=\"data row11 col0\" >5120.000000</td>\n",
       "      <td id=\"T_d4503_row11_col1\" class=\"data row11 col1\" >27.393916</td>\n",
       "      <td id=\"T_d4503_row11_col2\" class=\"data row11 col2\" >44.594122</td>\n",
       "      <td id=\"T_d4503_row11_col3\" class=\"data row11 col3\" >0.000000</td>\n",
       "      <td id=\"T_d4503_row11_col4\" class=\"data row11 col4\" >1.700000</td>\n",
       "      <td id=\"T_d4503_row11_col5\" class=\"data row11 col5\" >8.100000</td>\n",
       "      <td id=\"T_d4503_row11_col6\" class=\"data row11 col6\" >33.000000</td>\n",
       "      <td id=\"T_d4503_row11_col7\" class=\"data row11 col7\" >354.000000</td>\n",
       "    </tr>\n",
       "    <tr>\n",
       "      <th id=\"T_d4503_level0_row12\" class=\"row_heading level0 row12\" >Estimated number of deaths from TB (all forms, excluding HIV)</th>\n",
       "      <td id=\"T_d4503_row12_col0\" class=\"data row12 col0\" >5120.000000</td>\n",
       "      <td id=\"T_d4503_row12_col1\" class=\"data row12 col1\" >6863.985914</td>\n",
       "      <td id=\"T_d4503_row12_col2\" class=\"data row12 col2\" >30554.560700</td>\n",
       "      <td id=\"T_d4503_row12_col3\" class=\"data row12 col3\" >0.000000</td>\n",
       "      <td id=\"T_d4503_row12_col4\" class=\"data row12 col4\" >18.000000</td>\n",
       "      <td id=\"T_d4503_row12_col5\" class=\"data row12 col5\" >280.000000</td>\n",
       "      <td id=\"T_d4503_row12_col6\" class=\"data row12 col6\" >2200.000000</td>\n",
       "      <td id=\"T_d4503_row12_col7\" class=\"data row12 col7\" >420000.000000</td>\n",
       "    </tr>\n",
       "    <tr>\n",
       "      <th id=\"T_d4503_level0_row13\" class=\"row_heading level0 row13\" >Estimated number of deaths from TB (all forms, excluding HIV), low bound</th>\n",
       "      <td id=\"T_d4503_row13_col0\" class=\"data row13 col0\" >5120.000000</td>\n",
       "      <td id=\"T_d4503_row13_col1\" class=\"data row13 col1\" >4716.536096</td>\n",
       "      <td id=\"T_d4503_row13_col2\" class=\"data row13 col2\" >20718.668326</td>\n",
       "      <td id=\"T_d4503_row13_col3\" class=\"data row13 col3\" >0.000000</td>\n",
       "      <td id=\"T_d4503_row13_col4\" class=\"data row13 col4\" >12.000000</td>\n",
       "      <td id=\"T_d4503_row13_col5\" class=\"data row13 col5\" >180.000000</td>\n",
       "      <td id=\"T_d4503_row13_col6\" class=\"data row13 col6\" >1500.000000</td>\n",
       "      <td id=\"T_d4503_row13_col7\" class=\"data row13 col7\" >290000.000000</td>\n",
       "    </tr>\n",
       "    <tr>\n",
       "      <th id=\"T_d4503_level0_row14\" class=\"row_heading level0 row14\" >Estimated number of deaths from TB (all forms, excluding HIV), high bound</th>\n",
       "      <td id=\"T_d4503_row14_col0\" class=\"data row14 col0\" >5120.000000</td>\n",
       "      <td id=\"T_d4503_row14_col1\" class=\"data row14 col1\" >9101.159256</td>\n",
       "      <td id=\"T_d4503_row14_col2\" class=\"data row14 col2\" >41925.477850</td>\n",
       "      <td id=\"T_d4503_row14_col3\" class=\"data row14 col3\" >0.000000</td>\n",
       "      <td id=\"T_d4503_row14_col4\" class=\"data row14 col4\" >21.000000</td>\n",
       "      <td id=\"T_d4503_row14_col5\" class=\"data row14 col5\" >350.000000</td>\n",
       "      <td id=\"T_d4503_row14_col6\" class=\"data row14 col6\" >2800.000000</td>\n",
       "      <td id=\"T_d4503_row14_col7\" class=\"data row14 col7\" >590000.000000</td>\n",
       "    </tr>\n",
       "    <tr>\n",
       "      <th id=\"T_d4503_level0_row15\" class=\"row_heading level0 row15\" >Estimated mortality of TB cases who are HIV-positive, per 100 000 population</th>\n",
       "      <td id=\"T_d4503_row15_col0\" class=\"data row15 col0\" >5120.000000</td>\n",
       "      <td id=\"T_d4503_row15_col1\" class=\"data row15 col1\" >11.829012</td>\n",
       "      <td id=\"T_d4503_row15_col2\" class=\"data row15 col2\" >45.436586</td>\n",
       "      <td id=\"T_d4503_row15_col3\" class=\"data row15 col3\" >0.000000</td>\n",
       "      <td id=\"T_d4503_row15_col4\" class=\"data row15 col4\" >0.000000</td>\n",
       "      <td id=\"T_d4503_row15_col5\" class=\"data row15 col5\" >0.050000</td>\n",
       "      <td id=\"T_d4503_row15_col6\" class=\"data row15 col6\" >2.100000</td>\n",
       "      <td id=\"T_d4503_row15_col7\" class=\"data row15 col7\" >481.000000</td>\n",
       "    </tr>\n",
       "    <tr>\n",
       "      <th id=\"T_d4503_level0_row16\" class=\"row_heading level0 row16\" >Estimated mortality of TB cases who are HIV-positive, per 100 000 population, low bound</th>\n",
       "      <td id=\"T_d4503_row16_col0\" class=\"data row16 col0\" >5120.000000</td>\n",
       "      <td id=\"T_d4503_row16_col1\" class=\"data row16 col1\" >1339.291967</td>\n",
       "      <td id=\"T_d4503_row16_col2\" class=\"data row16 col2\" >5926.244666</td>\n",
       "      <td id=\"T_d4503_row16_col3\" class=\"data row16 col3\" >0.000000</td>\n",
       "      <td id=\"T_d4503_row16_col4\" class=\"data row16 col4\" >0.000000</td>\n",
       "      <td id=\"T_d4503_row16_col5\" class=\"data row16 col5\" >3.500000</td>\n",
       "      <td id=\"T_d4503_row16_col6\" class=\"data row16 col6\" >190.000000</td>\n",
       "      <td id=\"T_d4503_row16_col7\" class=\"data row16 col7\" >76000.000000</td>\n",
       "    </tr>\n",
       "    <tr>\n",
       "      <th id=\"T_d4503_level0_row17\" class=\"row_heading level0 row17\" >Estimated mortality of TB cases who are HIV-positive, per 100 000 population, high bound</th>\n",
       "      <td id=\"T_d4503_row17_col0\" class=\"data row17 col0\" >5120.000000</td>\n",
       "      <td id=\"T_d4503_row17_col1\" class=\"data row17 col1\" >15.408928</td>\n",
       "      <td id=\"T_d4503_row17_col2\" class=\"data row17 col2\" >59.657840</td>\n",
       "      <td id=\"T_d4503_row17_col3\" class=\"data row17 col3\" >0.000000</td>\n",
       "      <td id=\"T_d4503_row17_col4\" class=\"data row17 col4\" >0.000000</td>\n",
       "      <td id=\"T_d4503_row17_col5\" class=\"data row17 col5\" >0.080000</td>\n",
       "      <td id=\"T_d4503_row17_col6\" class=\"data row17 col6\" >2.900000</td>\n",
       "      <td id=\"T_d4503_row17_col7\" class=\"data row17 col7\" >765.000000</td>\n",
       "    </tr>\n",
       "    <tr>\n",
       "      <th id=\"T_d4503_level0_row18\" class=\"row_heading level0 row18\" >Estimated number of deaths from TB in people who are HIV-positive</th>\n",
       "      <td id=\"T_d4503_row18_col0\" class=\"data row18 col0\" >5120.000000</td>\n",
       "      <td id=\"T_d4503_row18_col1\" class=\"data row18 col1\" >1798.730236</td>\n",
       "      <td id=\"T_d4503_row18_col2\" class=\"data row18 col2\" >7915.691847</td>\n",
       "      <td id=\"T_d4503_row18_col3\" class=\"data row18 col3\" >0.000000</td>\n",
       "      <td id=\"T_d4503_row18_col4\" class=\"data row18 col4\" >0.000000</td>\n",
       "      <td id=\"T_d4503_row18_col5\" class=\"data row18 col5\" >6.500000</td>\n",
       "      <td id=\"T_d4503_row18_col6\" class=\"data row18 col6\" >270.000000</td>\n",
       "      <td id=\"T_d4503_row18_col7\" class=\"data row18 col7\" >96000.000000</td>\n",
       "    </tr>\n",
       "    <tr>\n",
       "      <th id=\"T_d4503_level0_row19\" class=\"row_heading level0 row19\" >Estimated number of deaths from TB in people who are HIV-positive, high bound</th>\n",
       "      <td id=\"T_d4503_row19_col0\" class=\"data row19 col0\" >5120.000000</td>\n",
       "      <td id=\"T_d4503_row19_col1\" class=\"data row19 col1\" >2366.240137</td>\n",
       "      <td id=\"T_d4503_row19_col2\" class=\"data row19 col2\" >10331.188845</td>\n",
       "      <td id=\"T_d4503_row19_col3\" class=\"data row19 col3\" >0.000000</td>\n",
       "      <td id=\"T_d4503_row19_col4\" class=\"data row19 col4\" >0.000000</td>\n",
       "      <td id=\"T_d4503_row19_col5\" class=\"data row19 col5\" >9.700000</td>\n",
       "      <td id=\"T_d4503_row19_col6\" class=\"data row19 col6\" >350.000000</td>\n",
       "      <td id=\"T_d4503_row19_col7\" class=\"data row19 col7\" >140000.000000</td>\n",
       "    </tr>\n",
       "    <tr>\n",
       "      <th id=\"T_d4503_level0_row20\" class=\"row_heading level0 row20\" >Estimated incidence (all forms) per 100 000 population</th>\n",
       "      <td id=\"T_d4503_row20_col0\" class=\"data row20 col0\" >5120.000000</td>\n",
       "      <td id=\"T_d4503_row20_col1\" class=\"data row20 col1\" >134.694076</td>\n",
       "      <td id=\"T_d4503_row20_col2\" class=\"data row20 col2\" >190.032361</td>\n",
       "      <td id=\"T_d4503_row20_col3\" class=\"data row20 col3\" >0.000000</td>\n",
       "      <td id=\"T_d4503_row20_col4\" class=\"data row20 col4\" >17.000000</td>\n",
       "      <td id=\"T_d4503_row20_col5\" class=\"data row20 col5\" >61.000000</td>\n",
       "      <td id=\"T_d4503_row20_col6\" class=\"data row20 col6\" >183.000000</td>\n",
       "      <td id=\"T_d4503_row20_col7\" class=\"data row20 col7\" >1662.000000</td>\n",
       "    </tr>\n",
       "    <tr>\n",
       "      <th id=\"T_d4503_level0_row21\" class=\"row_heading level0 row21\" >Estimated incidence (all forms) per 100 000 population, low bound</th>\n",
       "      <td id=\"T_d4503_row21_col0\" class=\"data row21 col0\" >5120.000000</td>\n",
       "      <td id=\"T_d4503_row21_col1\" class=\"data row21 col1\" >119.414437</td>\n",
       "      <td id=\"T_d4503_row21_col2\" class=\"data row21 col2\" >169.298106</td>\n",
       "      <td id=\"T_d4503_row21_col3\" class=\"data row21 col3\" >0.000000</td>\n",
       "      <td id=\"T_d4503_row21_col4\" class=\"data row21 col4\" >16.000000</td>\n",
       "      <td id=\"T_d4503_row21_col5\" class=\"data row21 col5\" >55.000000</td>\n",
       "      <td id=\"T_d4503_row21_col6\" class=\"data row21 col6\" >162.000000</td>\n",
       "      <td id=\"T_d4503_row21_col7\" class=\"data row21 col7\" >1507.000000</td>\n",
       "    </tr>\n",
       "    <tr>\n",
       "      <th id=\"T_d4503_level0_row22\" class=\"row_heading level0 row22\" >Estimated incidence (all forms) per 100 000 population, high bound</th>\n",
       "      <td id=\"T_d4503_row22_col0\" class=\"data row22 col0\" >5120.000000</td>\n",
       "      <td id=\"T_d4503_row22_col1\" class=\"data row22 col1\" >151.608676</td>\n",
       "      <td id=\"T_d4503_row22_col2\" class=\"data row22 col2\" >213.843989</td>\n",
       "      <td id=\"T_d4503_row22_col3\" class=\"data row22 col3\" >0.000000</td>\n",
       "      <td id=\"T_d4503_row22_col4\" class=\"data row22 col4\" >19.000000</td>\n",
       "      <td id=\"T_d4503_row22_col5\" class=\"data row22 col5\" >67.000000</td>\n",
       "      <td id=\"T_d4503_row22_col6\" class=\"data row22 col6\" >202.250000</td>\n",
       "      <td id=\"T_d4503_row22_col7\" class=\"data row22 col7\" >1737.000000</td>\n",
       "    </tr>\n",
       "    <tr>\n",
       "      <th id=\"T_d4503_level0_row23\" class=\"row_heading level0 row23\" >Estimated number of incident cases (all forms)</th>\n",
       "      <td id=\"T_d4503_row23_col0\" class=\"data row23 col0\" >5120.000000</td>\n",
       "      <td id=\"T_d4503_row23_col1\" class=\"data row23 col1\" >42188.352389</td>\n",
       "      <td id=\"T_d4503_row23_col2\" class=\"data row23 col2\" >186570.119077</td>\n",
       "      <td id=\"T_d4503_row23_col3\" class=\"data row23 col3\" >0.000000</td>\n",
       "      <td id=\"T_d4503_row23_col4\" class=\"data row23 col4\" >260.000000</td>\n",
       "      <td id=\"T_d4503_row23_col5\" class=\"data row23 col5\" >3100.000000</td>\n",
       "      <td id=\"T_d4503_row23_col6\" class=\"data row23 col6\" >18000.000000</td>\n",
       "      <td id=\"T_d4503_row23_col7\" class=\"data row23 col7\" >2400000.000000</td>\n",
       "    </tr>\n",
       "    <tr>\n",
       "      <th id=\"T_d4503_level0_row24\" class=\"row_heading level0 row24\" >Estimated number of incident cases (all forms), low bound</th>\n",
       "      <td id=\"T_d4503_row24_col0\" class=\"data row24 col0\" >5120.000000</td>\n",
       "      <td id=\"T_d4503_row24_col1\" class=\"data row24 col1\" >38303.348576</td>\n",
       "      <td id=\"T_d4503_row24_col2\" class=\"data row24 col2\" >174706.836607</td>\n",
       "      <td id=\"T_d4503_row24_col3\" class=\"data row24 col3\" >0.000000</td>\n",
       "      <td id=\"T_d4503_row24_col4\" class=\"data row24 col4\" >220.000000</td>\n",
       "      <td id=\"T_d4503_row24_col5\" class=\"data row24 col5\" >2900.000000</td>\n",
       "      <td id=\"T_d4503_row24_col6\" class=\"data row24 col6\" >16000.000000</td>\n",
       "      <td id=\"T_d4503_row24_col7\" class=\"data row24 col7\" >2300000.000000</td>\n",
       "    </tr>\n",
       "    <tr>\n",
       "      <th id=\"T_d4503_level0_row25\" class=\"row_heading level0 row25\" >Estimated number of incident cases (all forms), high bound</th>\n",
       "      <td id=\"T_d4503_row25_col0\" class=\"data row25 col0\" >5120.000000</td>\n",
       "      <td id=\"T_d4503_row25_col1\" class=\"data row25 col1\" >46386.686021</td>\n",
       "      <td id=\"T_d4503_row25_col2\" class=\"data row25 col2\" >199824.990243</td>\n",
       "      <td id=\"T_d4503_row25_col3\" class=\"data row25 col3\" >0.000000</td>\n",
       "      <td id=\"T_d4503_row25_col4\" class=\"data row25 col4\" >300.000000</td>\n",
       "      <td id=\"T_d4503_row25_col5\" class=\"data row25 col5\" >3400.000000</td>\n",
       "      <td id=\"T_d4503_row25_col6\" class=\"data row25 col6\" >20000.000000</td>\n",
       "      <td id=\"T_d4503_row25_col7\" class=\"data row25 col7\" >2400000.000000</td>\n",
       "    </tr>\n",
       "    <tr>\n",
       "      <th id=\"T_d4503_level0_row26\" class=\"row_heading level0 row26\" >Estimated HIV in incident TB (percent)</th>\n",
       "      <td id=\"T_d4503_row26_col0\" class=\"data row26 col0\" >5120.000000</td>\n",
       "      <td id=\"T_d4503_row26_col1\" class=\"data row26 col1\" >7.958572</td>\n",
       "      <td id=\"T_d4503_row26_col2\" class=\"data row26 col2\" >15.316915</td>\n",
       "      <td id=\"T_d4503_row26_col3\" class=\"data row26 col3\" >0.000000</td>\n",
       "      <td id=\"T_d4503_row26_col4\" class=\"data row26 col4\" >0.000000</td>\n",
       "      <td id=\"T_d4503_row26_col5\" class=\"data row26 col5\" >0.920000</td>\n",
       "      <td id=\"T_d4503_row26_col6\" class=\"data row26 col6\" >8.300000</td>\n",
       "      <td id=\"T_d4503_row26_col7\" class=\"data row26 col7\" >83.000000</td>\n",
       "    </tr>\n",
       "    <tr>\n",
       "      <th id=\"T_d4503_level0_row27\" class=\"row_heading level0 row27\" >Estimated HIV in incident TB (percent), low bound</th>\n",
       "      <td id=\"T_d4503_row27_col0\" class=\"data row27 col0\" >5120.000000</td>\n",
       "      <td id=\"T_d4503_row27_col1\" class=\"data row27 col1\" >6.509354</td>\n",
       "      <td id=\"T_d4503_row27_col2\" class=\"data row27 col2\" >12.777695</td>\n",
       "      <td id=\"T_d4503_row27_col3\" class=\"data row27 col3\" >0.000000</td>\n",
       "      <td id=\"T_d4503_row27_col4\" class=\"data row27 col4\" >0.000000</td>\n",
       "      <td id=\"T_d4503_row27_col5\" class=\"data row27 col5\" >0.590000</td>\n",
       "      <td id=\"T_d4503_row27_col6\" class=\"data row27 col6\" >6.525000</td>\n",
       "      <td id=\"T_d4503_row27_col7\" class=\"data row27 col7\" >74.000000</td>\n",
       "    </tr>\n",
       "    <tr>\n",
       "      <th id=\"T_d4503_level0_row28\" class=\"row_heading level0 row28\" >Estimated HIV in incident TB (percent), high bound</th>\n",
       "      <td id=\"T_d4503_row28_col0\" class=\"data row28 col0\" >5120.000000</td>\n",
       "      <td id=\"T_d4503_row28_col1\" class=\"data row28 col1\" >9.517049</td>\n",
       "      <td id=\"T_d4503_row28_col2\" class=\"data row28 col2\" >17.987218</td>\n",
       "      <td id=\"T_d4503_row28_col3\" class=\"data row28 col3\" >0.000000</td>\n",
       "      <td id=\"T_d4503_row28_col4\" class=\"data row28 col4\" >0.000000</td>\n",
       "      <td id=\"T_d4503_row28_col5\" class=\"data row28 col5\" >1.300000</td>\n",
       "      <td id=\"T_d4503_row28_col6\" class=\"data row28 col6\" >9.900000</td>\n",
       "      <td id=\"T_d4503_row28_col7\" class=\"data row28 col7\" >100.000000</td>\n",
       "    </tr>\n",
       "    <tr>\n",
       "      <th id=\"T_d4503_level0_row29\" class=\"row_heading level0 row29\" >Estimated incidence of TB cases who are HIV-positive per 100 000 population</th>\n",
       "      <td id=\"T_d4503_row29_col0\" class=\"data row29 col0\" >5120.000000</td>\n",
       "      <td id=\"T_d4503_row29_col1\" class=\"data row29 col1\" >28.639074</td>\n",
       "      <td id=\"T_d4503_row29_col2\" class=\"data row29 col2\" >107.172820</td>\n",
       "      <td id=\"T_d4503_row29_col3\" class=\"data row29 col3\" >0.000000</td>\n",
       "      <td id=\"T_d4503_row29_col4\" class=\"data row29 col4\" >0.000000</td>\n",
       "      <td id=\"T_d4503_row29_col5\" class=\"data row29 col5\" >0.290000</td>\n",
       "      <td id=\"T_d4503_row29_col6\" class=\"data row29 col6\" >7.600000</td>\n",
       "      <td id=\"T_d4503_row29_col7\" class=\"data row29 col7\" >1063.000000</td>\n",
       "    </tr>\n",
       "    <tr>\n",
       "      <th id=\"T_d4503_level0_row30\" class=\"row_heading level0 row30\" >Estimated incidence of TB cases who are HIV-positive per 100 000 population, low bound</th>\n",
       "      <td id=\"T_d4503_row30_col0\" class=\"data row30 col0\" >5120.000000</td>\n",
       "      <td id=\"T_d4503_row30_col1\" class=\"data row30 col1\" >24.108561</td>\n",
       "      <td id=\"T_d4503_row30_col2\" class=\"data row30 col2\" >90.339137</td>\n",
       "      <td id=\"T_d4503_row30_col3\" class=\"data row30 col3\" >0.000000</td>\n",
       "      <td id=\"T_d4503_row30_col4\" class=\"data row30 col4\" >0.000000</td>\n",
       "      <td id=\"T_d4503_row30_col5\" class=\"data row30 col5\" >0.190000</td>\n",
       "      <td id=\"T_d4503_row30_col6\" class=\"data row30 col6\" >6.700000</td>\n",
       "      <td id=\"T_d4503_row30_col7\" class=\"data row30 col7\" >981.000000</td>\n",
       "    </tr>\n",
       "    <tr>\n",
       "      <th id=\"T_d4503_level0_row31\" class=\"row_heading level0 row31\" >Estimated incidence of TB cases who are HIV-positive per 100 000 population, high bound</th>\n",
       "      <td id=\"T_d4503_row31_col0\" class=\"data row31 col0\" >5120.000000</td>\n",
       "      <td id=\"T_d4503_row31_col1\" class=\"data row31 col1\" >33.664584</td>\n",
       "      <td id=\"T_d4503_row31_col2\" class=\"data row31 col2\" >125.820878</td>\n",
       "      <td id=\"T_d4503_row31_col3\" class=\"data row31 col3\" >0.000000</td>\n",
       "      <td id=\"T_d4503_row31_col4\" class=\"data row31 col4\" >0.000000</td>\n",
       "      <td id=\"T_d4503_row31_col5\" class=\"data row31 col5\" >0.360000</td>\n",
       "      <td id=\"T_d4503_row31_col6\" class=\"data row31 col6\" >8.700000</td>\n",
       "      <td id=\"T_d4503_row31_col7\" class=\"data row31 col7\" >1438.000000</td>\n",
       "    </tr>\n",
       "    <tr>\n",
       "      <th id=\"T_d4503_level0_row32\" class=\"row_heading level0 row32\" >Estimated incidence of TB cases who are HIV-positive</th>\n",
       "      <td id=\"T_d4503_row32_col0\" class=\"data row32 col0\" >5120.000000</td>\n",
       "      <td id=\"T_d4503_row32_col1\" class=\"data row32 col1\" >4339.420184</td>\n",
       "      <td id=\"T_d4503_row32_col2\" class=\"data row32 col2\" >19440.346787</td>\n",
       "      <td id=\"T_d4503_row32_col3\" class=\"data row32 col3\" >0.000000</td>\n",
       "      <td id=\"T_d4503_row32_col4\" class=\"data row32 col4\" >0.000000</td>\n",
       "      <td id=\"T_d4503_row32_col5\" class=\"data row32 col5\" >33.000000</td>\n",
       "      <td id=\"T_d4503_row32_col6\" class=\"data row32 col6\" >772.500000</td>\n",
       "      <td id=\"T_d4503_row32_col7\" class=\"data row32 col7\" >320000.000000</td>\n",
       "    </tr>\n",
       "    <tr>\n",
       "      <th id=\"T_d4503_level0_row33\" class=\"row_heading level0 row33\" >Estimated incidence of TB cases who are HIV-positive, low bound</th>\n",
       "      <td id=\"T_d4503_row33_col0\" class=\"data row33 col0\" >5120.000000</td>\n",
       "      <td id=\"T_d4503_row33_col1\" class=\"data row33 col1\" >3709.681145</td>\n",
       "      <td id=\"T_d4503_row33_col2\" class=\"data row33 col2\" >17026.904437</td>\n",
       "      <td id=\"T_d4503_row33_col3\" class=\"data row33 col3\" >0.000000</td>\n",
       "      <td id=\"T_d4503_row33_col4\" class=\"data row33 col4\" >0.000000</td>\n",
       "      <td id=\"T_d4503_row33_col5\" class=\"data row33 col5\" >23.000000</td>\n",
       "      <td id=\"T_d4503_row33_col6\" class=\"data row33 col6\" >650.000000</td>\n",
       "      <td id=\"T_d4503_row33_col7\" class=\"data row33 col7\" >290000.000000</td>\n",
       "    </tr>\n",
       "    <tr>\n",
       "      <th id=\"T_d4503_level0_row34\" class=\"row_heading level0 row34\" >Estimated incidence of TB cases who are HIV-positive, high bound</th>\n",
       "      <td id=\"T_d4503_row34_col0\" class=\"data row34 col0\" >5120.000000</td>\n",
       "      <td id=\"T_d4503_row34_col1\" class=\"data row34 col1\" >5237.967396</td>\n",
       "      <td id=\"T_d4503_row34_col2\" class=\"data row34 col2\" >22637.791233</td>\n",
       "      <td id=\"T_d4503_row34_col3\" class=\"data row34 col3\" >0.000000</td>\n",
       "      <td id=\"T_d4503_row34_col4\" class=\"data row34 col4\" >0.000000</td>\n",
       "      <td id=\"T_d4503_row34_col5\" class=\"data row34 col5\" >42.000000</td>\n",
       "      <td id=\"T_d4503_row34_col6\" class=\"data row34 col6\" >940.000000</td>\n",
       "      <td id=\"T_d4503_row34_col7\" class=\"data row34 col7\" >350000.000000</td>\n",
       "    </tr>\n",
       "    <tr>\n",
       "      <th id=\"T_d4503_level0_row35\" class=\"row_heading level0 row35\" >Method to derive TBHIV estimates</th>\n",
       "      <td id=\"T_d4503_row35_col0\" class=\"data row35 col0\" >5120.000000</td>\n",
       "      <td id=\"T_d4503_row35_col1\" class=\"data row35 col1\" >0.000000</td>\n",
       "      <td id=\"T_d4503_row35_col2\" class=\"data row35 col2\" >0.000000</td>\n",
       "      <td id=\"T_d4503_row35_col3\" class=\"data row35 col3\" >0.000000</td>\n",
       "      <td id=\"T_d4503_row35_col4\" class=\"data row35 col4\" >0.000000</td>\n",
       "      <td id=\"T_d4503_row35_col5\" class=\"data row35 col5\" >0.000000</td>\n",
       "      <td id=\"T_d4503_row35_col6\" class=\"data row35 col6\" >0.000000</td>\n",
       "      <td id=\"T_d4503_row35_col7\" class=\"data row35 col7\" >0.000000</td>\n",
       "    </tr>\n",
       "    <tr>\n",
       "      <th id=\"T_d4503_level0_row36\" class=\"row_heading level0 row36\" >Case detection rate (all forms), percent</th>\n",
       "      <td id=\"T_d4503_row36_col0\" class=\"data row36 col0\" >5120.000000</td>\n",
       "      <td id=\"T_d4503_row36_col1\" class=\"data row36 col1\" >62.235465</td>\n",
       "      <td id=\"T_d4503_row36_col2\" class=\"data row36 col2\" >31.048271</td>\n",
       "      <td id=\"T_d4503_row36_col3\" class=\"data row36 col3\" >0.000000</td>\n",
       "      <td id=\"T_d4503_row36_col4\" class=\"data row36 col4\" >44.000000</td>\n",
       "      <td id=\"T_d4503_row36_col5\" class=\"data row36 col5\" >71.000000</td>\n",
       "      <td id=\"T_d4503_row36_col6\" class=\"data row36 col6\" >87.000000</td>\n",
       "      <td id=\"T_d4503_row36_col7\" class=\"data row36 col7\" >320.000000</td>\n",
       "    </tr>\n",
       "    <tr>\n",
       "      <th id=\"T_d4503_level0_row37\" class=\"row_heading level0 row37\" >Case detection rate (all forms), percent, low bound</th>\n",
       "      <td id=\"T_d4503_row37_col0\" class=\"data row37 col0\" >5120.000000</td>\n",
       "      <td id=\"T_d4503_row37_col1\" class=\"data row37 col1\" >56.525859</td>\n",
       "      <td id=\"T_d4503_row37_col2\" class=\"data row37 col2\" >28.555903</td>\n",
       "      <td id=\"T_d4503_row37_col3\" class=\"data row37 col3\" >0.000000</td>\n",
       "      <td id=\"T_d4503_row37_col4\" class=\"data row37 col4\" >39.000000</td>\n",
       "      <td id=\"T_d4503_row37_col5\" class=\"data row37 col5\" >64.000000</td>\n",
       "      <td id=\"T_d4503_row37_col6\" class=\"data row37 col6\" >77.000000</td>\n",
       "      <td id=\"T_d4503_row37_col7\" class=\"data row37 col7\" >270.000000</td>\n",
       "    </tr>\n",
       "    <tr>\n",
       "      <th id=\"T_d4503_level0_row38\" class=\"row_heading level0 row38\" >Case detection rate (all forms), percent, high bound</th>\n",
       "      <td id=\"T_d4503_row38_col0\" class=\"data row38 col0\" >5120.000000</td>\n",
       "      <td id=\"T_d4503_row38_col1\" class=\"data row38 col1\" >69.202408</td>\n",
       "      <td id=\"T_d4503_row38_col2\" class=\"data row38 col2\" >35.248043</td>\n",
       "      <td id=\"T_d4503_row38_col3\" class=\"data row38 col3\" >0.000000</td>\n",
       "      <td id=\"T_d4503_row38_col4\" class=\"data row38 col4\" >49.000000</td>\n",
       "      <td id=\"T_d4503_row38_col5\" class=\"data row38 col5\" >78.000000</td>\n",
       "      <td id=\"T_d4503_row38_col6\" class=\"data row38 col6\" >94.000000</td>\n",
       "      <td id=\"T_d4503_row38_col7\" class=\"data row38 col7\" >380.000000</td>\n",
       "    </tr>\n",
       "    <tr>\n",
       "      <th id=\"T_d4503_level0_row39\" class=\"row_heading level0 row39\" >Estimated incidence of TB cases who are HIV-positive, high bound </th>\n",
       "      <td id=\"T_d4503_row39_col0\" class=\"data row39 col0\" >5120.000000</td>\n",
       "      <td id=\"T_d4503_row39_col1\" class=\"data row39 col1\" >5237.967396</td>\n",
       "      <td id=\"T_d4503_row39_col2\" class=\"data row39 col2\" >22637.791233</td>\n",
       "      <td id=\"T_d4503_row39_col3\" class=\"data row39 col3\" >0.000000</td>\n",
       "      <td id=\"T_d4503_row39_col4\" class=\"data row39 col4\" >0.000000</td>\n",
       "      <td id=\"T_d4503_row39_col5\" class=\"data row39 col5\" >42.000000</td>\n",
       "      <td id=\"T_d4503_row39_col6\" class=\"data row39 col6\" >940.000000</td>\n",
       "      <td id=\"T_d4503_row39_col7\" class=\"data row39 col7\" >350000.000000</td>\n",
       "    </tr>\n",
       "  </tbody>\n",
       "</table>\n"
      ],
      "text/plain": [
       "<pandas.io.formats.style.Styler at 0x19c00471d90>"
      ]
     },
     "execution_count": 142,
     "metadata": {},
     "output_type": "execute_result"
    }
   ],
   "source": [
    "tb_analysis.describe().T.style.bar(subset=[\"mean\"],color='#505ff2').background_gradient(subset=['std'],cmap='Reds').background_gradient(subset=['50%'],cmap='coolwarm')"
   ]
  },
  {
   "cell_type": "markdown",
   "metadata": {},
   "source": [
    "With this observation we can have some insight from the information indicating the red bar , showing the 50% estimated total population of victim of tuberculosis from 1990 to 2013 "
   ]
  },
  {
   "cell_type": "markdown",
   "metadata": {},
   "source": [
    "Data Visualization"
   ]
  },
  {
   "cell_type": "markdown",
   "metadata": {},
   "source": [
    "Method to derive prevalence estimates "
   ]
  },
  {
   "cell_type": "code",
   "execution_count": 143,
   "metadata": {},
   "outputs": [
    {
     "data": {
      "text/html": [
       "<div>\n",
       "<style scoped>\n",
       "    .dataframe tbody tr th:only-of-type {\n",
       "        vertical-align: middle;\n",
       "    }\n",
       "\n",
       "    .dataframe tbody tr th {\n",
       "        vertical-align: top;\n",
       "    }\n",
       "\n",
       "    .dataframe thead th {\n",
       "        text-align: right;\n",
       "    }\n",
       "</style>\n",
       "<table border=\"1\" class=\"dataframe\">\n",
       "  <thead>\n",
       "    <tr style=\"text-align: right;\">\n",
       "      <th></th>\n",
       "      <th></th>\n",
       "      <th>count</th>\n",
       "    </tr>\n",
       "    <tr>\n",
       "      <th>Method to derive prevalence estimates</th>\n",
       "      <th>Country or territory name</th>\n",
       "      <th></th>\n",
       "    </tr>\n",
       "  </thead>\n",
       "  <tbody>\n",
       "    <tr>\n",
       "      <th rowspan=\"2\" valign=\"top\">NTP</th>\n",
       "      <th>Democratic People's Republic of Korea</th>\n",
       "      <td>24</td>\n",
       "    </tr>\n",
       "    <tr>\n",
       "      <th>Turkey</th>\n",
       "      <td>24</td>\n",
       "    </tr>\n",
       "    <tr>\n",
       "      <th>pooled surveys</th>\n",
       "      <th>India</th>\n",
       "      <td>1</td>\n",
       "    </tr>\n",
       "    <tr>\n",
       "      <th rowspan=\"2\" valign=\"top\">predicted</th>\n",
       "      <th>Afghanistan</th>\n",
       "      <td>24</td>\n",
       "    </tr>\n",
       "    <tr>\n",
       "      <th>Albania</th>\n",
       "      <td>24</td>\n",
       "    </tr>\n",
       "    <tr>\n",
       "      <th>...</th>\n",
       "      <th>...</th>\n",
       "      <td>...</td>\n",
       "    </tr>\n",
       "    <tr>\n",
       "      <th rowspan=\"5\" valign=\"top\">survey imputed</th>\n",
       "      <th>Rwanda</th>\n",
       "      <td>23</td>\n",
       "    </tr>\n",
       "    <tr>\n",
       "      <th>Viet Nam</th>\n",
       "      <td>23</td>\n",
       "    </tr>\n",
       "    <tr>\n",
       "      <th>Cambodia</th>\n",
       "      <td>22</td>\n",
       "    </tr>\n",
       "    <tr>\n",
       "      <th>Philippines</th>\n",
       "      <td>22</td>\n",
       "    </tr>\n",
       "    <tr>\n",
       "      <th>China</th>\n",
       "      <td>21</td>\n",
       "    </tr>\n",
       "  </tbody>\n",
       "</table>\n",
       "<p>231 rows × 1 columns</p>\n",
       "</div>"
      ],
      "text/plain": [
       "                                                                             count\n",
       "Method to derive prevalence estimates Country or territory name                   \n",
       "NTP                                   Democratic People's Republic of Korea     24\n",
       "                                      Turkey                                    24\n",
       "pooled surveys                        India                                      1\n",
       "predicted                             Afghanistan                               24\n",
       "                                      Albania                                   24\n",
       "...                                                                            ...\n",
       "survey imputed                        Rwanda                                    23\n",
       "                                      Viet Nam                                  23\n",
       "                                      Cambodia                                  22\n",
       "                                      Philippines                               22\n",
       "                                      China                                     21\n",
       "\n",
       "[231 rows x 1 columns]"
      ]
     },
     "execution_count": 143,
     "metadata": {},
     "output_type": "execute_result"
    }
   ],
   "source": [
    "prevalence = tb_analysis.groupby('Method to derive prevalence estimates')['Country or territory name'].value_counts()\n",
    "prevalence = pd.DataFrame(prevalence)\n",
    "prevalence"
   ]
  },
  {
   "cell_type": "code",
   "execution_count": 144,
   "metadata": {},
   "outputs": [
    {
     "data": {
      "text/html": [
       "<div>\n",
       "<style scoped>\n",
       "    .dataframe tbody tr th:only-of-type {\n",
       "        vertical-align: middle;\n",
       "    }\n",
       "\n",
       "    .dataframe tbody tr th {\n",
       "        vertical-align: top;\n",
       "    }\n",
       "\n",
       "    .dataframe thead th {\n",
       "        text-align: right;\n",
       "    }\n",
       "</style>\n",
       "<table border=\"1\" class=\"dataframe\">\n",
       "  <thead>\n",
       "    <tr style=\"text-align: right;\">\n",
       "      <th></th>\n",
       "      <th>Country or territory name</th>\n",
       "      <th>count</th>\n",
       "    </tr>\n",
       "  </thead>\n",
       "  <tbody>\n",
       "    <tr>\n",
       "      <th>0</th>\n",
       "      <td>Republic of Korea</td>\n",
       "      <td>24</td>\n",
       "    </tr>\n",
       "    <tr>\n",
       "      <th>1</th>\n",
       "      <td>Ethiopia</td>\n",
       "      <td>23</td>\n",
       "    </tr>\n",
       "    <tr>\n",
       "      <th>2</th>\n",
       "      <td>Gambia</td>\n",
       "      <td>23</td>\n",
       "    </tr>\n",
       "    <tr>\n",
       "      <th>3</th>\n",
       "      <td>India</td>\n",
       "      <td>23</td>\n",
       "    </tr>\n",
       "    <tr>\n",
       "      <th>4</th>\n",
       "      <td>Lao People's Democratic Republic</td>\n",
       "      <td>23</td>\n",
       "    </tr>\n",
       "    <tr>\n",
       "      <th>5</th>\n",
       "      <td>Myanmar</td>\n",
       "      <td>23</td>\n",
       "    </tr>\n",
       "    <tr>\n",
       "      <th>6</th>\n",
       "      <td>Nigeria</td>\n",
       "      <td>23</td>\n",
       "    </tr>\n",
       "    <tr>\n",
       "      <th>7</th>\n",
       "      <td>Pakistan</td>\n",
       "      <td>23</td>\n",
       "    </tr>\n",
       "    <tr>\n",
       "      <th>8</th>\n",
       "      <td>Rwanda</td>\n",
       "      <td>23</td>\n",
       "    </tr>\n",
       "    <tr>\n",
       "      <th>9</th>\n",
       "      <td>Viet Nam</td>\n",
       "      <td>23</td>\n",
       "    </tr>\n",
       "    <tr>\n",
       "      <th>10</th>\n",
       "      <td>Cambodia</td>\n",
       "      <td>22</td>\n",
       "    </tr>\n",
       "    <tr>\n",
       "      <th>11</th>\n",
       "      <td>Philippines</td>\n",
       "      <td>22</td>\n",
       "    </tr>\n",
       "    <tr>\n",
       "      <th>12</th>\n",
       "      <td>China</td>\n",
       "      <td>21</td>\n",
       "    </tr>\n",
       "  </tbody>\n",
       "</table>\n",
       "</div>"
      ],
      "text/plain": [
       "           Country or territory name  count\n",
       "0                  Republic of Korea     24\n",
       "1                           Ethiopia     23\n",
       "2                             Gambia     23\n",
       "3                              India     23\n",
       "4   Lao People's Democratic Republic     23\n",
       "5                            Myanmar     23\n",
       "6                            Nigeria     23\n",
       "7                           Pakistan     23\n",
       "8                             Rwanda     23\n",
       "9                           Viet Nam     23\n",
       "10                          Cambodia     22\n",
       "11                       Philippines     22\n",
       "12                             China     21"
      ]
     },
     "execution_count": 144,
     "metadata": {},
     "output_type": "execute_result"
    }
   ],
   "source": [
    "prevalence.loc['survey imputed'].reset_index()"
   ]
  },
  {
   "cell_type": "markdown",
   "metadata": {},
   "source": [
    "Countries that used Survey Imputed based from 1990 to 2013"
   ]
  },
  {
   "cell_type": "code",
   "execution_count": 145,
   "metadata": {},
   "outputs": [
    {
     "data": {
      "image/png": "[encoded data removed]",
      "text/plain": [
       "<Figure size 511.111x500 with 1 Axes>"
      ]
     },
     "metadata": {},
     "output_type": "display_data"
    }
   ],
   "source": [
    "sns.catplot(data=prevalence,x= 'Method to derive prevalence estimates' , y = 'count' , kind='bar')\n",
    "plt.xticks(rotation=90)\n",
    "plt.show()\n"
   ]
  },
  {
   "cell_type": "markdown",
   "metadata": {},
   "source": [
    "The Observation in the graph shows the method used to derive prevalence estimates . Based on each year per country , different method was used either NTP, Pooled Surveeys , Predicted , Survey or Survey imputed"
   ]
  },
  {
   "cell_type": "markdown",
   "metadata": {},
   "source": [
    "Method to derive mortality estimates"
   ]
  },
  {
   "cell_type": "code",
   "execution_count": 146,
   "metadata": {},
   "outputs": [
    {
     "data": {
      "text/html": [
       "<div>\n",
       "<style scoped>\n",
       "    .dataframe tbody tr th:only-of-type {\n",
       "        vertical-align: middle;\n",
       "    }\n",
       "\n",
       "    .dataframe tbody tr th {\n",
       "        vertical-align: top;\n",
       "    }\n",
       "\n",
       "    .dataframe thead th {\n",
       "        text-align: right;\n",
       "    }\n",
       "</style>\n",
       "<table border=\"1\" class=\"dataframe\">\n",
       "  <thead>\n",
       "    <tr style=\"text-align: right;\">\n",
       "      <th></th>\n",
       "      <th></th>\n",
       "      <th>count</th>\n",
       "    </tr>\n",
       "    <tr>\n",
       "      <th>Method to derive mortality estimates</th>\n",
       "      <th>Country or territory name</th>\n",
       "      <th></th>\n",
       "    </tr>\n",
       "  </thead>\n",
       "  <tbody>\n",
       "    <tr>\n",
       "      <th rowspan=\"5\" valign=\"top\">Indirect</th>\n",
       "      <th>Afghanistan</th>\n",
       "      <td>24</td>\n",
       "    </tr>\n",
       "    <tr>\n",
       "      <th>Algeria</th>\n",
       "      <td>24</td>\n",
       "    </tr>\n",
       "    <tr>\n",
       "      <th>American Samoa</th>\n",
       "      <td>24</td>\n",
       "    </tr>\n",
       "    <tr>\n",
       "      <th>Andorra</th>\n",
       "      <td>24</td>\n",
       "    </tr>\n",
       "    <tr>\n",
       "      <th>Angola</th>\n",
       "      <td>24</td>\n",
       "    </tr>\n",
       "    <tr>\n",
       "      <th>...</th>\n",
       "      <th>...</th>\n",
       "      <td>...</td>\n",
       "    </tr>\n",
       "    <tr>\n",
       "      <th rowspan=\"5\" valign=\"top\">VR imputed</th>\n",
       "      <th>Romania</th>\n",
       "      <td>1</td>\n",
       "    </tr>\n",
       "    <tr>\n",
       "      <th>Serbia</th>\n",
       "      <td>1</td>\n",
       "    </tr>\n",
       "    <tr>\n",
       "      <th>Spain</th>\n",
       "      <td>1</td>\n",
       "    </tr>\n",
       "    <tr>\n",
       "      <th>Sweden</th>\n",
       "      <td>1</td>\n",
       "    </tr>\n",
       "    <tr>\n",
       "      <th>Ukraine</th>\n",
       "      <td>1</td>\n",
       "    </tr>\n",
       "  </tbody>\n",
       "</table>\n",
       "<p>348 rows × 1 columns</p>\n",
       "</div>"
      ],
      "text/plain": [
       "                                                                count\n",
       "Method to derive mortality estimates Country or territory name       \n",
       "Indirect                             Afghanistan                   24\n",
       "                                     Algeria                       24\n",
       "                                     American Samoa                24\n",
       "                                     Andorra                       24\n",
       "                                     Angola                        24\n",
       "...                                                               ...\n",
       "VR imputed                           Romania                        1\n",
       "                                     Serbia                         1\n",
       "                                     Spain                          1\n",
       "                                     Sweden                         1\n",
       "                                     Ukraine                        1\n",
       "\n",
       "[348 rows x 1 columns]"
      ]
     },
     "execution_count": 146,
     "metadata": {},
     "output_type": "execute_result"
    }
   ],
   "source": [
    "mortality = tb_analysis.groupby('Method to derive mortality estimates')['Country or territory name'].value_counts()\n",
    "mortality = pd.DataFrame(mortality)\n",
    "mortality"
   ]
  },
  {
   "cell_type": "code",
   "execution_count": 147,
   "metadata": {},
   "outputs": [
    {
     "data": {
      "text/html": [
       "<div>\n",
       "<style scoped>\n",
       "    .dataframe tbody tr th:only-of-type {\n",
       "        vertical-align: middle;\n",
       "    }\n",
       "\n",
       "    .dataframe tbody tr th {\n",
       "        vertical-align: top;\n",
       "    }\n",
       "\n",
       "    .dataframe thead th {\n",
       "        text-align: right;\n",
       "    }\n",
       "</style>\n",
       "<table border=\"1\" class=\"dataframe\">\n",
       "  <thead>\n",
       "    <tr style=\"text-align: right;\">\n",
       "      <th></th>\n",
       "      <th>Country or territory name</th>\n",
       "      <th>count</th>\n",
       "    </tr>\n",
       "  </thead>\n",
       "  <tbody>\n",
       "    <tr>\n",
       "      <th>0</th>\n",
       "      <td>Afghanistan</td>\n",
       "      <td>24</td>\n",
       "    </tr>\n",
       "    <tr>\n",
       "      <th>1</th>\n",
       "      <td>Algeria</td>\n",
       "      <td>24</td>\n",
       "    </tr>\n",
       "    <tr>\n",
       "      <th>2</th>\n",
       "      <td>American Samoa</td>\n",
       "      <td>24</td>\n",
       "    </tr>\n",
       "    <tr>\n",
       "      <th>3</th>\n",
       "      <td>Andorra</td>\n",
       "      <td>24</td>\n",
       "    </tr>\n",
       "    <tr>\n",
       "      <th>4</th>\n",
       "      <td>Angola</td>\n",
       "      <td>24</td>\n",
       "    </tr>\n",
       "    <tr>\n",
       "      <th>...</th>\n",
       "      <td>...</td>\n",
       "      <td>...</td>\n",
       "    </tr>\n",
       "    <tr>\n",
       "      <th>89</th>\n",
       "      <td>Curaçao</td>\n",
       "      <td>4</td>\n",
       "    </tr>\n",
       "    <tr>\n",
       "      <th>90</th>\n",
       "      <td>Sint Maarten (Dutch part)</td>\n",
       "      <td>4</td>\n",
       "    </tr>\n",
       "    <tr>\n",
       "      <th>91</th>\n",
       "      <td>South Sudan</td>\n",
       "      <td>3</td>\n",
       "    </tr>\n",
       "    <tr>\n",
       "      <th>92</th>\n",
       "      <td>Bolivia (Plurinational State of)</td>\n",
       "      <td>2</td>\n",
       "    </tr>\n",
       "    <tr>\n",
       "      <th>93</th>\n",
       "      <td>Georgia</td>\n",
       "      <td>1</td>\n",
       "    </tr>\n",
       "  </tbody>\n",
       "</table>\n",
       "<p>94 rows × 2 columns</p>\n",
       "</div>"
      ],
      "text/plain": [
       "           Country or territory name  count\n",
       "0                        Afghanistan     24\n",
       "1                            Algeria     24\n",
       "2                     American Samoa     24\n",
       "3                            Andorra     24\n",
       "4                             Angola     24\n",
       "..                               ...    ...\n",
       "89                           Curaçao      4\n",
       "90         Sint Maarten (Dutch part)      4\n",
       "91                       South Sudan      3\n",
       "92  Bolivia (Plurinational State of)      2\n",
       "93                           Georgia      1\n",
       "\n",
       "[94 rows x 2 columns]"
      ]
     },
     "execution_count": 147,
     "metadata": {},
     "output_type": "execute_result"
    }
   ],
   "source": [
    "mortality.loc['Indirect'].reset_index()"
   ]
  },
  {
   "cell_type": "code",
   "execution_count": 148,
   "metadata": {},
   "outputs": [
    {
     "data": {
      "image/png": "[encoded data removed]",
      "text/plain": [
       "<Figure size 500x500 with 1 Axes>"
      ]
     },
     "metadata": {},
     "output_type": "display_data"
    }
   ],
   "source": [
    "sns.catplot(data=mortality,x= 'Method to derive mortality estimates' , y = 'count' , kind='violin', hue='Method to derive mortality estimates')\n",
    "plt.xticks(rotation=90)\n",
    "plt.show()"
   ]
  },
  {
   "cell_type": "markdown",
   "metadata": {},
   "source": [
    "The Observation in the violin graph shows the method used to derive mortality estimates based on counts on each year per country , different method was used either Indirect , VR or VR imputed"
   ]
  },
  {
   "cell_type": "markdown",
   "metadata": {},
   "source": [
    "Method to derive incidence estimates"
   ]
  },
  {
   "cell_type": "code",
   "execution_count": 149,
   "metadata": {},
   "outputs": [
    {
     "data": {
      "text/html": [
       "<div>\n",
       "<style scoped>\n",
       "    .dataframe tbody tr th:only-of-type {\n",
       "        vertical-align: middle;\n",
       "    }\n",
       "\n",
       "    .dataframe tbody tr th {\n",
       "        vertical-align: top;\n",
       "    }\n",
       "\n",
       "    .dataframe thead th {\n",
       "        text-align: right;\n",
       "    }\n",
       "</style>\n",
       "<table border=\"1\" class=\"dataframe\">\n",
       "  <thead>\n",
       "    <tr style=\"text-align: right;\">\n",
       "      <th></th>\n",
       "      <th></th>\n",
       "      <th>count</th>\n",
       "    </tr>\n",
       "    <tr>\n",
       "      <th>Method to derive incidence estimates</th>\n",
       "      <th>Country or territory name</th>\n",
       "      <th></th>\n",
       "    </tr>\n",
       "  </thead>\n",
       "  <tbody>\n",
       "    <tr>\n",
       "      <th rowspan=\"5\" valign=\"top\">0</th>\n",
       "      <th>Afghanistan</th>\n",
       "      <td>24</td>\n",
       "    </tr>\n",
       "    <tr>\n",
       "      <th>Albania</th>\n",
       "      <td>24</td>\n",
       "    </tr>\n",
       "    <tr>\n",
       "      <th>Algeria</th>\n",
       "      <td>24</td>\n",
       "    </tr>\n",
       "    <tr>\n",
       "      <th>American Samoa</th>\n",
       "      <td>24</td>\n",
       "    </tr>\n",
       "    <tr>\n",
       "      <th>Angola</th>\n",
       "      <td>24</td>\n",
       "    </tr>\n",
       "    <tr>\n",
       "      <th>...</th>\n",
       "      <th>...</th>\n",
       "      <td>...</td>\n",
       "    </tr>\n",
       "    <tr>\n",
       "      <th rowspan=\"2\" valign=\"top\">Prevalence</th>\n",
       "      <th>Ethiopia</th>\n",
       "      <td>24</td>\n",
       "    </tr>\n",
       "    <tr>\n",
       "      <th>Lao People's Democratic Republic</th>\n",
       "      <td>24</td>\n",
       "    </tr>\n",
       "    <tr>\n",
       "      <th>Survey</th>\n",
       "      <th>France</th>\n",
       "      <td>24</td>\n",
       "    </tr>\n",
       "    <tr>\n",
       "      <th rowspan=\"2\" valign=\"top\">Trends ARI</th>\n",
       "      <th>Bhutan</th>\n",
       "      <td>24</td>\n",
       "    </tr>\n",
       "    <tr>\n",
       "      <th>India</th>\n",
       "      <td>24</td>\n",
       "    </tr>\n",
       "  </tbody>\n",
       "</table>\n",
       "<p>219 rows × 1 columns</p>\n",
       "</div>"
      ],
      "text/plain": [
       "                                                                       count\n",
       "Method to derive incidence estimates Country or territory name              \n",
       "0                                    Afghanistan                          24\n",
       "                                     Albania                              24\n",
       "                                     Algeria                              24\n",
       "                                     American Samoa                       24\n",
       "                                     Angola                               24\n",
       "...                                                                      ...\n",
       "Prevalence                           Ethiopia                             24\n",
       "                                     Lao People's Democratic Republic     24\n",
       "Survey                               France                               24\n",
       "Trends ARI                           Bhutan                               24\n",
       "                                     India                                24\n",
       "\n",
       "[219 rows x 1 columns]"
      ]
     },
     "execution_count": 149,
     "metadata": {},
     "output_type": "execute_result"
    }
   ],
   "source": [
    "incidence = tb_analysis.groupby('Method to derive incidence estimates')['Country or territory name'].value_counts()\n",
    "incidence = pd.DataFrame(incidence)\n",
    "incidence"
   ]
  },
  {
   "cell_type": "code",
   "execution_count": 150,
   "metadata": {},
   "outputs": [
    {
     "data": {
      "text/html": [
       "<div>\n",
       "<style scoped>\n",
       "    .dataframe tbody tr th:only-of-type {\n",
       "        vertical-align: middle;\n",
       "    }\n",
       "\n",
       "    .dataframe tbody tr th {\n",
       "        vertical-align: top;\n",
       "    }\n",
       "\n",
       "    .dataframe thead th {\n",
       "        text-align: right;\n",
       "    }\n",
       "</style>\n",
       "<table border=\"1\" class=\"dataframe\">\n",
       "  <thead>\n",
       "    <tr style=\"text-align: right;\">\n",
       "      <th></th>\n",
       "      <th>count</th>\n",
       "    </tr>\n",
       "    <tr>\n",
       "      <th>Country or territory name</th>\n",
       "      <th></th>\n",
       "    </tr>\n",
       "  </thead>\n",
       "  <tbody>\n",
       "    <tr>\n",
       "      <th>Cambodia</th>\n",
       "      <td>24</td>\n",
       "    </tr>\n",
       "    <tr>\n",
       "      <th>Ethiopia</th>\n",
       "      <td>24</td>\n",
       "    </tr>\n",
       "    <tr>\n",
       "      <th>Lao People's Democratic Republic</th>\n",
       "      <td>24</td>\n",
       "    </tr>\n",
       "  </tbody>\n",
       "</table>\n",
       "</div>"
      ],
      "text/plain": [
       "                                  count\n",
       "Country or territory name              \n",
       "Cambodia                             24\n",
       "Ethiopia                             24\n",
       "Lao People's Democratic Republic     24"
      ]
     },
     "execution_count": 150,
     "metadata": {},
     "output_type": "execute_result"
    }
   ],
   "source": [
    "incidence.loc['Prevalence']"
   ]
  },
  {
   "cell_type": "code",
   "execution_count": 151,
   "metadata": {},
   "outputs": [
    {
     "data": {
      "image/png": "[encoded data removed]",
      "text/plain": [
       "<Figure size 773.111x500 with 1 Axes>"
      ]
     },
     "metadata": {},
     "output_type": "display_data"
    }
   ],
   "source": [
    "sns.catplot(data=incidence,x= 'Method to derive incidence estimates' , y = 'count' , kind='bar' , hue ='Method to derive incidence estimates')\n",
    "plt.xticks(rotation=90)\n",
    "plt.show()"
   ]
  },
  {
   "cell_type": "markdown",
   "metadata": {},
   "source": [
    "The Observation in the  graph shows the method used to derive incidence estimates based on counts on each year per country , different method was used either 0(None),Capture-recapture , Expert opinion , High income, Mortality , Neighbour , Prevalence ,Survey or Trends ARI"
   ]
  },
  {
   "cell_type": "markdown",
   "metadata": {},
   "source": [
    "Sampled Data of Ghana and information analysis of Ghana from 1990 to 2013"
   ]
  },
  {
   "cell_type": "code",
   "execution_count": 152,
   "metadata": {},
   "outputs": [
    {
     "data": {
      "text/html": [
       "<style type=\"text/css\">\n",
       "#T_26442_row0_col3, #T_26442_row0_col5, #T_26442_row0_col6, #T_26442_row0_col31, #T_26442_row0_col34, #T_26442_row0_col35, #T_26442_row0_col36, #T_26442_row0_col37, #T_26442_row0_col38, #T_26442_row0_col40, #T_26442_row0_col41, #T_26442_row0_col42, #T_26442_row0_col43, #T_26442_row0_col44, #T_26442_row0_col45, #T_26442_row0_col47, #T_26442_row1_col3, #T_26442_row1_col43, #T_26442_row2_col3, #T_26442_row2_col43, #T_26442_row2_col44, #T_26442_row2_col46, #T_26442_row3_col3, #T_26442_row3_col43, #T_26442_row4_col3, #T_26442_row4_col43, #T_26442_row5_col3, #T_26442_row5_col43, #T_26442_row6_col3, #T_26442_row6_col43, #T_26442_row7_col3, #T_26442_row7_col43, #T_26442_row8_col3, #T_26442_row8_col43, #T_26442_row9_col3, #T_26442_row9_col43, #T_26442_row10_col3, #T_26442_row10_col43, #T_26442_row11_col3, #T_26442_row11_col43, #T_26442_row12_col3, #T_26442_row12_col43, #T_26442_row13_col3, #T_26442_row13_col43, #T_26442_row14_col3, #T_26442_row14_col43, #T_26442_row15_col3, #T_26442_row15_col43, #T_26442_row16_col3, #T_26442_row16_col43, #T_26442_row17_col3, #T_26442_row17_col43, #T_26442_row18_col3, #T_26442_row18_col43, #T_26442_row19_col3, #T_26442_row19_col43, #T_26442_row20_col3, #T_26442_row20_col43, #T_26442_row21_col3, #T_26442_row21_col43, #T_26442_row22_col3, #T_26442_row22_col43, #T_26442_row23_col3, #T_26442_row23_col7, #T_26442_row23_col8, #T_26442_row23_col9, #T_26442_row23_col10, #T_26442_row23_col11, #T_26442_row23_col12, #T_26442_row23_col14, #T_26442_row23_col15, #T_26442_row23_col16, #T_26442_row23_col17, #T_26442_row23_col18, #T_26442_row23_col19, #T_26442_row23_col20, #T_26442_row23_col21, #T_26442_row23_col22, #T_26442_row23_col23, #T_26442_row23_col25, #T_26442_row23_col27, #T_26442_row23_col28, #T_26442_row23_col29, #T_26442_row23_col30, #T_26442_row23_col31, #T_26442_row23_col32, #T_26442_row23_col39, #T_26442_row23_col43 {\n",
       "  background-color: #fff5f0;\n",
       "  color: #000000;\n",
       "}\n",
       "#T_26442_row0_col7, #T_26442_row0_col9, #T_26442_row0_col12, #T_26442_row0_col14, #T_26442_row0_col16, #T_26442_row0_col17, #T_26442_row0_col19, #T_26442_row0_col29, #T_26442_row1_col17, #T_26442_row2_col15, #T_26442_row2_col17, #T_26442_row3_col8, #T_26442_row3_col11, #T_26442_row3_col17, #T_26442_row3_col18, #T_26442_row3_col28, #T_26442_row4_col10, #T_26442_row4_col11, #T_26442_row5_col10, #T_26442_row5_col11, #T_26442_row5_col27, #T_26442_row5_col32, #T_26442_row6_col11, #T_26442_row6_col30, #T_26442_row6_col32, #T_26442_row7_col11, #T_26442_row7_col18, #T_26442_row7_col30, #T_26442_row8_col11, #T_26442_row8_col20, #T_26442_row8_col28, #T_26442_row8_col30, #T_26442_row8_col31, #T_26442_row9_col11, #T_26442_row9_col20, #T_26442_row9_col21, #T_26442_row9_col30, #T_26442_row9_col31, #T_26442_row9_col37, #T_26442_row9_col39, #T_26442_row10_col20, #T_26442_row10_col21, #T_26442_row10_col22, #T_26442_row10_col23, #T_26442_row10_col25, #T_26442_row10_col30, #T_26442_row10_col31, #T_26442_row10_col37, #T_26442_row10_col38, #T_26442_row10_col39, #T_26442_row10_col42, #T_26442_row10_col47, #T_26442_row11_col20, #T_26442_row11_col21, #T_26442_row11_col23, #T_26442_row11_col31, #T_26442_row11_col36, #T_26442_row11_col38, #T_26442_row11_col40, #T_26442_row11_col42, #T_26442_row11_col47, #T_26442_row12_col21, #T_26442_row12_col31, #T_26442_row12_col34, #T_26442_row13_col31, #T_26442_row13_col34, #T_26442_row13_col35, #T_26442_row13_col41, #T_26442_row23_col5, #T_26442_row23_col6, #T_26442_row23_col44, #T_26442_row23_col45, #T_26442_row23_col46 {\n",
       "  background-color: #67000d;\n",
       "  color: #f1f1f1;\n",
       "}\n",
       "#T_26442_row0_col8, #T_26442_row1_col15, #T_26442_row4_col15, #T_26442_row6_col8, #T_26442_row9_col18 {\n",
       "  background-color: #8e0912;\n",
       "  color: #f1f1f1;\n",
       "}\n",
       "#T_26442_row0_col10, #T_26442_row1_col9, #T_26442_row1_col10, #T_26442_row1_col16, #T_26442_row3_col7, #T_26442_row8_col10, #T_26442_row8_col37, #T_26442_row9_col25, #T_26442_row12_col25, #T_26442_row12_col37, #T_26442_row21_col45, #T_26442_row22_col45 {\n",
       "  background-color: #880811;\n",
       "  color: #f1f1f1;\n",
       "}\n",
       "#T_26442_row0_col11, #T_26442_row6_col14, #T_26442_row7_col7, #T_26442_row12_col28, #T_26442_row14_col11, #T_26442_row15_col42, #T_26442_row15_col47, #T_26442_row19_col6 {\n",
       "  background-color: #bb141a;\n",
       "  color: #f1f1f1;\n",
       "}\n",
       "#T_26442_row0_col15, #T_26442_row6_col7, #T_26442_row6_col20, #T_26442_row7_col25, #T_26442_row8_col15, #T_26442_row10_col27, #T_26442_row13_col20, #T_26442_row15_col40 {\n",
       "  background-color: #af1117;\n",
       "  color: #f1f1f1;\n",
       "}\n",
       "#T_26442_row0_col18, #T_26442_row11_col27, #T_26442_row12_col18, #T_26442_row13_col39, #T_26442_row15_col21, #T_26442_row18_col5 {\n",
       "  background-color: #c1161b;\n",
       "  color: #f1f1f1;\n",
       "}\n",
       "#T_26442_row0_col20 {\n",
       "  background-color: #fcbca2;\n",
       "  color: #000000;\n",
       "}\n",
       "#T_26442_row0_col21, #T_26442_row2_col5, #T_26442_row5_col46, #T_26442_row22_col8 {\n",
       "  background-color: #fee7db;\n",
       "  color: #000000;\n",
       "}\n",
       "#T_26442_row0_col22, #T_26442_row18_col22 {\n",
       "  background-color: #fcab8f;\n",
       "  color: #000000;\n",
       "}\n",
       "#T_26442_row0_col23, #T_26442_row2_col36, #T_26442_row3_col45, #T_26442_row6_col44, #T_26442_row9_col44 {\n",
       "  background-color: #fedecf;\n",
       "  color: #000000;\n",
       "}\n",
       "#T_26442_row0_col25, #T_26442_row1_col21, #T_26442_row20_col20, #T_26442_row20_col32 {\n",
       "  background-color: #fdd1be;\n",
       "  color: #000000;\n",
       "}\n",
       "#T_26442_row0_col27, #T_26442_row0_col32, #T_26442_row4_col32, #T_26442_row5_col7, #T_26442_row5_col15, #T_26442_row6_col15, #T_26442_row7_col15, #T_26442_row8_col32 {\n",
       "  background-color: #a10e15;\n",
       "  color: #f1f1f1;\n",
       "}\n",
       "#T_26442_row0_col28 {\n",
       "  background-color: #e02c26;\n",
       "  color: #f1f1f1;\n",
       "}\n",
       "#T_26442_row0_col30, #T_26442_row2_col31, #T_26442_row4_col37, #T_26442_row10_col16, #T_26442_row13_col6, #T_26442_row13_col7, #T_26442_row18_col30, #T_26442_row19_col31, #T_26442_row22_col36, #T_26442_row23_col36 {\n",
       "  background-color: #fb694a;\n",
       "  color: #f1f1f1;\n",
       "}\n",
       "#T_26442_row0_col39, #T_26442_row1_col44, #T_26442_row22_col39 {\n",
       "  background-color: #fff0e8;\n",
       "  color: #000000;\n",
       "}\n",
       "#T_26442_row0_col46, #T_26442_row3_col46, #T_26442_row20_col16, #T_26442_row22_col21, #T_26442_row23_col37 {\n",
       "  background-color: #feeae0;\n",
       "  color: #000000;\n",
       "}\n",
       "#T_26442_row1_col5, #T_26442_row1_col36, #T_26442_row22_col15 {\n",
       "  background-color: #ffeee6;\n",
       "  color: #000000;\n",
       "}\n",
       "#T_26442_row1_col6, #T_26442_row22_col25 {\n",
       "  background-color: #ffefe8;\n",
       "  color: #000000;\n",
       "}\n",
       "#T_26442_row1_col7, #T_26442_row2_col10, #T_26442_row3_col10, #T_26442_row6_col10, #T_26442_row7_col10, #T_26442_row11_col37 {\n",
       "  background-color: #77040f;\n",
       "  color: #f1f1f1;\n",
       "}\n",
       "#T_26442_row1_col8, #T_26442_row10_col36, #T_26442_row12_col36, #T_26442_row12_col42, #T_26442_row12_col47, #T_26442_row22_col5 {\n",
       "  background-color: #7c0510;\n",
       "  color: #f1f1f1;\n",
       "}\n",
       "#T_26442_row1_col11, #T_26442_row9_col17, #T_26442_row12_col11, #T_26442_row13_col11, #T_26442_row20_col5 {\n",
       "  background-color: #a60f15;\n",
       "  color: #f1f1f1;\n",
       "}\n",
       "#T_26442_row1_col12, #T_26442_row3_col15, #T_26442_row4_col12, #T_26442_row5_col12, #T_26442_row9_col22, #T_26442_row9_col28, #T_26442_row11_col22 {\n",
       "  background-color: #7a0510;\n",
       "  color: #f1f1f1;\n",
       "}\n",
       "#T_26442_row1_col14, #T_26442_row1_col19, #T_26442_row9_col40, #T_26442_row10_col34, #T_26442_row11_col34, #T_26442_row12_col35, #T_26442_row13_col40, #T_26442_row14_col34, #T_26442_row14_col35, #T_26442_row15_col34, #T_26442_row22_col6 {\n",
       "  background-color: #7e0610;\n",
       "  color: #f1f1f1;\n",
       "}\n",
       "#T_26442_row1_col18, #T_26442_row7_col37, #T_26442_row8_col42, #T_26442_row8_col47, #T_26442_row10_col18, #T_26442_row13_col37 {\n",
       "  background-color: #a81016;\n",
       "  color: #f1f1f1;\n",
       "}\n",
       "#T_26442_row1_col20 {\n",
       "  background-color: #fca183;\n",
       "  color: #000000;\n",
       "}\n",
       "#T_26442_row1_col22, #T_26442_row3_col21, #T_26442_row5_col35, #T_26442_row17_col27, #T_26442_row18_col18 {\n",
       "  background-color: #fc9070;\n",
       "  color: #000000;\n",
       "}\n",
       "#T_26442_row1_col23, #T_26442_row1_col25, #T_26442_row6_col6, #T_26442_row19_col22, #T_26442_row20_col23, #T_26442_row20_col28 {\n",
       "  background-color: #fcc3ab;\n",
       "  color: #000000;\n",
       "}\n",
       "#T_26442_row1_col27, #T_26442_row4_col7, #T_26442_row8_col23, #T_26442_row13_col23, #T_26442_row21_col5 {\n",
       "  background-color: #920a13;\n",
       "  color: #f1f1f1;\n",
       "}\n",
       "#T_26442_row1_col28, #T_26442_row7_col21, #T_26442_row7_col36, #T_26442_row8_col36, #T_26442_row16_col36 {\n",
       "  background-color: #b61319;\n",
       "  color: #f1f1f1;\n",
       "}\n",
       "#T_26442_row1_col29, #T_26442_row5_col30, #T_26442_row6_col28, #T_26442_row7_col22, #T_26442_row8_col22, #T_26442_row10_col28, #T_26442_row11_col30, #T_26442_row12_col30 {\n",
       "  background-color: #900a12;\n",
       "  color: #f1f1f1;\n",
       "}\n",
       "#T_26442_row1_col30, #T_26442_row11_col29, #T_26442_row17_col30 {\n",
       "  background-color: #f34a36;\n",
       "  color: #f1f1f1;\n",
       "}\n",
       "#T_26442_row1_col31, #T_26442_row2_col38, #T_26442_row12_col44, #T_26442_row17_col29, #T_26442_row19_col39, #T_26442_row21_col30, #T_26442_row21_col31, #T_26442_row22_col38 {\n",
       "  background-color: #fcbba1;\n",
       "  color: #000000;\n",
       "}\n",
       "#T_26442_row1_col32, #T_26442_row9_col32, #T_26442_row10_col32 {\n",
       "  background-color: #b51318;\n",
       "  color: #f1f1f1;\n",
       "}\n",
       "#T_26442_row1_col34, #T_26442_row3_col44, #T_26442_row5_col45, #T_26442_row21_col22, #T_26442_row22_col30 {\n",
       "  background-color: #fee7dc;\n",
       "  color: #000000;\n",
       "}\n",
       "#T_26442_row1_col35, #T_26442_row1_col40 {\n",
       "  background-color: #fee5d9;\n",
       "  color: #000000;\n",
       "}\n",
       "#T_26442_row1_col37, #T_26442_row19_col16, #T_26442_row21_col20, #T_26442_row22_col37 {\n",
       "  background-color: #fee5d8;\n",
       "  color: #000000;\n",
       "}\n",
       "#T_26442_row1_col38, #T_26442_row21_col18, #T_26442_row22_col11 {\n",
       "  background-color: #fedccd;\n",
       "  color: #000000;\n",
       "}\n",
       "#T_26442_row1_col39, #T_26442_row20_col14, #T_26442_row21_col12, #T_26442_row21_col27, #T_26442_row21_col39, #T_26442_row22_col31 {\n",
       "  background-color: #fee0d2;\n",
       "  color: #000000;\n",
       "}\n",
       "#T_26442_row1_col41 {\n",
       "  background-color: #fee3d7;\n",
       "  color: #000000;\n",
       "}\n",
       "#T_26442_row1_col42, #T_26442_row1_col47, #T_26442_row2_col6, #T_26442_row22_col18 {\n",
       "  background-color: #fee8de;\n",
       "  color: #000000;\n",
       "}\n",
       "#T_26442_row1_col45, #T_26442_row1_col46, #T_26442_row2_col45, #T_26442_row22_col7, #T_26442_row22_col23 {\n",
       "  background-color: #ffece4;\n",
       "  color: #000000;\n",
       "}\n",
       "#T_26442_row2_col7, #T_26442_row4_col18, #T_26442_row5_col8, #T_26442_row5_col18, #T_26442_row7_col20, #T_26442_row12_col20 {\n",
       "  background-color: #800610;\n",
       "  color: #f1f1f1;\n",
       "}\n",
       "#T_26442_row2_col8, #T_26442_row4_col17, #T_26442_row5_col17, #T_26442_row10_col40, #T_26442_row12_col40 {\n",
       "  background-color: #6f020e;\n",
       "  color: #f1f1f1;\n",
       "}\n",
       "#T_26442_row2_col9, #T_26442_row8_col40, #T_26442_row14_col38 {\n",
       "  background-color: #9d0d14;\n",
       "  color: #f1f1f1;\n",
       "}\n",
       "#T_26442_row2_col11, #T_26442_row2_col12, #T_26442_row3_col12, #T_26442_row6_col12, #T_26442_row10_col11, #T_26442_row11_col11 {\n",
       "  background-color: #860811;\n",
       "  color: #f1f1f1;\n",
       "}\n",
       "#T_26442_row2_col14, #T_26442_row4_col28, #T_26442_row7_col17, #T_26442_row10_col41 {\n",
       "  background-color: #8a0812;\n",
       "  color: #f1f1f1;\n",
       "}\n",
       "#T_26442_row2_col16, #T_26442_row4_col9, #T_26442_row4_col19, #T_26442_row4_col30, #T_26442_row10_col17, #T_26442_row13_col30 {\n",
       "  background-color: #b11218;\n",
       "  color: #f1f1f1;\n",
       "}\n",
       "#T_26442_row2_col18, #T_26442_row4_col8, #T_26442_row6_col18, #T_26442_row8_col18 {\n",
       "  background-color: #73030f;\n",
       "  color: #f1f1f1;\n",
       "}\n",
       "#T_26442_row2_col19, #T_26442_row8_col8, #T_26442_row13_col25, #T_26442_row21_col46 {\n",
       "  background-color: #a91016;\n",
       "  color: #f1f1f1;\n",
       "}\n",
       "#T_26442_row2_col20, #T_26442_row2_col22, #T_26442_row17_col20, #T_26442_row17_col22 {\n",
       "  background-color: #fc8464;\n",
       "  color: #f1f1f1;\n",
       "}\n",
       "#T_26442_row2_col21, #T_26442_row3_col42, #T_26442_row3_col47, #T_26442_row20_col21, #T_26442_row21_col11 {\n",
       "  background-color: #fcb499;\n",
       "  color: #000000;\n",
       "}\n",
       "#T_26442_row2_col23, #T_26442_row19_col23 {\n",
       "  background-color: #fca78b;\n",
       "  color: #000000;\n",
       "}\n",
       "#T_26442_row2_col25, #T_26442_row15_col46, #T_26442_row16_col29, #T_26442_row19_col17 {\n",
       "  background-color: #fca689;\n",
       "  color: #000000;\n",
       "}\n",
       "#T_26442_row2_col27, #T_26442_row7_col32, #T_26442_row7_col39, #T_26442_row8_col27, #T_26442_row8_col39 {\n",
       "  background-color: #840711;\n",
       "  color: #f1f1f1;\n",
       "}\n",
       "#T_26442_row2_col28, #T_26442_row3_col14, #T_26442_row5_col28 {\n",
       "  background-color: #980c13;\n",
       "  color: #f1f1f1;\n",
       "}\n",
       "#T_26442_row2_col29, #T_26442_row10_col35, #T_26442_row11_col28, #T_26442_row17_col34, #T_26442_row18_col34, #T_26442_row19_col35 {\n",
       "  background-color: #aa1016;\n",
       "  color: #f1f1f1;\n",
       "}\n",
       "#T_26442_row2_col30, #T_26442_row15_col30, #T_26442_row16_col30, #T_26442_row19_col44 {\n",
       "  background-color: #e32f27;\n",
       "  color: #f1f1f1;\n",
       "}\n",
       "#T_26442_row2_col32, #T_26442_row3_col32, #T_26442_row8_col35, #T_26442_row9_col15, #T_26442_row9_col35, #T_26442_row10_col8, #T_26442_row11_col32, #T_26442_row20_col34, #T_26442_row21_col35 {\n",
       "  background-color: #c7171c;\n",
       "  color: #f1f1f1;\n",
       "}\n",
       "#T_26442_row2_col34, #T_26442_row2_col41, #T_26442_row18_col29 {\n",
       "  background-color: #fdcbb6;\n",
       "  color: #000000;\n",
       "}\n",
       "#T_26442_row2_col35, #T_26442_row2_col40, #T_26442_row5_col6, #T_26442_row20_col39 {\n",
       "  background-color: #fdcdb9;\n",
       "  color: #000000;\n",
       "}\n",
       "#T_26442_row2_col37, #T_26442_row11_col44, #T_26442_row16_col16, #T_26442_row17_col9 {\n",
       "  background-color: #fcc1a8;\n",
       "  color: #000000;\n",
       "}\n",
       "#T_26442_row2_col39, #T_26442_row20_col17 {\n",
       "  background-color: #fcc4ad;\n",
       "  color: #000000;\n",
       "}\n",
       "#T_26442_row2_col42, #T_26442_row2_col47, #T_26442_row10_col44, #T_26442_row19_col19, #T_26442_row21_col8 {\n",
       "  background-color: #fdd4c2;\n",
       "  color: #000000;\n",
       "}\n",
       "#T_26442_row3_col5, #T_26442_row21_col23 {\n",
       "  background-color: #fedfd0;\n",
       "  color: #000000;\n",
       "}\n",
       "#T_26442_row3_col6, #T_26442_row20_col19 {\n",
       "  background-color: #fee2d5;\n",
       "  color: #000000;\n",
       "}\n",
       "#T_26442_row3_col9, #T_26442_row4_col14, #T_26442_row4_col29, #T_26442_row6_col29, #T_26442_row20_col6 {\n",
       "  background-color: #ab1016;\n",
       "  color: #f1f1f1;\n",
       "}\n",
       "#T_26442_row3_col16, #T_26442_row3_col30, #T_26442_row4_col16, #T_26442_row5_col39, #T_26442_row6_col31, #T_26442_row7_col14, #T_26442_row7_col41, #T_26442_row8_col7, #T_26442_row14_col30, #T_26442_row15_col31, #T_26442_row16_col31, #T_26442_row17_col31, #T_26442_row18_col6 {\n",
       "  background-color: #ca181d;\n",
       "  color: #f1f1f1;\n",
       "}\n",
       "#T_26442_row3_col19, #T_26442_row6_col19, #T_26442_row14_col37 {\n",
       "  background-color: #bc141a;\n",
       "  color: #f1f1f1;\n",
       "}\n",
       "#T_26442_row3_col20, #T_26442_row4_col45, #T_26442_row16_col20, #T_26442_row17_col45 {\n",
       "  background-color: #f96044;\n",
       "  color: #f1f1f1;\n",
       "}\n",
       "#T_26442_row3_col22, #T_26442_row4_col25, #T_26442_row18_col46 {\n",
       "  background-color: #f7593f;\n",
       "  color: #f1f1f1;\n",
       "}\n",
       "#T_26442_row3_col23 {\n",
       "  background-color: #fc8b6b;\n",
       "  color: #f1f1f1;\n",
       "}\n",
       "#T_26442_row3_col25, #T_26442_row4_col36, #T_26442_row15_col15, #T_26442_row15_col45, #T_26442_row18_col28 {\n",
       "  background-color: #fc8767;\n",
       "  color: #f1f1f1;\n",
       "}\n",
       "#T_26442_row3_col27, #T_26442_row7_col27, #T_26442_row7_col28, #T_26442_row9_col23, #T_26442_row9_col42, #T_26442_row9_col47, #T_26442_row11_col39, #T_26442_row12_col23 {\n",
       "  background-color: #75030f;\n",
       "  color: #f1f1f1;\n",
       "}\n",
       "#T_26442_row3_col29, #T_26442_row5_col14, #T_26442_row7_col23, #T_26442_row10_col10, #T_26442_row14_col23, #T_26442_row19_col5 {\n",
       "  background-color: #b31218;\n",
       "  color: #f1f1f1;\n",
       "}\n",
       "#T_26442_row3_col31, #T_26442_row4_col31, #T_26442_row5_col23, #T_26442_row5_col31, #T_26442_row15_col22, #T_26442_row16_col23, #T_26442_row18_col31 {\n",
       "  background-color: #ee3a2c;\n",
       "  color: #f1f1f1;\n",
       "}\n",
       "#T_26442_row3_col34, #T_26442_row17_col19 {\n",
       "  background-color: #fcae92;\n",
       "  color: #000000;\n",
       "}\n",
       "#T_26442_row3_col35, #T_26442_row17_col14, #T_26442_row17_col15 {\n",
       "  background-color: #fcaf93;\n",
       "  color: #000000;\n",
       "}\n",
       "#T_26442_row3_col36, #T_26442_row12_col46, #T_26442_row18_col19, #T_26442_row23_col42, #T_26442_row23_col47 {\n",
       "  background-color: #fcc2aa;\n",
       "  color: #000000;\n",
       "}\n",
       "#T_26442_row3_col37, #T_26442_row18_col8, #T_26442_row19_col37, #T_26442_row21_col42, #T_26442_row21_col47 {\n",
       "  background-color: #fc9576;\n",
       "  color: #000000;\n",
       "}\n",
       "#T_26442_row3_col38, #T_26442_row20_col38 {\n",
       "  background-color: #fc8a6a;\n",
       "  color: #f1f1f1;\n",
       "}\n",
       "#T_26442_row3_col39, #T_26442_row18_col20, #T_26442_row18_col39, #T_26442_row19_col10, #T_26442_row19_col21 {\n",
       "  background-color: #fc9c7d;\n",
       "  color: #000000;\n",
       "}\n",
       "#T_26442_row3_col40, #T_26442_row3_col41, #T_26442_row7_col5, #T_26442_row17_col7, #T_26442_row19_col8, #T_26442_row23_col40 {\n",
       "  background-color: #fcaa8d;\n",
       "  color: #000000;\n",
       "}\n",
       "#T_26442_row4_col5, #T_26442_row7_col46 {\n",
       "  background-color: #fdd2bf;\n",
       "  color: #000000;\n",
       "}\n",
       "#T_26442_row4_col6, #T_26442_row7_col44, #T_26442_row18_col16 {\n",
       "  background-color: #fed9c9;\n",
       "  color: #000000;\n",
       "}\n",
       "#T_26442_row4_col20, #T_26442_row10_col14, #T_26442_row15_col20 {\n",
       "  background-color: #ed392b;\n",
       "  color: #f1f1f1;\n",
       "}\n",
       "#T_26442_row4_col21, #T_26442_row18_col21 {\n",
       "  background-color: #fb7858;\n",
       "  color: #f1f1f1;\n",
       "}\n",
       "#T_26442_row4_col22, #T_26442_row12_col8, #T_26442_row16_col11, #T_26442_row17_col11 {\n",
       "  background-color: #e22e27;\n",
       "  color: #f1f1f1;\n",
       "}\n",
       "#T_26442_row4_col23, #T_26442_row20_col40 {\n",
       "  background-color: #fa6648;\n",
       "  color: #f1f1f1;\n",
       "}\n",
       "#T_26442_row4_col27, #T_26442_row6_col27 {\n",
       "  background-color: #6b010e;\n",
       "  color: #f1f1f1;\n",
       "}\n",
       "#T_26442_row4_col34, #T_26442_row18_col17 {\n",
       "  background-color: #fc8e6e;\n",
       "  color: #000000;\n",
       "}\n",
       "#T_26442_row4_col35, #T_26442_row9_col6, #T_26442_row14_col16, #T_26442_row15_col44, #T_26442_row16_col14, #T_26442_row20_col30 {\n",
       "  background-color: #fca082;\n",
       "  color: #000000;\n",
       "}\n",
       "#T_26442_row4_col38, #T_26442_row6_col35, #T_26442_row17_col25, #T_26442_row19_col38 {\n",
       "  background-color: #fb7252;\n",
       "  color: #f1f1f1;\n",
       "}\n",
       "#T_26442_row4_col39, #T_26442_row8_col16, #T_26442_row12_col14, #T_26442_row16_col39, #T_26442_row17_col37 {\n",
       "  background-color: #f85d42;\n",
       "  color: #f1f1f1;\n",
       "}\n",
       "#T_26442_row4_col40 {\n",
       "  background-color: #fc8161;\n",
       "  color: #f1f1f1;\n",
       "}\n",
       "#T_26442_row4_col41, #T_26442_row9_col5 {\n",
       "  background-color: #fc8d6d;\n",
       "  color: #f1f1f1;\n",
       "}\n",
       "#T_26442_row4_col42, #T_26442_row4_col47, #T_26442_row17_col39 {\n",
       "  background-color: #fb7d5d;\n",
       "  color: #f1f1f1;\n",
       "}\n",
       "#T_26442_row4_col44, #T_26442_row10_col9, #T_26442_row12_col19, #T_26442_row15_col18, #T_26442_row18_col44 {\n",
       "  background-color: #f4503a;\n",
       "  color: #f1f1f1;\n",
       "}\n",
       "#T_26442_row4_col46, #T_26442_row6_col25, #T_26442_row14_col25, #T_26442_row17_col36 {\n",
       "  background-color: #c4161c;\n",
       "  color: #f1f1f1;\n",
       "}\n",
       "#T_26442_row5_col5, #T_26442_row20_col18 {\n",
       "  background-color: #fdc5ae;\n",
       "  color: #000000;\n",
       "}\n",
       "#T_26442_row5_col9, #T_26442_row9_col12 {\n",
       "  background-color: #b91419;\n",
       "  color: #f1f1f1;\n",
       "}\n",
       "#T_26442_row5_col16, #T_26442_row7_col19, #T_26442_row8_col29 {\n",
       "  background-color: #d01d1f;\n",
       "  color: #f1f1f1;\n",
       "}\n",
       "#T_26442_row5_col19, #T_26442_row7_col38, #T_26442_row7_col42, #T_26442_row7_col47, #T_26442_row8_col12, #T_26442_row14_col42, #T_26442_row14_col47, #T_26442_row21_col44 {\n",
       "  background-color: #ac1117;\n",
       "  color: #f1f1f1;\n",
       "}\n",
       "#T_26442_row5_col20, #T_26442_row14_col20, #T_26442_row15_col11, #T_26442_row16_col38 {\n",
       "  background-color: #cf1c1f;\n",
       "  color: #f1f1f1;\n",
       "}\n",
       "#T_26442_row5_col21, #T_26442_row13_col5, #T_26442_row13_col15, #T_26442_row17_col21 {\n",
       "  background-color: #f5523a;\n",
       "  color: #f1f1f1;\n",
       "}\n",
       "#T_26442_row5_col22, #T_26442_row7_col40, #T_26442_row11_col10, #T_26442_row11_col17, #T_26442_row13_col22, #T_26442_row16_col40 {\n",
       "  background-color: #bd151a;\n",
       "  color: #f1f1f1;\n",
       "}\n",
       "#T_26442_row5_col25, #T_26442_row10_col7, #T_26442_row12_col12, #T_26442_row15_col39 {\n",
       "  background-color: #e53228;\n",
       "  color: #f1f1f1;\n",
       "}\n",
       "#T_26442_row5_col29, #T_26442_row8_col25, #T_26442_row22_col44 {\n",
       "  background-color: #9f0e14;\n",
       "  color: #f1f1f1;\n",
       "}\n",
       "#T_26442_row5_col34, #T_26442_row15_col32 {\n",
       "  background-color: #f85f43;\n",
       "  color: #f1f1f1;\n",
       "}\n",
       "#T_26442_row5_col36, #T_26442_row15_col17, #T_26442_row15_col28, #T_26442_row21_col36 {\n",
       "  background-color: #f24734;\n",
       "  color: #f1f1f1;\n",
       "}\n",
       "#T_26442_row5_col37, #T_26442_row10_col19, #T_26442_row19_col36, #T_26442_row20_col36 {\n",
       "  background-color: #ec382b;\n",
       "  color: #f1f1f1;\n",
       "}\n",
       "#T_26442_row5_col38, #T_26442_row13_col32, #T_26442_row14_col32, #T_26442_row15_col10, #T_26442_row18_col38, #T_26442_row19_col40 {\n",
       "  background-color: #f34935;\n",
       "  color: #f1f1f1;\n",
       "}\n",
       "#T_26442_row5_col40 {\n",
       "  background-color: #f6553c;\n",
       "  color: #f1f1f1;\n",
       "}\n",
       "#T_26442_row5_col41, #T_26442_row13_col14, #T_26442_row17_col10 {\n",
       "  background-color: #fb7050;\n",
       "  color: #f1f1f1;\n",
       "}\n",
       "#T_26442_row5_col42, #T_26442_row5_col47, #T_26442_row6_col34, #T_26442_row22_col34, #T_26442_row23_col34 {\n",
       "  background-color: #ef3c2c;\n",
       "  color: #f1f1f1;\n",
       "}\n",
       "#T_26442_row5_col44, #T_26442_row21_col16 {\n",
       "  background-color: #ffede5;\n",
       "  color: #000000;\n",
       "}\n",
       "#T_26442_row6_col5, #T_26442_row7_col6, #T_26442_row19_col20 {\n",
       "  background-color: #fcb89e;\n",
       "  color: #000000;\n",
       "}\n",
       "#T_26442_row6_col9, #T_26442_row12_col10, #T_26442_row12_col17, #T_26442_row13_col28 {\n",
       "  background-color: #c8171c;\n",
       "  color: #f1f1f1;\n",
       "}\n",
       "#T_26442_row6_col16, #T_26442_row6_col40, #T_26442_row9_col14, #T_26442_row18_col36 {\n",
       "  background-color: #de2b25;\n",
       "  color: #f1f1f1;\n",
       "}\n",
       "#T_26442_row6_col17, #T_26442_row8_col21, #T_26442_row9_col38, #T_26442_row11_col41, #T_26442_row12_col38, #T_26442_row12_col41, #T_26442_row13_col21, #T_26442_row13_col38, #T_26442_row14_col41 {\n",
       "  background-color: #79040f;\n",
       "  color: #f1f1f1;\n",
       "}\n",
       "#T_26442_row6_col21, #T_26442_row16_col21 {\n",
       "  background-color: #e12d26;\n",
       "  color: #f1f1f1;\n",
       "}\n",
       "#T_26442_row6_col22, #T_26442_row6_col39, #T_26442_row7_col31, #T_26442_row12_col22, #T_26442_row12_col39, #T_26442_row13_col42, #T_26442_row13_col47, #T_26442_row14_col31, #T_26442_row22_col46 {\n",
       "  background-color: #a30f15;\n",
       "  color: #f1f1f1;\n",
       "}\n",
       "#T_26442_row6_col23, #T_26442_row15_col23, #T_26442_row17_col5 {\n",
       "  background-color: #ce1a1e;\n",
       "  color: #f1f1f1;\n",
       "}\n",
       "#T_26442_row6_col36, #T_26442_row13_col18, #T_26442_row16_col42, #T_26442_row16_col47 {\n",
       "  background-color: #d11e1f;\n",
       "  color: #f1f1f1;\n",
       "}\n",
       "#T_26442_row6_col37, #T_26442_row10_col12, #T_26442_row18_col41 {\n",
       "  background-color: #c5171c;\n",
       "  color: #f1f1f1;\n",
       "}\n",
       "#T_26442_row6_col38, #T_26442_row8_col9, #T_26442_row17_col38, #T_26442_row18_col45, #T_26442_row19_col41 {\n",
       "  background-color: #e43027;\n",
       "  color: #f1f1f1;\n",
       "}\n",
       "#T_26442_row6_col41, #T_26442_row14_col8, #T_26442_row20_col41 {\n",
       "  background-color: #f44f39;\n",
       "  color: #f1f1f1;\n",
       "}\n",
       "#T_26442_row6_col42, #T_26442_row6_col47 {\n",
       "  background-color: #c9181d;\n",
       "  color: #f1f1f1;\n",
       "}\n",
       "#T_26442_row6_col45 {\n",
       "  background-color: #fdd3c1;\n",
       "  color: #000000;\n",
       "}\n",
       "#T_26442_row6_col46, #T_26442_row8_col46, #T_26442_row20_col12 {\n",
       "  background-color: #fdccb8;\n",
       "  color: #000000;\n",
       "}\n",
       "#T_26442_row7_col8, #T_26442_row9_col10 {\n",
       "  background-color: #9a0c14;\n",
       "  color: #f1f1f1;\n",
       "}\n",
       "#T_26442_row7_col9, #T_26442_row7_col34, #T_26442_row12_col27, #T_26442_row21_col34 {\n",
       "  background-color: #d42121;\n",
       "  color: #f1f1f1;\n",
       "}\n",
       "#T_26442_row7_col12, #T_26442_row9_col27, #T_26442_row9_col41, #T_26442_row14_col21, #T_26442_row15_col41 {\n",
       "  background-color: #9c0d14;\n",
       "  color: #f1f1f1;\n",
       "}\n",
       "#T_26442_row7_col16 {\n",
       "  background-color: #f03f2e;\n",
       "  color: #f1f1f1;\n",
       "}\n",
       "#T_26442_row7_col29, #T_26442_row15_col38, #T_26442_row20_col45 {\n",
       "  background-color: #b71319;\n",
       "  color: #f1f1f1;\n",
       "}\n",
       "#T_26442_row7_col35, #T_26442_row9_col9, #T_26442_row13_col8 {\n",
       "  background-color: #f03d2d;\n",
       "  color: #f1f1f1;\n",
       "}\n",
       "#T_26442_row7_col45, #T_26442_row18_col9, #T_26442_row19_col14, #T_26442_row20_col27 {\n",
       "  background-color: #fdcebb;\n",
       "  color: #000000;\n",
       "}\n",
       "#T_26442_row8_col5, #T_26442_row22_col40 {\n",
       "  background-color: #fc9b7c;\n",
       "  color: #000000;\n",
       "}\n",
       "#T_26442_row8_col6, #T_26442_row18_col32 {\n",
       "  background-color: #fcad90;\n",
       "  color: #000000;\n",
       "}\n",
       "#T_26442_row8_col14, #T_26442_row9_col7, #T_26442_row12_col32, #T_26442_row13_col17, #T_26442_row15_col25 {\n",
       "  background-color: #d82422;\n",
       "  color: #f1f1f1;\n",
       "}\n",
       "#T_26442_row8_col17, #T_26442_row9_col36, #T_26442_row13_col36, #T_26442_row14_col36, #T_26442_row15_col36 {\n",
       "  background-color: #940b13;\n",
       "  color: #f1f1f1;\n",
       "}\n",
       "#T_26442_row8_col19, #T_26442_row9_col19, #T_26442_row13_col27, #T_26442_row14_col17 {\n",
       "  background-color: #e93529;\n",
       "  color: #f1f1f1;\n",
       "}\n",
       "#T_26442_row8_col34, #T_26442_row9_col8, #T_26442_row19_col34, #T_26442_row20_col35 {\n",
       "  background-color: #b81419;\n",
       "  color: #f1f1f1;\n",
       "}\n",
       "#T_26442_row8_col38 {\n",
       "  background-color: #8c0912;\n",
       "  color: #f1f1f1;\n",
       "}\n",
       "#T_26442_row8_col41, #T_26442_row11_col18, #T_26442_row16_col41 {\n",
       "  background-color: #b01217;\n",
       "  color: #f1f1f1;\n",
       "}\n",
       "#T_26442_row8_col44, #T_26442_row17_col16 {\n",
       "  background-color: #fdd0bc;\n",
       "  color: #000000;\n",
       "}\n",
       "#T_26442_row8_col45, #T_26442_row18_col7, #T_26442_row18_col15, #T_26442_row19_col12, #T_26442_row19_col27, #T_26442_row22_col42, #T_26442_row22_col47 {\n",
       "  background-color: #fcb99f;\n",
       "  color: #000000;\n",
       "}\n",
       "#T_26442_row9_col16, #T_26442_row11_col9, #T_26442_row12_col29, #T_26442_row13_col19, #T_26442_row16_col17, #T_26442_row21_col41 {\n",
       "  background-color: #f96346;\n",
       "  color: #f1f1f1;\n",
       "}\n",
       "#T_26442_row9_col29, #T_26442_row11_col15 {\n",
       "  background-color: #dd2a25;\n",
       "  color: #f1f1f1;\n",
       "}\n",
       "#T_26442_row9_col34, #T_26442_row11_col35, #T_26442_row14_col40, #T_26442_row15_col35, #T_26442_row16_col34, #T_26442_row16_col35, #T_26442_row17_col35, #T_26442_row18_col35, #T_26442_row21_col6 {\n",
       "  background-color: #960b13;\n",
       "  color: #f1f1f1;\n",
       "}\n",
       "#T_26442_row9_col45, #T_26442_row19_col7, #T_26442_row19_col15, #T_26442_row21_col10 {\n",
       "  background-color: #fdc9b3;\n",
       "  color: #000000;\n",
       "}\n",
       "#T_26442_row9_col46 {\n",
       "  background-color: #fee1d3;\n",
       "  color: #000000;\n",
       "}\n",
       "#T_26442_row10_col5, #T_26442_row17_col18 {\n",
       "  background-color: #fc7f5f;\n",
       "  color: #f1f1f1;\n",
       "}\n",
       "#T_26442_row10_col6, #T_26442_row13_col45, #T_26442_row14_col45, #T_26442_row15_col29 {\n",
       "  background-color: #fc9373;\n",
       "  color: #000000;\n",
       "}\n",
       "#T_26442_row10_col15, #T_26442_row11_col12 {\n",
       "  background-color: #d21f20;\n",
       "  color: #f1f1f1;\n",
       "}\n",
       "#T_26442_row10_col29, #T_26442_row14_col10 {\n",
       "  background-color: #e63328;\n",
       "  color: #f1f1f1;\n",
       "}\n",
       "#T_26442_row10_col45, #T_26442_row18_col14, #T_26442_row19_col32, #T_26442_row20_col8 {\n",
       "  background-color: #fcbfa7;\n",
       "  color: #000000;\n",
       "}\n",
       "#T_26442_row10_col46 {\n",
       "  background-color: #fdd7c6;\n",
       "  color: #000000;\n",
       "}\n",
       "#T_26442_row11_col5 {\n",
       "  background-color: #fb7151;\n",
       "  color: #f1f1f1;\n",
       "}\n",
       "#T_26442_row11_col6, #T_26442_row14_col29, #T_26442_row18_col10, #T_26442_row23_col41 {\n",
       "  background-color: #fc8666;\n",
       "  color: #f1f1f1;\n",
       "}\n",
       "#T_26442_row11_col7, #T_26442_row11_col19, #T_26442_row14_col5 {\n",
       "  background-color: #f14130;\n",
       "  color: #f1f1f1;\n",
       "}\n",
       "#T_26442_row11_col8, #T_26442_row14_col39 {\n",
       "  background-color: #d32020;\n",
       "  color: #f1f1f1;\n",
       "}\n",
       "#T_26442_row11_col14, #T_26442_row14_col27 {\n",
       "  background-color: #f34c37;\n",
       "  color: #f1f1f1;\n",
       "}\n",
       "#T_26442_row11_col16, #T_26442_row12_col9, #T_26442_row14_col19 {\n",
       "  background-color: #fb7555;\n",
       "  color: #f1f1f1;\n",
       "}\n",
       "#T_26442_row11_col25 {\n",
       "  background-color: #71020e;\n",
       "  color: #f1f1f1;\n",
       "}\n",
       "#T_26442_row11_col45 {\n",
       "  background-color: #fca98c;\n",
       "  color: #000000;\n",
       "}\n",
       "#T_26442_row11_col46, #T_26442_row13_col46 {\n",
       "  background-color: #fcbda4;\n",
       "  color: #000000;\n",
       "}\n",
       "#T_26442_row12_col5, #T_26442_row15_col8, #T_26442_row15_col27 {\n",
       "  background-color: #f96245;\n",
       "  color: #f1f1f1;\n",
       "}\n",
       "#T_26442_row12_col6, #T_26442_row16_col45 {\n",
       "  background-color: #fb7757;\n",
       "  color: #f1f1f1;\n",
       "}\n",
       "#T_26442_row12_col7, #T_26442_row14_col12, #T_26442_row16_col10 {\n",
       "  background-color: #f6563d;\n",
       "  color: #f1f1f1;\n",
       "}\n",
       "#T_26442_row12_col15, #T_26442_row18_col11 {\n",
       "  background-color: #f14331;\n",
       "  color: #f1f1f1;\n",
       "}\n",
       "#T_26442_row12_col16, #T_26442_row13_col9, #T_26442_row17_col8, #T_26442_row19_col30 {\n",
       "  background-color: #fc8565;\n",
       "  color: #f1f1f1;\n",
       "}\n",
       "#T_26442_row12_col45, #T_26442_row15_col9, #T_26442_row18_col27, #T_26442_row19_col28 {\n",
       "  background-color: #fca486;\n",
       "  color: #000000;\n",
       "}\n",
       "#T_26442_row13_col10, #T_26442_row14_col28 {\n",
       "  background-color: #dc2924;\n",
       "  color: #f1f1f1;\n",
       "}\n",
       "#T_26442_row13_col12 {\n",
       "  background-color: #f24633;\n",
       "  color: #f1f1f1;\n",
       "}\n",
       "#T_26442_row13_col16, #T_26442_row15_col14, #T_26442_row16_col44, #T_26442_row17_col12, #T_26442_row18_col25 {\n",
       "  background-color: #fc8f6f;\n",
       "  color: #000000;\n",
       "}\n",
       "#T_26442_row13_col29, #T_26442_row14_col7, #T_26442_row16_col12, #T_26442_row22_col41 {\n",
       "  background-color: #fb7b5b;\n",
       "  color: #f1f1f1;\n",
       "}\n",
       "#T_26442_row13_col44, #T_26442_row19_col25, #T_26442_row20_col37 {\n",
       "  background-color: #fcb69b;\n",
       "  color: #000000;\n",
       "}\n",
       "#T_26442_row14_col6 {\n",
       "  background-color: #f6583e;\n",
       "  color: #f1f1f1;\n",
       "}\n",
       "#T_26442_row14_col9, #T_26442_row16_col15, #T_26442_row16_col46 {\n",
       "  background-color: #fc9474;\n",
       "  color: #000000;\n",
       "}\n",
       "#T_26442_row14_col14, #T_26442_row17_col44, #T_26442_row18_col37 {\n",
       "  background-color: #fc8060;\n",
       "  color: #f1f1f1;\n",
       "}\n",
       "#T_26442_row14_col15, #T_26442_row19_col42, #T_26442_row19_col47 {\n",
       "  background-color: #fb6e4e;\n",
       "  color: #f1f1f1;\n",
       "}\n",
       "#T_26442_row14_col18, #T_26442_row15_col5, #T_26442_row16_col6, #T_26442_row17_col42, #T_26442_row17_col47, #T_26442_row18_col40, #T_26442_row19_col46 {\n",
       "  background-color: #e83429;\n",
       "  color: #f1f1f1;\n",
       "}\n",
       "#T_26442_row14_col22 {\n",
       "  background-color: #d72322;\n",
       "  color: #f1f1f1;\n",
       "}\n",
       "#T_26442_row14_col44, #T_26442_row15_col16 {\n",
       "  background-color: #fcb095;\n",
       "  color: #000000;\n",
       "}\n",
       "#T_26442_row14_col46 {\n",
       "  background-color: #fcb79c;\n",
       "  color: #000000;\n",
       "}\n",
       "#T_26442_row15_col6, #T_26442_row16_col37 {\n",
       "  background-color: #f14432;\n",
       "  color: #f1f1f1;\n",
       "}\n",
       "#T_26442_row15_col7, #T_26442_row15_col19, #T_26442_row17_col46, #T_26442_row20_col11 {\n",
       "  background-color: #fc8969;\n",
       "  color: #f1f1f1;\n",
       "}\n",
       "#T_26442_row15_col12 {\n",
       "  background-color: #fb6d4d;\n",
       "  color: #f1f1f1;\n",
       "}\n",
       "#T_26442_row15_col37, #T_26442_row17_col6, #T_26442_row20_col44, #T_26442_row20_col46 {\n",
       "  background-color: #d92523;\n",
       "  color: #f1f1f1;\n",
       "}\n",
       "#T_26442_row16_col5 {\n",
       "  background-color: #da2723;\n",
       "  color: #f1f1f1;\n",
       "}\n",
       "#T_26442_row16_col7, #T_26442_row16_col19, #T_26442_row17_col32 {\n",
       "  background-color: #fc997a;\n",
       "  color: #000000;\n",
       "}\n",
       "#T_26442_row16_col8, #T_26442_row16_col32, #T_26442_row19_col11 {\n",
       "  background-color: #fb7353;\n",
       "  color: #f1f1f1;\n",
       "}\n",
       "#T_26442_row16_col9, #T_26442_row20_col10 {\n",
       "  background-color: #fcb398;\n",
       "  color: #000000;\n",
       "}\n",
       "#T_26442_row16_col18 {\n",
       "  background-color: #fa6547;\n",
       "  color: #f1f1f1;\n",
       "}\n",
       "#T_26442_row16_col22 {\n",
       "  background-color: #fa6849;\n",
       "  color: #f1f1f1;\n",
       "}\n",
       "#T_26442_row16_col25 {\n",
       "  background-color: #f0402f;\n",
       "  color: #f1f1f1;\n",
       "}\n",
       "#T_26442_row16_col27 {\n",
       "  background-color: #fb7a5a;\n",
       "  color: #f1f1f1;\n",
       "}\n",
       "#T_26442_row16_col28 {\n",
       "  background-color: #f75c41;\n",
       "  color: #f1f1f1;\n",
       "}\n",
       "#T_26442_row17_col17, #T_26442_row17_col28 {\n",
       "  background-color: #fb7656;\n",
       "  color: #f1f1f1;\n",
       "}\n",
       "#T_26442_row17_col23 {\n",
       "  background-color: #f75b40;\n",
       "  color: #f1f1f1;\n",
       "}\n",
       "#T_26442_row17_col40, #T_26442_row22_col35, #T_26442_row23_col35 {\n",
       "  background-color: #d52221;\n",
       "  color: #f1f1f1;\n",
       "}\n",
       "#T_26442_row17_col41 {\n",
       "  background-color: #bf151b;\n",
       "  color: #f1f1f1;\n",
       "}\n",
       "#T_26442_row18_col12 {\n",
       "  background-color: #fca588;\n",
       "  color: #000000;\n",
       "}\n",
       "#T_26442_row18_col23, #T_26442_row20_col42, #T_26442_row20_col47 {\n",
       "  background-color: #fc8262;\n",
       "  color: #f1f1f1;\n",
       "}\n",
       "#T_26442_row18_col42, #T_26442_row18_col47 {\n",
       "  background-color: #f5533b;\n",
       "  color: #f1f1f1;\n",
       "}\n",
       "#T_26442_row19_col9, #T_26442_row19_col29, #T_26442_row21_col17 {\n",
       "  background-color: #fedaca;\n",
       "  color: #000000;\n",
       "}\n",
       "#T_26442_row19_col18, #T_26442_row21_col38 {\n",
       "  background-color: #fca285;\n",
       "  color: #000000;\n",
       "}\n",
       "#T_26442_row19_col45 {\n",
       "  background-color: #c2161b;\n",
       "  color: #f1f1f1;\n",
       "}\n",
       "#T_26442_row20_col7, #T_26442_row20_col22, #T_26442_row21_col21 {\n",
       "  background-color: #fed8c7;\n",
       "  color: #000000;\n",
       "}\n",
       "#T_26442_row20_col9, #T_26442_row20_col29, #T_26442_row21_col7, #T_26442_row22_col10 {\n",
       "  background-color: #fee4d8;\n",
       "  color: #000000;\n",
       "}\n",
       "#T_26442_row20_col15, #T_26442_row21_col28 {\n",
       "  background-color: #fedbcc;\n",
       "  color: #000000;\n",
       "}\n",
       "#T_26442_row20_col25, #T_26442_row21_col37 {\n",
       "  background-color: #fdcab5;\n",
       "  color: #000000;\n",
       "}\n",
       "#T_26442_row20_col31 {\n",
       "  background-color: #fc9272;\n",
       "  color: #000000;\n",
       "}\n",
       "#T_26442_row21_col9, #T_26442_row21_col19, #T_26442_row22_col12 {\n",
       "  background-color: #feeae1;\n",
       "  color: #000000;\n",
       "}\n",
       "#T_26442_row21_col14 {\n",
       "  background-color: #fee8dd;\n",
       "  color: #000000;\n",
       "}\n",
       "#T_26442_row21_col15 {\n",
       "  background-color: #fee6da;\n",
       "  color: #000000;\n",
       "}\n",
       "#T_26442_row21_col25 {\n",
       "  background-color: #fee3d6;\n",
       "  color: #000000;\n",
       "}\n",
       "#T_26442_row21_col29 {\n",
       "  background-color: #ffece3;\n",
       "  color: #000000;\n",
       "}\n",
       "#T_26442_row21_col32 {\n",
       "  background-color: #fee1d4;\n",
       "  color: #000000;\n",
       "}\n",
       "#T_26442_row21_col40 {\n",
       "  background-color: #fb7c5c;\n",
       "  color: #f1f1f1;\n",
       "}\n",
       "#T_26442_row22_col9, #T_26442_row22_col22 {\n",
       "  background-color: #fff0e9;\n",
       "  color: #000000;\n",
       "}\n",
       "#T_26442_row22_col14, #T_26442_row22_col20 {\n",
       "  background-color: #ffeee7;\n",
       "  color: #000000;\n",
       "}\n",
       "#T_26442_row22_col16 {\n",
       "  background-color: #fff3ed;\n",
       "  color: #000000;\n",
       "}\n",
       "#T_26442_row22_col17, #T_26442_row22_col28 {\n",
       "  background-color: #fee9df;\n",
       "  color: #000000;\n",
       "}\n",
       "#T_26442_row22_col19, #T_26442_row22_col29 {\n",
       "  background-color: #fff1ea;\n",
       "  color: #000000;\n",
       "}\n",
       "#T_26442_row22_col27, #T_26442_row22_col32 {\n",
       "  background-color: #ffebe2;\n",
       "  color: #000000;\n",
       "}\n",
       "#T_26442_row23_col38 {\n",
       "  background-color: #fdc6b0;\n",
       "  color: #000000;\n",
       "}\n",
       "</style>\n",
       "<table id=\"T_26442\">\n",
       "  <thead>\n",
       "    <tr>\n",
       "      <th class=\"blank level0\" >&nbsp;</th>\n",
       "      <th id=\"T_26442_level0_col0\" class=\"col_heading level0 col0\" >Country or territory name</th>\n",
       "      <th id=\"T_26442_level0_col1\" class=\"col_heading level0 col1\" >ISO 2-character country/territory code</th>\n",
       "      <th id=\"T_26442_level0_col2\" class=\"col_heading level0 col2\" >ISO 3-character country/territory code</th>\n",
       "      <th id=\"T_26442_level0_col3\" class=\"col_heading level0 col3\" >ISO numeric country/territory code</th>\n",
       "      <th id=\"T_26442_level0_col4\" class=\"col_heading level0 col4\" >Region</th>\n",
       "      <th id=\"T_26442_level0_col5\" class=\"col_heading level0 col5\" >Year</th>\n",
       "      <th id=\"T_26442_level0_col6\" class=\"col_heading level0 col6\" >Estimated total population number</th>\n",
       "      <th id=\"T_26442_level0_col7\" class=\"col_heading level0 col7\" >Estimated prevalence of TB (all forms) per 100 000 population</th>\n",
       "      <th id=\"T_26442_level0_col8\" class=\"col_heading level0 col8\" >Estimated prevalence of TB (all forms) per 100 000 population, low bound</th>\n",
       "      <th id=\"T_26442_level0_col9\" class=\"col_heading level0 col9\" >Estimated prevalence of TB (all forms) per 100 000 population, high bound</th>\n",
       "      <th id=\"T_26442_level0_col10\" class=\"col_heading level0 col10\" >Estimated prevalence of TB (all forms)</th>\n",
       "      <th id=\"T_26442_level0_col11\" class=\"col_heading level0 col11\" >Estimated prevalence of TB (all forms), low bound</th>\n",
       "      <th id=\"T_26442_level0_col12\" class=\"col_heading level0 col12\" >Estimated prevalence of TB (all forms), high bound</th>\n",
       "      <th id=\"T_26442_level0_col13\" class=\"col_heading level0 col13\" >Method to derive prevalence estimates</th>\n",
       "      <th id=\"T_26442_level0_col14\" class=\"col_heading level0 col14\" >Estimated mortality of TB cases (all forms, excluding HIV) per 100 000 population</th>\n",
       "      <th id=\"T_26442_level0_col15\" class=\"col_heading level0 col15\" >Estimated mortality of TB cases (all forms, excluding HIV), per 100 000 population, low bound</th>\n",
       "      <th id=\"T_26442_level0_col16\" class=\"col_heading level0 col16\" >Estimated mortality of TB cases (all forms, excluding HIV), per 100 000 population, high bound</th>\n",
       "      <th id=\"T_26442_level0_col17\" class=\"col_heading level0 col17\" >Estimated number of deaths from TB (all forms, excluding HIV)</th>\n",
       "      <th id=\"T_26442_level0_col18\" class=\"col_heading level0 col18\" >Estimated number of deaths from TB (all forms, excluding HIV), low bound</th>\n",
       "      <th id=\"T_26442_level0_col19\" class=\"col_heading level0 col19\" >Estimated number of deaths from TB (all forms, excluding HIV), high bound</th>\n",
       "      <th id=\"T_26442_level0_col20\" class=\"col_heading level0 col20\" >Estimated mortality of TB cases who are HIV-positive, per 100 000 population</th>\n",
       "      <th id=\"T_26442_level0_col21\" class=\"col_heading level0 col21\" >Estimated mortality of TB cases who are HIV-positive, per 100 000 population, low bound</th>\n",
       "      <th id=\"T_26442_level0_col22\" class=\"col_heading level0 col22\" >Estimated mortality of TB cases who are HIV-positive, per 100 000 population, high bound</th>\n",
       "      <th id=\"T_26442_level0_col23\" class=\"col_heading level0 col23\" >Estimated number of deaths from TB in people who are HIV-positive</th>\n",
       "      <th id=\"T_26442_level0_col24\" class=\"col_heading level0 col24\" >Estimated number of deaths from TB in people who are HIV-positive, low bound</th>\n",
       "      <th id=\"T_26442_level0_col25\" class=\"col_heading level0 col25\" >Estimated number of deaths from TB in people who are HIV-positive, high bound</th>\n",
       "      <th id=\"T_26442_level0_col26\" class=\"col_heading level0 col26\" >Method to derive mortality estimates</th>\n",
       "      <th id=\"T_26442_level0_col27\" class=\"col_heading level0 col27\" >Estimated incidence (all forms) per 100 000 population</th>\n",
       "      <th id=\"T_26442_level0_col28\" class=\"col_heading level0 col28\" >Estimated incidence (all forms) per 100 000 population, low bound</th>\n",
       "      <th id=\"T_26442_level0_col29\" class=\"col_heading level0 col29\" >Estimated incidence (all forms) per 100 000 population, high bound</th>\n",
       "      <th id=\"T_26442_level0_col30\" class=\"col_heading level0 col30\" >Estimated number of incident cases (all forms)</th>\n",
       "      <th id=\"T_26442_level0_col31\" class=\"col_heading level0 col31\" >Estimated number of incident cases (all forms), low bound</th>\n",
       "      <th id=\"T_26442_level0_col32\" class=\"col_heading level0 col32\" >Estimated number of incident cases (all forms), high bound</th>\n",
       "      <th id=\"T_26442_level0_col33\" class=\"col_heading level0 col33\" >Method to derive incidence estimates</th>\n",
       "      <th id=\"T_26442_level0_col34\" class=\"col_heading level0 col34\" >Estimated HIV in incident TB (percent)</th>\n",
       "      <th id=\"T_26442_level0_col35\" class=\"col_heading level0 col35\" >Estimated HIV in incident TB (percent), low bound</th>\n",
       "      <th id=\"T_26442_level0_col36\" class=\"col_heading level0 col36\" >Estimated HIV in incident TB (percent), high bound</th>\n",
       "      <th id=\"T_26442_level0_col37\" class=\"col_heading level0 col37\" >Estimated incidence of TB cases who are HIV-positive per 100 000 population</th>\n",
       "      <th id=\"T_26442_level0_col38\" class=\"col_heading level0 col38\" >Estimated incidence of TB cases who are HIV-positive per 100 000 population, low bound</th>\n",
       "      <th id=\"T_26442_level0_col39\" class=\"col_heading level0 col39\" >Estimated incidence of TB cases who are HIV-positive per 100 000 population, high bound</th>\n",
       "      <th id=\"T_26442_level0_col40\" class=\"col_heading level0 col40\" >Estimated incidence of TB cases who are HIV-positive</th>\n",
       "      <th id=\"T_26442_level0_col41\" class=\"col_heading level0 col41\" >Estimated incidence of TB cases who are HIV-positive, low bound</th>\n",
       "      <th id=\"T_26442_level0_col42\" class=\"col_heading level0 col42\" >Estimated incidence of TB cases who are HIV-positive, high bound</th>\n",
       "      <th id=\"T_26442_level0_col43\" class=\"col_heading level0 col43\" >Method to derive TBHIV estimates</th>\n",
       "      <th id=\"T_26442_level0_col44\" class=\"col_heading level0 col44\" >Case detection rate (all forms), percent</th>\n",
       "      <th id=\"T_26442_level0_col45\" class=\"col_heading level0 col45\" >Case detection rate (all forms), percent, low bound</th>\n",
       "      <th id=\"T_26442_level0_col46\" class=\"col_heading level0 col46\" >Case detection rate (all forms), percent, high bound</th>\n",
       "      <th id=\"T_26442_level0_col47\" class=\"col_heading level0 col47\" >Estimated incidence of TB cases who are HIV-positive, high bound </th>\n",
       "    </tr>\n",
       "  </thead>\n",
       "  <tbody>\n",
       "    <tr>\n",
       "      <th id=\"T_26442_level0_row0\" class=\"row_heading level0 row0\" >1808</th>\n",
       "      <td id=\"T_26442_row0_col0\" class=\"data row0 col0\" >Ghana</td>\n",
       "      <td id=\"T_26442_row0_col1\" class=\"data row0 col1\" >GH</td>\n",
       "      <td id=\"T_26442_row0_col2\" class=\"data row0 col2\" >GHA</td>\n",
       "      <td id=\"T_26442_row0_col3\" class=\"data row0 col3\" >288</td>\n",
       "      <td id=\"T_26442_row0_col4\" class=\"data row0 col4\" >AFR</td>\n",
       "      <td id=\"T_26442_row0_col5\" class=\"data row0 col5\" >1990</td>\n",
       "      <td id=\"T_26442_row0_col6\" class=\"data row0 col6\" >14628693</td>\n",
       "      <td id=\"T_26442_row0_col7\" class=\"data row0 col7\" >307.000000</td>\n",
       "      <td id=\"T_26442_row0_col8\" class=\"data row0 col8\" >136.000000</td>\n",
       "      <td id=\"T_26442_row0_col9\" class=\"data row0 col9\" >547.000000</td>\n",
       "      <td id=\"T_26442_row0_col10\" class=\"data row0 col10\" >45000.000000</td>\n",
       "      <td id=\"T_26442_row0_col11\" class=\"data row0 col11\" >20000.000000</td>\n",
       "      <td id=\"T_26442_row0_col12\" class=\"data row0 col12\" >80000.000000</td>\n",
       "      <td id=\"T_26442_row0_col13\" class=\"data row0 col13\" >predicted</td>\n",
       "      <td id=\"T_26442_row0_col14\" class=\"data row0 col14\" >45.000000</td>\n",
       "      <td id=\"T_26442_row0_col15\" class=\"data row0 col15\" >24.000000</td>\n",
       "      <td id=\"T_26442_row0_col16\" class=\"data row0 col16\" >68.000000</td>\n",
       "      <td id=\"T_26442_row0_col17\" class=\"data row0 col17\" >6500.000000</td>\n",
       "      <td id=\"T_26442_row0_col18\" class=\"data row0 col18\" >3600.000000</td>\n",
       "      <td id=\"T_26442_row0_col19\" class=\"data row0 col19\" >10000.000000</td>\n",
       "      <td id=\"T_26442_row0_col20\" class=\"data row0 col20\" >6.700000</td>\n",
       "      <td id=\"T_26442_row0_col21\" class=\"data row0 col21\" >590.000000</td>\n",
       "      <td id=\"T_26442_row0_col22\" class=\"data row0 col22\" >10.000000</td>\n",
       "      <td id=\"T_26442_row0_col23\" class=\"data row0 col23\" >990.000000</td>\n",
       "      <td id=\"T_26442_row0_col24\" class=\"data row0 col24\" >GH</td>\n",
       "      <td id=\"T_26442_row0_col25\" class=\"data row0 col25\" >1500.000000</td>\n",
       "      <td id=\"T_26442_row0_col26\" class=\"data row0 col26\" >Indirect</td>\n",
       "      <td id=\"T_26442_row0_col27\" class=\"data row0 col27\" >156.000000</td>\n",
       "      <td id=\"T_26442_row0_col28\" class=\"data row0 col28\" >111.000000</td>\n",
       "      <td id=\"T_26442_row0_col29\" class=\"data row0 col29\" >230.000000</td>\n",
       "      <td id=\"T_26442_row0_col30\" class=\"data row0 col30\" >23000.000000</td>\n",
       "      <td id=\"T_26442_row0_col31\" class=\"data row0 col31\" >16000.000000</td>\n",
       "      <td id=\"T_26442_row0_col32\" class=\"data row0 col32\" >34000.000000</td>\n",
       "      <td id=\"T_26442_row0_col33\" class=\"data row0 col33\" >0</td>\n",
       "      <td id=\"T_26442_row0_col34\" class=\"data row0 col34\" >7.800000</td>\n",
       "      <td id=\"T_26442_row0_col35\" class=\"data row0 col35\" >4.000000</td>\n",
       "      <td id=\"T_26442_row0_col36\" class=\"data row0 col36\" >13.000000</td>\n",
       "      <td id=\"T_26442_row0_col37\" class=\"data row0 col37\" >12.000000</td>\n",
       "      <td id=\"T_26442_row0_col38\" class=\"data row0 col38\" >7.300000</td>\n",
       "      <td id=\"T_26442_row0_col39\" class=\"data row0 col39\" >17.000000</td>\n",
       "      <td id=\"T_26442_row0_col40\" class=\"data row0 col40\" >1700.000000</td>\n",
       "      <td id=\"T_26442_row0_col41\" class=\"data row0 col41\" >1100.000000</td>\n",
       "      <td id=\"T_26442_row0_col42\" class=\"data row0 col42\" >2500.000000</td>\n",
       "      <td id=\"T_26442_row0_col43\" class=\"data row0 col43\" >0.000000</td>\n",
       "      <td id=\"T_26442_row0_col44\" class=\"data row0 col44\" >28.000000</td>\n",
       "      <td id=\"T_26442_row0_col45\" class=\"data row0 col45\" >19.000000</td>\n",
       "      <td id=\"T_26442_row0_col46\" class=\"data row0 col46\" >40.000000</td>\n",
       "      <td id=\"T_26442_row0_col47\" class=\"data row0 col47\" >2500.000000</td>\n",
       "    </tr>\n",
       "    <tr>\n",
       "      <th id=\"T_26442_level0_row1\" class=\"row_heading level0 row1\" >1809</th>\n",
       "      <td id=\"T_26442_row1_col0\" class=\"data row1 col0\" >Ghana</td>\n",
       "      <td id=\"T_26442_row1_col1\" class=\"data row1 col1\" >GH</td>\n",
       "      <td id=\"T_26442_row1_col2\" class=\"data row1 col2\" >GHA</td>\n",
       "      <td id=\"T_26442_row1_col3\" class=\"data row1 col3\" >288</td>\n",
       "      <td id=\"T_26442_row1_col4\" class=\"data row1 col4\" >AFR</td>\n",
       "      <td id=\"T_26442_row1_col5\" class=\"data row1 col5\" >1991</td>\n",
       "      <td id=\"T_26442_row1_col6\" class=\"data row1 col6\" >15043053</td>\n",
       "      <td id=\"T_26442_row1_col7\" class=\"data row1 col7\" >299.000000</td>\n",
       "      <td id=\"T_26442_row1_col8\" class=\"data row1 col8\" >140.000000</td>\n",
       "      <td id=\"T_26442_row1_col9\" class=\"data row1 col9\" >519.000000</td>\n",
       "      <td id=\"T_26442_row1_col10\" class=\"data row1 col10\" >45000.000000</td>\n",
       "      <td id=\"T_26442_row1_col11\" class=\"data row1 col11\" >21000.000000</td>\n",
       "      <td id=\"T_26442_row1_col12\" class=\"data row1 col12\" >78000.000000</td>\n",
       "      <td id=\"T_26442_row1_col13\" class=\"data row1 col13\" >predicted</td>\n",
       "      <td id=\"T_26442_row1_col14\" class=\"data row1 col14\" >43.000000</td>\n",
       "      <td id=\"T_26442_row1_col15\" class=\"data row1 col15\" >26.000000</td>\n",
       "      <td id=\"T_26442_row1_col16\" class=\"data row1 col16\" >64.000000</td>\n",
       "      <td id=\"T_26442_row1_col17\" class=\"data row1 col17\" >6500.000000</td>\n",
       "      <td id=\"T_26442_row1_col18\" class=\"data row1 col18\" >3900.000000</td>\n",
       "      <td id=\"T_26442_row1_col19\" class=\"data row1 col19\" >9600.000000</td>\n",
       "      <td id=\"T_26442_row1_col20\" class=\"data row1 col20\" >8.300000</td>\n",
       "      <td id=\"T_26442_row1_col21\" class=\"data row1 col21\" >840.000000</td>\n",
       "      <td id=\"T_26442_row1_col22\" class=\"data row1 col22\" >12.000000</td>\n",
       "      <td id=\"T_26442_row1_col23\" class=\"data row1 col23\" >1300.000000</td>\n",
       "      <td id=\"T_26442_row1_col24\" class=\"data row1 col24\" >GH</td>\n",
       "      <td id=\"T_26442_row1_col25\" class=\"data row1 col25\" >1700.000000</td>\n",
       "      <td id=\"T_26442_row1_col26\" class=\"data row1 col26\" >Indirect</td>\n",
       "      <td id=\"T_26442_row1_col27\" class=\"data row1 col27\" >159.000000</td>\n",
       "      <td id=\"T_26442_row1_col28\" class=\"data row1 col28\" >121.000000</td>\n",
       "      <td id=\"T_26442_row1_col29\" class=\"data row1 col29\" >217.000000</td>\n",
       "      <td id=\"T_26442_row1_col30\" class=\"data row1 col30\" >24000.000000</td>\n",
       "      <td id=\"T_26442_row1_col31\" class=\"data row1 col31\" >18000.000000</td>\n",
       "      <td id=\"T_26442_row1_col32\" class=\"data row1 col32\" >33000.000000</td>\n",
       "      <td id=\"T_26442_row1_col33\" class=\"data row1 col33\" >0</td>\n",
       "      <td id=\"T_26442_row1_col34\" class=\"data row1 col34\" >9.600000</td>\n",
       "      <td id=\"T_26442_row1_col35\" class=\"data row1 col35\" >6.000000</td>\n",
       "      <td id=\"T_26442_row1_col36\" class=\"data row1 col36\" >14.000000</td>\n",
       "      <td id=\"T_26442_row1_col37\" class=\"data row1 col37\" >15.000000</td>\n",
       "      <td id=\"T_26442_row1_col38\" class=\"data row1 col38\" >11.000000</td>\n",
       "      <td id=\"T_26442_row1_col39\" class=\"data row1 col39\" >20.000000</td>\n",
       "      <td id=\"T_26442_row1_col40\" class=\"data row1 col40\" >2300.000000</td>\n",
       "      <td id=\"T_26442_row1_col41\" class=\"data row1 col41\" >1700.000000</td>\n",
       "      <td id=\"T_26442_row1_col42\" class=\"data row1 col42\" >3000.000000</td>\n",
       "      <td id=\"T_26442_row1_col43\" class=\"data row1 col43\" >0.000000</td>\n",
       "      <td id=\"T_26442_row1_col44\" class=\"data row1 col44\" >30.000000</td>\n",
       "      <td id=\"T_26442_row1_col45\" class=\"data row1 col45\" >22.000000</td>\n",
       "      <td id=\"T_26442_row1_col46\" class=\"data row1 col46\" >39.000000</td>\n",
       "      <td id=\"T_26442_row1_col47\" class=\"data row1 col47\" >3000.000000</td>\n",
       "    </tr>\n",
       "    <tr>\n",
       "      <th id=\"T_26442_level0_row2\" class=\"row_heading level0 row2\" >1810</th>\n",
       "      <td id=\"T_26442_row2_col0\" class=\"data row2 col0\" >Ghana</td>\n",
       "      <td id=\"T_26442_row2_col1\" class=\"data row2 col1\" >GH</td>\n",
       "      <td id=\"T_26442_row2_col2\" class=\"data row2 col2\" >GHA</td>\n",
       "      <td id=\"T_26442_row2_col3\" class=\"data row2 col3\" >288</td>\n",
       "      <td id=\"T_26442_row2_col4\" class=\"data row2 col4\" >AFR</td>\n",
       "      <td id=\"T_26442_row2_col5\" class=\"data row2 col5\" >1992</td>\n",
       "      <td id=\"T_26442_row2_col6\" class=\"data row2 col6\" >15471695</td>\n",
       "      <td id=\"T_26442_row2_col7\" class=\"data row2 col7\" >295.000000</td>\n",
       "      <td id=\"T_26442_row2_col8\" class=\"data row2 col8\" >143.000000</td>\n",
       "      <td id=\"T_26442_row2_col9\" class=\"data row2 col9\" >500.000000</td>\n",
       "      <td id=\"T_26442_row2_col10\" class=\"data row2 col10\" >46000.000000</td>\n",
       "      <td id=\"T_26442_row2_col11\" class=\"data row2 col11\" >22000.000000</td>\n",
       "      <td id=\"T_26442_row2_col12\" class=\"data row2 col12\" >77000.000000</td>\n",
       "      <td id=\"T_26442_row2_col13\" class=\"data row2 col13\" >predicted</td>\n",
       "      <td id=\"T_26442_row2_col14\" class=\"data row2 col14\" >42.000000</td>\n",
       "      <td id=\"T_26442_row2_col15\" class=\"data row2 col15\" >28.000000</td>\n",
       "      <td id=\"T_26442_row2_col16\" class=\"data row2 col16\" >58.000000</td>\n",
       "      <td id=\"T_26442_row2_col17\" class=\"data row2 col17\" >6500.000000</td>\n",
       "      <td id=\"T_26442_row2_col18\" class=\"data row2 col18\" >4300.000000</td>\n",
       "      <td id=\"T_26442_row2_col19\" class=\"data row2 col19\" >8900.000000</td>\n",
       "      <td id=\"T_26442_row2_col20\" class=\"data row2 col20\" >10.000000</td>\n",
       "      <td id=\"T_26442_row2_col21\" class=\"data row2 col21\" >1100.000000</td>\n",
       "      <td id=\"T_26442_row2_col22\" class=\"data row2 col22\" >13.000000</td>\n",
       "      <td id=\"T_26442_row2_col23\" class=\"data row2 col23\" >1600.000000</td>\n",
       "      <td id=\"T_26442_row2_col24\" class=\"data row2 col24\" >GH</td>\n",
       "      <td id=\"T_26442_row2_col25\" class=\"data row2 col25\" >2100.000000</td>\n",
       "      <td id=\"T_26442_row2_col26\" class=\"data row2 col26\" >Indirect</td>\n",
       "      <td id=\"T_26442_row2_col27\" class=\"data row2 col27\" >162.000000</td>\n",
       "      <td id=\"T_26442_row2_col28\" class=\"data row2 col28\" >127.000000</td>\n",
       "      <td id=\"T_26442_row2_col29\" class=\"data row2 col29\" >208.000000</td>\n",
       "      <td id=\"T_26442_row2_col30\" class=\"data row2 col30\" >25000.000000</td>\n",
       "      <td id=\"T_26442_row2_col31\" class=\"data row2 col31\" >20000.000000</td>\n",
       "      <td id=\"T_26442_row2_col32\" class=\"data row2 col32\" >32000.000000</td>\n",
       "      <td id=\"T_26442_row2_col33\" class=\"data row2 col33\" >0</td>\n",
       "      <td id=\"T_26442_row2_col34\" class=\"data row2 col34\" >12.000000</td>\n",
       "      <td id=\"T_26442_row2_col35\" class=\"data row2 col35\" >8.000000</td>\n",
       "      <td id=\"T_26442_row2_col36\" class=\"data row2 col36\" >16.000000</td>\n",
       "      <td id=\"T_26442_row2_col37\" class=\"data row2 col37\" >19.000000</td>\n",
       "      <td id=\"T_26442_row2_col38\" class=\"data row2 col38\" >14.000000</td>\n",
       "      <td id=\"T_26442_row2_col39\" class=\"data row2 col39\" >23.000000</td>\n",
       "      <td id=\"T_26442_row2_col40\" class=\"data row2 col40\" >2900.000000</td>\n",
       "      <td id=\"T_26442_row2_col41\" class=\"data row2 col41\" >2200.000000</td>\n",
       "      <td id=\"T_26442_row2_col42\" class=\"data row2 col42\" >3600.000000</td>\n",
       "      <td id=\"T_26442_row2_col43\" class=\"data row2 col43\" >0.000000</td>\n",
       "      <td id=\"T_26442_row2_col44\" class=\"data row2 col44\" >28.000000</td>\n",
       "      <td id=\"T_26442_row2_col45\" class=\"data row2 col45\" >22.000000</td>\n",
       "      <td id=\"T_26442_row2_col46\" class=\"data row2 col46\" >36.000000</td>\n",
       "      <td id=\"T_26442_row2_col47\" class=\"data row2 col47\" >3600.000000</td>\n",
       "    </tr>\n",
       "    <tr>\n",
       "      <th id=\"T_26442_level0_row3\" class=\"row_heading level0 row3\" >1811</th>\n",
       "      <td id=\"T_26442_row3_col0\" class=\"data row3 col0\" >Ghana</td>\n",
       "      <td id=\"T_26442_row3_col1\" class=\"data row3 col1\" >GH</td>\n",
       "      <td id=\"T_26442_row3_col2\" class=\"data row3 col2\" >GHA</td>\n",
       "      <td id=\"T_26442_row3_col3\" class=\"data row3 col3\" >288</td>\n",
       "      <td id=\"T_26442_row3_col4\" class=\"data row3 col4\" >AFR</td>\n",
       "      <td id=\"T_26442_row3_col5\" class=\"data row3 col5\" >1993</td>\n",
       "      <td id=\"T_26442_row3_col6\" class=\"data row3 col6\" >15907265</td>\n",
       "      <td id=\"T_26442_row3_col7\" class=\"data row3 col7\" >291.000000</td>\n",
       "      <td id=\"T_26442_row3_col8\" class=\"data row3 col8\" >145.000000</td>\n",
       "      <td id=\"T_26442_row3_col9\" class=\"data row3 col9\" >486.000000</td>\n",
       "      <td id=\"T_26442_row3_col10\" class=\"data row3 col10\" >46000.000000</td>\n",
       "      <td id=\"T_26442_row3_col11\" class=\"data row3 col11\" >23000.000000</td>\n",
       "      <td id=\"T_26442_row3_col12\" class=\"data row3 col12\" >77000.000000</td>\n",
       "      <td id=\"T_26442_row3_col13\" class=\"data row3 col13\" >predicted</td>\n",
       "      <td id=\"T_26442_row3_col14\" class=\"data row3 col14\" >41.000000</td>\n",
       "      <td id=\"T_26442_row3_col15\" class=\"data row3 col15\" >27.000000</td>\n",
       "      <td id=\"T_26442_row3_col16\" class=\"data row3 col16\" >53.000000</td>\n",
       "      <td id=\"T_26442_row3_col17\" class=\"data row3 col17\" >6500.000000</td>\n",
       "      <td id=\"T_26442_row3_col18\" class=\"data row3 col18\" >4400.000000</td>\n",
       "      <td id=\"T_26442_row3_col19\" class=\"data row3 col19\" >8400.000000</td>\n",
       "      <td id=\"T_26442_row3_col20\" class=\"data row3 col20\" >12.000000</td>\n",
       "      <td id=\"T_26442_row3_col21\" class=\"data row3 col21\" >1400.000000</td>\n",
       "      <td id=\"T_26442_row3_col22\" class=\"data row3 col22\" >16.000000</td>\n",
       "      <td id=\"T_26442_row3_col23\" class=\"data row3 col23\" >1900.000000</td>\n",
       "      <td id=\"T_26442_row3_col24\" class=\"data row3 col24\" >GH</td>\n",
       "      <td id=\"T_26442_row3_col25\" class=\"data row3 col25\" >2500.000000</td>\n",
       "      <td id=\"T_26442_row3_col26\" class=\"data row3 col26\" >Indirect</td>\n",
       "      <td id=\"T_26442_row3_col27\" class=\"data row3 col27\" >165.000000</td>\n",
       "      <td id=\"T_26442_row3_col28\" class=\"data row3 col28\" >134.000000</td>\n",
       "      <td id=\"T_26442_row3_col29\" class=\"data row3 col29\" >203.000000</td>\n",
       "      <td id=\"T_26442_row3_col30\" class=\"data row3 col30\" >26000.000000</td>\n",
       "      <td id=\"T_26442_row3_col31\" class=\"data row3 col31\" >21000.000000</td>\n",
       "      <td id=\"T_26442_row3_col32\" class=\"data row3 col32\" >32000.000000</td>\n",
       "      <td id=\"T_26442_row3_col33\" class=\"data row3 col33\" >0</td>\n",
       "      <td id=\"T_26442_row3_col34\" class=\"data row3 col34\" >14.000000</td>\n",
       "      <td id=\"T_26442_row3_col35\" class=\"data row3 col35\" >10.000000</td>\n",
       "      <td id=\"T_26442_row3_col36\" class=\"data row3 col36\" >18.000000</td>\n",
       "      <td id=\"T_26442_row3_col37\" class=\"data row3 col37\" >23.000000</td>\n",
       "      <td id=\"T_26442_row3_col38\" class=\"data row3 col38\" >18.000000</td>\n",
       "      <td id=\"T_26442_row3_col39\" class=\"data row3 col39\" >27.000000</td>\n",
       "      <td id=\"T_26442_row3_col40\" class=\"data row3 col40\" >3600.000000</td>\n",
       "      <td id=\"T_26442_row3_col41\" class=\"data row3 col41\" >2800.000000</td>\n",
       "      <td id=\"T_26442_row3_col42\" class=\"data row3 col42\" >4300.000000</td>\n",
       "      <td id=\"T_26442_row3_col43\" class=\"data row3 col43\" >0.000000</td>\n",
       "      <td id=\"T_26442_row3_col44\" class=\"data row3 col44\" >33.000000</td>\n",
       "      <td id=\"T_26442_row3_col45\" class=\"data row3 col45\" >27.000000</td>\n",
       "      <td id=\"T_26442_row3_col46\" class=\"data row3 col46\" >40.000000</td>\n",
       "      <td id=\"T_26442_row3_col47\" class=\"data row3 col47\" >4300.000000</td>\n",
       "    </tr>\n",
       "    <tr>\n",
       "      <th id=\"T_26442_level0_row4\" class=\"row_heading level0 row4\" >1812</th>\n",
       "      <td id=\"T_26442_row4_col0\" class=\"data row4 col0\" >Ghana</td>\n",
       "      <td id=\"T_26442_row4_col1\" class=\"data row4 col1\" >GH</td>\n",
       "      <td id=\"T_26442_row4_col2\" class=\"data row4 col2\" >GHA</td>\n",
       "      <td id=\"T_26442_row4_col3\" class=\"data row4 col3\" >288</td>\n",
       "      <td id=\"T_26442_row4_col4\" class=\"data row4 col4\" >AFR</td>\n",
       "      <td id=\"T_26442_row4_col5\" class=\"data row4 col5\" >1994</td>\n",
       "      <td id=\"T_26442_row4_col6\" class=\"data row4 col6\" >16339278</td>\n",
       "      <td id=\"T_26442_row4_col7\" class=\"data row4 col7\" >286.000000</td>\n",
       "      <td id=\"T_26442_row4_col8\" class=\"data row4 col8\" >142.000000</td>\n",
       "      <td id=\"T_26442_row4_col9\" class=\"data row4 col9\" >478.000000</td>\n",
       "      <td id=\"T_26442_row4_col10\" class=\"data row4 col10\" >47000.000000</td>\n",
       "      <td id=\"T_26442_row4_col11\" class=\"data row4 col11\" >23000.000000</td>\n",
       "      <td id=\"T_26442_row4_col12\" class=\"data row4 col12\" >78000.000000</td>\n",
       "      <td id=\"T_26442_row4_col13\" class=\"data row4 col13\" >predicted</td>\n",
       "      <td id=\"T_26442_row4_col14\" class=\"data row4 col14\" >39.000000</td>\n",
       "      <td id=\"T_26442_row4_col15\" class=\"data row4 col15\" >26.000000</td>\n",
       "      <td id=\"T_26442_row4_col16\" class=\"data row4 col16\" >53.000000</td>\n",
       "      <td id=\"T_26442_row4_col17\" class=\"data row4 col17\" >6400.000000</td>\n",
       "      <td id=\"T_26442_row4_col18\" class=\"data row4 col18\" >4200.000000</td>\n",
       "      <td id=\"T_26442_row4_col19\" class=\"data row4 col19\" >8700.000000</td>\n",
       "      <td id=\"T_26442_row4_col20\" class=\"data row4 col20\" >14.000000</td>\n",
       "      <td id=\"T_26442_row4_col21\" class=\"data row4 col21\" >1600.000000</td>\n",
       "      <td id=\"T_26442_row4_col22\" class=\"data row4 col22\" >19.000000</td>\n",
       "      <td id=\"T_26442_row4_col23\" class=\"data row4 col23\" >2300.000000</td>\n",
       "      <td id=\"T_26442_row4_col24\" class=\"data row4 col24\" >GH</td>\n",
       "      <td id=\"T_26442_row4_col25\" class=\"data row4 col25\" >3100.000000</td>\n",
       "      <td id=\"T_26442_row4_col26\" class=\"data row4 col26\" >Indirect</td>\n",
       "      <td id=\"T_26442_row4_col27\" class=\"data row4 col27\" >167.000000</td>\n",
       "      <td id=\"T_26442_row4_col28\" class=\"data row4 col28\" >129.000000</td>\n",
       "      <td id=\"T_26442_row4_col29\" class=\"data row4 col29\" >207.000000</td>\n",
       "      <td id=\"T_26442_row4_col30\" class=\"data row4 col30\" >27000.000000</td>\n",
       "      <td id=\"T_26442_row4_col31\" class=\"data row4 col31\" >21000.000000</td>\n",
       "      <td id=\"T_26442_row4_col32\" class=\"data row4 col32\" >34000.000000</td>\n",
       "      <td id=\"T_26442_row4_col33\" class=\"data row4 col33\" >0</td>\n",
       "      <td id=\"T_26442_row4_col34\" class=\"data row4 col34\" >16.000000</td>\n",
       "      <td id=\"T_26442_row4_col35\" class=\"data row4 col35\" >11.000000</td>\n",
       "      <td id=\"T_26442_row4_col36\" class=\"data row4 col36\" >22.000000</td>\n",
       "      <td id=\"T_26442_row4_col37\" class=\"data row4 col37\" >27.000000</td>\n",
       "      <td id=\"T_26442_row4_col38\" class=\"data row4 col38\" >20.000000</td>\n",
       "      <td id=\"T_26442_row4_col39\" class=\"data row4 col39\" >33.000000</td>\n",
       "      <td id=\"T_26442_row4_col40\" class=\"data row4 col40\" >4400.000000</td>\n",
       "      <td id=\"T_26442_row4_col41\" class=\"data row4 col41\" >3300.000000</td>\n",
       "      <td id=\"T_26442_row4_col42\" class=\"data row4 col42\" >5400.000000</td>\n",
       "      <td id=\"T_26442_row4_col43\" class=\"data row4 col43\" >0.000000</td>\n",
       "      <td id=\"T_26442_row4_col44\" class=\"data row4 col44\" >62.000000</td>\n",
       "      <td id=\"T_26442_row4_col45\" class=\"data row4 col45\" >50.000000</td>\n",
       "      <td id=\"T_26442_row4_col46\" class=\"data row4 col46\" >80.000000</td>\n",
       "      <td id=\"T_26442_row4_col47\" class=\"data row4 col47\" >5400.000000</td>\n",
       "    </tr>\n",
       "    <tr>\n",
       "      <th id=\"T_26442_level0_row5\" class=\"row_heading level0 row5\" >1813</th>\n",
       "      <td id=\"T_26442_row5_col0\" class=\"data row5 col0\" >Ghana</td>\n",
       "      <td id=\"T_26442_row5_col1\" class=\"data row5 col1\" >GH</td>\n",
       "      <td id=\"T_26442_row5_col2\" class=\"data row5 col2\" >GHA</td>\n",
       "      <td id=\"T_26442_row5_col3\" class=\"data row5 col3\" >288</td>\n",
       "      <td id=\"T_26442_row5_col4\" class=\"data row5 col4\" >AFR</td>\n",
       "      <td id=\"T_26442_row5_col5\" class=\"data row5 col5\" >1995</td>\n",
       "      <td id=\"T_26442_row5_col6\" class=\"data row5 col6\" >16760926</td>\n",
       "      <td id=\"T_26442_row5_col7\" class=\"data row5 col7\" >279.000000</td>\n",
       "      <td id=\"T_26442_row5_col8\" class=\"data row5 col8\" >139.000000</td>\n",
       "      <td id=\"T_26442_row5_col9\" class=\"data row5 col9\" >466.000000</td>\n",
       "      <td id=\"T_26442_row5_col10\" class=\"data row5 col10\" >47000.000000</td>\n",
       "      <td id=\"T_26442_row5_col11\" class=\"data row5 col11\" >23000.000000</td>\n",
       "      <td id=\"T_26442_row5_col12\" class=\"data row5 col12\" >78000.000000</td>\n",
       "      <td id=\"T_26442_row5_col13\" class=\"data row5 col13\" >predicted</td>\n",
       "      <td id=\"T_26442_row5_col14\" class=\"data row5 col14\" >38.000000</td>\n",
       "      <td id=\"T_26442_row5_col15\" class=\"data row5 col15\" >25.000000</td>\n",
       "      <td id=\"T_26442_row5_col16\" class=\"data row5 col16\" >52.000000</td>\n",
       "      <td id=\"T_26442_row5_col17\" class=\"data row5 col17\" >6400.000000</td>\n",
       "      <td id=\"T_26442_row5_col18\" class=\"data row5 col18\" >4200.000000</td>\n",
       "      <td id=\"T_26442_row5_col19\" class=\"data row5 col19\" >8800.000000</td>\n",
       "      <td id=\"T_26442_row5_col20\" class=\"data row5 col20\" >16.000000</td>\n",
       "      <td id=\"T_26442_row5_col21\" class=\"data row5 col21\" >1900.000000</td>\n",
       "      <td id=\"T_26442_row5_col22\" class=\"data row5 col22\" >22.000000</td>\n",
       "      <td id=\"T_26442_row5_col23\" class=\"data row5 col23\" >2700.000000</td>\n",
       "      <td id=\"T_26442_row5_col24\" class=\"data row5 col24\" >GH</td>\n",
       "      <td id=\"T_26442_row5_col25\" class=\"data row5 col25\" >3600.000000</td>\n",
       "      <td id=\"T_26442_row5_col26\" class=\"data row5 col26\" >Indirect</td>\n",
       "      <td id=\"T_26442_row5_col27\" class=\"data row5 col27\" >168.000000</td>\n",
       "      <td id=\"T_26442_row5_col28\" class=\"data row5 col28\" >127.000000</td>\n",
       "      <td id=\"T_26442_row5_col29\" class=\"data row5 col29\" >212.000000</td>\n",
       "      <td id=\"T_26442_row5_col30\" class=\"data row5 col30\" >28000.000000</td>\n",
       "      <td id=\"T_26442_row5_col31\" class=\"data row5 col31\" >21000.000000</td>\n",
       "      <td id=\"T_26442_row5_col32\" class=\"data row5 col32\" >36000.000000</td>\n",
       "      <td id=\"T_26442_row5_col33\" class=\"data row5 col33\" >0</td>\n",
       "      <td id=\"T_26442_row5_col34\" class=\"data row5 col34\" >19.000000</td>\n",
       "      <td id=\"T_26442_row5_col35\" class=\"data row5 col35\" >12.000000</td>\n",
       "      <td id=\"T_26442_row5_col36\" class=\"data row5 col36\" >26.000000</td>\n",
       "      <td id=\"T_26442_row5_col37\" class=\"data row5 col37\" >31.000000</td>\n",
       "      <td id=\"T_26442_row5_col38\" class=\"data row5 col38\" >23.000000</td>\n",
       "      <td id=\"T_26442_row5_col39\" class=\"data row5 col39\" >40.000000</td>\n",
       "      <td id=\"T_26442_row5_col40\" class=\"data row5 col40\" >5200.000000</td>\n",
       "      <td id=\"T_26442_row5_col41\" class=\"data row5 col41\" >3800.000000</td>\n",
       "      <td id=\"T_26442_row5_col42\" class=\"data row5 col42\" >6600.000000</td>\n",
       "      <td id=\"T_26442_row5_col43\" class=\"data row5 col43\" >0.000000</td>\n",
       "      <td id=\"T_26442_row5_col44\" class=\"data row5 col44\" >31.000000</td>\n",
       "      <td id=\"T_26442_row5_col45\" class=\"data row5 col45\" >24.000000</td>\n",
       "      <td id=\"T_26442_row5_col46\" class=\"data row5 col46\" >41.000000</td>\n",
       "      <td id=\"T_26442_row5_col47\" class=\"data row5 col47\" >6600.000000</td>\n",
       "    </tr>\n",
       "    <tr>\n",
       "      <th id=\"T_26442_level0_row6\" class=\"row_heading level0 row6\" >1814</th>\n",
       "      <td id=\"T_26442_row6_col0\" class=\"data row6 col0\" >Ghana</td>\n",
       "      <td id=\"T_26442_row6_col1\" class=\"data row6 col1\" >GH</td>\n",
       "      <td id=\"T_26442_row6_col2\" class=\"data row6 col2\" >GHA</td>\n",
       "      <td id=\"T_26442_row6_col3\" class=\"data row6 col3\" >288</td>\n",
       "      <td id=\"T_26442_row6_col4\" class=\"data row6 col4\" >AFR</td>\n",
       "      <td id=\"T_26442_row6_col5\" class=\"data row6 col5\" >1996</td>\n",
       "      <td id=\"T_26442_row6_col6\" class=\"data row6 col6\" >17169151</td>\n",
       "      <td id=\"T_26442_row6_col7\" class=\"data row6 col7\" >270.000000</td>\n",
       "      <td id=\"T_26442_row6_col8\" class=\"data row6 col8\" >136.000000</td>\n",
       "      <td id=\"T_26442_row6_col9\" class=\"data row6 col9\" >447.000000</td>\n",
       "      <td id=\"T_26442_row6_col10\" class=\"data row6 col10\" >46000.000000</td>\n",
       "      <td id=\"T_26442_row6_col11\" class=\"data row6 col11\" >23000.000000</td>\n",
       "      <td id=\"T_26442_row6_col12\" class=\"data row6 col12\" >77000.000000</td>\n",
       "      <td id=\"T_26442_row6_col13\" class=\"data row6 col13\" >predicted</td>\n",
       "      <td id=\"T_26442_row6_col14\" class=\"data row6 col14\" >37.000000</td>\n",
       "      <td id=\"T_26442_row6_col15\" class=\"data row6 col15\" >25.000000</td>\n",
       "      <td id=\"T_26442_row6_col16\" class=\"data row6 col16\" >49.000000</td>\n",
       "      <td id=\"T_26442_row6_col17\" class=\"data row6 col17\" >6300.000000</td>\n",
       "      <td id=\"T_26442_row6_col18\" class=\"data row6 col18\" >4300.000000</td>\n",
       "      <td id=\"T_26442_row6_col19\" class=\"data row6 col19\" >8400.000000</td>\n",
       "      <td id=\"T_26442_row6_col20\" class=\"data row6 col20\" >18.000000</td>\n",
       "      <td id=\"T_26442_row6_col21\" class=\"data row6 col21\" >2200.000000</td>\n",
       "      <td id=\"T_26442_row6_col22\" class=\"data row6 col22\" >24.000000</td>\n",
       "      <td id=\"T_26442_row6_col23\" class=\"data row6 col23\" >3100.000000</td>\n",
       "      <td id=\"T_26442_row6_col24\" class=\"data row6 col24\" >GH</td>\n",
       "      <td id=\"T_26442_row6_col25\" class=\"data row6 col25\" >4100.000000</td>\n",
       "      <td id=\"T_26442_row6_col26\" class=\"data row6 col26\" >Indirect</td>\n",
       "      <td id=\"T_26442_row6_col27\" class=\"data row6 col27\" >167.000000</td>\n",
       "      <td id=\"T_26442_row6_col28\" class=\"data row6 col28\" >128.000000</td>\n",
       "      <td id=\"T_26442_row6_col29\" class=\"data row6 col29\" >207.000000</td>\n",
       "      <td id=\"T_26442_row6_col30\" class=\"data row6 col30\" >29000.000000</td>\n",
       "      <td id=\"T_26442_row6_col31\" class=\"data row6 col31\" >22000.000000</td>\n",
       "      <td id=\"T_26442_row6_col32\" class=\"data row6 col32\" >36000.000000</td>\n",
       "      <td id=\"T_26442_row6_col33\" class=\"data row6 col33\" >0</td>\n",
       "      <td id=\"T_26442_row6_col34\" class=\"data row6 col34\" >21.000000</td>\n",
       "      <td id=\"T_26442_row6_col35\" class=\"data row6 col35\" >14.000000</td>\n",
       "      <td id=\"T_26442_row6_col36\" class=\"data row6 col36\" >29.000000</td>\n",
       "      <td id=\"T_26442_row6_col37\" class=\"data row6 col37\" >35.000000</td>\n",
       "      <td id=\"T_26442_row6_col38\" class=\"data row6 col38\" >25.000000</td>\n",
       "      <td id=\"T_26442_row6_col39\" class=\"data row6 col39\" >44.000000</td>\n",
       "      <td id=\"T_26442_row6_col40\" class=\"data row6 col40\" >6000.000000</td>\n",
       "      <td id=\"T_26442_row6_col41\" class=\"data row6 col41\" >4300.000000</td>\n",
       "      <td id=\"T_26442_row6_col42\" class=\"data row6 col42\" >7500.000000</td>\n",
       "      <td id=\"T_26442_row6_col43\" class=\"data row6 col43\" >0.000000</td>\n",
       "      <td id=\"T_26442_row6_col44\" class=\"data row6 col44\" >36.000000</td>\n",
       "      <td id=\"T_26442_row6_col45\" class=\"data row6 col45\" >29.000000</td>\n",
       "      <td id=\"T_26442_row6_col46\" class=\"data row6 col46\" >47.000000</td>\n",
       "      <td id=\"T_26442_row6_col47\" class=\"data row6 col47\" >7500.000000</td>\n",
       "    </tr>\n",
       "    <tr>\n",
       "      <th id=\"T_26442_level0_row7\" class=\"row_heading level0 row7\" >1815</th>\n",
       "      <td id=\"T_26442_row7_col0\" class=\"data row7 col0\" >Ghana</td>\n",
       "      <td id=\"T_26442_row7_col1\" class=\"data row7 col1\" >GH</td>\n",
       "      <td id=\"T_26442_row7_col2\" class=\"data row7 col2\" >GHA</td>\n",
       "      <td id=\"T_26442_row7_col3\" class=\"data row7 col3\" >288</td>\n",
       "      <td id=\"T_26442_row7_col4\" class=\"data row7 col4\" >AFR</td>\n",
       "      <td id=\"T_26442_row7_col5\" class=\"data row7 col5\" >1997</td>\n",
       "      <td id=\"T_26442_row7_col6\" class=\"data row7 col6\" >17568461</td>\n",
       "      <td id=\"T_26442_row7_col7\" class=\"data row7 col7\" >260.000000</td>\n",
       "      <td id=\"T_26442_row7_col8\" class=\"data row7 col8\" >133.000000</td>\n",
       "      <td id=\"T_26442_row7_col9\" class=\"data row7 col9\" >428.000000</td>\n",
       "      <td id=\"T_26442_row7_col10\" class=\"data row7 col10\" >46000.000000</td>\n",
       "      <td id=\"T_26442_row7_col11\" class=\"data row7 col11\" >23000.000000</td>\n",
       "      <td id=\"T_26442_row7_col12\" class=\"data row7 col12\" >75000.000000</td>\n",
       "      <td id=\"T_26442_row7_col13\" class=\"data row7 col13\" >predicted</td>\n",
       "      <td id=\"T_26442_row7_col14\" class=\"data row7 col14\" >35.000000</td>\n",
       "      <td id=\"T_26442_row7_col15\" class=\"data row7 col15\" >25.000000</td>\n",
       "      <td id=\"T_26442_row7_col16\" class=\"data row7 col16\" >45.000000</td>\n",
       "      <td id=\"T_26442_row7_col17\" class=\"data row7 col17\" >6100.000000</td>\n",
       "      <td id=\"T_26442_row7_col18\" class=\"data row7 col18\" >4400.000000</td>\n",
       "      <td id=\"T_26442_row7_col19\" class=\"data row7 col19\" >7900.000000</td>\n",
       "      <td id=\"T_26442_row7_col20\" class=\"data row7 col20\" >20.000000</td>\n",
       "      <td id=\"T_26442_row7_col21\" class=\"data row7 col21\" >2600.000000</td>\n",
       "      <td id=\"T_26442_row7_col22\" class=\"data row7 col22\" >25.000000</td>\n",
       "      <td id=\"T_26442_row7_col23\" class=\"data row7 col23\" >3400.000000</td>\n",
       "      <td id=\"T_26442_row7_col24\" class=\"data row7 col24\" >GH</td>\n",
       "      <td id=\"T_26442_row7_col25\" class=\"data row7 col25\" >4400.000000</td>\n",
       "      <td id=\"T_26442_row7_col26\" class=\"data row7 col26\" >Indirect</td>\n",
       "      <td id=\"T_26442_row7_col27\" class=\"data row7 col27\" >165.000000</td>\n",
       "      <td id=\"T_26442_row7_col28\" class=\"data row7 col28\" >132.000000</td>\n",
       "      <td id=\"T_26442_row7_col29\" class=\"data row7 col29\" >201.000000</td>\n",
       "      <td id=\"T_26442_row7_col30\" class=\"data row7 col30\" >29000.000000</td>\n",
       "      <td id=\"T_26442_row7_col31\" class=\"data row7 col31\" >23000.000000</td>\n",
       "      <td id=\"T_26442_row7_col32\" class=\"data row7 col32\" >35000.000000</td>\n",
       "      <td id=\"T_26442_row7_col33\" class=\"data row7 col33\" >0</td>\n",
       "      <td id=\"T_26442_row7_col34\" class=\"data row7 col34\" >23.000000</td>\n",
       "      <td id=\"T_26442_row7_col35\" class=\"data row7 col35\" >17.000000</td>\n",
       "      <td id=\"T_26442_row7_col36\" class=\"data row7 col36\" >31.000000</td>\n",
       "      <td id=\"T_26442_row7_col37\" class=\"data row7 col37\" >38.000000</td>\n",
       "      <td id=\"T_26442_row7_col38\" class=\"data row7 col38\" >30.000000</td>\n",
       "      <td id=\"T_26442_row7_col39\" class=\"data row7 col39\" >46.000000</td>\n",
       "      <td id=\"T_26442_row7_col40\" class=\"data row7 col40\" >6700.000000</td>\n",
       "      <td id=\"T_26442_row7_col41\" class=\"data row7 col41\" >5300.000000</td>\n",
       "      <td id=\"T_26442_row7_col42\" class=\"data row7 col42\" >8100.000000</td>\n",
       "      <td id=\"T_26442_row7_col43\" class=\"data row7 col43\" >0.000000</td>\n",
       "      <td id=\"T_26442_row7_col44\" class=\"data row7 col44\" >37.000000</td>\n",
       "      <td id=\"T_26442_row7_col45\" class=\"data row7 col45\" >30.000000</td>\n",
       "      <td id=\"T_26442_row7_col46\" class=\"data row7 col46\" >46.000000</td>\n",
       "      <td id=\"T_26442_row7_col47\" class=\"data row7 col47\" >8100.000000</td>\n",
       "    </tr>\n",
       "    <tr>\n",
       "      <th id=\"T_26442_level0_row8\" class=\"row_heading level0 row8\" >1816</th>\n",
       "      <td id=\"T_26442_row8_col0\" class=\"data row8 col0\" >Ghana</td>\n",
       "      <td id=\"T_26442_row8_col1\" class=\"data row8 col1\" >GH</td>\n",
       "      <td id=\"T_26442_row8_col2\" class=\"data row8 col2\" >GHA</td>\n",
       "      <td id=\"T_26442_row8_col3\" class=\"data row8 col3\" >288</td>\n",
       "      <td id=\"T_26442_row8_col4\" class=\"data row8 col4\" >AFR</td>\n",
       "      <td id=\"T_26442_row8_col5\" class=\"data row8 col5\" >1998</td>\n",
       "      <td id=\"T_26442_row8_col6\" class=\"data row8 col6\" >17968830</td>\n",
       "      <td id=\"T_26442_row8_col7\" class=\"data row8 col7\" >248.000000</td>\n",
       "      <td id=\"T_26442_row8_col8\" class=\"data row8 col8\" >129.000000</td>\n",
       "      <td id=\"T_26442_row8_col9\" class=\"data row8 col9\" >406.000000</td>\n",
       "      <td id=\"T_26442_row8_col10\" class=\"data row8 col10\" >45000.000000</td>\n",
       "      <td id=\"T_26442_row8_col11\" class=\"data row8 col11\" >23000.000000</td>\n",
       "      <td id=\"T_26442_row8_col12\" class=\"data row8 col12\" >73000.000000</td>\n",
       "      <td id=\"T_26442_row8_col13\" class=\"data row8 col13\" >predicted</td>\n",
       "      <td id=\"T_26442_row8_col14\" class=\"data row8 col14\" >33.000000</td>\n",
       "      <td id=\"T_26442_row8_col15\" class=\"data row8 col15\" >24.000000</td>\n",
       "      <td id=\"T_26442_row8_col16\" class=\"data row8 col16\" >40.000000</td>\n",
       "      <td id=\"T_26442_row8_col17\" class=\"data row8 col17\" >6000.000000</td>\n",
       "      <td id=\"T_26442_row8_col18\" class=\"data row8 col18\" >4300.000000</td>\n",
       "      <td id=\"T_26442_row8_col19\" class=\"data row8 col19\" >7200.000000</td>\n",
       "      <td id=\"T_26442_row8_col20\" class=\"data row8 col20\" >21.000000</td>\n",
       "      <td id=\"T_26442_row8_col21\" class=\"data row8 col21\" >3000.000000</td>\n",
       "      <td id=\"T_26442_row8_col22\" class=\"data row8 col22\" >25.000000</td>\n",
       "      <td id=\"T_26442_row8_col23\" class=\"data row8 col23\" >3700.000000</td>\n",
       "      <td id=\"T_26442_row8_col24\" class=\"data row8 col24\" >GH</td>\n",
       "      <td id=\"T_26442_row8_col25\" class=\"data row8 col25\" >4600.000000</td>\n",
       "      <td id=\"T_26442_row8_col26\" class=\"data row8 col26\" >Indirect</td>\n",
       "      <td id=\"T_26442_row8_col27\" class=\"data row8 col27\" >162.000000</td>\n",
       "      <td id=\"T_26442_row8_col28\" class=\"data row8 col28\" >134.000000</td>\n",
       "      <td id=\"T_26442_row8_col29\" class=\"data row8 col29\" >188.000000</td>\n",
       "      <td id=\"T_26442_row8_col30\" class=\"data row8 col30\" >29000.000000</td>\n",
       "      <td id=\"T_26442_row8_col31\" class=\"data row8 col31\" >24000.000000</td>\n",
       "      <td id=\"T_26442_row8_col32\" class=\"data row8 col32\" >34000.000000</td>\n",
       "      <td id=\"T_26442_row8_col33\" class=\"data row8 col33\" >0</td>\n",
       "      <td id=\"T_26442_row8_col34\" class=\"data row8 col34\" >25.000000</td>\n",
       "      <td id=\"T_26442_row8_col35\" class=\"data row8 col35\" >20.000000</td>\n",
       "      <td id=\"T_26442_row8_col36\" class=\"data row8 col36\" >31.000000</td>\n",
       "      <td id=\"T_26442_row8_col37\" class=\"data row8 col37\" >40.000000</td>\n",
       "      <td id=\"T_26442_row8_col38\" class=\"data row8 col38\" >32.000000</td>\n",
       "      <td id=\"T_26442_row8_col39\" class=\"data row8 col39\" >46.000000</td>\n",
       "      <td id=\"T_26442_row8_col40\" class=\"data row8 col40\" >7300.000000</td>\n",
       "      <td id=\"T_26442_row8_col41\" class=\"data row8 col41\" >5800.000000</td>\n",
       "      <td id=\"T_26442_row8_col42\" class=\"data row8 col42\" >8200.000000</td>\n",
       "      <td id=\"T_26442_row8_col43\" class=\"data row8 col43\" >0.000000</td>\n",
       "      <td id=\"T_26442_row8_col44\" class=\"data row8 col44\" >39.000000</td>\n",
       "      <td id=\"T_26442_row8_col45\" class=\"data row8 col45\" >34.000000</td>\n",
       "      <td id=\"T_26442_row8_col46\" class=\"data row8 col46\" >47.000000</td>\n",
       "      <td id=\"T_26442_row8_col47\" class=\"data row8 col47\" >8200.000000</td>\n",
       "    </tr>\n",
       "    <tr>\n",
       "      <th id=\"T_26442_level0_row9\" class=\"row_heading level0 row9\" >1817</th>\n",
       "      <td id=\"T_26442_row9_col0\" class=\"data row9 col0\" >Ghana</td>\n",
       "      <td id=\"T_26442_row9_col1\" class=\"data row9 col1\" >GH</td>\n",
       "      <td id=\"T_26442_row9_col2\" class=\"data row9 col2\" >GHA</td>\n",
       "      <td id=\"T_26442_row9_col3\" class=\"data row9 col3\" >288</td>\n",
       "      <td id=\"T_26442_row9_col4\" class=\"data row9 col4\" >AFR</td>\n",
       "      <td id=\"T_26442_row9_col5\" class=\"data row9 col5\" >1999</td>\n",
       "      <td id=\"T_26442_row9_col6\" class=\"data row9 col6\" >18384302</td>\n",
       "      <td id=\"T_26442_row9_col7\" class=\"data row9 col7\" >237.000000</td>\n",
       "      <td id=\"T_26442_row9_col8\" class=\"data row9 col8\" >123.000000</td>\n",
       "      <td id=\"T_26442_row9_col9\" class=\"data row9 col9\" >387.000000</td>\n",
       "      <td id=\"T_26442_row9_col10\" class=\"data row9 col10\" >44000.000000</td>\n",
       "      <td id=\"T_26442_row9_col11\" class=\"data row9 col11\" >23000.000000</td>\n",
       "      <td id=\"T_26442_row9_col12\" class=\"data row9 col12\" >71000.000000</td>\n",
       "      <td id=\"T_26442_row9_col13\" class=\"data row9 col13\" >predicted</td>\n",
       "      <td id=\"T_26442_row9_col14\" class=\"data row9 col14\" >32.000000</td>\n",
       "      <td id=\"T_26442_row9_col15\" class=\"data row9 col15\" >22.000000</td>\n",
       "      <td id=\"T_26442_row9_col16\" class=\"data row9 col16\" >39.000000</td>\n",
       "      <td id=\"T_26442_row9_col17\" class=\"data row9 col17\" >5800.000000</td>\n",
       "      <td id=\"T_26442_row9_col18\" class=\"data row9 col18\" >4100.000000</td>\n",
       "      <td id=\"T_26442_row9_col19\" class=\"data row9 col19\" >7200.000000</td>\n",
       "      <td id=\"T_26442_row9_col20\" class=\"data row9 col20\" >21.000000</td>\n",
       "      <td id=\"T_26442_row9_col21\" class=\"data row9 col21\" >3100.000000</td>\n",
       "      <td id=\"T_26442_row9_col22\" class=\"data row9 col22\" >26.000000</td>\n",
       "      <td id=\"T_26442_row9_col23\" class=\"data row9 col23\" >3900.000000</td>\n",
       "      <td id=\"T_26442_row9_col24\" class=\"data row9 col24\" >GH</td>\n",
       "      <td id=\"T_26442_row9_col25\" class=\"data row9 col25\" >4800.000000</td>\n",
       "      <td id=\"T_26442_row9_col26\" class=\"data row9 col26\" >Indirect</td>\n",
       "      <td id=\"T_26442_row9_col27\" class=\"data row9 col27\" >157.000000</td>\n",
       "      <td id=\"T_26442_row9_col28\" class=\"data row9 col28\" >131.000000</td>\n",
       "      <td id=\"T_26442_row9_col29\" class=\"data row9 col29\" >181.000000</td>\n",
       "      <td id=\"T_26442_row9_col30\" class=\"data row9 col30\" >29000.000000</td>\n",
       "      <td id=\"T_26442_row9_col31\" class=\"data row9 col31\" >24000.000000</td>\n",
       "      <td id=\"T_26442_row9_col32\" class=\"data row9 col32\" >33000.000000</td>\n",
       "      <td id=\"T_26442_row9_col33\" class=\"data row9 col33\" >0</td>\n",
       "      <td id=\"T_26442_row9_col34\" class=\"data row9 col34\" >27.000000</td>\n",
       "      <td id=\"T_26442_row9_col35\" class=\"data row9 col35\" >20.000000</td>\n",
       "      <td id=\"T_26442_row9_col36\" class=\"data row9 col36\" >33.000000</td>\n",
       "      <td id=\"T_26442_row9_col37\" class=\"data row9 col37\" >42.000000</td>\n",
       "      <td id=\"T_26442_row9_col38\" class=\"data row9 col38\" >33.000000</td>\n",
       "      <td id=\"T_26442_row9_col39\" class=\"data row9 col39\" >48.000000</td>\n",
       "      <td id=\"T_26442_row9_col40\" class=\"data row9 col40\" >7700.000000</td>\n",
       "      <td id=\"T_26442_row9_col41\" class=\"data row9 col41\" >6100.000000</td>\n",
       "      <td id=\"T_26442_row9_col42\" class=\"data row9 col42\" >8900.000000</td>\n",
       "      <td id=\"T_26442_row9_col43\" class=\"data row9 col43\" >0.000000</td>\n",
       "      <td id=\"T_26442_row9_col44\" class=\"data row9 col44\" >36.000000</td>\n",
       "      <td id=\"T_26442_row9_col45\" class=\"data row9 col45\" >31.000000</td>\n",
       "      <td id=\"T_26442_row9_col46\" class=\"data row9 col46\" >43.000000</td>\n",
       "      <td id=\"T_26442_row9_col47\" class=\"data row9 col47\" >8900.000000</td>\n",
       "    </tr>\n",
       "    <tr>\n",
       "      <th id=\"T_26442_level0_row10\" class=\"row_heading level0 row10\" >1818</th>\n",
       "      <td id=\"T_26442_row10_col0\" class=\"data row10 col0\" >Ghana</td>\n",
       "      <td id=\"T_26442_row10_col1\" class=\"data row10 col1\" >GH</td>\n",
       "      <td id=\"T_26442_row10_col2\" class=\"data row10 col2\" >GHA</td>\n",
       "      <td id=\"T_26442_row10_col3\" class=\"data row10 col3\" >288</td>\n",
       "      <td id=\"T_26442_row10_col4\" class=\"data row10 col4\" >AFR</td>\n",
       "      <td id=\"T_26442_row10_col5\" class=\"data row10 col5\" >2000</td>\n",
       "      <td id=\"T_26442_row10_col6\" class=\"data row10 col6\" >18825034</td>\n",
       "      <td id=\"T_26442_row10_col7\" class=\"data row10 col7\" >226.000000</td>\n",
       "      <td id=\"T_26442_row10_col8\" class=\"data row10 col8\" >118.000000</td>\n",
       "      <td id=\"T_26442_row10_col9\" class=\"data row10 col9\" >367.000000</td>\n",
       "      <td id=\"T_26442_row10_col10\" class=\"data row10 col10\" >42000.000000</td>\n",
       "      <td id=\"T_26442_row10_col11\" class=\"data row10 col11\" >22000.000000</td>\n",
       "      <td id=\"T_26442_row10_col12\" class=\"data row10 col12\" >69000.000000</td>\n",
       "      <td id=\"T_26442_row10_col13\" class=\"data row10 col13\" >predicted</td>\n",
       "      <td id=\"T_26442_row10_col14\" class=\"data row10 col14\" >30.000000</td>\n",
       "      <td id=\"T_26442_row10_col15\" class=\"data row10 col15\" >21.000000</td>\n",
       "      <td id=\"T_26442_row10_col16\" class=\"data row10 col16\" >38.000000</td>\n",
       "      <td id=\"T_26442_row10_col17\" class=\"data row10 col17\" >5600.000000</td>\n",
       "      <td id=\"T_26442_row10_col18\" class=\"data row10 col18\" >3900.000000</td>\n",
       "      <td id=\"T_26442_row10_col19\" class=\"data row10 col19\" >7100.000000</td>\n",
       "      <td id=\"T_26442_row10_col20\" class=\"data row10 col20\" >21.000000</td>\n",
       "      <td id=\"T_26442_row10_col21\" class=\"data row10 col21\" >3100.000000</td>\n",
       "      <td id=\"T_26442_row10_col22\" class=\"data row10 col22\" >27.000000</td>\n",
       "      <td id=\"T_26442_row10_col23\" class=\"data row10 col23\" >4000.000000</td>\n",
       "      <td id=\"T_26442_row10_col24\" class=\"data row10 col24\" >GH</td>\n",
       "      <td id=\"T_26442_row10_col25\" class=\"data row10 col25\" >5100.000000</td>\n",
       "      <td id=\"T_26442_row10_col26\" class=\"data row10 col26\" >Indirect</td>\n",
       "      <td id=\"T_26442_row10_col27\" class=\"data row10 col27\" >152.000000</td>\n",
       "      <td id=\"T_26442_row10_col28\" class=\"data row10 col28\" >128.000000</td>\n",
       "      <td id=\"T_26442_row10_col29\" class=\"data row10 col29\" >176.000000</td>\n",
       "      <td id=\"T_26442_row10_col30\" class=\"data row10 col30\" >29000.000000</td>\n",
       "      <td id=\"T_26442_row10_col31\" class=\"data row10 col31\" >24000.000000</td>\n",
       "      <td id=\"T_26442_row10_col32\" class=\"data row10 col32\" >33000.000000</td>\n",
       "      <td id=\"T_26442_row10_col33\" class=\"data row10 col33\" >0</td>\n",
       "      <td id=\"T_26442_row10_col34\" class=\"data row10 col34\" >28.000000</td>\n",
       "      <td id=\"T_26442_row10_col35\" class=\"data row10 col35\" >22.000000</td>\n",
       "      <td id=\"T_26442_row10_col36\" class=\"data row10 col36\" >34.000000</td>\n",
       "      <td id=\"T_26442_row10_col37\" class=\"data row10 col37\" >42.000000</td>\n",
       "      <td id=\"T_26442_row10_col38\" class=\"data row10 col38\" >34.000000</td>\n",
       "      <td id=\"T_26442_row10_col39\" class=\"data row10 col39\" >48.000000</td>\n",
       "      <td id=\"T_26442_row10_col40\" class=\"data row10 col40\" >7900.000000</td>\n",
       "      <td id=\"T_26442_row10_col41\" class=\"data row10 col41\" >6300.000000</td>\n",
       "      <td id=\"T_26442_row10_col42\" class=\"data row10 col42\" >9100.000000</td>\n",
       "      <td id=\"T_26442_row10_col43\" class=\"data row10 col43\" >0.000000</td>\n",
       "      <td id=\"T_26442_row10_col44\" class=\"data row10 col44\" >38.000000</td>\n",
       "      <td id=\"T_26442_row10_col45\" class=\"data row10 col45\" >33.000000</td>\n",
       "      <td id=\"T_26442_row10_col46\" class=\"data row10 col46\" >45.000000</td>\n",
       "      <td id=\"T_26442_row10_col47\" class=\"data row10 col47\" >9100.000000</td>\n",
       "    </tr>\n",
       "    <tr>\n",
       "      <th id=\"T_26442_level0_row11\" class=\"row_heading level0 row11\" >1819</th>\n",
       "      <td id=\"T_26442_row11_col0\" class=\"data row11 col0\" >Ghana</td>\n",
       "      <td id=\"T_26442_row11_col1\" class=\"data row11 col1\" >GH</td>\n",
       "      <td id=\"T_26442_row11_col2\" class=\"data row11 col2\" >GHA</td>\n",
       "      <td id=\"T_26442_row11_col3\" class=\"data row11 col3\" >288</td>\n",
       "      <td id=\"T_26442_row11_col4\" class=\"data row11 col4\" >AFR</td>\n",
       "      <td id=\"T_26442_row11_col5\" class=\"data row11 col5\" >2001</td>\n",
       "      <td id=\"T_26442_row11_col6\" class=\"data row11 col6\" >19293392</td>\n",
       "      <td id=\"T_26442_row11_col7\" class=\"data row11 col7\" >214.000000</td>\n",
       "      <td id=\"T_26442_row11_col8\" class=\"data row11 col8\" >113.000000</td>\n",
       "      <td id=\"T_26442_row11_col9\" class=\"data row11 col9\" >346.000000</td>\n",
       "      <td id=\"T_26442_row11_col10\" class=\"data row11 col10\" >41000.000000</td>\n",
       "      <td id=\"T_26442_row11_col11\" class=\"data row11 col11\" >22000.000000</td>\n",
       "      <td id=\"T_26442_row11_col12\" class=\"data row11 col12\" >67000.000000</td>\n",
       "      <td id=\"T_26442_row11_col13\" class=\"data row11 col13\" >predicted</td>\n",
       "      <td id=\"T_26442_row11_col14\" class=\"data row11 col14\" >28.000000</td>\n",
       "      <td id=\"T_26442_row11_col15\" class=\"data row11 col15\" >20.000000</td>\n",
       "      <td id=\"T_26442_row11_col16\" class=\"data row11 col16\" >36.000000</td>\n",
       "      <td id=\"T_26442_row11_col17\" class=\"data row11 col17\" >5400.000000</td>\n",
       "      <td id=\"T_26442_row11_col18\" class=\"data row11 col18\" >3800.000000</td>\n",
       "      <td id=\"T_26442_row11_col19\" class=\"data row11 col19\" >6900.000000</td>\n",
       "      <td id=\"T_26442_row11_col20\" class=\"data row11 col20\" >21.000000</td>\n",
       "      <td id=\"T_26442_row11_col21\" class=\"data row11 col21\" >3100.000000</td>\n",
       "      <td id=\"T_26442_row11_col22\" class=\"data row11 col22\" >26.000000</td>\n",
       "      <td id=\"T_26442_row11_col23\" class=\"data row11 col23\" >4000.000000</td>\n",
       "      <td id=\"T_26442_row11_col24\" class=\"data row11 col24\" >GH</td>\n",
       "      <td id=\"T_26442_row11_col25\" class=\"data row11 col25\" >5000.000000</td>\n",
       "      <td id=\"T_26442_row11_col26\" class=\"data row11 col26\" >Indirect</td>\n",
       "      <td id=\"T_26442_row11_col27\" class=\"data row11 col27\" >146.000000</td>\n",
       "      <td id=\"T_26442_row11_col28\" class=\"data row11 col28\" >124.000000</td>\n",
       "      <td id=\"T_26442_row11_col29\" class=\"data row11 col29\" >165.000000</td>\n",
       "      <td id=\"T_26442_row11_col30\" class=\"data row11 col30\" >28000.000000</td>\n",
       "      <td id=\"T_26442_row11_col31\" class=\"data row11 col31\" >24000.000000</td>\n",
       "      <td id=\"T_26442_row11_col32\" class=\"data row11 col32\" >32000.000000</td>\n",
       "      <td id=\"T_26442_row11_col33\" class=\"data row11 col33\" >0</td>\n",
       "      <td id=\"T_26442_row11_col34\" class=\"data row11 col34\" >28.000000</td>\n",
       "      <td id=\"T_26442_row11_col35\" class=\"data row11 col35\" >23.000000</td>\n",
       "      <td id=\"T_26442_row11_col36\" class=\"data row11 col36\" >35.000000</td>\n",
       "      <td id=\"T_26442_row11_col37\" class=\"data row11 col37\" >41.000000</td>\n",
       "      <td id=\"T_26442_row11_col38\" class=\"data row11 col38\" >34.000000</td>\n",
       "      <td id=\"T_26442_row11_col39\" class=\"data row11 col39\" >47.000000</td>\n",
       "      <td id=\"T_26442_row11_col40\" class=\"data row11 col40\" >8000.000000</td>\n",
       "      <td id=\"T_26442_row11_col41\" class=\"data row11 col41\" >6500.000000</td>\n",
       "      <td id=\"T_26442_row11_col42\" class=\"data row11 col42\" >9100.000000</td>\n",
       "      <td id=\"T_26442_row11_col43\" class=\"data row11 col43\" >0.000000</td>\n",
       "      <td id=\"T_26442_row11_col44\" class=\"data row11 col44\" >42.000000</td>\n",
       "      <td id=\"T_26442_row11_col45\" class=\"data row11 col45\" >37.000000</td>\n",
       "      <td id=\"T_26442_row11_col46\" class=\"data row11 col46\" >50.000000</td>\n",
       "      <td id=\"T_26442_row11_col47\" class=\"data row11 col47\" >9100.000000</td>\n",
       "    </tr>\n",
       "    <tr>\n",
       "      <th id=\"T_26442_level0_row12\" class=\"row_heading level0 row12\" >1820</th>\n",
       "      <td id=\"T_26442_row12_col0\" class=\"data row12 col0\" >Ghana</td>\n",
       "      <td id=\"T_26442_row12_col1\" class=\"data row12 col1\" >GH</td>\n",
       "      <td id=\"T_26442_row12_col2\" class=\"data row12 col2\" >GHA</td>\n",
       "      <td id=\"T_26442_row12_col3\" class=\"data row12 col3\" >288</td>\n",
       "      <td id=\"T_26442_row12_col4\" class=\"data row12 col4\" >AFR</td>\n",
       "      <td id=\"T_26442_row12_col5\" class=\"data row12 col5\" >2002</td>\n",
       "      <td id=\"T_26442_row12_col6\" class=\"data row12 col6\" >19786307</td>\n",
       "      <td id=\"T_26442_row12_col7\" class=\"data row12 col7\" >201.000000</td>\n",
       "      <td id=\"T_26442_row12_col8\" class=\"data row12 col8\" >107.000000</td>\n",
       "      <td id=\"T_26442_row12_col9\" class=\"data row12 col9\" >324.000000</td>\n",
       "      <td id=\"T_26442_row12_col10\" class=\"data row12 col10\" >40000.000000</td>\n",
       "      <td id=\"T_26442_row12_col11\" class=\"data row12 col11\" >21000.000000</td>\n",
       "      <td id=\"T_26442_row12_col12\" class=\"data row12 col12\" >64000.000000</td>\n",
       "      <td id=\"T_26442_row12_col13\" class=\"data row12 col13\" >predicted</td>\n",
       "      <td id=\"T_26442_row12_col14\" class=\"data row12 col14\" >26.000000</td>\n",
       "      <td id=\"T_26442_row12_col15\" class=\"data row12 col15\" >18.000000</td>\n",
       "      <td id=\"T_26442_row12_col16\" class=\"data row12 col16\" >33.000000</td>\n",
       "      <td id=\"T_26442_row12_col17\" class=\"data row12 col17\" >5200.000000</td>\n",
       "      <td id=\"T_26442_row12_col18\" class=\"data row12 col18\" >3600.000000</td>\n",
       "      <td id=\"T_26442_row12_col19\" class=\"data row12 col19\" >6600.000000</td>\n",
       "      <td id=\"T_26442_row12_col20\" class=\"data row12 col20\" >20.000000</td>\n",
       "      <td id=\"T_26442_row12_col21\" class=\"data row12 col21\" >3100.000000</td>\n",
       "      <td id=\"T_26442_row12_col22\" class=\"data row12 col22\" >24.000000</td>\n",
       "      <td id=\"T_26442_row12_col23\" class=\"data row12 col23\" >3900.000000</td>\n",
       "      <td id=\"T_26442_row12_col24\" class=\"data row12 col24\" >GH</td>\n",
       "      <td id=\"T_26442_row12_col25\" class=\"data row12 col25\" >4800.000000</td>\n",
       "      <td id=\"T_26442_row12_col26\" class=\"data row12 col26\" >Indirect</td>\n",
       "      <td id=\"T_26442_row12_col27\" class=\"data row12 col27\" >139.000000</td>\n",
       "      <td id=\"T_26442_row12_col28\" class=\"data row12 col28\" >120.000000</td>\n",
       "      <td id=\"T_26442_row12_col29\" class=\"data row12 col29\" >155.000000</td>\n",
       "      <td id=\"T_26442_row12_col30\" class=\"data row12 col30\" >28000.000000</td>\n",
       "      <td id=\"T_26442_row12_col31\" class=\"data row12 col31\" >24000.000000</td>\n",
       "      <td id=\"T_26442_row12_col32\" class=\"data row12 col32\" >31000.000000</td>\n",
       "      <td id=\"T_26442_row12_col33\" class=\"data row12 col33\" >0</td>\n",
       "      <td id=\"T_26442_row12_col34\" class=\"data row12 col34\" >29.000000</td>\n",
       "      <td id=\"T_26442_row12_col35\" class=\"data row12 col35\" >24.000000</td>\n",
       "      <td id=\"T_26442_row12_col36\" class=\"data row12 col36\" >34.000000</td>\n",
       "      <td id=\"T_26442_row12_col37\" class=\"data row12 col37\" >40.000000</td>\n",
       "      <td id=\"T_26442_row12_col38\" class=\"data row12 col38\" >33.000000</td>\n",
       "      <td id=\"T_26442_row12_col39\" class=\"data row12 col39\" >44.000000</td>\n",
       "      <td id=\"T_26442_row12_col40\" class=\"data row12 col40\" >7900.000000</td>\n",
       "      <td id=\"T_26442_row12_col41\" class=\"data row12 col41\" >6500.000000</td>\n",
       "      <td id=\"T_26442_row12_col42\" class=\"data row12 col42\" >8800.000000</td>\n",
       "      <td id=\"T_26442_row12_col43\" class=\"data row12 col43\" >0.000000</td>\n",
       "      <td id=\"T_26442_row12_col44\" class=\"data row12 col44\" >43.000000</td>\n",
       "      <td id=\"T_26442_row12_col45\" class=\"data row12 col45\" >38.000000</td>\n",
       "      <td id=\"T_26442_row12_col46\" class=\"data row12 col46\" >49.000000</td>\n",
       "      <td id=\"T_26442_row12_col47\" class=\"data row12 col47\" >8800.000000</td>\n",
       "    </tr>\n",
       "    <tr>\n",
       "      <th id=\"T_26442_level0_row13\" class=\"row_heading level0 row13\" >1821</th>\n",
       "      <td id=\"T_26442_row13_col0\" class=\"data row13 col0\" >Ghana</td>\n",
       "      <td id=\"T_26442_row13_col1\" class=\"data row13 col1\" >GH</td>\n",
       "      <td id=\"T_26442_row13_col2\" class=\"data row13 col2\" >GHA</td>\n",
       "      <td id=\"T_26442_row13_col3\" class=\"data row13 col3\" >288</td>\n",
       "      <td id=\"T_26442_row13_col4\" class=\"data row13 col4\" >AFR</td>\n",
       "      <td id=\"T_26442_row13_col5\" class=\"data row13 col5\" >2003</td>\n",
       "      <td id=\"T_26442_row13_col6\" class=\"data row13 col6\" >20301686</td>\n",
       "      <td id=\"T_26442_row13_col7\" class=\"data row13 col7\" >189.000000</td>\n",
       "      <td id=\"T_26442_row13_col8\" class=\"data row13 col8\" >101.000000</td>\n",
       "      <td id=\"T_26442_row13_col9\" class=\"data row13 col9\" >303.000000</td>\n",
       "      <td id=\"T_26442_row13_col10\" class=\"data row13 col10\" >38000.000000</td>\n",
       "      <td id=\"T_26442_row13_col11\" class=\"data row13 col11\" >21000.000000</td>\n",
       "      <td id=\"T_26442_row13_col12\" class=\"data row13 col12\" >61000.000000</td>\n",
       "      <td id=\"T_26442_row13_col13\" class=\"data row13 col13\" >predicted</td>\n",
       "      <td id=\"T_26442_row13_col14\" class=\"data row13 col14\" >24.000000</td>\n",
       "      <td id=\"T_26442_row13_col15\" class=\"data row13 col15\" >17.000000</td>\n",
       "      <td id=\"T_26442_row13_col16\" class=\"data row13 col16\" >31.000000</td>\n",
       "      <td id=\"T_26442_row13_col17\" class=\"data row13 col17\" >4900.000000</td>\n",
       "      <td id=\"T_26442_row13_col18\" class=\"data row13 col18\" >3400.000000</td>\n",
       "      <td id=\"T_26442_row13_col19\" class=\"data row13 col19\" >6200.000000</td>\n",
       "      <td id=\"T_26442_row13_col20\" class=\"data row13 col20\" >18.000000</td>\n",
       "      <td id=\"T_26442_row13_col21\" class=\"data row13 col21\" >3000.000000</td>\n",
       "      <td id=\"T_26442_row13_col22\" class=\"data row13 col22\" >22.000000</td>\n",
       "      <td id=\"T_26442_row13_col23\" class=\"data row13 col23\" >3700.000000</td>\n",
       "      <td id=\"T_26442_row13_col24\" class=\"data row13 col24\" >GH</td>\n",
       "      <td id=\"T_26442_row13_col25\" class=\"data row13 col25\" >4500.000000</td>\n",
       "      <td id=\"T_26442_row13_col26\" class=\"data row13 col26\" >Indirect</td>\n",
       "      <td id=\"T_26442_row13_col27\" class=\"data row13 col27\" >132.000000</td>\n",
       "      <td id=\"T_26442_row13_col28\" class=\"data row13 col28\" >117.000000</td>\n",
       "      <td id=\"T_26442_row13_col29\" class=\"data row13 col29\" >144.000000</td>\n",
       "      <td id=\"T_26442_row13_col30\" class=\"data row13 col30\" >27000.000000</td>\n",
       "      <td id=\"T_26442_row13_col31\" class=\"data row13 col31\" >24000.000000</td>\n",
       "      <td id=\"T_26442_row13_col32\" class=\"data row13 col32\" >29000.000000</td>\n",
       "      <td id=\"T_26442_row13_col33\" class=\"data row13 col33\" >0</td>\n",
       "      <td id=\"T_26442_row13_col34\" class=\"data row13 col34\" >29.000000</td>\n",
       "      <td id=\"T_26442_row13_col35\" class=\"data row13 col35\" >25.000000</td>\n",
       "      <td id=\"T_26442_row13_col36\" class=\"data row13 col36\" >33.000000</td>\n",
       "      <td id=\"T_26442_row13_col37\" class=\"data row13 col37\" >38.000000</td>\n",
       "      <td id=\"T_26442_row13_col38\" class=\"data row13 col38\" >33.000000</td>\n",
       "      <td id=\"T_26442_row13_col39\" class=\"data row13 col39\" >41.000000</td>\n",
       "      <td id=\"T_26442_row13_col40\" class=\"data row13 col40\" >7700.000000</td>\n",
       "      <td id=\"T_26442_row13_col41\" class=\"data row13 col41\" >6700.000000</td>\n",
       "      <td id=\"T_26442_row13_col42\" class=\"data row13 col42\" >8300.000000</td>\n",
       "      <td id=\"T_26442_row13_col43\" class=\"data row13 col43\" >0.000000</td>\n",
       "      <td id=\"T_26442_row13_col44\" class=\"data row13 col44\" >44.000000</td>\n",
       "      <td id=\"T_26442_row13_col45\" class=\"data row13 col45\" >41.000000</td>\n",
       "      <td id=\"T_26442_row13_col46\" class=\"data row13 col46\" >50.000000</td>\n",
       "      <td id=\"T_26442_row13_col47\" class=\"data row13 col47\" >8300.000000</td>\n",
       "    </tr>\n",
       "    <tr>\n",
       "      <th id=\"T_26442_level0_row14\" class=\"row_heading level0 row14\" >1822</th>\n",
       "      <td id=\"T_26442_row14_col0\" class=\"data row14 col0\" >Ghana</td>\n",
       "      <td id=\"T_26442_row14_col1\" class=\"data row14 col1\" >GH</td>\n",
       "      <td id=\"T_26442_row14_col2\" class=\"data row14 col2\" >GHA</td>\n",
       "      <td id=\"T_26442_row14_col3\" class=\"data row14 col3\" >288</td>\n",
       "      <td id=\"T_26442_row14_col4\" class=\"data row14 col4\" >AFR</td>\n",
       "      <td id=\"T_26442_row14_col5\" class=\"data row14 col5\" >2004</td>\n",
       "      <td id=\"T_26442_row14_col6\" class=\"data row14 col6\" >20835514</td>\n",
       "      <td id=\"T_26442_row14_col7\" class=\"data row14 col7\" >177.000000</td>\n",
       "      <td id=\"T_26442_row14_col8\" class=\"data row14 col8\" >96.000000</td>\n",
       "      <td id=\"T_26442_row14_col9\" class=\"data row14 col9\" >283.000000</td>\n",
       "      <td id=\"T_26442_row14_col10\" class=\"data row14 col10\" >37000.000000</td>\n",
       "      <td id=\"T_26442_row14_col11\" class=\"data row14 col11\" >20000.000000</td>\n",
       "      <td id=\"T_26442_row14_col12\" class=\"data row14 col12\" >59000.000000</td>\n",
       "      <td id=\"T_26442_row14_col13\" class=\"data row14 col13\" >predicted</td>\n",
       "      <td id=\"T_26442_row14_col14\" class=\"data row14 col14\" >22.000000</td>\n",
       "      <td id=\"T_26442_row14_col15\" class=\"data row14 col15\" >15.000000</td>\n",
       "      <td id=\"T_26442_row14_col16\" class=\"data row14 col16\" >28.000000</td>\n",
       "      <td id=\"T_26442_row14_col17\" class=\"data row14 col17\" >4600.000000</td>\n",
       "      <td id=\"T_26442_row14_col18\" class=\"data row14 col18\" >3100.000000</td>\n",
       "      <td id=\"T_26442_row14_col19\" class=\"data row14 col19\" >5800.000000</td>\n",
       "      <td id=\"T_26442_row14_col20\" class=\"data row14 col20\" >16.000000</td>\n",
       "      <td id=\"T_26442_row14_col21\" class=\"data row14 col21\" >2800.000000</td>\n",
       "      <td id=\"T_26442_row14_col22\" class=\"data row14 col22\" >20.000000</td>\n",
       "      <td id=\"T_26442_row14_col23\" class=\"data row14 col23\" >3400.000000</td>\n",
       "      <td id=\"T_26442_row14_col24\" class=\"data row14 col24\" >GH</td>\n",
       "      <td id=\"T_26442_row14_col25\" class=\"data row14 col25\" >4100.000000</td>\n",
       "      <td id=\"T_26442_row14_col26\" class=\"data row14 col26\" >Indirect</td>\n",
       "      <td id=\"T_26442_row14_col27\" class=\"data row14 col27\" >125.000000</td>\n",
       "      <td id=\"T_26442_row14_col28\" class=\"data row14 col28\" >112.000000</td>\n",
       "      <td id=\"T_26442_row14_col29\" class=\"data row14 col29\" >138.000000</td>\n",
       "      <td id=\"T_26442_row14_col30\" class=\"data row14 col30\" >26000.000000</td>\n",
       "      <td id=\"T_26442_row14_col31\" class=\"data row14 col31\" >23000.000000</td>\n",
       "      <td id=\"T_26442_row14_col32\" class=\"data row14 col32\" >29000.000000</td>\n",
       "      <td id=\"T_26442_row14_col33\" class=\"data row14 col33\" >0</td>\n",
       "      <td id=\"T_26442_row14_col34\" class=\"data row14 col34\" >28.000000</td>\n",
       "      <td id=\"T_26442_row14_col35\" class=\"data row14 col35\" >24.000000</td>\n",
       "      <td id=\"T_26442_row14_col36\" class=\"data row14 col36\" >33.000000</td>\n",
       "      <td id=\"T_26442_row14_col37\" class=\"data row14 col37\" >36.000000</td>\n",
       "      <td id=\"T_26442_row14_col38\" class=\"data row14 col38\" >31.000000</td>\n",
       "      <td id=\"T_26442_row14_col39\" class=\"data row14 col39\" >39.000000</td>\n",
       "      <td id=\"T_26442_row14_col40\" class=\"data row14 col40\" >7400.000000</td>\n",
       "      <td id=\"T_26442_row14_col41\" class=\"data row14 col41\" >6500.000000</td>\n",
       "      <td id=\"T_26442_row14_col42\" class=\"data row14 col42\" >8100.000000</td>\n",
       "      <td id=\"T_26442_row14_col43\" class=\"data row14 col43\" >0.000000</td>\n",
       "      <td id=\"T_26442_row14_col44\" class=\"data row14 col44\" >45.000000</td>\n",
       "      <td id=\"T_26442_row14_col45\" class=\"data row14 col45\" >41.000000</td>\n",
       "      <td id=\"T_26442_row14_col46\" class=\"data row14 col46\" >51.000000</td>\n",
       "      <td id=\"T_26442_row14_col47\" class=\"data row14 col47\" >8100.000000</td>\n",
       "    </tr>\n",
       "    <tr>\n",
       "      <th id=\"T_26442_level0_row15\" class=\"row_heading level0 row15\" >1823</th>\n",
       "      <td id=\"T_26442_row15_col0\" class=\"data row15 col0\" >Ghana</td>\n",
       "      <td id=\"T_26442_row15_col1\" class=\"data row15 col1\" >GH</td>\n",
       "      <td id=\"T_26442_row15_col2\" class=\"data row15 col2\" >GHA</td>\n",
       "      <td id=\"T_26442_row15_col3\" class=\"data row15 col3\" >288</td>\n",
       "      <td id=\"T_26442_row15_col4\" class=\"data row15 col4\" >AFR</td>\n",
       "      <td id=\"T_26442_row15_col5\" class=\"data row15 col5\" >2005</td>\n",
       "      <td id=\"T_26442_row15_col6\" class=\"data row15 col6\" >21384034</td>\n",
       "      <td id=\"T_26442_row15_col7\" class=\"data row15 col7\" >166.000000</td>\n",
       "      <td id=\"T_26442_row15_col8\" class=\"data row15 col8\" >90.000000</td>\n",
       "      <td id=\"T_26442_row15_col9\" class=\"data row15 col9\" >264.000000</td>\n",
       "      <td id=\"T_26442_row15_col10\" class=\"data row15 col10\" >35000.000000</td>\n",
       "      <td id=\"T_26442_row15_col11\" class=\"data row15 col11\" >19000.000000</td>\n",
       "      <td id=\"T_26442_row15_col12\" class=\"data row15 col12\" >56000.000000</td>\n",
       "      <td id=\"T_26442_row15_col13\" class=\"data row15 col13\" >predicted</td>\n",
       "      <td id=\"T_26442_row15_col14\" class=\"data row15 col14\" >20.000000</td>\n",
       "      <td id=\"T_26442_row15_col15\" class=\"data row15 col15\" >13.000000</td>\n",
       "      <td id=\"T_26442_row15_col16\" class=\"data row15 col16\" >25.000000</td>\n",
       "      <td id=\"T_26442_row15_col17\" class=\"data row15 col17\" >4300.000000</td>\n",
       "      <td id=\"T_26442_row15_col18\" class=\"data row15 col18\" >2800.000000</td>\n",
       "      <td id=\"T_26442_row15_col19\" class=\"data row15 col19\" >5300.000000</td>\n",
       "      <td id=\"T_26442_row15_col20\" class=\"data row15 col20\" >14.000000</td>\n",
       "      <td id=\"T_26442_row15_col21\" class=\"data row15 col21\" >2500.000000</td>\n",
       "      <td id=\"T_26442_row15_col22\" class=\"data row15 col22\" >18.000000</td>\n",
       "      <td id=\"T_26442_row15_col23\" class=\"data row15 col23\" >3100.000000</td>\n",
       "      <td id=\"T_26442_row15_col24\" class=\"data row15 col24\" >GH</td>\n",
       "      <td id=\"T_26442_row15_col25\" class=\"data row15 col25\" >3800.000000</td>\n",
       "      <td id=\"T_26442_row15_col26\" class=\"data row15 col26\" >Indirect</td>\n",
       "      <td id=\"T_26442_row15_col27\" class=\"data row15 col27\" >119.000000</td>\n",
       "      <td id=\"T_26442_row15_col28\" class=\"data row15 col28\" >105.000000</td>\n",
       "      <td id=\"T_26442_row15_col29\" class=\"data row15 col29\" >132.000000</td>\n",
       "      <td id=\"T_26442_row15_col30\" class=\"data row15 col30\" >25000.000000</td>\n",
       "      <td id=\"T_26442_row15_col31\" class=\"data row15 col31\" >22000.000000</td>\n",
       "      <td id=\"T_26442_row15_col32\" class=\"data row15 col32\" >28000.000000</td>\n",
       "      <td id=\"T_26442_row15_col33\" class=\"data row15 col33\" >0</td>\n",
       "      <td id=\"T_26442_row15_col34\" class=\"data row15 col34\" >28.000000</td>\n",
       "      <td id=\"T_26442_row15_col35\" class=\"data row15 col35\" >23.000000</td>\n",
       "      <td id=\"T_26442_row15_col36\" class=\"data row15 col36\" >33.000000</td>\n",
       "      <td id=\"T_26442_row15_col37\" class=\"data row15 col37\" >33.000000</td>\n",
       "      <td id=\"T_26442_row15_col38\" class=\"data row15 col38\" >29.000000</td>\n",
       "      <td id=\"T_26442_row15_col39\" class=\"data row15 col39\" >37.000000</td>\n",
       "      <td id=\"T_26442_row15_col40\" class=\"data row15 col40\" >7000.000000</td>\n",
       "      <td id=\"T_26442_row15_col41\" class=\"data row15 col41\" >6100.000000</td>\n",
       "      <td id=\"T_26442_row15_col42\" class=\"data row15 col42\" >7800.000000</td>\n",
       "      <td id=\"T_26442_row15_col43\" class=\"data row15 col43\" >0.000000</td>\n",
       "      <td id=\"T_26442_row15_col44\" class=\"data row15 col44\" >48.000000</td>\n",
       "      <td id=\"T_26442_row15_col45\" class=\"data row15 col45\" >43.000000</td>\n",
       "      <td id=\"T_26442_row15_col46\" class=\"data row15 col46\" >54.000000</td>\n",
       "      <td id=\"T_26442_row15_col47\" class=\"data row15 col47\" >7800.000000</td>\n",
       "    </tr>\n",
       "    <tr>\n",
       "      <th id=\"T_26442_level0_row16\" class=\"row_heading level0 row16\" >1824</th>\n",
       "      <td id=\"T_26442_row16_col0\" class=\"data row16 col0\" >Ghana</td>\n",
       "      <td id=\"T_26442_row16_col1\" class=\"data row16 col1\" >GH</td>\n",
       "      <td id=\"T_26442_row16_col2\" class=\"data row16 col2\" >GHA</td>\n",
       "      <td id=\"T_26442_row16_col3\" class=\"data row16 col3\" >288</td>\n",
       "      <td id=\"T_26442_row16_col4\" class=\"data row16 col4\" >AFR</td>\n",
       "      <td id=\"T_26442_row16_col5\" class=\"data row16 col5\" >2006</td>\n",
       "      <td id=\"T_26442_row16_col6\" class=\"data row16 col6\" >21947779</td>\n",
       "      <td id=\"T_26442_row16_col7\" class=\"data row16 col7\" >154.000000</td>\n",
       "      <td id=\"T_26442_row16_col8\" class=\"data row16 col8\" >84.000000</td>\n",
       "      <td id=\"T_26442_row16_col9\" class=\"data row16 col9\" >244.000000</td>\n",
       "      <td id=\"T_26442_row16_col10\" class=\"data row16 col10\" >34000.000000</td>\n",
       "      <td id=\"T_26442_row16_col11\" class=\"data row16 col11\" >18000.000000</td>\n",
       "      <td id=\"T_26442_row16_col12\" class=\"data row16 col12\" >54000.000000</td>\n",
       "      <td id=\"T_26442_row16_col13\" class=\"data row16 col13\" >predicted</td>\n",
       "      <td id=\"T_26442_row16_col14\" class=\"data row16 col14\" >18.000000</td>\n",
       "      <td id=\"T_26442_row16_col15\" class=\"data row16 col15\" >12.000000</td>\n",
       "      <td id=\"T_26442_row16_col16\" class=\"data row16 col16\" >22.000000</td>\n",
       "      <td id=\"T_26442_row16_col17\" class=\"data row16 col17\" >3900.000000</td>\n",
       "      <td id=\"T_26442_row16_col18\" class=\"data row16 col18\" >2600.000000</td>\n",
       "      <td id=\"T_26442_row16_col19\" class=\"data row16 col19\" >4900.000000</td>\n",
       "      <td id=\"T_26442_row16_col20\" class=\"data row16 col20\" >12.000000</td>\n",
       "      <td id=\"T_26442_row16_col21\" class=\"data row16 col21\" >2200.000000</td>\n",
       "      <td id=\"T_26442_row16_col22\" class=\"data row16 col22\" >15.000000</td>\n",
       "      <td id=\"T_26442_row16_col23\" class=\"data row16 col23\" >2700.000000</td>\n",
       "      <td id=\"T_26442_row16_col24\" class=\"data row16 col24\" >GH</td>\n",
       "      <td id=\"T_26442_row16_col25\" class=\"data row16 col25\" >3400.000000</td>\n",
       "      <td id=\"T_26442_row16_col26\" class=\"data row16 col26\" >Indirect</td>\n",
       "      <td id=\"T_26442_row16_col27\" class=\"data row16 col27\" >112.000000</td>\n",
       "      <td id=\"T_26442_row16_col28\" class=\"data row16 col28\" >101.000000</td>\n",
       "      <td id=\"T_26442_row16_col29\" class=\"data row16 col29\" >123.000000</td>\n",
       "      <td id=\"T_26442_row16_col30\" class=\"data row16 col30\" >25000.000000</td>\n",
       "      <td id=\"T_26442_row16_col31\" class=\"data row16 col31\" >22000.000000</td>\n",
       "      <td id=\"T_26442_row16_col32\" class=\"data row16 col32\" >27000.000000</td>\n",
       "      <td id=\"T_26442_row16_col33\" class=\"data row16 col33\" >0</td>\n",
       "      <td id=\"T_26442_row16_col34\" class=\"data row16 col34\" >27.000000</td>\n",
       "      <td id=\"T_26442_row16_col35\" class=\"data row16 col35\" >23.000000</td>\n",
       "      <td id=\"T_26442_row16_col36\" class=\"data row16 col36\" >31.000000</td>\n",
       "      <td id=\"T_26442_row16_col37\" class=\"data row16 col37\" >30.000000</td>\n",
       "      <td id=\"T_26442_row16_col38\" class=\"data row16 col38\" >27.000000</td>\n",
       "      <td id=\"T_26442_row16_col39\" class=\"data row16 col39\" >33.000000</td>\n",
       "      <td id=\"T_26442_row16_col40\" class=\"data row16 col40\" >6700.000000</td>\n",
       "      <td id=\"T_26442_row16_col41\" class=\"data row16 col41\" >5800.000000</td>\n",
       "      <td id=\"T_26442_row16_col42\" class=\"data row16 col42\" >7300.000000</td>\n",
       "      <td id=\"T_26442_row16_col43\" class=\"data row16 col43\" >0.000000</td>\n",
       "      <td id=\"T_26442_row16_col44\" class=\"data row16 col44\" >51.000000</td>\n",
       "      <td id=\"T_26442_row16_col45\" class=\"data row16 col45\" >46.000000</td>\n",
       "      <td id=\"T_26442_row16_col46\" class=\"data row16 col46\" >57.000000</td>\n",
       "      <td id=\"T_26442_row16_col47\" class=\"data row16 col47\" >7300.000000</td>\n",
       "    </tr>\n",
       "    <tr>\n",
       "      <th id=\"T_26442_level0_row17\" class=\"row_heading level0 row17\" >1825</th>\n",
       "      <td id=\"T_26442_row17_col0\" class=\"data row17 col0\" >Ghana</td>\n",
       "      <td id=\"T_26442_row17_col1\" class=\"data row17 col1\" >GH</td>\n",
       "      <td id=\"T_26442_row17_col2\" class=\"data row17 col2\" >GHA</td>\n",
       "      <td id=\"T_26442_row17_col3\" class=\"data row17 col3\" >288</td>\n",
       "      <td id=\"T_26442_row17_col4\" class=\"data row17 col4\" >AFR</td>\n",
       "      <td id=\"T_26442_row17_col5\" class=\"data row17 col5\" >2007</td>\n",
       "      <td id=\"T_26442_row17_col6\" class=\"data row17 col6\" >22525659</td>\n",
       "      <td id=\"T_26442_row17_col7\" class=\"data row17 col7\" >142.000000</td>\n",
       "      <td id=\"T_26442_row17_col8\" class=\"data row17 col8\" >78.000000</td>\n",
       "      <td id=\"T_26442_row17_col9\" class=\"data row17 col9\" >226.000000</td>\n",
       "      <td id=\"T_26442_row17_col10\" class=\"data row17 col10\" >32000.000000</td>\n",
       "      <td id=\"T_26442_row17_col11\" class=\"data row17 col11\" >18000.000000</td>\n",
       "      <td id=\"T_26442_row17_col12\" class=\"data row17 col12\" >51000.000000</td>\n",
       "      <td id=\"T_26442_row17_col13\" class=\"data row17 col13\" >predicted</td>\n",
       "      <td id=\"T_26442_row17_col14\" class=\"data row17 col14\" >16.000000</td>\n",
       "      <td id=\"T_26442_row17_col15\" class=\"data row17 col15\" >10.000000</td>\n",
       "      <td id=\"T_26442_row17_col16\" class=\"data row17 col16\" >19.000000</td>\n",
       "      <td id=\"T_26442_row17_col17\" class=\"data row17 col17\" >3600.000000</td>\n",
       "      <td id=\"T_26442_row17_col18\" class=\"data row17 col18\" >2300.000000</td>\n",
       "      <td id=\"T_26442_row17_col19\" class=\"data row17 col19\" >4400.000000</td>\n",
       "      <td id=\"T_26442_row17_col20\" class=\"data row17 col20\" >10.000000</td>\n",
       "      <td id=\"T_26442_row17_col21\" class=\"data row17 col21\" >1900.000000</td>\n",
       "      <td id=\"T_26442_row17_col22\" class=\"data row17 col22\" >13.000000</td>\n",
       "      <td id=\"T_26442_row17_col23\" class=\"data row17 col23\" >2400.000000</td>\n",
       "      <td id=\"T_26442_row17_col24\" class=\"data row17 col24\" >GH</td>\n",
       "      <td id=\"T_26442_row17_col25\" class=\"data row17 col25\" >2800.000000</td>\n",
       "      <td id=\"T_26442_row17_col26\" class=\"data row17 col26\" >Indirect</td>\n",
       "      <td id=\"T_26442_row17_col27\" class=\"data row17 col27\" >105.000000</td>\n",
       "      <td id=\"T_26442_row17_col28\" class=\"data row17 col28\" >96.000000</td>\n",
       "      <td id=\"T_26442_row17_col29\" class=\"data row17 col29\" >113.000000</td>\n",
       "      <td id=\"T_26442_row17_col30\" class=\"data row17 col30\" >24000.000000</td>\n",
       "      <td id=\"T_26442_row17_col31\" class=\"data row17 col31\" >22000.000000</td>\n",
       "      <td id=\"T_26442_row17_col32\" class=\"data row17 col32\" >25000.000000</td>\n",
       "      <td id=\"T_26442_row17_col33\" class=\"data row17 col33\" >0</td>\n",
       "      <td id=\"T_26442_row17_col34\" class=\"data row17 col34\" >26.000000</td>\n",
       "      <td id=\"T_26442_row17_col35\" class=\"data row17 col35\" >23.000000</td>\n",
       "      <td id=\"T_26442_row17_col36\" class=\"data row17 col36\" >30.000000</td>\n",
       "      <td id=\"T_26442_row17_col37\" class=\"data row17 col37\" >28.000000</td>\n",
       "      <td id=\"T_26442_row17_col38\" class=\"data row17 col38\" >25.000000</td>\n",
       "      <td id=\"T_26442_row17_col39\" class=\"data row17 col39\" >30.000000</td>\n",
       "      <td id=\"T_26442_row17_col40\" class=\"data row17 col40\" >6200.000000</td>\n",
       "      <td id=\"T_26442_row17_col41\" class=\"data row17 col41\" >5500.000000</td>\n",
       "      <td id=\"T_26442_row17_col42\" class=\"data row17 col42\" >6800.000000</td>\n",
       "      <td id=\"T_26442_row17_col43\" class=\"data row17 col43\" >0.000000</td>\n",
       "      <td id=\"T_26442_row17_col44\" class=\"data row17 col44\" >54.000000</td>\n",
       "      <td id=\"T_26442_row17_col45\" class=\"data row17 col45\" >50.000000</td>\n",
       "      <td id=\"T_26442_row17_col46\" class=\"data row17 col46\" >59.000000</td>\n",
       "      <td id=\"T_26442_row17_col47\" class=\"data row17 col47\" >6800.000000</td>\n",
       "    </tr>\n",
       "    <tr>\n",
       "      <th id=\"T_26442_level0_row18\" class=\"row_heading level0 row18\" >1826</th>\n",
       "      <td id=\"T_26442_row18_col0\" class=\"data row18 col0\" >Ghana</td>\n",
       "      <td id=\"T_26442_row18_col1\" class=\"data row18 col1\" >GH</td>\n",
       "      <td id=\"T_26442_row18_col2\" class=\"data row18 col2\" >GHA</td>\n",
       "      <td id=\"T_26442_row18_col3\" class=\"data row18 col3\" >288</td>\n",
       "      <td id=\"T_26442_row18_col4\" class=\"data row18 col4\" >AFR</td>\n",
       "      <td id=\"T_26442_row18_col5\" class=\"data row18 col5\" >2008</td>\n",
       "      <td id=\"T_26442_row18_col6\" class=\"data row18 col6\" >23110139</td>\n",
       "      <td id=\"T_26442_row18_col7\" class=\"data row18 col7\" >131.000000</td>\n",
       "      <td id=\"T_26442_row18_col8\" class=\"data row18 col8\" >72.000000</td>\n",
       "      <td id=\"T_26442_row18_col9\" class=\"data row18 col9\" >207.000000</td>\n",
       "      <td id=\"T_26442_row18_col10\" class=\"data row18 col10\" >30000.000000</td>\n",
       "      <td id=\"T_26442_row18_col11\" class=\"data row18 col11\" >17000.000000</td>\n",
       "      <td id=\"T_26442_row18_col12\" class=\"data row18 col12\" >48000.000000</td>\n",
       "      <td id=\"T_26442_row18_col13\" class=\"data row18 col13\" >predicted</td>\n",
       "      <td id=\"T_26442_row18_col14\" class=\"data row18 col14\" >14.000000</td>\n",
       "      <td id=\"T_26442_row18_col15\" class=\"data row18 col15\" >9.200000</td>\n",
       "      <td id=\"T_26442_row18_col16\" class=\"data row18 col16\" >17.000000</td>\n",
       "      <td id=\"T_26442_row18_col17\" class=\"data row18 col17\" >3200.000000</td>\n",
       "      <td id=\"T_26442_row18_col18\" class=\"data row18 col18\" >2100.000000</td>\n",
       "      <td id=\"T_26442_row18_col19\" class=\"data row18 col19\" >3900.000000</td>\n",
       "      <td id=\"T_26442_row18_col20\" class=\"data row18 col20\" >8.600000</td>\n",
       "      <td id=\"T_26442_row18_col21\" class=\"data row18 col21\" >1600.000000</td>\n",
       "      <td id=\"T_26442_row18_col22\" class=\"data row18 col22\" >10.000000</td>\n",
       "      <td id=\"T_26442_row18_col23\" class=\"data row18 col23\" >2000.000000</td>\n",
       "      <td id=\"T_26442_row18_col24\" class=\"data row18 col24\" >GH</td>\n",
       "      <td id=\"T_26442_row18_col25\" class=\"data row18 col25\" >2400.000000</td>\n",
       "      <td id=\"T_26442_row18_col26\" class=\"data row18 col26\" >Indirect</td>\n",
       "      <td id=\"T_26442_row18_col27\" class=\"data row18 col27\" >99.000000</td>\n",
       "      <td id=\"T_26442_row18_col28\" class=\"data row18 col28\" >92.000000</td>\n",
       "      <td id=\"T_26442_row18_col29\" class=\"data row18 col29\" >105.000000</td>\n",
       "      <td id=\"T_26442_row18_col30\" class=\"data row18 col30\" >23000.000000</td>\n",
       "      <td id=\"T_26442_row18_col31\" class=\"data row18 col31\" >21000.000000</td>\n",
       "      <td id=\"T_26442_row18_col32\" class=\"data row18 col32\" >24000.000000</td>\n",
       "      <td id=\"T_26442_row18_col33\" class=\"data row18 col33\" >0</td>\n",
       "      <td id=\"T_26442_row18_col34\" class=\"data row18 col34\" >26.000000</td>\n",
       "      <td id=\"T_26442_row18_col35\" class=\"data row18 col35\" >23.000000</td>\n",
       "      <td id=\"T_26442_row18_col36\" class=\"data row18 col36\" >28.000000</td>\n",
       "      <td id=\"T_26442_row18_col37\" class=\"data row18 col37\" >25.000000</td>\n",
       "      <td id=\"T_26442_row18_col38\" class=\"data row18 col38\" >23.000000</td>\n",
       "      <td id=\"T_26442_row18_col39\" class=\"data row18 col39\" >27.000000</td>\n",
       "      <td id=\"T_26442_row18_col40\" class=\"data row18 col40\" >5800.000000</td>\n",
       "      <td id=\"T_26442_row18_col41\" class=\"data row18 col41\" >5400.000000</td>\n",
       "      <td id=\"T_26442_row18_col42\" class=\"data row18 col42\" >6200.000000</td>\n",
       "      <td id=\"T_26442_row18_col43\" class=\"data row18 col43\" >0.000000</td>\n",
       "      <td id=\"T_26442_row18_col44\" class=\"data row18 col44\" >62.000000</td>\n",
       "      <td id=\"T_26442_row18_col45\" class=\"data row18 col45\" >58.000000</td>\n",
       "      <td id=\"T_26442_row18_col46\" class=\"data row18 col46\" >67.000000</td>\n",
       "      <td id=\"T_26442_row18_col47\" class=\"data row18 col47\" >6200.000000</td>\n",
       "    </tr>\n",
       "    <tr>\n",
       "      <th id=\"T_26442_level0_row19\" class=\"row_heading level0 row19\" >1827</th>\n",
       "      <td id=\"T_26442_row19_col0\" class=\"data row19 col0\" >Ghana</td>\n",
       "      <td id=\"T_26442_row19_col1\" class=\"data row19 col1\" >GH</td>\n",
       "      <td id=\"T_26442_row19_col2\" class=\"data row19 col2\" >GHA</td>\n",
       "      <td id=\"T_26442_row19_col3\" class=\"data row19 col3\" >288</td>\n",
       "      <td id=\"T_26442_row19_col4\" class=\"data row19 col4\" >AFR</td>\n",
       "      <td id=\"T_26442_row19_col5\" class=\"data row19 col5\" >2009</td>\n",
       "      <td id=\"T_26442_row19_col6\" class=\"data row19 col6\" >23691533</td>\n",
       "      <td id=\"T_26442_row19_col7\" class=\"data row19 col7\" >119.000000</td>\n",
       "      <td id=\"T_26442_row19_col8\" class=\"data row19 col8\" >65.000000</td>\n",
       "      <td id=\"T_26442_row19_col9\" class=\"data row19 col9\" >190.000000</td>\n",
       "      <td id=\"T_26442_row19_col10\" class=\"data row19 col10\" >28000.000000</td>\n",
       "      <td id=\"T_26442_row19_col11\" class=\"data row19 col11\" >15000.000000</td>\n",
       "      <td id=\"T_26442_row19_col12\" class=\"data row19 col12\" >45000.000000</td>\n",
       "      <td id=\"T_26442_row19_col13\" class=\"data row19 col13\" >predicted</td>\n",
       "      <td id=\"T_26442_row19_col14\" class=\"data row19 col14\" >12.000000</td>\n",
       "      <td id=\"T_26442_row19_col15\" class=\"data row19 col15\" >7.900000</td>\n",
       "      <td id=\"T_26442_row19_col16\" class=\"data row19 col16\" >14.000000</td>\n",
       "      <td id=\"T_26442_row19_col17\" class=\"data row19 col17\" >2800.000000</td>\n",
       "      <td id=\"T_26442_row19_col18\" class=\"data row19 col18\" >1900.000000</td>\n",
       "      <td id=\"T_26442_row19_col19\" class=\"data row19 col19\" >3400.000000</td>\n",
       "      <td id=\"T_26442_row19_col20\" class=\"data row19 col20\" >6.900000</td>\n",
       "      <td id=\"T_26442_row19_col21\" class=\"data row19 col21\" >1300.000000</td>\n",
       "      <td id=\"T_26442_row19_col22\" class=\"data row19 col22\" >8.200000</td>\n",
       "      <td id=\"T_26442_row19_col23\" class=\"data row19 col23\" >1600.000000</td>\n",
       "      <td id=\"T_26442_row19_col24\" class=\"data row19 col24\" >GH</td>\n",
       "      <td id=\"T_26442_row19_col25\" class=\"data row19 col25\" >1900.000000</td>\n",
       "      <td id=\"T_26442_row19_col26\" class=\"data row19 col26\" >Indirect</td>\n",
       "      <td id=\"T_26442_row19_col27\" class=\"data row19 col27\" >92.000000</td>\n",
       "      <td id=\"T_26442_row19_col28\" class=\"data row19 col28\" >86.000000</td>\n",
       "      <td id=\"T_26442_row19_col29\" class=\"data row19 col29\" >97.000000</td>\n",
       "      <td id=\"T_26442_row19_col30\" class=\"data row19 col30\" >22000.000000</td>\n",
       "      <td id=\"T_26442_row19_col31\" class=\"data row19 col31\" >20000.000000</td>\n",
       "      <td id=\"T_26442_row19_col32\" class=\"data row19 col32\" >23000.000000</td>\n",
       "      <td id=\"T_26442_row19_col33\" class=\"data row19 col33\" >0</td>\n",
       "      <td id=\"T_26442_row19_col34\" class=\"data row19 col34\" >25.000000</td>\n",
       "      <td id=\"T_26442_row19_col35\" class=\"data row19 col35\" >22.000000</td>\n",
       "      <td id=\"T_26442_row19_col36\" class=\"data row19 col36\" >27.000000</td>\n",
       "      <td id=\"T_26442_row19_col37\" class=\"data row19 col37\" >23.000000</td>\n",
       "      <td id=\"T_26442_row19_col38\" class=\"data row19 col38\" >20.000000</td>\n",
       "      <td id=\"T_26442_row19_col39\" class=\"data row19 col39\" >24.000000</td>\n",
       "      <td id=\"T_26442_row19_col40\" class=\"data row19 col40\" >5400.000000</td>\n",
       "      <td id=\"T_26442_row19_col41\" class=\"data row19 col41\" >4800.000000</td>\n",
       "      <td id=\"T_26442_row19_col42\" class=\"data row19 col42\" >5700.000000</td>\n",
       "      <td id=\"T_26442_row19_col43\" class=\"data row19 col43\" >0.000000</td>\n",
       "      <td id=\"T_26442_row19_col44\" class=\"data row19 col44\" >68.000000</td>\n",
       "      <td id=\"T_26442_row19_col45\" class=\"data row19 col45\" >65.000000</td>\n",
       "      <td id=\"T_26442_row19_col46\" class=\"data row19 col46\" >73.000000</td>\n",
       "      <td id=\"T_26442_row19_col47\" class=\"data row19 col47\" >5700.000000</td>\n",
       "    </tr>\n",
       "    <tr>\n",
       "      <th id=\"T_26442_level0_row20\" class=\"row_heading level0 row20\" >1828</th>\n",
       "      <td id=\"T_26442_row20_col0\" class=\"data row20 col0\" >Ghana</td>\n",
       "      <td id=\"T_26442_row20_col1\" class=\"data row20 col1\" >GH</td>\n",
       "      <td id=\"T_26442_row20_col2\" class=\"data row20 col2\" >GHA</td>\n",
       "      <td id=\"T_26442_row20_col3\" class=\"data row20 col3\" >288</td>\n",
       "      <td id=\"T_26442_row20_col4\" class=\"data row20 col4\" >AFR</td>\n",
       "      <td id=\"T_26442_row20_col5\" class=\"data row20 col5\" >2010</td>\n",
       "      <td id=\"T_26442_row20_col6\" class=\"data row20 col6\" >24262901</td>\n",
       "      <td id=\"T_26442_row20_col7\" class=\"data row20 col7\" >107.000000</td>\n",
       "      <td id=\"T_26442_row20_col8\" class=\"data row20 col8\" >57.000000</td>\n",
       "      <td id=\"T_26442_row20_col9\" class=\"data row20 col9\" >172.000000</td>\n",
       "      <td id=\"T_26442_row20_col10\" class=\"data row20 col10\" >26000.000000</td>\n",
       "      <td id=\"T_26442_row20_col11\" class=\"data row20 col11\" >14000.000000</td>\n",
       "      <td id=\"T_26442_row20_col12\" class=\"data row20 col12\" >42000.000000</td>\n",
       "      <td id=\"T_26442_row20_col13\" class=\"data row20 col13\" >predicted</td>\n",
       "      <td id=\"T_26442_row20_col14\" class=\"data row20 col14\" >9.600000</td>\n",
       "      <td id=\"T_26442_row20_col15\" class=\"data row20 col15\" >6.300000</td>\n",
       "      <td id=\"T_26442_row20_col16\" class=\"data row20 col16\" >12.000000</td>\n",
       "      <td id=\"T_26442_row20_col17\" class=\"data row20 col17\" >2300.000000</td>\n",
       "      <td id=\"T_26442_row20_col18\" class=\"data row20 col18\" >1500.000000</td>\n",
       "      <td id=\"T_26442_row20_col19\" class=\"data row20 col19\" >3000.000000</td>\n",
       "      <td id=\"T_26442_row20_col20\" class=\"data row20 col20\" >5.400000</td>\n",
       "      <td id=\"T_26442_row20_col21\" class=\"data row20 col21\" >1100.000000</td>\n",
       "      <td id=\"T_26442_row20_col22\" class=\"data row20 col22\" >6.500000</td>\n",
       "      <td id=\"T_26442_row20_col23\" class=\"data row20 col23\" >1300.000000</td>\n",
       "      <td id=\"T_26442_row20_col24\" class=\"data row20 col24\" >GH</td>\n",
       "      <td id=\"T_26442_row20_col25\" class=\"data row20 col25\" >1600.000000</td>\n",
       "      <td id=\"T_26442_row20_col26\" class=\"data row20 col26\" >Indirect</td>\n",
       "      <td id=\"T_26442_row20_col27\" class=\"data row20 col27\" >85.000000</td>\n",
       "      <td id=\"T_26442_row20_col28\" class=\"data row20 col28\" >79.000000</td>\n",
       "      <td id=\"T_26442_row20_col29\" class=\"data row20 col29\" >90.000000</td>\n",
       "      <td id=\"T_26442_row20_col30\" class=\"data row20 col30\" >21000.000000</td>\n",
       "      <td id=\"T_26442_row20_col31\" class=\"data row20 col31\" >19000.000000</td>\n",
       "      <td id=\"T_26442_row20_col32\" class=\"data row20 col32\" >22000.000000</td>\n",
       "      <td id=\"T_26442_row20_col33\" class=\"data row20 col33\" >0</td>\n",
       "      <td id=\"T_26442_row20_col34\" class=\"data row20 col34\" >24.000000</td>\n",
       "      <td id=\"T_26442_row20_col35\" class=\"data row20 col35\" >21.000000</td>\n",
       "      <td id=\"T_26442_row20_col36\" class=\"data row20 col36\" >27.000000</td>\n",
       "      <td id=\"T_26442_row20_col37\" class=\"data row20 col37\" >20.000000</td>\n",
       "      <td id=\"T_26442_row20_col38\" class=\"data row20 col38\" >18.000000</td>\n",
       "      <td id=\"T_26442_row20_col39\" class=\"data row20 col39\" >22.000000</td>\n",
       "      <td id=\"T_26442_row20_col40\" class=\"data row20 col40\" >4900.000000</td>\n",
       "      <td id=\"T_26442_row20_col41\" class=\"data row20 col41\" >4300.000000</td>\n",
       "      <td id=\"T_26442_row20_col42\" class=\"data row20 col42\" >5300.000000</td>\n",
       "      <td id=\"T_26442_row20_col43\" class=\"data row20 col43\" >0.000000</td>\n",
       "      <td id=\"T_26442_row20_col44\" class=\"data row20 col44\" >70.000000</td>\n",
       "      <td id=\"T_26442_row20_col45\" class=\"data row20 col45\" >67.000000</td>\n",
       "      <td id=\"T_26442_row20_col46\" class=\"data row20 col46\" >76.000000</td>\n",
       "      <td id=\"T_26442_row20_col47\" class=\"data row20 col47\" >5300.000000</td>\n",
       "    </tr>\n",
       "    <tr>\n",
       "      <th id=\"T_26442_level0_row21\" class=\"row_heading level0 row21\" >1829</th>\n",
       "      <td id=\"T_26442_row21_col0\" class=\"data row21 col0\" >Ghana</td>\n",
       "      <td id=\"T_26442_row21_col1\" class=\"data row21 col1\" >GH</td>\n",
       "      <td id=\"T_26442_row21_col2\" class=\"data row21 col2\" >GHA</td>\n",
       "      <td id=\"T_26442_row21_col3\" class=\"data row21 col3\" >288</td>\n",
       "      <td id=\"T_26442_row21_col4\" class=\"data row21 col4\" >AFR</td>\n",
       "      <td id=\"T_26442_row21_col5\" class=\"data row21 col5\" >2011</td>\n",
       "      <td id=\"T_26442_row21_col6\" class=\"data row21 col6\" >24820706</td>\n",
       "      <td id=\"T_26442_row21_col7\" class=\"data row21 col7\" >95.000000</td>\n",
       "      <td id=\"T_26442_row21_col8\" class=\"data row21 col8\" >49.000000</td>\n",
       "      <td id=\"T_26442_row21_col9\" class=\"data row21 col9\" >156.000000</td>\n",
       "      <td id=\"T_26442_row21_col10\" class=\"data row21 col10\" >24000.000000</td>\n",
       "      <td id=\"T_26442_row21_col11\" class=\"data row21 col11\" >12000.000000</td>\n",
       "      <td id=\"T_26442_row21_col12\" class=\"data row21 col12\" >39000.000000</td>\n",
       "      <td id=\"T_26442_row21_col13\" class=\"data row21 col13\" >predicted</td>\n",
       "      <td id=\"T_26442_row21_col14\" class=\"data row21 col14\" >7.700000</td>\n",
       "      <td id=\"T_26442_row21_col15\" class=\"data row21 col15\" >5.000000</td>\n",
       "      <td id=\"T_26442_row21_col16\" class=\"data row21 col16\" >11.000000</td>\n",
       "      <td id=\"T_26442_row21_col17\" class=\"data row21 col17\" >1900.000000</td>\n",
       "      <td id=\"T_26442_row21_col18\" class=\"data row21 col18\" >1200.000000</td>\n",
       "      <td id=\"T_26442_row21_col19\" class=\"data row21 col19\" >2600.000000</td>\n",
       "      <td id=\"T_26442_row21_col20\" class=\"data row21 col20\" >3.900000</td>\n",
       "      <td id=\"T_26442_row21_col21\" class=\"data row21 col21\" >770.000000</td>\n",
       "      <td id=\"T_26442_row21_col22\" class=\"data row21 col22\" >4.800000</td>\n",
       "      <td id=\"T_26442_row21_col23\" class=\"data row21 col23\" >970.000000</td>\n",
       "      <td id=\"T_26442_row21_col24\" class=\"data row21 col24\" >GH</td>\n",
       "      <td id=\"T_26442_row21_col25\" class=\"data row21 col25\" >1200.000000</td>\n",
       "      <td id=\"T_26442_row21_col26\" class=\"data row21 col26\" >Indirect</td>\n",
       "      <td id=\"T_26442_row21_col27\" class=\"data row21 col27\" >79.000000</td>\n",
       "      <td id=\"T_26442_row21_col28\" class=\"data row21 col28\" >73.000000</td>\n",
       "      <td id=\"T_26442_row21_col29\" class=\"data row21 col29\" >83.000000</td>\n",
       "      <td id=\"T_26442_row21_col30\" class=\"data row21 col30\" >20000.000000</td>\n",
       "      <td id=\"T_26442_row21_col31\" class=\"data row21 col31\" >18000.000000</td>\n",
       "      <td id=\"T_26442_row21_col32\" class=\"data row21 col32\" >21000.000000</td>\n",
       "      <td id=\"T_26442_row21_col33\" class=\"data row21 col33\" >0</td>\n",
       "      <td id=\"T_26442_row21_col34\" class=\"data row21 col34\" >23.000000</td>\n",
       "      <td id=\"T_26442_row21_col35\" class=\"data row21 col35\" >20.000000</td>\n",
       "      <td id=\"T_26442_row21_col36\" class=\"data row21 col36\" >26.000000</td>\n",
       "      <td id=\"T_26442_row21_col37\" class=\"data row21 col37\" >18.000000</td>\n",
       "      <td id=\"T_26442_row21_col38\" class=\"data row21 col38\" >16.000000</td>\n",
       "      <td id=\"T_26442_row21_col39\" class=\"data row21 col39\" >20.000000</td>\n",
       "      <td id=\"T_26442_row21_col40\" class=\"data row21 col40\" >4500.000000</td>\n",
       "      <td id=\"T_26442_row21_col41\" class=\"data row21 col41\" >4000.000000</td>\n",
       "      <td id=\"T_26442_row21_col42\" class=\"data row21 col42\" >4900.000000</td>\n",
       "      <td id=\"T_26442_row21_col43\" class=\"data row21 col43\" >0.000000</td>\n",
       "      <td id=\"T_26442_row21_col44\" class=\"data row21 col44\" >79.000000</td>\n",
       "      <td id=\"T_26442_row21_col45\" class=\"data row21 col45\" >74.000000</td>\n",
       "      <td id=\"T_26442_row21_col46\" class=\"data row21 col46\" >85.000000</td>\n",
       "      <td id=\"T_26442_row21_col47\" class=\"data row21 col47\" >4900.000000</td>\n",
       "    </tr>\n",
       "    <tr>\n",
       "      <th id=\"T_26442_level0_row22\" class=\"row_heading level0 row22\" >1830</th>\n",
       "      <td id=\"T_26442_row22_col0\" class=\"data row22 col0\" >Ghana</td>\n",
       "      <td id=\"T_26442_row22_col1\" class=\"data row22 col1\" >GH</td>\n",
       "      <td id=\"T_26442_row22_col2\" class=\"data row22 col2\" >GHA</td>\n",
       "      <td id=\"T_26442_row22_col3\" class=\"data row22 col3\" >288</td>\n",
       "      <td id=\"T_26442_row22_col4\" class=\"data row22 col4\" >AFR</td>\n",
       "      <td id=\"T_26442_row22_col5\" class=\"data row22 col5\" >2012</td>\n",
       "      <td id=\"T_26442_row22_col6\" class=\"data row22 col6\" >25366462</td>\n",
       "      <td id=\"T_26442_row22_col7\" class=\"data row22 col7\" >83.000000</td>\n",
       "      <td id=\"T_26442_row22_col8\" class=\"data row22 col8\" >40.000000</td>\n",
       "      <td id=\"T_26442_row22_col9\" class=\"data row22 col9\" >142.000000</td>\n",
       "      <td id=\"T_26442_row22_col10\" class=\"data row22 col10\" >21000.000000</td>\n",
       "      <td id=\"T_26442_row22_col11\" class=\"data row22 col11\" >10000.000000</td>\n",
       "      <td id=\"T_26442_row22_col12\" class=\"data row22 col12\" >36000.000000</td>\n",
       "      <td id=\"T_26442_row22_col13\" class=\"data row22 col13\" >predicted</td>\n",
       "      <td id=\"T_26442_row22_col14\" class=\"data row22 col14\" >6.000000</td>\n",
       "      <td id=\"T_26442_row22_col15\" class=\"data row22 col15\" >3.800000</td>\n",
       "      <td id=\"T_26442_row22_col16\" class=\"data row22 col16\" >8.900000</td>\n",
       "      <td id=\"T_26442_row22_col17\" class=\"data row22 col17\" >1500.000000</td>\n",
       "      <td id=\"T_26442_row22_col18\" class=\"data row22 col18\" >970.000000</td>\n",
       "      <td id=\"T_26442_row22_col19\" class=\"data row22 col19\" >2300.000000</td>\n",
       "      <td id=\"T_26442_row22_col20\" class=\"data row22 col20\" >2.800000</td>\n",
       "      <td id=\"T_26442_row22_col21\" class=\"data row22 col21\" >540.000000</td>\n",
       "      <td id=\"T_26442_row22_col22\" class=\"data row22 col22\" >3.500000</td>\n",
       "      <td id=\"T_26442_row22_col23\" class=\"data row22 col23\" >700.000000</td>\n",
       "      <td id=\"T_26442_row22_col24\" class=\"data row22 col24\" >GH</td>\n",
       "      <td id=\"T_26442_row22_col25\" class=\"data row22 col25\" >880.000000</td>\n",
       "      <td id=\"T_26442_row22_col26\" class=\"data row22 col26\" >Indirect</td>\n",
       "      <td id=\"T_26442_row22_col27\" class=\"data row22 col27\" >72.000000</td>\n",
       "      <td id=\"T_26442_row22_col28\" class=\"data row22 col28\" >68.000000</td>\n",
       "      <td id=\"T_26442_row22_col29\" class=\"data row22 col29\" >78.000000</td>\n",
       "      <td id=\"T_26442_row22_col30\" class=\"data row22 col30\" >18000.000000</td>\n",
       "      <td id=\"T_26442_row22_col31\" class=\"data row22 col31\" >17000.000000</td>\n",
       "      <td id=\"T_26442_row22_col32\" class=\"data row22 col32\" >20000.000000</td>\n",
       "      <td id=\"T_26442_row22_col33\" class=\"data row22 col33\" >0</td>\n",
       "      <td id=\"T_26442_row22_col34\" class=\"data row22 col34\" >21.000000</td>\n",
       "      <td id=\"T_26442_row22_col35\" class=\"data row22 col35\" >19.000000</td>\n",
       "      <td id=\"T_26442_row22_col36\" class=\"data row22 col36\" >24.000000</td>\n",
       "      <td id=\"T_26442_row22_col37\" class=\"data row22 col37\" >15.000000</td>\n",
       "      <td id=\"T_26442_row22_col38\" class=\"data row22 col38\" >14.000000</td>\n",
       "      <td id=\"T_26442_row22_col39\" class=\"data row22 col39\" >17.000000</td>\n",
       "      <td id=\"T_26442_row22_col40\" class=\"data row22 col40\" >3900.000000</td>\n",
       "      <td id=\"T_26442_row22_col41\" class=\"data row22 col41\" >3600.000000</td>\n",
       "      <td id=\"T_26442_row22_col42\" class=\"data row22 col42\" >4200.000000</td>\n",
       "      <td id=\"T_26442_row22_col43\" class=\"data row22 col43\" >0.000000</td>\n",
       "      <td id=\"T_26442_row22_col44\" class=\"data row22 col44\" >81.000000</td>\n",
       "      <td id=\"T_26442_row22_col45\" class=\"data row22 col45\" >74.000000</td>\n",
       "      <td id=\"T_26442_row22_col46\" class=\"data row22 col46\" >86.000000</td>\n",
       "      <td id=\"T_26442_row22_col47\" class=\"data row22 col47\" >4200.000000</td>\n",
       "    </tr>\n",
       "    <tr>\n",
       "      <th id=\"T_26442_level0_row23\" class=\"row_heading level0 row23\" >1831</th>\n",
       "      <td id=\"T_26442_row23_col0\" class=\"data row23 col0\" >Ghana</td>\n",
       "      <td id=\"T_26442_row23_col1\" class=\"data row23 col1\" >GH</td>\n",
       "      <td id=\"T_26442_row23_col2\" class=\"data row23 col2\" >GHA</td>\n",
       "      <td id=\"T_26442_row23_col3\" class=\"data row23 col3\" >288</td>\n",
       "      <td id=\"T_26442_row23_col4\" class=\"data row23 col4\" >AFR</td>\n",
       "      <td id=\"T_26442_row23_col5\" class=\"data row23 col5\" >2013</td>\n",
       "      <td id=\"T_26442_row23_col6\" class=\"data row23 col6\" >25904598</td>\n",
       "      <td id=\"T_26442_row23_col7\" class=\"data row23 col7\" >71.000000</td>\n",
       "      <td id=\"T_26442_row23_col8\" class=\"data row23 col8\" >30.000000</td>\n",
       "      <td id=\"T_26442_row23_col9\" class=\"data row23 col9\" >129.000000</td>\n",
       "      <td id=\"T_26442_row23_col10\" class=\"data row23 col10\" >18000.000000</td>\n",
       "      <td id=\"T_26442_row23_col11\" class=\"data row23 col11\" >7900.000000</td>\n",
       "      <td id=\"T_26442_row23_col12\" class=\"data row23 col12\" >33000.000000</td>\n",
       "      <td id=\"T_26442_row23_col13\" class=\"data row23 col13\" >predicted</td>\n",
       "      <td id=\"T_26442_row23_col14\" class=\"data row23 col14\" >4.400000</td>\n",
       "      <td id=\"T_26442_row23_col15\" class=\"data row23 col15\" >2.700000</td>\n",
       "      <td id=\"T_26442_row23_col16\" class=\"data row23 col16\" >8.000000</td>\n",
       "      <td id=\"T_26442_row23_col17\" class=\"data row23 col17\" >1100.000000</td>\n",
       "      <td id=\"T_26442_row23_col18\" class=\"data row23 col18\" >690.000000</td>\n",
       "      <td id=\"T_26442_row23_col19\" class=\"data row23 col19\" >2100.000000</td>\n",
       "      <td id=\"T_26442_row23_col20\" class=\"data row23 col20\" >2.000000</td>\n",
       "      <td id=\"T_26442_row23_col21\" class=\"data row23 col21\" >350.000000</td>\n",
       "      <td id=\"T_26442_row23_col22\" class=\"data row23 col22\" >2.800000</td>\n",
       "      <td id=\"T_26442_row23_col23\" class=\"data row23 col23\" >520.000000</td>\n",
       "      <td id=\"T_26442_row23_col24\" class=\"data row23 col24\" >GH</td>\n",
       "      <td id=\"T_26442_row23_col25\" class=\"data row23 col25\" >720.000000</td>\n",
       "      <td id=\"T_26442_row23_col26\" class=\"data row23 col26\" >Indirect</td>\n",
       "      <td id=\"T_26442_row23_col27\" class=\"data row23 col27\" >66.000000</td>\n",
       "      <td id=\"T_26442_row23_col28\" class=\"data row23 col28\" >63.000000</td>\n",
       "      <td id=\"T_26442_row23_col29\" class=\"data row23 col29\" >74.000000</td>\n",
       "      <td id=\"T_26442_row23_col30\" class=\"data row23 col30\" >17000.000000</td>\n",
       "      <td id=\"T_26442_row23_col31\" class=\"data row23 col31\" >16000.000000</td>\n",
       "      <td id=\"T_26442_row23_col32\" class=\"data row23 col32\" >19000.000000</td>\n",
       "      <td id=\"T_26442_row23_col33\" class=\"data row23 col33\" >0</td>\n",
       "      <td id=\"T_26442_row23_col34\" class=\"data row23 col34\" >21.000000</td>\n",
       "      <td id=\"T_26442_row23_col35\" class=\"data row23 col35\" >19.000000</td>\n",
       "      <td id=\"T_26442_row23_col36\" class=\"data row23 col36\" >24.000000</td>\n",
       "      <td id=\"T_26442_row23_col37\" class=\"data row23 col37\" >14.000000</td>\n",
       "      <td id=\"T_26442_row23_col38\" class=\"data row23 col38\" >13.000000</td>\n",
       "      <td id=\"T_26442_row23_col39\" class=\"data row23 col39\" >16.000000</td>\n",
       "      <td id=\"T_26442_row23_col40\" class=\"data row23 col40\" >3600.000000</td>\n",
       "      <td id=\"T_26442_row23_col41\" class=\"data row23 col41\" >3400.000000</td>\n",
       "      <td id=\"T_26442_row23_col42\" class=\"data row23 col42\" >4000.000000</td>\n",
       "      <td id=\"T_26442_row23_col43\" class=\"data row23 col43\" >0.000000</td>\n",
       "      <td id=\"T_26442_row23_col44\" class=\"data row23 col44\" >88.000000</td>\n",
       "      <td id=\"T_26442_row23_col45\" class=\"data row23 col45\" >78.000000</td>\n",
       "      <td id=\"T_26442_row23_col46\" class=\"data row23 col46\" >93.000000</td>\n",
       "      <td id=\"T_26442_row23_col47\" class=\"data row23 col47\" >4000.000000</td>\n",
       "    </tr>\n",
       "  </tbody>\n",
       "</table>\n"
      ],
      "text/plain": [
       "<pandas.io.formats.style.Styler at 0x19c05913aa0>"
      ]
     },
     "execution_count": 152,
     "metadata": {},
     "output_type": "execute_result"
    }
   ],
   "source": [
    "Ghana =tb_analysis[tb_analysis[\"Country or territory name\"] == \"Ghana\"]\n",
    "Ghana.style.background_gradient(cmap='Reds')"
   ]
  },
  {
   "cell_type": "markdown",
   "metadata": {},
   "source": [
    "This observation shows the data analysis of Ghana from 1990 to 2013 in relate to tuberculosis cases, death , population , HIV and other information"
   ]
  },
  {
   "cell_type": "code",
   "execution_count": 153,
   "metadata": {},
   "outputs": [
    {
     "name": "stdout",
     "output_type": "stream",
     "text": [
      "Total Population Of Ghana From 1990 to 2013\n",
      " 477297398\n"
     ]
    }
   ],
   "source": [
    "# Total Population Of Ghana from 1990 to 2013\n",
    "totalGhana = Ghana['Estimated total population number'].sum()\n",
    "print(\"Total Population Of Ghana From 1990 to 2013\\n\",totalGhana)"
   ]
  },
  {
   "cell_type": "markdown",
   "metadata": {},
   "source": [
    "Using the function Ghana[''].sum() , you can insert the column name in the quotation mark in the square bracket to extract information from the Ghana sampled data. "
   ]
  },
  {
   "cell_type": "code",
   "execution_count": 154,
   "metadata": {},
   "outputs": [
    {
     "data": {
      "application/vnd.plotly.v1+json": {
       "config": {
        "plotlyServerURL": "https://plot.ly"
       },
       "data": [
        {
         "coloraxis": "coloraxis",
         "customdata": [
          [
           "Ghana"
          ]
         ],
         "geo": "geo",
         "hovertemplate": "Year=1990<br>Country or territory name=%{customdata[0]}<br>Total Population Of Ghana based on Years=%{z}<extra></extra>",
         "locationmode": "country names",
         "locations": [
          "Ghana"
         ],
         "name": "",
         "type": "choropleth",
         "z": [
          14628693
         ]
        }
       ],
       "frames": [
        {
         "data": [
          {
           "coloraxis": "coloraxis",
           "customdata": [
            [
             "Ghana"
            ]
           ],
           "geo": "geo",
           "hovertemplate": "Year=1990<br>Country or territory name=%{customdata[0]}<br>Total Population Of Ghana based on Years=%{z}<extra></extra>",
           "locationmode": "country names",
           "locations": [
            "Ghana"
           ],
           "name": "",
           "type": "choropleth",
           "z": [
            14628693
           ]
          }
         ],
         "name": "1990"
        },
        {
         "data": [
          {
           "coloraxis": "coloraxis",
           "customdata": [
            [
             "Ghana"
            ]
           ],
           "geo": "geo",
           "hovertemplate": "Year=1991<br>Country or territory name=%{customdata[0]}<br>Total Population Of Ghana based on Years=%{z}<extra></extra>",
           "locationmode": "country names",
           "locations": [
            "Ghana"
           ],
           "name": "",
           "type": "choropleth",
           "z": [
            15043053
           ]
          }
         ],
         "name": "1991"
        },
        {
         "data": [
          {
           "coloraxis": "coloraxis",
           "customdata": [
            [
             "Ghana"
            ]
           ],
           "geo": "geo",
           "hovertemplate": "Year=1992<br>Country or territory name=%{customdata[0]}<br>Total Population Of Ghana based on Years=%{z}<extra></extra>",
           "locationmode": "country names",
           "locations": [
            "Ghana"
           ],
           "name": "",
           "type": "choropleth",
           "z": [
            15471695
           ]
          }
         ],
         "name": "1992"
        },
        {
         "data": [
          {
           "coloraxis": "coloraxis",
           "customdata": [
            [
             "Ghana"
            ]
           ],
           "geo": "geo",
           "hovertemplate": "Year=1993<br>Country or territory name=%{customdata[0]}<br>Total Population Of Ghana based on Years=%{z}<extra></extra>",
           "locationmode": "country names",
           "locations": [
            "Ghana"
           ],
           "name": "",
           "type": "choropleth",
           "z": [
            15907265
           ]
          }
         ],
         "name": "1993"
        },
        {
         "data": [
          {
           "coloraxis": "coloraxis",
           "customdata": [
            [
             "Ghana"
            ]
           ],
           "geo": "geo",
           "hovertemplate": "Year=1994<br>Country or territory name=%{customdata[0]}<br>Total Population Of Ghana based on Years=%{z}<extra></extra>",
           "locationmode": "country names",
           "locations": [
            "Ghana"
           ],
           "name": "",
           "type": "choropleth",
           "z": [
            16339278
           ]
          }
         ],
         "name": "1994"
        },
        {
         "data": [
          {
           "coloraxis": "coloraxis",
           "customdata": [
            [
             "Ghana"
            ]
           ],
           "geo": "geo",
           "hovertemplate": "Year=1995<br>Country or territory name=%{customdata[0]}<br>Total Population Of Ghana based on Years=%{z}<extra></extra>",
           "locationmode": "country names",
           "locations": [
            "Ghana"
           ],
           "name": "",
           "type": "choropleth",
           "z": [
            16760926
           ]
          }
         ],
         "name": "1995"
        },
        {
         "data": [
          {
           "coloraxis": "coloraxis",
           "customdata": [
            [
             "Ghana"
            ]
           ],
           "geo": "geo",
           "hovertemplate": "Year=1996<br>Country or territory name=%{customdata[0]}<br>Total Population Of Ghana based on Years=%{z}<extra></extra>",
           "locationmode": "country names",
           "locations": [
            "Ghana"
           ],
           "name": "",
           "type": "choropleth",
           "z": [
            17169151
           ]
          }
         ],
         "name": "1996"
        },
        {
         "data": [
          {
           "coloraxis": "coloraxis",
           "customdata": [
            [
             "Ghana"
            ]
           ],
           "geo": "geo",
           "hovertemplate": "Year=1997<br>Country or territory name=%{customdata[0]}<br>Total Population Of Ghana based on Years=%{z}<extra></extra>",
           "locationmode": "country names",
           "locations": [
            "Ghana"
           ],
           "name": "",
           "type": "choropleth",
           "z": [
            17568461
           ]
          }
         ],
         "name": "1997"
        },
        {
         "data": [
          {
           "coloraxis": "coloraxis",
           "customdata": [
            [
             "Ghana"
            ]
           ],
           "geo": "geo",
           "hovertemplate": "Year=1998<br>Country or territory name=%{customdata[0]}<br>Total Population Of Ghana based on Years=%{z}<extra></extra>",
           "locationmode": "country names",
           "locations": [
            "Ghana"
           ],
           "name": "",
           "type": "choropleth",
           "z": [
            17968830
           ]
          }
         ],
         "name": "1998"
        },
        {
         "data": [
          {
           "coloraxis": "coloraxis",
           "customdata": [
            [
             "Ghana"
            ]
           ],
           "geo": "geo",
           "hovertemplate": "Year=1999<br>Country or territory name=%{customdata[0]}<br>Total Population Of Ghana based on Years=%{z}<extra></extra>",
           "locationmode": "country names",
           "locations": [
            "Ghana"
           ],
           "name": "",
           "type": "choropleth",
           "z": [
            18384302
           ]
          }
         ],
         "name": "1999"
        },
        {
         "data": [
          {
           "coloraxis": "coloraxis",
           "customdata": [
            [
             "Ghana"
            ]
           ],
           "geo": "geo",
           "hovertemplate": "Year=2000<br>Country or territory name=%{customdata[0]}<br>Total Population Of Ghana based on Years=%{z}<extra></extra>",
           "locationmode": "country names",
           "locations": [
            "Ghana"
           ],
           "name": "",
           "type": "choropleth",
           "z": [
            18825034
           ]
          }
         ],
         "name": "2000"
        },
        {
         "data": [
          {
           "coloraxis": "coloraxis",
           "customdata": [
            [
             "Ghana"
            ]
           ],
           "geo": "geo",
           "hovertemplate": "Year=2001<br>Country or territory name=%{customdata[0]}<br>Total Population Of Ghana based on Years=%{z}<extra></extra>",
           "locationmode": "country names",
           "locations": [
            "Ghana"
           ],
           "name": "",
           "type": "choropleth",
           "z": [
            19293392
           ]
          }
         ],
         "name": "2001"
        },
        {
         "data": [
          {
           "coloraxis": "coloraxis",
           "customdata": [
            [
             "Ghana"
            ]
           ],
           "geo": "geo",
           "hovertemplate": "Year=2002<br>Country or territory name=%{customdata[0]}<br>Total Population Of Ghana based on Years=%{z}<extra></extra>",
           "locationmode": "country names",
           "locations": [
            "Ghana"
           ],
           "name": "",
           "type": "choropleth",
           "z": [
            19786307
           ]
          }
         ],
         "name": "2002"
        },
        {
         "data": [
          {
           "coloraxis": "coloraxis",
           "customdata": [
            [
             "Ghana"
            ]
           ],
           "geo": "geo",
           "hovertemplate": "Year=2003<br>Country or territory name=%{customdata[0]}<br>Total Population Of Ghana based on Years=%{z}<extra></extra>",
           "locationmode": "country names",
           "locations": [
            "Ghana"
           ],
           "name": "",
           "type": "choropleth",
           "z": [
            20301686
           ]
          }
         ],
         "name": "2003"
        },
        {
         "data": [
          {
           "coloraxis": "coloraxis",
           "customdata": [
            [
             "Ghana"
            ]
           ],
           "geo": "geo",
           "hovertemplate": "Year=2004<br>Country or territory name=%{customdata[0]}<br>Total Population Of Ghana based on Years=%{z}<extra></extra>",
           "locationmode": "country names",
           "locations": [
            "Ghana"
           ],
           "name": "",
           "type": "choropleth",
           "z": [
            20835514
           ]
          }
         ],
         "name": "2004"
        },
        {
         "data": [
          {
           "coloraxis": "coloraxis",
           "customdata": [
            [
             "Ghana"
            ]
           ],
           "geo": "geo",
           "hovertemplate": "Year=2005<br>Country or territory name=%{customdata[0]}<br>Total Population Of Ghana based on Years=%{z}<extra></extra>",
           "locationmode": "country names",
           "locations": [
            "Ghana"
           ],
           "name": "",
           "type": "choropleth",
           "z": [
            21384034
           ]
          }
         ],
         "name": "2005"
        },
        {
         "data": [
          {
           "coloraxis": "coloraxis",
           "customdata": [
            [
             "Ghana"
            ]
           ],
           "geo": "geo",
           "hovertemplate": "Year=2006<br>Country or territory name=%{customdata[0]}<br>Total Population Of Ghana based on Years=%{z}<extra></extra>",
           "locationmode": "country names",
           "locations": [
            "Ghana"
           ],
           "name": "",
           "type": "choropleth",
           "z": [
            21947779
           ]
          }
         ],
         "name": "2006"
        },
        {
         "data": [
          {
           "coloraxis": "coloraxis",
           "customdata": [
            [
             "Ghana"
            ]
           ],
           "geo": "geo",
           "hovertemplate": "Year=2007<br>Country or territory name=%{customdata[0]}<br>Total Population Of Ghana based on Years=%{z}<extra></extra>",
           "locationmode": "country names",
           "locations": [
            "Ghana"
           ],
           "name": "",
           "type": "choropleth",
           "z": [
            22525659
           ]
          }
         ],
         "name": "2007"
        },
        {
         "data": [
          {
           "coloraxis": "coloraxis",
           "customdata": [
            [
             "Ghana"
            ]
           ],
           "geo": "geo",
           "hovertemplate": "Year=2008<br>Country or territory name=%{customdata[0]}<br>Total Population Of Ghana based on Years=%{z}<extra></extra>",
           "locationmode": "country names",
           "locations": [
            "Ghana"
           ],
           "name": "",
           "type": "choropleth",
           "z": [
            23110139
           ]
          }
         ],
         "name": "2008"
        },
        {
         "data": [
          {
           "coloraxis": "coloraxis",
           "customdata": [
            [
             "Ghana"
            ]
           ],
           "geo": "geo",
           "hovertemplate": "Year=2009<br>Country or territory name=%{customdata[0]}<br>Total Population Of Ghana based on Years=%{z}<extra></extra>",
           "locationmode": "country names",
           "locations": [
            "Ghana"
           ],
           "name": "",
           "type": "choropleth",
           "z": [
            23691533
           ]
          }
         ],
         "name": "2009"
        },
        {
         "data": [
          {
           "coloraxis": "coloraxis",
           "customdata": [
            [
             "Ghana"
            ]
           ],
           "geo": "geo",
           "hovertemplate": "Year=2010<br>Country or territory name=%{customdata[0]}<br>Total Population Of Ghana based on Years=%{z}<extra></extra>",
           "locationmode": "country names",
           "locations": [
            "Ghana"
           ],
           "name": "",
           "type": "choropleth",
           "z": [
            24262901
           ]
          }
         ],
         "name": "2010"
        },
        {
         "data": [
          {
           "coloraxis": "coloraxis",
           "customdata": [
            [
             "Ghana"
            ]
           ],
           "geo": "geo",
           "hovertemplate": "Year=2011<br>Country or territory name=%{customdata[0]}<br>Total Population Of Ghana based on Years=%{z}<extra></extra>",
           "locationmode": "country names",
           "locations": [
            "Ghana"
           ],
           "name": "",
           "type": "choropleth",
           "z": [
            24820706
           ]
          }
         ],
         "name": "2011"
        },
        {
         "data": [
          {
           "coloraxis": "coloraxis",
           "customdata": [
            [
             "Ghana"
            ]
           ],
           "geo": "geo",
           "hovertemplate": "Year=2012<br>Country or territory name=%{customdata[0]}<br>Total Population Of Ghana based on Years=%{z}<extra></extra>",
           "locationmode": "country names",
           "locations": [
            "Ghana"
           ],
           "name": "",
           "type": "choropleth",
           "z": [
            25366462
           ]
          }
         ],
         "name": "2012"
        },
        {
         "data": [
          {
           "coloraxis": "coloraxis",
           "customdata": [
            [
             "Ghana"
            ]
           ],
           "geo": "geo",
           "hovertemplate": "Year=2013<br>Country or territory name=%{customdata[0]}<br>Total Population Of Ghana based on Years=%{z}<extra></extra>",
           "locationmode": "country names",
           "locations": [
            "Ghana"
           ],
           "name": "",
           "type": "choropleth",
           "z": [
            25904598
           ]
          }
         ],
         "name": "2013"
        }
       ],
       "layout": {
        "coloraxis": {
         "colorbar": {
          "title": {
           "text": "Total Population Of Ghana based on Years"
          }
         },
         "colorscale": [
          [
           0,
           "#440154"
          ],
          [
           0.1111111111111111,
           "#482878"
          ],
          [
           0.2222222222222222,
           "#3e4989"
          ],
          [
           0.3333333333333333,
           "#31688e"
          ],
          [
           0.4444444444444444,
           "#26828e"
          ],
          [
           0.5555555555555556,
           "#1f9e89"
          ],
          [
           0.6666666666666666,
           "#35b779"
          ],
          [
           0.7777777777777778,
           "#6ece58"
          ],
          [
           0.8888888888888888,
           "#b5de2b"
          ],
          [
           1,
           "#fde725"
          ]
         ]
        },
        "geo": {
         "center": {},
         "domain": {
          "x": [
           0,
           1
          ],
          "y": [
           0,
           1
          ]
         },
         "scope": "africa"
        },
        "legend": {
         "tracegroupgap": 0
        },
        "sliders": [
         {
          "active": 0,
          "currentvalue": {
           "prefix": "Year="
          },
          "len": 0.9,
          "pad": {
           "b": 10,
           "t": 60
          },
          "steps": [
           {
            "args": [
             [
              "1990"
             ],
             {
              "frame": {
               "duration": 0,
               "redraw": true
              },
              "fromcurrent": true,
              "mode": "immediate",
              "transition": {
               "duration": 0,
               "easing": "linear"
              }
             }
            ],
            "label": "1990",
            "method": "animate"
           },
           {
            "args": [
             [
              "1991"
             ],
             {
              "frame": {
               "duration": 0,
               "redraw": true
              },
              "fromcurrent": true,
              "mode": "immediate",
              "transition": {
               "duration": 0,
               "easing": "linear"
              }
             }
            ],
            "label": "1991",
            "method": "animate"
           },
           {
            "args": [
             [
              "1992"
             ],
             {
              "frame": {
               "duration": 0,
               "redraw": true
              },
              "fromcurrent": true,
              "mode": "immediate",
              "transition": {
               "duration": 0,
               "easing": "linear"
              }
             }
            ],
            "label": "1992",
            "method": "animate"
           },
           {
            "args": [
             [
              "1993"
             ],
             {
              "frame": {
               "duration": 0,
               "redraw": true
              },
              "fromcurrent": true,
              "mode": "immediate",
              "transition": {
               "duration": 0,
               "easing": "linear"
              }
             }
            ],
            "label": "1993",
            "method": "animate"
           },
           {
            "args": [
             [
              "1994"
             ],
             {
              "frame": {
               "duration": 0,
               "redraw": true
              },
              "fromcurrent": true,
              "mode": "immediate",
              "transition": {
               "duration": 0,
               "easing": "linear"
              }
             }
            ],
            "label": "1994",
            "method": "animate"
           },
           {
            "args": [
             [
              "1995"
             ],
             {
              "frame": {
               "duration": 0,
               "redraw": true
              },
              "fromcurrent": true,
              "mode": "immediate",
              "transition": {
               "duration": 0,
               "easing": "linear"
              }
             }
            ],
            "label": "1995",
            "method": "animate"
           },
           {
            "args": [
             [
              "1996"
             ],
             {
              "frame": {
               "duration": 0,
               "redraw": true
              },
              "fromcurrent": true,
              "mode": "immediate",
              "transition": {
               "duration": 0,
               "easing": "linear"
              }
             }
            ],
            "label": "1996",
            "method": "animate"
           },
           {
            "args": [
             [
              "1997"
             ],
             {
              "frame": {
               "duration": 0,
               "redraw": true
              },
              "fromcurrent": true,
              "mode": "immediate",
              "transition": {
               "duration": 0,
               "easing": "linear"
              }
             }
            ],
            "label": "1997",
            "method": "animate"
           },
           {
            "args": [
             [
              "1998"
             ],
             {
              "frame": {
               "duration": 0,
               "redraw": true
              },
              "fromcurrent": true,
              "mode": "immediate",
              "transition": {
               "duration": 0,
               "easing": "linear"
              }
             }
            ],
            "label": "1998",
            "method": "animate"
           },
           {
            "args": [
             [
              "1999"
             ],
             {
              "frame": {
               "duration": 0,
               "redraw": true
              },
              "fromcurrent": true,
              "mode": "immediate",
              "transition": {
               "duration": 0,
               "easing": "linear"
              }
             }
            ],
            "label": "1999",
            "method": "animate"
           },
           {
            "args": [
             [
              "2000"
             ],
             {
              "frame": {
               "duration": 0,
               "redraw": true
              },
              "fromcurrent": true,
              "mode": "immediate",
              "transition": {
               "duration": 0,
               "easing": "linear"
              }
             }
            ],
            "label": "2000",
            "method": "animate"
           },
           {
            "args": [
             [
              "2001"
             ],
             {
              "frame": {
               "duration": 0,
               "redraw": true
              },
              "fromcurrent": true,
              "mode": "immediate",
              "transition": {
               "duration": 0,
               "easing": "linear"
              }
             }
            ],
            "label": "2001",
            "method": "animate"
           },
           {
            "args": [
             [
              "2002"
             ],
             {
              "frame": {
               "duration": 0,
               "redraw": true
              },
              "fromcurrent": true,
              "mode": "immediate",
              "transition": {
               "duration": 0,
               "easing": "linear"
              }
             }
            ],
            "label": "2002",
            "method": "animate"
           },
           {
            "args": [
             [
              "2003"
             ],
             {
              "frame": {
               "duration": 0,
               "redraw": true
              },
              "fromcurrent": true,
              "mode": "immediate",
              "transition": {
               "duration": 0,
               "easing": "linear"
              }
             }
            ],
            "label": "2003",
            "method": "animate"
           },
           {
            "args": [
             [
              "2004"
             ],
             {
              "frame": {
               "duration": 0,
               "redraw": true
              },
              "fromcurrent": true,
              "mode": "immediate",
              "transition": {
               "duration": 0,
               "easing": "linear"
              }
             }
            ],
            "label": "2004",
            "method": "animate"
           },
           {
            "args": [
             [
              "2005"
             ],
             {
              "frame": {
               "duration": 0,
               "redraw": true
              },
              "fromcurrent": true,
              "mode": "immediate",
              "transition": {
               "duration": 0,
               "easing": "linear"
              }
             }
            ],
            "label": "2005",
            "method": "animate"
           },
           {
            "args": [
             [
              "2006"
             ],
             {
              "frame": {
               "duration": 0,
               "redraw": true
              },
              "fromcurrent": true,
              "mode": "immediate",
              "transition": {
               "duration": 0,
               "easing": "linear"
              }
             }
            ],
            "label": "2006",
            "method": "animate"
           },
           {
            "args": [
             [
              "2007"
             ],
             {
              "frame": {
               "duration": 0,
               "redraw": true
              },
              "fromcurrent": true,
              "mode": "immediate",
              "transition": {
               "duration": 0,
               "easing": "linear"
              }
             }
            ],
            "label": "2007",
            "method": "animate"
           },
           {
            "args": [
             [
              "2008"
             ],
             {
              "frame": {
               "duration": 0,
               "redraw": true
              },
              "fromcurrent": true,
              "mode": "immediate",
              "transition": {
               "duration": 0,
               "easing": "linear"
              }
             }
            ],
            "label": "2008",
            "method": "animate"
           },
           {
            "args": [
             [
              "2009"
             ],
             {
              "frame": {
               "duration": 0,
               "redraw": true
              },
              "fromcurrent": true,
              "mode": "immediate",
              "transition": {
               "duration": 0,
               "easing": "linear"
              }
             }
            ],
            "label": "2009",
            "method": "animate"
           },
           {
            "args": [
             [
              "2010"
             ],
             {
              "frame": {
               "duration": 0,
               "redraw": true
              },
              "fromcurrent": true,
              "mode": "immediate",
              "transition": {
               "duration": 0,
               "easing": "linear"
              }
             }
            ],
            "label": "2010",
            "method": "animate"
           },
           {
            "args": [
             [
              "2011"
             ],
             {
              "frame": {
               "duration": 0,
               "redraw": true
              },
              "fromcurrent": true,
              "mode": "immediate",
              "transition": {
               "duration": 0,
               "easing": "linear"
              }
             }
            ],
            "label": "2011",
            "method": "animate"
           },
           {
            "args": [
             [
              "2012"
             ],
             {
              "frame": {
               "duration": 0,
               "redraw": true
              },
              "fromcurrent": true,
              "mode": "immediate",
              "transition": {
               "duration": 0,
               "easing": "linear"
              }
             }
            ],
            "label": "2012",
            "method": "animate"
           },
           {
            "args": [
             [
              "2013"
             ],
             {
              "frame": {
               "duration": 0,
               "redraw": true
              },
              "fromcurrent": true,
              "mode": "immediate",
              "transition": {
               "duration": 0,
               "easing": "linear"
              }
             }
            ],
            "label": "2013",
            "method": "animate"
           }
          ],
          "x": 0.1,
          "xanchor": "left",
          "y": 0,
          "yanchor": "top"
         }
        ],
        "template": {
         "data": {
          "bar": [
           {
            "error_x": {
             "color": "#2a3f5f"
            },
            "error_y": {
             "color": "#2a3f5f"
            },
            "marker": {
             "line": {
              "color": "#E5ECF6",
              "width": 0.5
             },
             "pattern": {
              "fillmode": "overlay",
              "size": 10,
              "solidity": 0.2
             }
            },
            "type": "bar"
           }
          ],
          "barpolar": [
           {
            "marker": {
             "line": {
              "color": "#E5ECF6",
              "width": 0.5
             },
             "pattern": {
              "fillmode": "overlay",
              "size": 10,
              "solidity": 0.2
             }
            },
            "type": "barpolar"
           }
          ],
          "carpet": [
           {
            "aaxis": {
             "endlinecolor": "#2a3f5f",
             "gridcolor": "white",
             "linecolor": "white",
             "minorgridcolor": "white",
             "startlinecolor": "#2a3f5f"
            },
            "baxis": {
             "endlinecolor": "#2a3f5f",
             "gridcolor": "white",
             "linecolor": "white",
             "minorgridcolor": "white",
             "startlinecolor": "#2a3f5f"
            },
            "type": "carpet"
           }
          ],
          "choropleth": [
           {
            "colorbar": {
             "outlinewidth": 0,
             "ticks": ""
            },
            "type": "choropleth"
           }
          ],
          "contour": [
           {
            "colorbar": {
             "outlinewidth": 0,
             "ticks": ""
            },
            "colorscale": [
             [
              0,
              "#0d0887"
             ],
             [
              0.1111111111111111,
              "#46039f"
             ],
             [
              0.2222222222222222,
              "#7201a8"
             ],
             [
              0.3333333333333333,
              "#9c179e"
             ],
             [
              0.4444444444444444,
              "#bd3786"
             ],
             [
              0.5555555555555556,
              "#d8576b"
             ],
             [
              0.6666666666666666,
              "#ed7953"
             ],
             [
              0.7777777777777778,
              "#fb9f3a"
             ],
             [
              0.8888888888888888,
              "#fdca26"
             ],
             [
              1,
              "#f0f921"
             ]
            ],
            "type": "contour"
           }
          ],
          "contourcarpet": [
           {
            "colorbar": {
             "outlinewidth": 0,
             "ticks": ""
            },
            "type": "contourcarpet"
           }
          ],
          "heatmap": [
           {
            "colorbar": {
             "outlinewidth": 0,
             "ticks": ""
            },
            "colorscale": [
             [
              0,
              "#0d0887"
             ],
             [
              0.1111111111111111,
              "#46039f"
             ],
             [
              0.2222222222222222,
              "#7201a8"
             ],
             [
              0.3333333333333333,
              "#9c179e"
             ],
             [
              0.4444444444444444,
              "#bd3786"
             ],
             [
              0.5555555555555556,
              "#d8576b"
             ],
             [
              0.6666666666666666,
              "#ed7953"
             ],
             [
              0.7777777777777778,
              "#fb9f3a"
             ],
             [
              0.8888888888888888,
              "#fdca26"
             ],
             [
              1,
              "#f0f921"
             ]
            ],
            "type": "heatmap"
           }
          ],
          "heatmapgl": [
           {
            "colorbar": {
             "outlinewidth": 0,
             "ticks": ""
            },
            "colorscale": [
             [
              0,
              "#0d0887"
             ],
             [
              0.1111111111111111,
              "#46039f"
             ],
             [
              0.2222222222222222,
              "#7201a8"
             ],
             [
              0.3333333333333333,
              "#9c179e"
             ],
             [
              0.4444444444444444,
              "#bd3786"
             ],
             [
              0.5555555555555556,
              "#d8576b"
             ],
             [
              0.6666666666666666,
              "#ed7953"
             ],
             [
              0.7777777777777778,
              "#fb9f3a"
             ],
             [
              0.8888888888888888,
              "#fdca26"
             ],
             [
              1,
              "#f0f921"
             ]
            ],
            "type": "heatmapgl"
           }
          ],
          "histogram": [
           {
            "marker": {
             "pattern": {
              "fillmode": "overlay",
              "size": 10,
              "solidity": 0.2
             }
            },
            "type": "histogram"
           }
          ],
          "histogram2d": [
           {
            "colorbar": {
             "outlinewidth": 0,
             "ticks": ""
            },
            "colorscale": [
             [
              0,
              "#0d0887"
             ],
             [
              0.1111111111111111,
              "#46039f"
             ],
             [
              0.2222222222222222,
              "#7201a8"
             ],
             [
              0.3333333333333333,
              "#9c179e"
             ],
             [
              0.4444444444444444,
              "#bd3786"
             ],
             [
              0.5555555555555556,
              "#d8576b"
             ],
             [
              0.6666666666666666,
              "#ed7953"
             ],
             [
              0.7777777777777778,
              "#fb9f3a"
             ],
             [
              0.8888888888888888,
              "#fdca26"
             ],
             [
              1,
              "#f0f921"
             ]
            ],
            "type": "histogram2d"
           }
          ],
          "histogram2dcontour": [
           {
            "colorbar": {
             "outlinewidth": 0,
             "ticks": ""
            },
            "colorscale": [
             [
              0,
              "#0d0887"
             ],
             [
              0.1111111111111111,
              "#46039f"
             ],
             [
              0.2222222222222222,
              "#7201a8"
             ],
             [
              0.3333333333333333,
              "#9c179e"
             ],
             [
              0.4444444444444444,
              "#bd3786"
             ],
             [
              0.5555555555555556,
              "#d8576b"
             ],
             [
              0.6666666666666666,
              "#ed7953"
             ],
             [
              0.7777777777777778,
              "#fb9f3a"
             ],
             [
              0.8888888888888888,
              "#fdca26"
             ],
             [
              1,
              "#f0f921"
             ]
            ],
            "type": "histogram2dcontour"
           }
          ],
          "mesh3d": [
           {
            "colorbar": {
             "outlinewidth": 0,
             "ticks": ""
            },
            "type": "mesh3d"
           }
          ],
          "parcoords": [
           {
            "line": {
             "colorbar": {
              "outlinewidth": 0,
              "ticks": ""
             }
            },
            "type": "parcoords"
           }
          ],
          "pie": [
           {
            "automargin": true,
            "type": "pie"
           }
          ],
          "scatter": [
           {
            "fillpattern": {
             "fillmode": "overlay",
             "size": 10,
             "solidity": 0.2
            },
            "type": "scatter"
           }
          ],
          "scatter3d": [
           {
            "line": {
             "colorbar": {
              "outlinewidth": 0,
              "ticks": ""
             }
            },
            "marker": {
             "colorbar": {
              "outlinewidth": 0,
              "ticks": ""
             }
            },
            "type": "scatter3d"
           }
          ],
          "scattercarpet": [
           {
            "marker": {
             "colorbar": {
              "outlinewidth": 0,
              "ticks": ""
             }
            },
            "type": "scattercarpet"
           }
          ],
          "scattergeo": [
           {
            "marker": {
             "colorbar": {
              "outlinewidth": 0,
              "ticks": ""
             }
            },
            "type": "scattergeo"
           }
          ],
          "scattergl": [
           {
            "marker": {
             "colorbar": {
              "outlinewidth": 0,
              "ticks": ""
             }
            },
            "type": "scattergl"
           }
          ],
          "scattermapbox": [
           {
            "marker": {
             "colorbar": {
              "outlinewidth": 0,
              "ticks": ""
             }
            },
            "type": "scattermapbox"
           }
          ],
          "scatterpolar": [
           {
            "marker": {
             "colorbar": {
              "outlinewidth": 0,
              "ticks": ""
             }
            },
            "type": "scatterpolar"
           }
          ],
          "scatterpolargl": [
           {
            "marker": {
             "colorbar": {
              "outlinewidth": 0,
              "ticks": ""
             }
            },
            "type": "scatterpolargl"
           }
          ],
          "scatterternary": [
           {
            "marker": {
             "colorbar": {
              "outlinewidth": 0,
              "ticks": ""
             }
            },
            "type": "scatterternary"
           }
          ],
          "surface": [
           {
            "colorbar": {
             "outlinewidth": 0,
             "ticks": ""
            },
            "colorscale": [
             [
              0,
              "#0d0887"
             ],
             [
              0.1111111111111111,
              "#46039f"
             ],
             [
              0.2222222222222222,
              "#7201a8"
             ],
             [
              0.3333333333333333,
              "#9c179e"
             ],
             [
              0.4444444444444444,
              "#bd3786"
             ],
             [
              0.5555555555555556,
              "#d8576b"
             ],
             [
              0.6666666666666666,
              "#ed7953"
             ],
             [
              0.7777777777777778,
              "#fb9f3a"
             ],
             [
              0.8888888888888888,
              "#fdca26"
             ],
             [
              1,
              "#f0f921"
             ]
            ],
            "type": "surface"
           }
          ],
          "table": [
           {
            "cells": {
             "fill": {
              "color": "#EBF0F8"
             },
             "line": {
              "color": "white"
             }
            },
            "header": {
             "fill": {
              "color": "#C8D4E3"
             },
             "line": {
              "color": "white"
             }
            },
            "type": "table"
           }
          ]
         },
         "layout": {
          "annotationdefaults": {
           "arrowcolor": "#2a3f5f",
           "arrowhead": 0,
           "arrowwidth": 1
          },
          "autotypenumbers": "strict",
          "coloraxis": {
           "colorbar": {
            "outlinewidth": 0,
            "ticks": ""
           }
          },
          "colorscale": {
           "diverging": [
            [
             0,
             "#8e0152"
            ],
            [
             0.1,
             "#c51b7d"
            ],
            [
             0.2,
             "#de77ae"
            ],
            [
             0.3,
             "#f1b6da"
            ],
            [
             0.4,
             "#fde0ef"
            ],
            [
             0.5,
             "#f7f7f7"
            ],
            [
             0.6,
             "#e6f5d0"
            ],
            [
             0.7,
             "#b8e186"
            ],
            [
             0.8,
             "#7fbc41"
            ],
            [
             0.9,
             "#4d9221"
            ],
            [
             1,
             "#276419"
            ]
           ],
           "sequential": [
            [
             0,
             "#0d0887"
            ],
            [
             0.1111111111111111,
             "#46039f"
            ],
            [
             0.2222222222222222,
             "#7201a8"
            ],
            [
             0.3333333333333333,
             "#9c179e"
            ],
            [
             0.4444444444444444,
             "#bd3786"
            ],
            [
             0.5555555555555556,
             "#d8576b"
            ],
            [
             0.6666666666666666,
             "#ed7953"
            ],
            [
             0.7777777777777778,
             "#fb9f3a"
            ],
            [
             0.8888888888888888,
             "#fdca26"
            ],
            [
             1,
             "#f0f921"
            ]
           ],
           "sequentialminus": [
            [
             0,
             "#0d0887"
            ],
            [
             0.1111111111111111,
             "#46039f"
            ],
            [
             0.2222222222222222,
             "#7201a8"
            ],
            [
             0.3333333333333333,
             "#9c179e"
            ],
            [
             0.4444444444444444,
             "#bd3786"
            ],
            [
             0.5555555555555556,
             "#d8576b"
            ],
            [
             0.6666666666666666,
             "#ed7953"
            ],
            [
             0.7777777777777778,
             "#fb9f3a"
            ],
            [
             0.8888888888888888,
             "#fdca26"
            ],
            [
             1,
             "#f0f921"
            ]
           ]
          },
          "colorway": [
           "#636efa",
           "#EF553B",
           "#00cc96",
           "#ab63fa",
           "#FFA15A",
           "#19d3f3",
           "#FF6692",
           "#B6E880",
           "#FF97FF",
           "#FECB52"
          ],
          "font": {
           "color": "#2a3f5f"
          },
          "geo": {
           "bgcolor": "white",
           "lakecolor": "white",
           "landcolor": "#E5ECF6",
           "showlakes": true,
           "showland": true,
           "subunitcolor": "white"
          },
          "hoverlabel": {
           "align": "left"
          },
          "hovermode": "closest",
          "mapbox": {
           "style": "light"
          },
          "paper_bgcolor": "white",
          "plot_bgcolor": "#E5ECF6",
          "polar": {
           "angularaxis": {
            "gridcolor": "white",
            "linecolor": "white",
            "ticks": ""
           },
           "bgcolor": "#E5ECF6",
           "radialaxis": {
            "gridcolor": "white",
            "linecolor": "white",
            "ticks": ""
           }
          },
          "scene": {
           "xaxis": {
            "backgroundcolor": "#E5ECF6",
            "gridcolor": "white",
            "gridwidth": 2,
            "linecolor": "white",
            "showbackground": true,
            "ticks": "",
            "zerolinecolor": "white"
           },
           "yaxis": {
            "backgroundcolor": "#E5ECF6",
            "gridcolor": "white",
            "gridwidth": 2,
            "linecolor": "white",
            "showbackground": true,
            "ticks": "",
            "zerolinecolor": "white"
           },
           "zaxis": {
            "backgroundcolor": "#E5ECF6",
            "gridcolor": "white",
            "gridwidth": 2,
            "linecolor": "white",
            "showbackground": true,
            "ticks": "",
            "zerolinecolor": "white"
           }
          },
          "shapedefaults": {
           "line": {
            "color": "#2a3f5f"
           }
          },
          "ternary": {
           "aaxis": {
            "gridcolor": "white",
            "linecolor": "white",
            "ticks": ""
           },
           "baxis": {
            "gridcolor": "white",
            "linecolor": "white",
            "ticks": ""
           },
           "bgcolor": "#E5ECF6",
           "caxis": {
            "gridcolor": "white",
            "linecolor": "white",
            "ticks": ""
           }
          },
          "title": {
           "x": 0.05
          },
          "xaxis": {
           "automargin": true,
           "gridcolor": "white",
           "linecolor": "white",
           "ticks": "",
           "title": {
            "standoff": 15
           },
           "zerolinecolor": "white",
           "zerolinewidth": 2
          },
          "yaxis": {
           "automargin": true,
           "gridcolor": "white",
           "linecolor": "white",
           "ticks": "",
           "title": {
            "standoff": 15
           },
           "zerolinecolor": "white",
           "zerolinewidth": 2
          }
         }
        },
        "title": {
         "text": "Ghana Population Analysis from 1990 to 2013"
        },
        "updatemenus": [
         {
          "buttons": [
           {
            "args": [
             null,
             {
              "frame": {
               "duration": 500,
               "redraw": true
              },
              "fromcurrent": true,
              "mode": "immediate",
              "transition": {
               "duration": 500,
               "easing": "linear"
              }
             }
            ],
            "label": "&#9654;",
            "method": "animate"
           },
           {
            "args": [
             [
              null
             ],
             {
              "frame": {
               "duration": 0,
               "redraw": true
              },
              "fromcurrent": true,
              "mode": "immediate",
              "transition": {
               "duration": 0,
               "easing": "linear"
              }
             }
            ],
            "label": "&#9724;",
            "method": "animate"
           }
          ],
          "direction": "left",
          "pad": {
           "r": 10,
           "t": 70
          },
          "showactive": false,
          "type": "buttons",
          "x": 0.1,
          "xanchor": "right",
          "y": 0,
          "yanchor": "top"
         }
        ]
       }
      }
     },
     "metadata": {},
     "output_type": "display_data"
    }
   ],
   "source": [
    "ghana = px.choropleth(data_frame=Ghana, \n",
    "                    locations='Country or territory name',\n",
    "                    locationmode='country names',\n",
    "                    color='Estimated total population number',\n",
    "                    color_continuous_scale='Viridis',\n",
    "                    title='Ghana Population Analysis from 1990 to 2013',\n",
    "                    animation_frame=\"Year\",\n",
    "                    labels={\"Estimated total population number\": \"Total Population Of Ghana based on Years\"},\n",
    "                    hover_data='Country or territory name',\n",
    "                    scope='africa'\n",
    "                    )\n",
    "ghana.show()"
   ]
  },
  {
   "cell_type": "code",
   "execution_count": 155,
   "metadata": {},
   "outputs": [
    {
     "name": "stdout",
     "output_type": "stream",
     "text": [
      "Estimated number of deaths from TB (all forms, excluding HIV) from 1990 to 2013\n",
      " 113300.0\n"
     ]
    }
   ],
   "source": [
    "numberofdeathTB = Ghana['Estimated number of deaths from TB (all forms, excluding HIV)'].sum()\n",
    "print('Estimated number of deaths from TB (all forms, excluding HIV) from 1990 to 2013\\n',numberofdeathTB)"
   ]
  },
  {
   "cell_type": "markdown",
   "metadata": {},
   "source": [
    "Year"
   ]
  },
  {
   "cell_type": "code",
   "execution_count": 156,
   "metadata": {},
   "outputs": [
    {
     "data": {
      "text/html": [
       "<div>\n",
       "<style scoped>\n",
       "    .dataframe tbody tr th:only-of-type {\n",
       "        vertical-align: middle;\n",
       "    }\n",
       "\n",
       "    .dataframe tbody tr th {\n",
       "        vertical-align: top;\n",
       "    }\n",
       "\n",
       "    .dataframe thead th {\n",
       "        text-align: right;\n",
       "    }\n",
       "</style>\n",
       "<table border=\"1\" class=\"dataframe\">\n",
       "  <thead>\n",
       "    <tr style=\"text-align: right;\">\n",
       "      <th></th>\n",
       "      <th>Year</th>\n",
       "    </tr>\n",
       "  </thead>\n",
       "  <tbody>\n",
       "    <tr>\n",
       "      <th>count</th>\n",
       "      <td>5120.000000</td>\n",
       "    </tr>\n",
       "    <tr>\n",
       "      <th>mean</th>\n",
       "      <td>2001.549023</td>\n",
       "    </tr>\n",
       "    <tr>\n",
       "      <th>std</th>\n",
       "      <td>6.933272</td>\n",
       "    </tr>\n",
       "    <tr>\n",
       "      <th>min</th>\n",
       "      <td>1990.000000</td>\n",
       "    </tr>\n",
       "    <tr>\n",
       "      <th>25%</th>\n",
       "      <td>1996.000000</td>\n",
       "    </tr>\n",
       "    <tr>\n",
       "      <th>50%</th>\n",
       "      <td>2002.000000</td>\n",
       "    </tr>\n",
       "    <tr>\n",
       "      <th>75%</th>\n",
       "      <td>2008.000000</td>\n",
       "    </tr>\n",
       "    <tr>\n",
       "      <th>max</th>\n",
       "      <td>2013.000000</td>\n",
       "    </tr>\n",
       "  </tbody>\n",
       "</table>\n",
       "</div>"
      ],
      "text/plain": [
       "              Year\n",
       "count  5120.000000\n",
       "mean   2001.549023\n",
       "std       6.933272\n",
       "min    1990.000000\n",
       "25%    1996.000000\n",
       "50%    2002.000000\n",
       "75%    2008.000000\n",
       "max    2013.000000"
      ]
     },
     "execution_count": 156,
     "metadata": {},
     "output_type": "execute_result"
    }
   ],
   "source": [
    "tb_analysis[['Country or territory name','Year']].describe()"
   ]
  },
  {
   "cell_type": "code",
   "execution_count": 157,
   "metadata": {},
   "outputs": [
    {
     "data": {
      "text/html": [
       "<div>\n",
       "<style scoped>\n",
       "    .dataframe tbody tr th:only-of-type {\n",
       "        vertical-align: middle;\n",
       "    }\n",
       "\n",
       "    .dataframe tbody tr th {\n",
       "        vertical-align: top;\n",
       "    }\n",
       "\n",
       "    .dataframe thead th {\n",
       "        text-align: right;\n",
       "    }\n",
       "</style>\n",
       "<table border=\"1\" class=\"dataframe\">\n",
       "  <thead>\n",
       "    <tr style=\"text-align: right;\">\n",
       "      <th></th>\n",
       "      <th></th>\n",
       "      <th></th>\n",
       "      <th></th>\n",
       "      <th>count</th>\n",
       "    </tr>\n",
       "    <tr>\n",
       "      <th>Year</th>\n",
       "      <th>Country or territory name</th>\n",
       "      <th>Estimated total population number</th>\n",
       "      <th>Estimated number of deaths from TB (all forms, excluding HIV)</th>\n",
       "      <th></th>\n",
       "    </tr>\n",
       "  </thead>\n",
       "  <tbody>\n",
       "    <tr>\n",
       "      <th rowspan=\"5\" valign=\"top\">1990</th>\n",
       "      <th>Afghanistan</th>\n",
       "      <th>11731193</th>\n",
       "      <th>4300.0</th>\n",
       "      <td>1</td>\n",
       "    </tr>\n",
       "    <tr>\n",
       "      <th>Albania</th>\n",
       "      <th>3446882</th>\n",
       "      <th>63.0</th>\n",
       "      <td>1</td>\n",
       "    </tr>\n",
       "    <tr>\n",
       "      <th>Algeria</th>\n",
       "      <th>26239708</th>\n",
       "      <th>2800.0</th>\n",
       "      <td>1</td>\n",
       "    </tr>\n",
       "    <tr>\n",
       "      <th>American Samoa</th>\n",
       "      <th>47044</th>\n",
       "      <th>2.9</th>\n",
       "      <td>1</td>\n",
       "    </tr>\n",
       "    <tr>\n",
       "      <th>Andorra</th>\n",
       "      <th>54511</th>\n",
       "      <th>2.1</th>\n",
       "      <td>1</td>\n",
       "    </tr>\n",
       "    <tr>\n",
       "      <th>...</th>\n",
       "      <th>...</th>\n",
       "      <th>...</th>\n",
       "      <th>...</th>\n",
       "      <td>...</td>\n",
       "    </tr>\n",
       "    <tr>\n",
       "      <th rowspan=\"5\" valign=\"top\">2013</th>\n",
       "      <th>Wallis and Futuna Islands</th>\n",
       "      <th>13272</th>\n",
       "      <th>0.3</th>\n",
       "      <td>1</td>\n",
       "    </tr>\n",
       "    <tr>\n",
       "      <th>West Bank and Gaza Strip</th>\n",
       "      <th>4326295</th>\n",
       "      <th>8.9</th>\n",
       "      <td>1</td>\n",
       "    </tr>\n",
       "    <tr>\n",
       "      <th>Yemen</th>\n",
       "      <th>24407381</th>\n",
       "      <th>990.0</th>\n",
       "      <td>1</td>\n",
       "    </tr>\n",
       "    <tr>\n",
       "      <th>Zambia</th>\n",
       "      <th>14538640</th>\n",
       "      <th>3600.0</th>\n",
       "      <td>1</td>\n",
       "    </tr>\n",
       "    <tr>\n",
       "      <th>Zimbabwe</th>\n",
       "      <th>14149648</th>\n",
       "      <th>5700.0</th>\n",
       "      <td>1</td>\n",
       "    </tr>\n",
       "  </tbody>\n",
       "</table>\n",
       "<p>5120 rows × 1 columns</p>\n",
       "</div>"
      ],
      "text/plain": [
       "                                                                                                                     count\n",
       "Year Country or territory name Estimated total population number Estimated number of deaths from TB (all forms, ...       \n",
       "1990 Afghanistan               11731193                          4300.0                                                  1\n",
       "     Albania                   3446882                           63.0                                                    1\n",
       "     Algeria                   26239708                          2800.0                                                  1\n",
       "     American Samoa            47044                             2.9                                                     1\n",
       "     Andorra                   54511                             2.1                                                     1\n",
       "...                                                                                                                    ...\n",
       "2013 Wallis and Futuna Islands 13272                             0.3                                                     1\n",
       "     West Bank and Gaza Strip  4326295                           8.9                                                     1\n",
       "     Yemen                     24407381                          990.0                                                   1\n",
       "     Zambia                    14538640                          3600.0                                                  1\n",
       "     Zimbabwe                  14149648                          5700.0                                                  1\n",
       "\n",
       "[5120 rows x 1 columns]"
      ]
     },
     "execution_count": 157,
     "metadata": {},
     "output_type": "execute_result"
    }
   ],
   "source": [
    "year = tb_analysis.groupby('Year')[['Country or territory name','Estimated total population number','Estimated number of deaths from TB (all forms, excluding HIV)']].value_counts()\n",
    "year = pd.DataFrame(year)\n",
    "year"
   ]
  },
  {
   "cell_type": "code",
   "execution_count": 158,
   "metadata": {},
   "outputs": [
    {
     "data": {
      "text/html": [
       "<div>\n",
       "<style scoped>\n",
       "    .dataframe tbody tr th:only-of-type {\n",
       "        vertical-align: middle;\n",
       "    }\n",
       "\n",
       "    .dataframe tbody tr th {\n",
       "        vertical-align: top;\n",
       "    }\n",
       "\n",
       "    .dataframe thead th {\n",
       "        text-align: right;\n",
       "    }\n",
       "</style>\n",
       "<table border=\"1\" class=\"dataframe\">\n",
       "  <thead>\n",
       "    <tr style=\"text-align: right;\">\n",
       "      <th></th>\n",
       "      <th>Country or territory name</th>\n",
       "      <th>Estimated total population number</th>\n",
       "      <th>Estimated number of deaths from TB (all forms, excluding HIV)</th>\n",
       "      <th>count</th>\n",
       "    </tr>\n",
       "  </thead>\n",
       "  <tbody>\n",
       "    <tr>\n",
       "      <th>0</th>\n",
       "      <td>Afghanistan</td>\n",
       "      <td>11731193</td>\n",
       "      <td>4300.00</td>\n",
       "      <td>1</td>\n",
       "    </tr>\n",
       "    <tr>\n",
       "      <th>1</th>\n",
       "      <td>Albania</td>\n",
       "      <td>3446882</td>\n",
       "      <td>63.00</td>\n",
       "      <td>1</td>\n",
       "    </tr>\n",
       "    <tr>\n",
       "      <th>2</th>\n",
       "      <td>Algeria</td>\n",
       "      <td>26239708</td>\n",
       "      <td>2800.00</td>\n",
       "      <td>1</td>\n",
       "    </tr>\n",
       "    <tr>\n",
       "      <th>3</th>\n",
       "      <td>American Samoa</td>\n",
       "      <td>47044</td>\n",
       "      <td>2.90</td>\n",
       "      <td>1</td>\n",
       "    </tr>\n",
       "    <tr>\n",
       "      <th>4</th>\n",
       "      <td>Andorra</td>\n",
       "      <td>54511</td>\n",
       "      <td>2.10</td>\n",
       "      <td>1</td>\n",
       "    </tr>\n",
       "    <tr>\n",
       "      <th>...</th>\n",
       "      <td>...</td>\n",
       "      <td>...</td>\n",
       "      <td>...</td>\n",
       "      <td>...</td>\n",
       "    </tr>\n",
       "    <tr>\n",
       "      <th>207</th>\n",
       "      <td>Wallis and Futuna Islands</td>\n",
       "      <td>13880</td>\n",
       "      <td>0.65</td>\n",
       "      <td>1</td>\n",
       "    </tr>\n",
       "    <tr>\n",
       "      <th>208</th>\n",
       "      <td>West Bank and Gaza Strip</td>\n",
       "      <td>2081347</td>\n",
       "      <td>9.80</td>\n",
       "      <td>1</td>\n",
       "    </tr>\n",
       "    <tr>\n",
       "      <th>209</th>\n",
       "      <td>Yemen</td>\n",
       "      <td>11790249</td>\n",
       "      <td>4300.00</td>\n",
       "      <td>1</td>\n",
       "    </tr>\n",
       "    <tr>\n",
       "      <th>210</th>\n",
       "      <td>Zambia</td>\n",
       "      <td>7844516</td>\n",
       "      <td>6400.00</td>\n",
       "      <td>1</td>\n",
       "    </tr>\n",
       "    <tr>\n",
       "      <th>211</th>\n",
       "      <td>Zimbabwe</td>\n",
       "      <td>10461782</td>\n",
       "      <td>5500.00</td>\n",
       "      <td>1</td>\n",
       "    </tr>\n",
       "  </tbody>\n",
       "</table>\n",
       "<p>212 rows × 4 columns</p>\n",
       "</div>"
      ],
      "text/plain": [
       "     Country or territory name  Estimated total population number  \\\n",
       "0                  Afghanistan                           11731193   \n",
       "1                      Albania                            3446882   \n",
       "2                      Algeria                           26239708   \n",
       "3               American Samoa                              47044   \n",
       "4                      Andorra                              54511   \n",
       "..                         ...                                ...   \n",
       "207  Wallis and Futuna Islands                              13880   \n",
       "208   West Bank and Gaza Strip                            2081347   \n",
       "209                      Yemen                           11790249   \n",
       "210                     Zambia                            7844516   \n",
       "211                   Zimbabwe                           10461782   \n",
       "\n",
       "     Estimated number of deaths from TB (all forms, excluding HIV)  count  \n",
       "0                                              4300.00                  1  \n",
       "1                                                63.00                  1  \n",
       "2                                              2800.00                  1  \n",
       "3                                                 2.90                  1  \n",
       "4                                                 2.10                  1  \n",
       "..                                                 ...                ...  \n",
       "207                                               0.65                  1  \n",
       "208                                               9.80                  1  \n",
       "209                                            4300.00                  1  \n",
       "210                                            6400.00                  1  \n",
       "211                                            5500.00                  1  \n",
       "\n",
       "[212 rows x 4 columns]"
      ]
     },
     "execution_count": 158,
     "metadata": {},
     "output_type": "execute_result"
    }
   ],
   "source": [
    "year1990 = year.loc[1990].reset_index()\n",
    "year1990"
   ]
  },
  {
   "cell_type": "code",
   "execution_count": 159,
   "metadata": {},
   "outputs": [
    {
     "data": {
      "application/vnd.plotly.v1+json": {
       "config": {
        "plotlyServerURL": "https://plot.ly"
       },
       "data": [
        {
         "coloraxis": "coloraxis",
         "customdata": [
          [
           "Afghanistan"
          ],
          [
           "Albania"
          ],
          [
           "Algeria"
          ],
          [
           "American Samoa"
          ],
          [
           "Andorra"
          ],
          [
           "Angola"
          ],
          [
           "Anguilla"
          ],
          [
           "Antigua and Barbuda"
          ],
          [
           "Argentina"
          ],
          [
           "Armenia"
          ],
          [
           "Aruba"
          ],
          [
           "Australia"
          ],
          [
           "Austria"
          ],
          [
           "Azerbaijan"
          ],
          [
           "Bahamas"
          ],
          [
           "Bahrain"
          ],
          [
           "Bangladesh"
          ],
          [
           "Barbados"
          ],
          [
           "Belarus"
          ],
          [
           "Belgium"
          ],
          [
           "Belize"
          ],
          [
           "Benin"
          ],
          [
           "Bermuda"
          ],
          [
           "Bhutan"
          ],
          [
           "Bolivia (Plurinational State of)"
          ],
          [
           "Bosnia and Herzegovina"
          ],
          [
           "Botswana"
          ],
          [
           "Brazil"
          ],
          [
           "British Virgin Islands"
          ],
          [
           "Brunei Darussalam"
          ],
          [
           "Bulgaria"
          ],
          [
           "Burkina Faso"
          ],
          [
           "Burundi"
          ],
          [
           "Cabo Verde"
          ],
          [
           "Cambodia"
          ],
          [
           "Cameroon"
          ],
          [
           "Canada"
          ],
          [
           "Cayman Islands"
          ],
          [
           "Central African Republic"
          ],
          [
           "Chad"
          ],
          [
           "Chile"
          ],
          [
           "China"
          ],
          [
           "China, Hong Kong SAR"
          ],
          [
           "China, Macao SAR"
          ],
          [
           "Colombia"
          ],
          [
           "Comoros"
          ],
          [
           "Congo"
          ],
          [
           "Cook Islands"
          ],
          [
           "Costa Rica"
          ],
          [
           "Croatia"
          ],
          [
           "Cuba"
          ],
          [
           "Cyprus"
          ],
          [
           "Czech Republic"
          ],
          [
           "Côte d'Ivoire"
          ],
          [
           "Democratic People's Republic of Korea"
          ],
          [
           "Democratic Republic of the Congo"
          ],
          [
           "Denmark"
          ],
          [
           "Djibouti"
          ],
          [
           "Dominica"
          ],
          [
           "Dominican Republic"
          ],
          [
           "Ecuador"
          ],
          [
           "Egypt"
          ],
          [
           "El Salvador"
          ],
          [
           "Equatorial Guinea"
          ],
          [
           "Eritrea"
          ],
          [
           "Estonia"
          ],
          [
           "Ethiopia"
          ],
          [
           "Fiji"
          ],
          [
           "Finland"
          ],
          [
           "France"
          ],
          [
           "French Polynesia"
          ],
          [
           "Gabon"
          ],
          [
           "Gambia"
          ],
          [
           "Georgia"
          ],
          [
           "Germany"
          ],
          [
           "Ghana"
          ],
          [
           "Greece"
          ],
          [
           "Greenland"
          ],
          [
           "Grenada"
          ],
          [
           "Guam"
          ],
          [
           "Guatemala"
          ],
          [
           "Guinea"
          ],
          [
           "Guinea-Bissau"
          ],
          [
           "Guyana"
          ],
          [
           "Haiti"
          ],
          [
           "Honduras"
          ],
          [
           "Hungary"
          ],
          [
           "Iceland"
          ],
          [
           "India"
          ],
          [
           "Indonesia"
          ],
          [
           "Iran (Islamic Republic of)"
          ],
          [
           "Iraq"
          ],
          [
           "Ireland"
          ],
          [
           "Israel"
          ],
          [
           "Italy"
          ],
          [
           "Jamaica"
          ],
          [
           "Japan"
          ],
          [
           "Jordan"
          ],
          [
           "Kazakhstan"
          ],
          [
           "Kenya"
          ],
          [
           "Kiribati"
          ],
          [
           "Kuwait"
          ],
          [
           "Kyrgyzstan"
          ],
          [
           "Lao People's Democratic Republic"
          ],
          [
           "Latvia"
          ],
          [
           "Lebanon"
          ],
          [
           "Lesotho"
          ],
          [
           "Liberia"
          ],
          [
           "Libya"
          ],
          [
           "Lithuania"
          ],
          [
           "Luxembourg"
          ],
          [
           "Madagascar"
          ],
          [
           "Malawi"
          ],
          [
           "Malaysia"
          ],
          [
           "Maldives"
          ],
          [
           "Mali"
          ],
          [
           "Malta"
          ],
          [
           "Marshall Islands"
          ],
          [
           "Mauritania"
          ],
          [
           "Mauritius"
          ],
          [
           "Mexico"
          ],
          [
           "Micronesia (Federated States of)"
          ],
          [
           "Monaco"
          ],
          [
           "Mongolia"
          ],
          [
           "Montserrat"
          ],
          [
           "Morocco"
          ],
          [
           "Mozambique"
          ],
          [
           "Myanmar"
          ],
          [
           "Namibia"
          ],
          [
           "Nauru"
          ],
          [
           "Nepal"
          ],
          [
           "Netherlands"
          ],
          [
           "Netherlands Antilles"
          ],
          [
           "New Caledonia"
          ],
          [
           "New Zealand"
          ],
          [
           "Nicaragua"
          ],
          [
           "Niger"
          ],
          [
           "Nigeria"
          ],
          [
           "Niue"
          ],
          [
           "Northern Mariana Islands"
          ],
          [
           "Norway"
          ],
          [
           "Oman"
          ],
          [
           "Pakistan"
          ],
          [
           "Palau"
          ],
          [
           "Panama"
          ],
          [
           "Papua New Guinea"
          ],
          [
           "Paraguay"
          ],
          [
           "Peru"
          ],
          [
           "Philippines"
          ],
          [
           "Poland"
          ],
          [
           "Portugal"
          ],
          [
           "Puerto Rico"
          ],
          [
           "Qatar"
          ],
          [
           "Republic of Korea"
          ],
          [
           "Republic of Moldova"
          ],
          [
           "Romania"
          ],
          [
           "Russian Federation"
          ],
          [
           "Rwanda"
          ],
          [
           "Saint Kitts and Nevis"
          ],
          [
           "Saint Lucia"
          ],
          [
           "Saint Vincent and the Grenadines"
          ],
          [
           "Samoa"
          ],
          [
           "San Marino"
          ],
          [
           "Sao Tome and Principe"
          ],
          [
           "Saudi Arabia"
          ],
          [
           "Senegal"
          ],
          [
           "Serbia & Montenegro"
          ],
          [
           "Seychelles"
          ],
          [
           "Sierra Leone"
          ],
          [
           "Singapore"
          ],
          [
           "Slovakia"
          ],
          [
           "Slovenia"
          ],
          [
           "Solomon Islands"
          ],
          [
           "Somalia"
          ],
          [
           "South Africa"
          ],
          [
           "Spain"
          ],
          [
           "Sri Lanka"
          ],
          [
           "Sudan"
          ],
          [
           "Suriname"
          ],
          [
           "Swaziland"
          ],
          [
           "Sweden"
          ],
          [
           "Switzerland"
          ],
          [
           "Syrian Arab Republic"
          ],
          [
           "Tajikistan"
          ],
          [
           "Thailand"
          ],
          [
           "The Former Yugoslav Republic of Macedonia"
          ],
          [
           "Togo"
          ],
          [
           "Tokelau"
          ],
          [
           "Tonga"
          ],
          [
           "Trinidad and Tobago"
          ],
          [
           "Tunisia"
          ],
          [
           "Turkey"
          ],
          [
           "Turkmenistan"
          ],
          [
           "Turks and Caicos Islands"
          ],
          [
           "Tuvalu"
          ],
          [
           "US Virgin Islands"
          ],
          [
           "Uganda"
          ],
          [
           "Ukraine"
          ],
          [
           "United Arab Emirates"
          ],
          [
           "United Kingdom of Great Britain and Northern Ireland"
          ],
          [
           "United Republic of Tanzania"
          ],
          [
           "United States of America"
          ],
          [
           "Uruguay"
          ],
          [
           "Uzbekistan"
          ],
          [
           "Vanuatu"
          ],
          [
           "Venezuela (Bolivarian Republic of)"
          ],
          [
           "Viet Nam"
          ],
          [
           "Wallis and Futuna Islands"
          ],
          [
           "West Bank and Gaza Strip"
          ],
          [
           "Yemen"
          ],
          [
           "Zambia"
          ],
          [
           "Zimbabwe"
          ]
         ],
         "geo": "geo",
         "hovertemplate": "Country or territory name=%{customdata[0]}<br>Estimated total population number=%{z}<extra></extra>",
         "locationmode": "country names",
         "locations": [
          "Afghanistan",
          "Albania",
          "Algeria",
          "American Samoa",
          "Andorra",
          "Angola",
          "Anguilla",
          "Antigua and Barbuda",
          "Argentina",
          "Armenia",
          "Aruba",
          "Australia",
          "Austria",
          "Azerbaijan",
          "Bahamas",
          "Bahrain",
          "Bangladesh",
          "Barbados",
          "Belarus",
          "Belgium",
          "Belize",
          "Benin",
          "Bermuda",
          "Bhutan",
          "Bolivia (Plurinational State of)",
          "Bosnia and Herzegovina",
          "Botswana",
          "Brazil",
          "British Virgin Islands",
          "Brunei Darussalam",
          "Bulgaria",
          "Burkina Faso",
          "Burundi",
          "Cabo Verde",
          "Cambodia",
          "Cameroon",
          "Canada",
          "Cayman Islands",
          "Central African Republic",
          "Chad",
          "Chile",
          "China",
          "China, Hong Kong SAR",
          "China, Macao SAR",
          "Colombia",
          "Comoros",
          "Congo",
          "Cook Islands",
          "Costa Rica",
          "Croatia",
          "Cuba",
          "Cyprus",
          "Czech Republic",
          "Côte d'Ivoire",
          "Democratic People's Republic of Korea",
          "Democratic Republic of the Congo",
          "Denmark",
          "Djibouti",
          "Dominica",
          "Dominican Republic",
          "Ecuador",
          "Egypt",
          "El Salvador",
          "Equatorial Guinea",
          "Eritrea",
          "Estonia",
          "Ethiopia",
          "Fiji",
          "Finland",
          "France",
          "French Polynesia",
          "Gabon",
          "Gambia",
          "Georgia",
          "Germany",
          "Ghana",
          "Greece",
          "Greenland",
          "Grenada",
          "Guam",
          "Guatemala",
          "Guinea",
          "Guinea-Bissau",
          "Guyana",
          "Haiti",
          "Honduras",
          "Hungary",
          "Iceland",
          "India",
          "Indonesia",
          "Iran (Islamic Republic of)",
          "Iraq",
          "Ireland",
          "Israel",
          "Italy",
          "Jamaica",
          "Japan",
          "Jordan",
          "Kazakhstan",
          "Kenya",
          "Kiribati",
          "Kuwait",
          "Kyrgyzstan",
          "Lao People's Democratic Republic",
          "Latvia",
          "Lebanon",
          "Lesotho",
          "Liberia",
          "Libya",
          "Lithuania",
          "Luxembourg",
          "Madagascar",
          "Malawi",
          "Malaysia",
          "Maldives",
          "Mali",
          "Malta",
          "Marshall Islands",
          "Mauritania",
          "Mauritius",
          "Mexico",
          "Micronesia (Federated States of)",
          "Monaco",
          "Mongolia",
          "Montserrat",
          "Morocco",
          "Mozambique",
          "Myanmar",
          "Namibia",
          "Nauru",
          "Nepal",
          "Netherlands",
          "Netherlands Antilles",
          "New Caledonia",
          "New Zealand",
          "Nicaragua",
          "Niger",
          "Nigeria",
          "Niue",
          "Northern Mariana Islands",
          "Norway",
          "Oman",
          "Pakistan",
          "Palau",
          "Panama",
          "Papua New Guinea",
          "Paraguay",
          "Peru",
          "Philippines",
          "Poland",
          "Portugal",
          "Puerto Rico",
          "Qatar",
          "Republic of Korea",
          "Republic of Moldova",
          "Romania",
          "Russian Federation",
          "Rwanda",
          "Saint Kitts and Nevis",
          "Saint Lucia",
          "Saint Vincent and the Grenadines",
          "Samoa",
          "San Marino",
          "Sao Tome and Principe",
          "Saudi Arabia",
          "Senegal",
          "Serbia & Montenegro",
          "Seychelles",
          "Sierra Leone",
          "Singapore",
          "Slovakia",
          "Slovenia",
          "Solomon Islands",
          "Somalia",
          "South Africa",
          "Spain",
          "Sri Lanka",
          "Sudan",
          "Suriname",
          "Swaziland",
          "Sweden",
          "Switzerland",
          "Syrian Arab Republic",
          "Tajikistan",
          "Thailand",
          "The Former Yugoslav Republic of Macedonia",
          "Togo",
          "Tokelau",
          "Tonga",
          "Trinidad and Tobago",
          "Tunisia",
          "Turkey",
          "Turkmenistan",
          "Turks and Caicos Islands",
          "Tuvalu",
          "US Virgin Islands",
          "Uganda",
          "Ukraine",
          "United Arab Emirates",
          "United Kingdom of Great Britain and Northern Ireland",
          "United Republic of Tanzania",
          "United States of America",
          "Uruguay",
          "Uzbekistan",
          "Vanuatu",
          "Venezuela (Bolivarian Republic of)",
          "Viet Nam",
          "Wallis and Futuna Islands",
          "West Bank and Gaza Strip",
          "Yemen",
          "Zambia",
          "Zimbabwe"
         ],
         "name": "",
         "type": "choropleth",
         "z": [
          11731193,
          3446882,
          26239708,
          47044,
          54511,
          10333844,
          8334,
          61906,
          32624874,
          3544695,
          62148,
          17096869,
          7670001,
          7216503,
          256338,
          495944,
          107385847,
          259336,
          10259860,
          9978241,
          187552,
          5001271,
          59798,
          535738,
          6794046,
          4526511,
          1383912,
          149648341,
          16459,
          256929,
          8821111,
          8811033,
          5605873,
          351960,
          9057339,
          12070359,
          27657790,
          25009,
          2912824,
          5951574,
          13213930,
          1165428967,
          5794034,
          359735,
          33306941,
          412790,
          2383283,
          17613,
          3078551,
          4793521,
          10600841,
          766611,
          10325976,
          12115806,
          20194361,
          34910591,
          5140332,
          589924,
          70928,
          7245127,
          10123593,
          56336614,
          5344226,
          373851,
          3272563,
          1565320,
          48042755,
          728339,
          4986705,
          56845705,
          198370,
          946703,
          916811,
          5460309,
          80487159,
          14628693,
          10160501,
          55603,
          96286,
          130482,
          8890329,
          6020113,
          1017385,
          725043,
          7110116,
          4903694,
          10385061,
          254830,
          868890700,
          178633239,
          56361868,
          17517521,
          3531185,
          4499161,
          56831853,
          2365211,
          122249285,
          3358453,
          16171900,
          23446439,
          71040,
          2059774,
          4394502,
          4244520,
          2663985,
          2703019,
          1597534,
          2102877,
          4259811,
          3697393,
          381790,
          11545782,
          9447123,
          18211097,
          215859,
          7964066,
          375295,
          47300,
          2024163,
          1055865,
          86077004,
          96331,
          29438,
          2184159,
          10734,
          24674974,
          13567959,
          42123003,
          1415447,
          9157,
          18111200,
          14890341,
          188234,
          168537,
          3397983,
          4137788,
          7753907,
          95617350,
          2332,
          43972,
          4240375,
          1810103,
          111090879,
          15089,
          2486776,
          4157903,
          4249747,
          21772035,
          61948688,
          38149944,
          9899450,
          3517984,
          476517,
          42972254,
          4364114,
          23372101,
          148148752,
          7214696,
          40833,
          138180,
          107509,
          162865,
          24135,
          117395,
          16206078,
          7514110,
          10350030,
          69474,
          4042678,
          3016404,
          5277709,
          2003772,
          311849,
          6321615,
          36793490,
          38883045,
          17323977,
          25773020,
          406764,
          862728,
          8559107,
          6673920,
          12451539,
          5297286,
          56582726,
          2009710,
          3787602,
          1609,
          95165,
          1221904,
          8135302,
          53994605,
          3668000,
          11550,
          9004,
          103253,
          17534839,
          51658594,
          1806498,
          57214478,
          25484814,
          254506647,
          3109941,
          20555113,
          146633,
          19740786,
          68909883,
          13880,
          2081347,
          11790249,
          7844516,
          10461782
         ]
        }
       ],
       "layout": {
        "coloraxis": {
         "colorbar": {
          "title": {
           "text": "Estimated total population number"
          }
         },
         "colorscale": [
          [
           0,
           "rgb(255,255,204)"
          ],
          [
           0.125,
           "rgb(255,237,160)"
          ],
          [
           0.25,
           "rgb(254,217,118)"
          ],
          [
           0.375,
           "rgb(254,178,76)"
          ],
          [
           0.5,
           "rgb(253,141,60)"
          ],
          [
           0.625,
           "rgb(252,78,42)"
          ],
          [
           0.75,
           "rgb(227,26,28)"
          ],
          [
           0.875,
           "rgb(189,0,38)"
          ],
          [
           1,
           "rgb(128,0,38)"
          ]
         ]
        },
        "geo": {
         "center": {},
         "domain": {
          "x": [
           0,
           1
          ],
          "y": [
           0,
           1
          ]
         },
         "projection": {
          "type": "equirectangular"
         }
        },
        "legend": {
         "tracegroupgap": 0
        },
        "template": {
         "data": {
          "bar": [
           {
            "error_x": {
             "color": "#2a3f5f"
            },
            "error_y": {
             "color": "#2a3f5f"
            },
            "marker": {
             "line": {
              "color": "#E5ECF6",
              "width": 0.5
             },
             "pattern": {
              "fillmode": "overlay",
              "size": 10,
              "solidity": 0.2
             }
            },
            "type": "bar"
           }
          ],
          "barpolar": [
           {
            "marker": {
             "line": {
              "color": "#E5ECF6",
              "width": 0.5
             },
             "pattern": {
              "fillmode": "overlay",
              "size": 10,
              "solidity": 0.2
             }
            },
            "type": "barpolar"
           }
          ],
          "carpet": [
           {
            "aaxis": {
             "endlinecolor": "#2a3f5f",
             "gridcolor": "white",
             "linecolor": "white",
             "minorgridcolor": "white",
             "startlinecolor": "#2a3f5f"
            },
            "baxis": {
             "endlinecolor": "#2a3f5f",
             "gridcolor": "white",
             "linecolor": "white",
             "minorgridcolor": "white",
             "startlinecolor": "#2a3f5f"
            },
            "type": "carpet"
           }
          ],
          "choropleth": [
           {
            "colorbar": {
             "outlinewidth": 0,
             "ticks": ""
            },
            "type": "choropleth"
           }
          ],
          "contour": [
           {
            "colorbar": {
             "outlinewidth": 0,
             "ticks": ""
            },
            "colorscale": [
             [
              0,
              "#0d0887"
             ],
             [
              0.1111111111111111,
              "#46039f"
             ],
             [
              0.2222222222222222,
              "#7201a8"
             ],
             [
              0.3333333333333333,
              "#9c179e"
             ],
             [
              0.4444444444444444,
              "#bd3786"
             ],
             [
              0.5555555555555556,
              "#d8576b"
             ],
             [
              0.6666666666666666,
              "#ed7953"
             ],
             [
              0.7777777777777778,
              "#fb9f3a"
             ],
             [
              0.8888888888888888,
              "#fdca26"
             ],
             [
              1,
              "#f0f921"
             ]
            ],
            "type": "contour"
           }
          ],
          "contourcarpet": [
           {
            "colorbar": {
             "outlinewidth": 0,
             "ticks": ""
            },
            "type": "contourcarpet"
           }
          ],
          "heatmap": [
           {
            "colorbar": {
             "outlinewidth": 0,
             "ticks": ""
            },
            "colorscale": [
             [
              0,
              "#0d0887"
             ],
             [
              0.1111111111111111,
              "#46039f"
             ],
             [
              0.2222222222222222,
              "#7201a8"
             ],
             [
              0.3333333333333333,
              "#9c179e"
             ],
             [
              0.4444444444444444,
              "#bd3786"
             ],
             [
              0.5555555555555556,
              "#d8576b"
             ],
             [
              0.6666666666666666,
              "#ed7953"
             ],
             [
              0.7777777777777778,
              "#fb9f3a"
             ],
             [
              0.8888888888888888,
              "#fdca26"
             ],
             [
              1,
              "#f0f921"
             ]
            ],
            "type": "heatmap"
           }
          ],
          "heatmapgl": [
           {
            "colorbar": {
             "outlinewidth": 0,
             "ticks": ""
            },
            "colorscale": [
             [
              0,
              "#0d0887"
             ],
             [
              0.1111111111111111,
              "#46039f"
             ],
             [
              0.2222222222222222,
              "#7201a8"
             ],
             [
              0.3333333333333333,
              "#9c179e"
             ],
             [
              0.4444444444444444,
              "#bd3786"
             ],
             [
              0.5555555555555556,
              "#d8576b"
             ],
             [
              0.6666666666666666,
              "#ed7953"
             ],
             [
              0.7777777777777778,
              "#fb9f3a"
             ],
             [
              0.8888888888888888,
              "#fdca26"
             ],
             [
              1,
              "#f0f921"
             ]
            ],
            "type": "heatmapgl"
           }
          ],
          "histogram": [
           {
            "marker": {
             "pattern": {
              "fillmode": "overlay",
              "size": 10,
              "solidity": 0.2
             }
            },
            "type": "histogram"
           }
          ],
          "histogram2d": [
           {
            "colorbar": {
             "outlinewidth": 0,
             "ticks": ""
            },
            "colorscale": [
             [
              0,
              "#0d0887"
             ],
             [
              0.1111111111111111,
              "#46039f"
             ],
             [
              0.2222222222222222,
              "#7201a8"
             ],
             [
              0.3333333333333333,
              "#9c179e"
             ],
             [
              0.4444444444444444,
              "#bd3786"
             ],
             [
              0.5555555555555556,
              "#d8576b"
             ],
             [
              0.6666666666666666,
              "#ed7953"
             ],
             [
              0.7777777777777778,
              "#fb9f3a"
             ],
             [
              0.8888888888888888,
              "#fdca26"
             ],
             [
              1,
              "#f0f921"
             ]
            ],
            "type": "histogram2d"
           }
          ],
          "histogram2dcontour": [
           {
            "colorbar": {
             "outlinewidth": 0,
             "ticks": ""
            },
            "colorscale": [
             [
              0,
              "#0d0887"
             ],
             [
              0.1111111111111111,
              "#46039f"
             ],
             [
              0.2222222222222222,
              "#7201a8"
             ],
             [
              0.3333333333333333,
              "#9c179e"
             ],
             [
              0.4444444444444444,
              "#bd3786"
             ],
             [
              0.5555555555555556,
              "#d8576b"
             ],
             [
              0.6666666666666666,
              "#ed7953"
             ],
             [
              0.7777777777777778,
              "#fb9f3a"
             ],
             [
              0.8888888888888888,
              "#fdca26"
             ],
             [
              1,
              "#f0f921"
             ]
            ],
            "type": "histogram2dcontour"
           }
          ],
          "mesh3d": [
           {
            "colorbar": {
             "outlinewidth": 0,
             "ticks": ""
            },
            "type": "mesh3d"
           }
          ],
          "parcoords": [
           {
            "line": {
             "colorbar": {
              "outlinewidth": 0,
              "ticks": ""
             }
            },
            "type": "parcoords"
           }
          ],
          "pie": [
           {
            "automargin": true,
            "type": "pie"
           }
          ],
          "scatter": [
           {
            "fillpattern": {
             "fillmode": "overlay",
             "size": 10,
             "solidity": 0.2
            },
            "type": "scatter"
           }
          ],
          "scatter3d": [
           {
            "line": {
             "colorbar": {
              "outlinewidth": 0,
              "ticks": ""
             }
            },
            "marker": {
             "colorbar": {
              "outlinewidth": 0,
              "ticks": ""
             }
            },
            "type": "scatter3d"
           }
          ],
          "scattercarpet": [
           {
            "marker": {
             "colorbar": {
              "outlinewidth": 0,
              "ticks": ""
             }
            },
            "type": "scattercarpet"
           }
          ],
          "scattergeo": [
           {
            "marker": {
             "colorbar": {
              "outlinewidth": 0,
              "ticks": ""
             }
            },
            "type": "scattergeo"
           }
          ],
          "scattergl": [
           {
            "marker": {
             "colorbar": {
              "outlinewidth": 0,
              "ticks": ""
             }
            },
            "type": "scattergl"
           }
          ],
          "scattermapbox": [
           {
            "marker": {
             "colorbar": {
              "outlinewidth": 0,
              "ticks": ""
             }
            },
            "type": "scattermapbox"
           }
          ],
          "scatterpolar": [
           {
            "marker": {
             "colorbar": {
              "outlinewidth": 0,
              "ticks": ""
             }
            },
            "type": "scatterpolar"
           }
          ],
          "scatterpolargl": [
           {
            "marker": {
             "colorbar": {
              "outlinewidth": 0,
              "ticks": ""
             }
            },
            "type": "scatterpolargl"
           }
          ],
          "scatterternary": [
           {
            "marker": {
             "colorbar": {
              "outlinewidth": 0,
              "ticks": ""
             }
            },
            "type": "scatterternary"
           }
          ],
          "surface": [
           {
            "colorbar": {
             "outlinewidth": 0,
             "ticks": ""
            },
            "colorscale": [
             [
              0,
              "#0d0887"
             ],
             [
              0.1111111111111111,
              "#46039f"
             ],
             [
              0.2222222222222222,
              "#7201a8"
             ],
             [
              0.3333333333333333,
              "#9c179e"
             ],
             [
              0.4444444444444444,
              "#bd3786"
             ],
             [
              0.5555555555555556,
              "#d8576b"
             ],
             [
              0.6666666666666666,
              "#ed7953"
             ],
             [
              0.7777777777777778,
              "#fb9f3a"
             ],
             [
              0.8888888888888888,
              "#fdca26"
             ],
             [
              1,
              "#f0f921"
             ]
            ],
            "type": "surface"
           }
          ],
          "table": [
           {
            "cells": {
             "fill": {
              "color": "#EBF0F8"
             },
             "line": {
              "color": "white"
             }
            },
            "header": {
             "fill": {
              "color": "#C8D4E3"
             },
             "line": {
              "color": "white"
             }
            },
            "type": "table"
           }
          ]
         },
         "layout": {
          "annotationdefaults": {
           "arrowcolor": "#2a3f5f",
           "arrowhead": 0,
           "arrowwidth": 1
          },
          "autotypenumbers": "strict",
          "coloraxis": {
           "colorbar": {
            "outlinewidth": 0,
            "ticks": ""
           }
          },
          "colorscale": {
           "diverging": [
            [
             0,
             "#8e0152"
            ],
            [
             0.1,
             "#c51b7d"
            ],
            [
             0.2,
             "#de77ae"
            ],
            [
             0.3,
             "#f1b6da"
            ],
            [
             0.4,
             "#fde0ef"
            ],
            [
             0.5,
             "#f7f7f7"
            ],
            [
             0.6,
             "#e6f5d0"
            ],
            [
             0.7,
             "#b8e186"
            ],
            [
             0.8,
             "#7fbc41"
            ],
            [
             0.9,
             "#4d9221"
            ],
            [
             1,
             "#276419"
            ]
           ],
           "sequential": [
            [
             0,
             "#0d0887"
            ],
            [
             0.1111111111111111,
             "#46039f"
            ],
            [
             0.2222222222222222,
             "#7201a8"
            ],
            [
             0.3333333333333333,
             "#9c179e"
            ],
            [
             0.4444444444444444,
             "#bd3786"
            ],
            [
             0.5555555555555556,
             "#d8576b"
            ],
            [
             0.6666666666666666,
             "#ed7953"
            ],
            [
             0.7777777777777778,
             "#fb9f3a"
            ],
            [
             0.8888888888888888,
             "#fdca26"
            ],
            [
             1,
             "#f0f921"
            ]
           ],
           "sequentialminus": [
            [
             0,
             "#0d0887"
            ],
            [
             0.1111111111111111,
             "#46039f"
            ],
            [
             0.2222222222222222,
             "#7201a8"
            ],
            [
             0.3333333333333333,
             "#9c179e"
            ],
            [
             0.4444444444444444,
             "#bd3786"
            ],
            [
             0.5555555555555556,
             "#d8576b"
            ],
            [
             0.6666666666666666,
             "#ed7953"
            ],
            [
             0.7777777777777778,
             "#fb9f3a"
            ],
            [
             0.8888888888888888,
             "#fdca26"
            ],
            [
             1,
             "#f0f921"
            ]
           ]
          },
          "colorway": [
           "#636efa",
           "#EF553B",
           "#00cc96",
           "#ab63fa",
           "#FFA15A",
           "#19d3f3",
           "#FF6692",
           "#B6E880",
           "#FF97FF",
           "#FECB52"
          ],
          "font": {
           "color": "#2a3f5f"
          },
          "geo": {
           "bgcolor": "white",
           "lakecolor": "white",
           "landcolor": "#E5ECF6",
           "showlakes": true,
           "showland": true,
           "subunitcolor": "white"
          },
          "hoverlabel": {
           "align": "left"
          },
          "hovermode": "closest",
          "mapbox": {
           "style": "light"
          },
          "paper_bgcolor": "white",
          "plot_bgcolor": "#E5ECF6",
          "polar": {
           "angularaxis": {
            "gridcolor": "white",
            "linecolor": "white",
            "ticks": ""
           },
           "bgcolor": "#E5ECF6",
           "radialaxis": {
            "gridcolor": "white",
            "linecolor": "white",
            "ticks": ""
           }
          },
          "scene": {
           "xaxis": {
            "backgroundcolor": "#E5ECF6",
            "gridcolor": "white",
            "gridwidth": 2,
            "linecolor": "white",
            "showbackground": true,
            "ticks": "",
            "zerolinecolor": "white"
           },
           "yaxis": {
            "backgroundcolor": "#E5ECF6",
            "gridcolor": "white",
            "gridwidth": 2,
            "linecolor": "white",
            "showbackground": true,
            "ticks": "",
            "zerolinecolor": "white"
           },
           "zaxis": {
            "backgroundcolor": "#E5ECF6",
            "gridcolor": "white",
            "gridwidth": 2,
            "linecolor": "white",
            "showbackground": true,
            "ticks": "",
            "zerolinecolor": "white"
           }
          },
          "shapedefaults": {
           "line": {
            "color": "#2a3f5f"
           }
          },
          "ternary": {
           "aaxis": {
            "gridcolor": "white",
            "linecolor": "white",
            "ticks": ""
           },
           "baxis": {
            "gridcolor": "white",
            "linecolor": "white",
            "ticks": ""
           },
           "bgcolor": "#E5ECF6",
           "caxis": {
            "gridcolor": "white",
            "linecolor": "white",
            "ticks": ""
           }
          },
          "title": {
           "x": 0.05
          },
          "xaxis": {
           "automargin": true,
           "gridcolor": "white",
           "linecolor": "white",
           "ticks": "",
           "title": {
            "standoff": 15
           },
           "zerolinecolor": "white",
           "zerolinewidth": 2
          },
          "yaxis": {
           "automargin": true,
           "gridcolor": "white",
           "linecolor": "white",
           "ticks": "",
           "title": {
            "standoff": 15
           },
           "zerolinecolor": "white",
           "zerolinewidth": 2
          }
         }
        },
        "title": {
         "text": "1990 World Population Map"
        }
       }
      }
     },
     "metadata": {},
     "output_type": "display_data"
    }
   ],
   "source": [
    "fig_1990 = px.choropleth(data_frame=year1990, \n",
    "                    locations='Country or territory name',\n",
    "                    locationmode='country names',\n",
    "                    color='Estimated total population number',\n",
    "                    color_continuous_scale='YlOrRd',\n",
    "                    projection='equirectangular',\n",
    "                    title='1990 World Population Map',\n",
    "                    hover_data='Country or territory name',\n",
    "                    )\n",
    "fig_1990.show()"
   ]
  },
  {
   "cell_type": "markdown",
   "metadata": {},
   "source": [
    "Interact with the map by hovering over it to show the estimated number of population in every country in 1990 "
   ]
  },
  {
   "cell_type": "code",
   "execution_count": 160,
   "metadata": {},
   "outputs": [
    {
     "data": {
      "application/vnd.plotly.v1+json": {
       "config": {
        "plotlyServerURL": "https://plot.ly"
       },
       "data": [
        {
         "coloraxis": "coloraxis",
         "customdata": [
          [
           "Afghanistan"
          ],
          [
           "Albania"
          ],
          [
           "Algeria"
          ],
          [
           "American Samoa"
          ],
          [
           "Andorra"
          ],
          [
           "Angola"
          ],
          [
           "Anguilla"
          ],
          [
           "Antigua and Barbuda"
          ],
          [
           "Argentina"
          ],
          [
           "Armenia"
          ],
          [
           "Aruba"
          ],
          [
           "Australia"
          ],
          [
           "Austria"
          ],
          [
           "Azerbaijan"
          ],
          [
           "Bahamas"
          ],
          [
           "Bahrain"
          ],
          [
           "Bangladesh"
          ],
          [
           "Barbados"
          ],
          [
           "Belarus"
          ],
          [
           "Belgium"
          ],
          [
           "Belize"
          ],
          [
           "Benin"
          ],
          [
           "Bermuda"
          ],
          [
           "Bhutan"
          ],
          [
           "Bolivia (Plurinational State of)"
          ],
          [
           "Bosnia and Herzegovina"
          ],
          [
           "Botswana"
          ],
          [
           "Brazil"
          ],
          [
           "British Virgin Islands"
          ],
          [
           "Brunei Darussalam"
          ],
          [
           "Bulgaria"
          ],
          [
           "Burkina Faso"
          ],
          [
           "Burundi"
          ],
          [
           "Cabo Verde"
          ],
          [
           "Cambodia"
          ],
          [
           "Cameroon"
          ],
          [
           "Canada"
          ],
          [
           "Cayman Islands"
          ],
          [
           "Central African Republic"
          ],
          [
           "Chad"
          ],
          [
           "Chile"
          ],
          [
           "China"
          ],
          [
           "China, Hong Kong SAR"
          ],
          [
           "China, Macao SAR"
          ],
          [
           "Colombia"
          ],
          [
           "Comoros"
          ],
          [
           "Congo"
          ],
          [
           "Cook Islands"
          ],
          [
           "Costa Rica"
          ],
          [
           "Croatia"
          ],
          [
           "Cuba"
          ],
          [
           "Cyprus"
          ],
          [
           "Czech Republic"
          ],
          [
           "Côte d'Ivoire"
          ],
          [
           "Democratic People's Republic of Korea"
          ],
          [
           "Democratic Republic of the Congo"
          ],
          [
           "Denmark"
          ],
          [
           "Djibouti"
          ],
          [
           "Dominica"
          ],
          [
           "Dominican Republic"
          ],
          [
           "Ecuador"
          ],
          [
           "Egypt"
          ],
          [
           "El Salvador"
          ],
          [
           "Equatorial Guinea"
          ],
          [
           "Eritrea"
          ],
          [
           "Estonia"
          ],
          [
           "Ethiopia"
          ],
          [
           "Fiji"
          ],
          [
           "Finland"
          ],
          [
           "France"
          ],
          [
           "French Polynesia"
          ],
          [
           "Gabon"
          ],
          [
           "Gambia"
          ],
          [
           "Georgia"
          ],
          [
           "Germany"
          ],
          [
           "Ghana"
          ],
          [
           "Greece"
          ],
          [
           "Greenland"
          ],
          [
           "Grenada"
          ],
          [
           "Guam"
          ],
          [
           "Guatemala"
          ],
          [
           "Guinea"
          ],
          [
           "Guinea-Bissau"
          ],
          [
           "Guyana"
          ],
          [
           "Haiti"
          ],
          [
           "Honduras"
          ],
          [
           "Hungary"
          ],
          [
           "Iceland"
          ],
          [
           "India"
          ],
          [
           "Indonesia"
          ],
          [
           "Iran (Islamic Republic of)"
          ],
          [
           "Iraq"
          ],
          [
           "Ireland"
          ],
          [
           "Israel"
          ],
          [
           "Italy"
          ],
          [
           "Jamaica"
          ],
          [
           "Japan"
          ],
          [
           "Jordan"
          ],
          [
           "Kazakhstan"
          ],
          [
           "Kenya"
          ],
          [
           "Kiribati"
          ],
          [
           "Kuwait"
          ],
          [
           "Kyrgyzstan"
          ],
          [
           "Lao People's Democratic Republic"
          ],
          [
           "Latvia"
          ],
          [
           "Lebanon"
          ],
          [
           "Lesotho"
          ],
          [
           "Liberia"
          ],
          [
           "Libya"
          ],
          [
           "Lithuania"
          ],
          [
           "Luxembourg"
          ],
          [
           "Madagascar"
          ],
          [
           "Malawi"
          ],
          [
           "Malaysia"
          ],
          [
           "Maldives"
          ],
          [
           "Mali"
          ],
          [
           "Malta"
          ],
          [
           "Marshall Islands"
          ],
          [
           "Mauritania"
          ],
          [
           "Mauritius"
          ],
          [
           "Mexico"
          ],
          [
           "Micronesia (Federated States of)"
          ],
          [
           "Monaco"
          ],
          [
           "Mongolia"
          ],
          [
           "Montserrat"
          ],
          [
           "Morocco"
          ],
          [
           "Mozambique"
          ],
          [
           "Myanmar"
          ],
          [
           "Namibia"
          ],
          [
           "Nauru"
          ],
          [
           "Nepal"
          ],
          [
           "Netherlands"
          ],
          [
           "Netherlands Antilles"
          ],
          [
           "New Caledonia"
          ],
          [
           "New Zealand"
          ],
          [
           "Nicaragua"
          ],
          [
           "Niger"
          ],
          [
           "Nigeria"
          ],
          [
           "Niue"
          ],
          [
           "Northern Mariana Islands"
          ],
          [
           "Norway"
          ],
          [
           "Oman"
          ],
          [
           "Pakistan"
          ],
          [
           "Palau"
          ],
          [
           "Panama"
          ],
          [
           "Papua New Guinea"
          ],
          [
           "Paraguay"
          ],
          [
           "Peru"
          ],
          [
           "Philippines"
          ],
          [
           "Poland"
          ],
          [
           "Portugal"
          ],
          [
           "Puerto Rico"
          ],
          [
           "Qatar"
          ],
          [
           "Republic of Korea"
          ],
          [
           "Republic of Moldova"
          ],
          [
           "Romania"
          ],
          [
           "Russian Federation"
          ],
          [
           "Rwanda"
          ],
          [
           "Saint Kitts and Nevis"
          ],
          [
           "Saint Lucia"
          ],
          [
           "Saint Vincent and the Grenadines"
          ],
          [
           "Samoa"
          ],
          [
           "San Marino"
          ],
          [
           "Sao Tome and Principe"
          ],
          [
           "Saudi Arabia"
          ],
          [
           "Senegal"
          ],
          [
           "Serbia & Montenegro"
          ],
          [
           "Seychelles"
          ],
          [
           "Sierra Leone"
          ],
          [
           "Singapore"
          ],
          [
           "Slovakia"
          ],
          [
           "Slovenia"
          ],
          [
           "Solomon Islands"
          ],
          [
           "Somalia"
          ],
          [
           "South Africa"
          ],
          [
           "Spain"
          ],
          [
           "Sri Lanka"
          ],
          [
           "Sudan"
          ],
          [
           "Suriname"
          ],
          [
           "Swaziland"
          ],
          [
           "Sweden"
          ],
          [
           "Switzerland"
          ],
          [
           "Syrian Arab Republic"
          ],
          [
           "Tajikistan"
          ],
          [
           "Thailand"
          ],
          [
           "The Former Yugoslav Republic of Macedonia"
          ],
          [
           "Togo"
          ],
          [
           "Tokelau"
          ],
          [
           "Tonga"
          ],
          [
           "Trinidad and Tobago"
          ],
          [
           "Tunisia"
          ],
          [
           "Turkey"
          ],
          [
           "Turkmenistan"
          ],
          [
           "Turks and Caicos Islands"
          ],
          [
           "Tuvalu"
          ],
          [
           "US Virgin Islands"
          ],
          [
           "Uganda"
          ],
          [
           "Ukraine"
          ],
          [
           "United Arab Emirates"
          ],
          [
           "United Kingdom of Great Britain and Northern Ireland"
          ],
          [
           "United Republic of Tanzania"
          ],
          [
           "United States of America"
          ],
          [
           "Uruguay"
          ],
          [
           "Uzbekistan"
          ],
          [
           "Vanuatu"
          ],
          [
           "Venezuela (Bolivarian Republic of)"
          ],
          [
           "Viet Nam"
          ],
          [
           "Wallis and Futuna Islands"
          ],
          [
           "West Bank and Gaza Strip"
          ],
          [
           "Yemen"
          ],
          [
           "Zambia"
          ],
          [
           "Zimbabwe"
          ]
         ],
         "geo": "geo",
         "hovertemplate": "Country or territory name=%{customdata[0]}<br>Estimated number of deaths from TB (all forms, excluding HIV)=%{z}<extra></extra>",
         "locationmode": "country names",
         "locations": [
          "Afghanistan",
          "Albania",
          "Algeria",
          "American Samoa",
          "Andorra",
          "Angola",
          "Anguilla",
          "Antigua and Barbuda",
          "Argentina",
          "Armenia",
          "Aruba",
          "Australia",
          "Austria",
          "Azerbaijan",
          "Bahamas",
          "Bahrain",
          "Bangladesh",
          "Barbados",
          "Belarus",
          "Belgium",
          "Belize",
          "Benin",
          "Bermuda",
          "Bhutan",
          "Bolivia (Plurinational State of)",
          "Bosnia and Herzegovina",
          "Botswana",
          "Brazil",
          "British Virgin Islands",
          "Brunei Darussalam",
          "Bulgaria",
          "Burkina Faso",
          "Burundi",
          "Cabo Verde",
          "Cambodia",
          "Cameroon",
          "Canada",
          "Cayman Islands",
          "Central African Republic",
          "Chad",
          "Chile",
          "China",
          "China, Hong Kong SAR",
          "China, Macao SAR",
          "Colombia",
          "Comoros",
          "Congo",
          "Cook Islands",
          "Costa Rica",
          "Croatia",
          "Cuba",
          "Cyprus",
          "Czech Republic",
          "Côte d'Ivoire",
          "Democratic People's Republic of Korea",
          "Democratic Republic of the Congo",
          "Denmark",
          "Djibouti",
          "Dominica",
          "Dominican Republic",
          "Ecuador",
          "Egypt",
          "El Salvador",
          "Equatorial Guinea",
          "Eritrea",
          "Estonia",
          "Ethiopia",
          "Fiji",
          "Finland",
          "France",
          "French Polynesia",
          "Gabon",
          "Gambia",
          "Georgia",
          "Germany",
          "Ghana",
          "Greece",
          "Greenland",
          "Grenada",
          "Guam",
          "Guatemala",
          "Guinea",
          "Guinea-Bissau",
          "Guyana",
          "Haiti",
          "Honduras",
          "Hungary",
          "Iceland",
          "India",
          "Indonesia",
          "Iran (Islamic Republic of)",
          "Iraq",
          "Ireland",
          "Israel",
          "Italy",
          "Jamaica",
          "Japan",
          "Jordan",
          "Kazakhstan",
          "Kenya",
          "Kiribati",
          "Kuwait",
          "Kyrgyzstan",
          "Lao People's Democratic Republic",
          "Latvia",
          "Lebanon",
          "Lesotho",
          "Liberia",
          "Libya",
          "Lithuania",
          "Luxembourg",
          "Madagascar",
          "Malawi",
          "Malaysia",
          "Maldives",
          "Mali",
          "Malta",
          "Marshall Islands",
          "Mauritania",
          "Mauritius",
          "Mexico",
          "Micronesia (Federated States of)",
          "Monaco",
          "Mongolia",
          "Montserrat",
          "Morocco",
          "Mozambique",
          "Myanmar",
          "Namibia",
          "Nauru",
          "Nepal",
          "Netherlands",
          "Netherlands Antilles",
          "New Caledonia",
          "New Zealand",
          "Nicaragua",
          "Niger",
          "Nigeria",
          "Niue",
          "Northern Mariana Islands",
          "Norway",
          "Oman",
          "Pakistan",
          "Palau",
          "Panama",
          "Papua New Guinea",
          "Paraguay",
          "Peru",
          "Philippines",
          "Poland",
          "Portugal",
          "Puerto Rico",
          "Qatar",
          "Republic of Korea",
          "Republic of Moldova",
          "Romania",
          "Russian Federation",
          "Rwanda",
          "Saint Kitts and Nevis",
          "Saint Lucia",
          "Saint Vincent and the Grenadines",
          "Samoa",
          "San Marino",
          "Sao Tome and Principe",
          "Saudi Arabia",
          "Senegal",
          "Serbia & Montenegro",
          "Seychelles",
          "Sierra Leone",
          "Singapore",
          "Slovakia",
          "Slovenia",
          "Solomon Islands",
          "Somalia",
          "South Africa",
          "Spain",
          "Sri Lanka",
          "Sudan",
          "Suriname",
          "Swaziland",
          "Sweden",
          "Switzerland",
          "Syrian Arab Republic",
          "Tajikistan",
          "Thailand",
          "The Former Yugoslav Republic of Macedonia",
          "Togo",
          "Tokelau",
          "Tonga",
          "Trinidad and Tobago",
          "Tunisia",
          "Turkey",
          "Turkmenistan",
          "Turks and Caicos Islands",
          "Tuvalu",
          "US Virgin Islands",
          "Uganda",
          "Ukraine",
          "United Arab Emirates",
          "United Kingdom of Great Britain and Northern Ireland",
          "United Republic of Tanzania",
          "United States of America",
          "Uruguay",
          "Uzbekistan",
          "Vanuatu",
          "Venezuela (Bolivarian Republic of)",
          "Viet Nam",
          "Wallis and Futuna Islands",
          "West Bank and Gaza Strip",
          "Yemen",
          "Zambia",
          "Zimbabwe"
         ],
         "name": "",
         "type": "choropleth",
         "z": [
          4300,
          63,
          2800,
          2.9,
          2.1,
          4900,
          0,
          2.4,
          1400,
          160,
          0.76,
          61,
          140,
          820,
          17,
          27,
          86000,
          0,
          500,
          100,
          4.6,
          1800,
          0,
          1500,
          540,
          300,
          1800,
          8100,
          0,
          7.8,
          220,
          2300,
          2100,
          170,
          19000,
          2600,
          120,
          1,
          7800,
          1200,
          760,
          220000,
          370,
          36,
          1700,
          47,
          1000,
          0.06,
          78,
          430,
          62,
          1.5,
          190,
          8100,
          22000,
          35000,
          55,
          640,
          6.5,
          1000,
          2000,
          1900,
          260,
          27,
          1200,
          71,
          43000,
          41,
          130,
          1100,
          7.4,
          570,
          300,
          480,
          1100,
          6500,
          160,
          8.8,
          0,
          5.9,
          860,
          5500,
          610,
          54,
          3500,
          310,
          550,
          1,
          330000,
          120000,
          2800,
          990,
          51,
          21,
          610,
          21,
          3800,
          39,
          2100,
          8600,
          21,
          20,
          400,
          8200,
          190,
          51,
          1100,
          790,
          550,
          260,
          2.1,
          17000,
          3700,
          1200,
          62,
          1500,
          1.1,
          1.7,
          2000,
          28,
          6700,
          25,
          0.21,
          360,
          0,
          2900,
          16000,
          65000,
          1600,
          0.61,
          9400,
          23,
          1.1,
          13,
          19,
          450,
          10000,
          95000,
          0.03,
          1.3,
          16,
          46,
          77000,
          1.6,
          210,
          4400,
          200,
          7500,
          34000,
          1400,
          310,
          69,
          27,
          4700,
          250,
          1600,
          12000,
          370,
          0,
          5.5,
          1.1,
          7.8,
          0,
          44,
          540,
          2000,
          400,
          1.1,
          3900,
          120,
          110,
          52,
          270,
          7400,
          19000,
          890,
          1300,
          14000,
          14,
          510,
          43,
          88,
          920,
          340,
          11000,
          100,
          270,
          0.05,
          5.9,
          32,
          180,
          3400,
          550,
          0,
          9.7,
          1.9,
          15000,
          5000,
          12,
          440,
          12000,
          1900,
          85,
          1700,
          10,
          850,
          36000,
          0.65,
          9.8,
          4300,
          6400,
          5500
         ]
        }
       ],
       "layout": {
        "coloraxis": {
         "colorbar": {
          "title": {
           "text": "Estimated number of deaths from TB (all forms, excluding HIV)"
          }
         },
         "colorscale": [
          [
           0,
           "rgb(255,255,204)"
          ],
          [
           0.125,
           "rgb(255,237,160)"
          ],
          [
           0.25,
           "rgb(254,217,118)"
          ],
          [
           0.375,
           "rgb(254,178,76)"
          ],
          [
           0.5,
           "rgb(253,141,60)"
          ],
          [
           0.625,
           "rgb(252,78,42)"
          ],
          [
           0.75,
           "rgb(227,26,28)"
          ],
          [
           0.875,
           "rgb(189,0,38)"
          ],
          [
           1,
           "rgb(128,0,38)"
          ]
         ]
        },
        "geo": {
         "center": {},
         "domain": {
          "x": [
           0,
           1
          ],
          "y": [
           0,
           1
          ]
         },
         "projection": {
          "type": "equirectangular"
         }
        },
        "legend": {
         "tracegroupgap": 0
        },
        "template": {
         "data": {
          "bar": [
           {
            "error_x": {
             "color": "#2a3f5f"
            },
            "error_y": {
             "color": "#2a3f5f"
            },
            "marker": {
             "line": {
              "color": "#E5ECF6",
              "width": 0.5
             },
             "pattern": {
              "fillmode": "overlay",
              "size": 10,
              "solidity": 0.2
             }
            },
            "type": "bar"
           }
          ],
          "barpolar": [
           {
            "marker": {
             "line": {
              "color": "#E5ECF6",
              "width": 0.5
             },
             "pattern": {
              "fillmode": "overlay",
              "size": 10,
              "solidity": 0.2
             }
            },
            "type": "barpolar"
           }
          ],
          "carpet": [
           {
            "aaxis": {
             "endlinecolor": "#2a3f5f",
             "gridcolor": "white",
             "linecolor": "white",
             "minorgridcolor": "white",
             "startlinecolor": "#2a3f5f"
            },
            "baxis": {
             "endlinecolor": "#2a3f5f",
             "gridcolor": "white",
             "linecolor": "white",
             "minorgridcolor": "white",
             "startlinecolor": "#2a3f5f"
            },
            "type": "carpet"
           }
          ],
          "choropleth": [
           {
            "colorbar": {
             "outlinewidth": 0,
             "ticks": ""
            },
            "type": "choropleth"
           }
          ],
          "contour": [
           {
            "colorbar": {
             "outlinewidth": 0,
             "ticks": ""
            },
            "colorscale": [
             [
              0,
              "#0d0887"
             ],
             [
              0.1111111111111111,
              "#46039f"
             ],
             [
              0.2222222222222222,
              "#7201a8"
             ],
             [
              0.3333333333333333,
              "#9c179e"
             ],
             [
              0.4444444444444444,
              "#bd3786"
             ],
             [
              0.5555555555555556,
              "#d8576b"
             ],
             [
              0.6666666666666666,
              "#ed7953"
             ],
             [
              0.7777777777777778,
              "#fb9f3a"
             ],
             [
              0.8888888888888888,
              "#fdca26"
             ],
             [
              1,
              "#f0f921"
             ]
            ],
            "type": "contour"
           }
          ],
          "contourcarpet": [
           {
            "colorbar": {
             "outlinewidth": 0,
             "ticks": ""
            },
            "type": "contourcarpet"
           }
          ],
          "heatmap": [
           {
            "colorbar": {
             "outlinewidth": 0,
             "ticks": ""
            },
            "colorscale": [
             [
              0,
              "#0d0887"
             ],
             [
              0.1111111111111111,
              "#46039f"
             ],
             [
              0.2222222222222222,
              "#7201a8"
             ],
             [
              0.3333333333333333,
              "#9c179e"
             ],
             [
              0.4444444444444444,
              "#bd3786"
             ],
             [
              0.5555555555555556,
              "#d8576b"
             ],
             [
              0.6666666666666666,
              "#ed7953"
             ],
             [
              0.7777777777777778,
              "#fb9f3a"
             ],
             [
              0.8888888888888888,
              "#fdca26"
             ],
             [
              1,
              "#f0f921"
             ]
            ],
            "type": "heatmap"
           }
          ],
          "heatmapgl": [
           {
            "colorbar": {
             "outlinewidth": 0,
             "ticks": ""
            },
            "colorscale": [
             [
              0,
              "#0d0887"
             ],
             [
              0.1111111111111111,
              "#46039f"
             ],
             [
              0.2222222222222222,
              "#7201a8"
             ],
             [
              0.3333333333333333,
              "#9c179e"
             ],
             [
              0.4444444444444444,
              "#bd3786"
             ],
             [
              0.5555555555555556,
              "#d8576b"
             ],
             [
              0.6666666666666666,
              "#ed7953"
             ],
             [
              0.7777777777777778,
              "#fb9f3a"
             ],
             [
              0.8888888888888888,
              "#fdca26"
             ],
             [
              1,
              "#f0f921"
             ]
            ],
            "type": "heatmapgl"
           }
          ],
          "histogram": [
           {
            "marker": {
             "pattern": {
              "fillmode": "overlay",
              "size": 10,
              "solidity": 0.2
             }
            },
            "type": "histogram"
           }
          ],
          "histogram2d": [
           {
            "colorbar": {
             "outlinewidth": 0,
             "ticks": ""
            },
            "colorscale": [
             [
              0,
              "#0d0887"
             ],
             [
              0.1111111111111111,
              "#46039f"
             ],
             [
              0.2222222222222222,
              "#7201a8"
             ],
             [
              0.3333333333333333,
              "#9c179e"
             ],
             [
              0.4444444444444444,
              "#bd3786"
             ],
             [
              0.5555555555555556,
              "#d8576b"
             ],
             [
              0.6666666666666666,
              "#ed7953"
             ],
             [
              0.7777777777777778,
              "#fb9f3a"
             ],
             [
              0.8888888888888888,
              "#fdca26"
             ],
             [
              1,
              "#f0f921"
             ]
            ],
            "type": "histogram2d"
           }
          ],
          "histogram2dcontour": [
           {
            "colorbar": {
             "outlinewidth": 0,
             "ticks": ""
            },
            "colorscale": [
             [
              0,
              "#0d0887"
             ],
             [
              0.1111111111111111,
              "#46039f"
             ],
             [
              0.2222222222222222,
              "#7201a8"
             ],
             [
              0.3333333333333333,
              "#9c179e"
             ],
             [
              0.4444444444444444,
              "#bd3786"
             ],
             [
              0.5555555555555556,
              "#d8576b"
             ],
             [
              0.6666666666666666,
              "#ed7953"
             ],
             [
              0.7777777777777778,
              "#fb9f3a"
             ],
             [
              0.8888888888888888,
              "#fdca26"
             ],
             [
              1,
              "#f0f921"
             ]
            ],
            "type": "histogram2dcontour"
           }
          ],
          "mesh3d": [
           {
            "colorbar": {
             "outlinewidth": 0,
             "ticks": ""
            },
            "type": "mesh3d"
           }
          ],
          "parcoords": [
           {
            "line": {
             "colorbar": {
              "outlinewidth": 0,
              "ticks": ""
             }
            },
            "type": "parcoords"
           }
          ],
          "pie": [
           {
            "automargin": true,
            "type": "pie"
           }
          ],
          "scatter": [
           {
            "fillpattern": {
             "fillmode": "overlay",
             "size": 10,
             "solidity": 0.2
            },
            "type": "scatter"
           }
          ],
          "scatter3d": [
           {
            "line": {
             "colorbar": {
              "outlinewidth": 0,
              "ticks": ""
             }
            },
            "marker": {
             "colorbar": {
              "outlinewidth": 0,
              "ticks": ""
             }
            },
            "type": "scatter3d"
           }
          ],
          "scattercarpet": [
           {
            "marker": {
             "colorbar": {
              "outlinewidth": 0,
              "ticks": ""
             }
            },
            "type": "scattercarpet"
           }
          ],
          "scattergeo": [
           {
            "marker": {
             "colorbar": {
              "outlinewidth": 0,
              "ticks": ""
             }
            },
            "type": "scattergeo"
           }
          ],
          "scattergl": [
           {
            "marker": {
             "colorbar": {
              "outlinewidth": 0,
              "ticks": ""
             }
            },
            "type": "scattergl"
           }
          ],
          "scattermapbox": [
           {
            "marker": {
             "colorbar": {
              "outlinewidth": 0,
              "ticks": ""
             }
            },
            "type": "scattermapbox"
           }
          ],
          "scatterpolar": [
           {
            "marker": {
             "colorbar": {
              "outlinewidth": 0,
              "ticks": ""
             }
            },
            "type": "scatterpolar"
           }
          ],
          "scatterpolargl": [
           {
            "marker": {
             "colorbar": {
              "outlinewidth": 0,
              "ticks": ""
             }
            },
            "type": "scatterpolargl"
           }
          ],
          "scatterternary": [
           {
            "marker": {
             "colorbar": {
              "outlinewidth": 0,
              "ticks": ""
             }
            },
            "type": "scatterternary"
           }
          ],
          "surface": [
           {
            "colorbar": {
             "outlinewidth": 0,
             "ticks": ""
            },
            "colorscale": [
             [
              0,
              "#0d0887"
             ],
             [
              0.1111111111111111,
              "#46039f"
             ],
             [
              0.2222222222222222,
              "#7201a8"
             ],
             [
              0.3333333333333333,
              "#9c179e"
             ],
             [
              0.4444444444444444,
              "#bd3786"
             ],
             [
              0.5555555555555556,
              "#d8576b"
             ],
             [
              0.6666666666666666,
              "#ed7953"
             ],
             [
              0.7777777777777778,
              "#fb9f3a"
             ],
             [
              0.8888888888888888,
              "#fdca26"
             ],
             [
              1,
              "#f0f921"
             ]
            ],
            "type": "surface"
           }
          ],
          "table": [
           {
            "cells": {
             "fill": {
              "color": "#EBF0F8"
             },
             "line": {
              "color": "white"
             }
            },
            "header": {
             "fill": {
              "color": "#C8D4E3"
             },
             "line": {
              "color": "white"
             }
            },
            "type": "table"
           }
          ]
         },
         "layout": {
          "annotationdefaults": {
           "arrowcolor": "#2a3f5f",
           "arrowhead": 0,
           "arrowwidth": 1
          },
          "autotypenumbers": "strict",
          "coloraxis": {
           "colorbar": {
            "outlinewidth": 0,
            "ticks": ""
           }
          },
          "colorscale": {
           "diverging": [
            [
             0,
             "#8e0152"
            ],
            [
             0.1,
             "#c51b7d"
            ],
            [
             0.2,
             "#de77ae"
            ],
            [
             0.3,
             "#f1b6da"
            ],
            [
             0.4,
             "#fde0ef"
            ],
            [
             0.5,
             "#f7f7f7"
            ],
            [
             0.6,
             "#e6f5d0"
            ],
            [
             0.7,
             "#b8e186"
            ],
            [
             0.8,
             "#7fbc41"
            ],
            [
             0.9,
             "#4d9221"
            ],
            [
             1,
             "#276419"
            ]
           ],
           "sequential": [
            [
             0,
             "#0d0887"
            ],
            [
             0.1111111111111111,
             "#46039f"
            ],
            [
             0.2222222222222222,
             "#7201a8"
            ],
            [
             0.3333333333333333,
             "#9c179e"
            ],
            [
             0.4444444444444444,
             "#bd3786"
            ],
            [
             0.5555555555555556,
             "#d8576b"
            ],
            [
             0.6666666666666666,
             "#ed7953"
            ],
            [
             0.7777777777777778,
             "#fb9f3a"
            ],
            [
             0.8888888888888888,
             "#fdca26"
            ],
            [
             1,
             "#f0f921"
            ]
           ],
           "sequentialminus": [
            [
             0,
             "#0d0887"
            ],
            [
             0.1111111111111111,
             "#46039f"
            ],
            [
             0.2222222222222222,
             "#7201a8"
            ],
            [
             0.3333333333333333,
             "#9c179e"
            ],
            [
             0.4444444444444444,
             "#bd3786"
            ],
            [
             0.5555555555555556,
             "#d8576b"
            ],
            [
             0.6666666666666666,
             "#ed7953"
            ],
            [
             0.7777777777777778,
             "#fb9f3a"
            ],
            [
             0.8888888888888888,
             "#fdca26"
            ],
            [
             1,
             "#f0f921"
            ]
           ]
          },
          "colorway": [
           "#636efa",
           "#EF553B",
           "#00cc96",
           "#ab63fa",
           "#FFA15A",
           "#19d3f3",
           "#FF6692",
           "#B6E880",
           "#FF97FF",
           "#FECB52"
          ],
          "font": {
           "color": "#2a3f5f"
          },
          "geo": {
           "bgcolor": "white",
           "lakecolor": "white",
           "landcolor": "#E5ECF6",
           "showlakes": true,
           "showland": true,
           "subunitcolor": "white"
          },
          "hoverlabel": {
           "align": "left"
          },
          "hovermode": "closest",
          "mapbox": {
           "style": "light"
          },
          "paper_bgcolor": "white",
          "plot_bgcolor": "#E5ECF6",
          "polar": {
           "angularaxis": {
            "gridcolor": "white",
            "linecolor": "white",
            "ticks": ""
           },
           "bgcolor": "#E5ECF6",
           "radialaxis": {
            "gridcolor": "white",
            "linecolor": "white",
            "ticks": ""
           }
          },
          "scene": {
           "xaxis": {
            "backgroundcolor": "#E5ECF6",
            "gridcolor": "white",
            "gridwidth": 2,
            "linecolor": "white",
            "showbackground": true,
            "ticks": "",
            "zerolinecolor": "white"
           },
           "yaxis": {
            "backgroundcolor": "#E5ECF6",
            "gridcolor": "white",
            "gridwidth": 2,
            "linecolor": "white",
            "showbackground": true,
            "ticks": "",
            "zerolinecolor": "white"
           },
           "zaxis": {
            "backgroundcolor": "#E5ECF6",
            "gridcolor": "white",
            "gridwidth": 2,
            "linecolor": "white",
            "showbackground": true,
            "ticks": "",
            "zerolinecolor": "white"
           }
          },
          "shapedefaults": {
           "line": {
            "color": "#2a3f5f"
           }
          },
          "ternary": {
           "aaxis": {
            "gridcolor": "white",
            "linecolor": "white",
            "ticks": ""
           },
           "baxis": {
            "gridcolor": "white",
            "linecolor": "white",
            "ticks": ""
           },
           "bgcolor": "#E5ECF6",
           "caxis": {
            "gridcolor": "white",
            "linecolor": "white",
            "ticks": ""
           }
          },
          "title": {
           "x": 0.05
          },
          "xaxis": {
           "automargin": true,
           "gridcolor": "white",
           "linecolor": "white",
           "ticks": "",
           "title": {
            "standoff": 15
           },
           "zerolinecolor": "white",
           "zerolinewidth": 2
          },
          "yaxis": {
           "automargin": true,
           "gridcolor": "white",
           "linecolor": "white",
           "ticks": "",
           "title": {
            "standoff": 15
           },
           "zerolinecolor": "white",
           "zerolinewidth": 2
          }
         }
        },
        "title": {
         "text": "1990 World Estimated number of deaths from TB (all forms, excluding HIV)"
        }
       }
      }
     },
     "metadata": {},
     "output_type": "display_data"
    }
   ],
   "source": [
    "fig_1990 = px.choropleth(data_frame=year1990, \n",
    "                    locations='Country or territory name',\n",
    "                    locationmode='country names',\n",
    "                    color='Estimated number of deaths from TB (all forms, excluding HIV)',\n",
    "                    color_continuous_scale='YlOrRd',\n",
    "                    projection='equirectangular',\n",
    "                    title='1990 World Estimated number of deaths from TB (all forms, excluding HIV)',\n",
    "                    hover_data='Country or territory name',\n",
    "                    )\n",
    "fig_1990.show()"
   ]
  },
  {
   "cell_type": "markdown",
   "metadata": {},
   "source": [
    "Th map shows the estimated number of death from TB all forms excluding HIV in 1990 which India was the highest . Interact with the map by hovering over it to show the estimates"
   ]
  },
  {
   "cell_type": "markdown",
   "metadata": {},
   "source": [
    "Question 1: What Are The Most and Least Populated Countries in 1990?"
   ]
  },
  {
   "cell_type": "code",
   "execution_count": 161,
   "metadata": {},
   "outputs": [
    {
     "data": {
      "text/html": [
       "<div>\n",
       "<style scoped>\n",
       "    .dataframe tbody tr th:only-of-type {\n",
       "        vertical-align: middle;\n",
       "    }\n",
       "\n",
       "    .dataframe tbody tr th {\n",
       "        vertical-align: top;\n",
       "    }\n",
       "\n",
       "    .dataframe thead th {\n",
       "        text-align: right;\n",
       "    }\n",
       "</style>\n",
       "<table border=\"1\" class=\"dataframe\">\n",
       "  <thead>\n",
       "    <tr style=\"text-align: right;\">\n",
       "      <th></th>\n",
       "      <th>Country or territory name</th>\n",
       "      <th>Estimated total population number</th>\n",
       "      <th>Estimated number of deaths from TB (all forms, excluding HIV)</th>\n",
       "      <th>count</th>\n",
       "    </tr>\n",
       "  </thead>\n",
       "  <tbody>\n",
       "    <tr>\n",
       "      <th>187</th>\n",
       "      <td>Tokelau</td>\n",
       "      <td>1609</td>\n",
       "      <td>0.05</td>\n",
       "      <td>1</td>\n",
       "    </tr>\n",
       "    <tr>\n",
       "      <th>138</th>\n",
       "      <td>Niue</td>\n",
       "      <td>2332</td>\n",
       "      <td>0.03</td>\n",
       "      <td>1</td>\n",
       "    </tr>\n",
       "    <tr>\n",
       "      <th>6</th>\n",
       "      <td>Anguilla</td>\n",
       "      <td>8334</td>\n",
       "      <td>0.00</td>\n",
       "      <td>1</td>\n",
       "    </tr>\n",
       "    <tr>\n",
       "      <th>194</th>\n",
       "      <td>Tuvalu</td>\n",
       "      <td>9004</td>\n",
       "      <td>9.70</td>\n",
       "      <td>1</td>\n",
       "    </tr>\n",
       "    <tr>\n",
       "      <th>129</th>\n",
       "      <td>Nauru</td>\n",
       "      <td>9157</td>\n",
       "      <td>0.61</td>\n",
       "      <td>1</td>\n",
       "    </tr>\n",
       "    <tr>\n",
       "      <th>...</th>\n",
       "      <td>...</td>\n",
       "      <td>...</td>\n",
       "      <td>...</td>\n",
       "      <td>...</td>\n",
       "    </tr>\n",
       "    <tr>\n",
       "      <th>27</th>\n",
       "      <td>Brazil</td>\n",
       "      <td>149648341</td>\n",
       "      <td>8100.00</td>\n",
       "      <td>1</td>\n",
       "    </tr>\n",
       "    <tr>\n",
       "      <th>89</th>\n",
       "      <td>Indonesia</td>\n",
       "      <td>178633239</td>\n",
       "      <td>120000.00</td>\n",
       "      <td>1</td>\n",
       "    </tr>\n",
       "    <tr>\n",
       "      <th>201</th>\n",
       "      <td>United States of America</td>\n",
       "      <td>254506647</td>\n",
       "      <td>1900.00</td>\n",
       "      <td>1</td>\n",
       "    </tr>\n",
       "    <tr>\n",
       "      <th>88</th>\n",
       "      <td>India</td>\n",
       "      <td>868890700</td>\n",
       "      <td>330000.00</td>\n",
       "      <td>1</td>\n",
       "    </tr>\n",
       "    <tr>\n",
       "      <th>41</th>\n",
       "      <td>China</td>\n",
       "      <td>1165428967</td>\n",
       "      <td>220000.00</td>\n",
       "      <td>1</td>\n",
       "    </tr>\n",
       "  </tbody>\n",
       "</table>\n",
       "<p>212 rows × 4 columns</p>\n",
       "</div>"
      ],
      "text/plain": [
       "    Country or territory name  Estimated total population number  \\\n",
       "187                   Tokelau                               1609   \n",
       "138                      Niue                               2332   \n",
       "6                    Anguilla                               8334   \n",
       "194                    Tuvalu                               9004   \n",
       "129                     Nauru                               9157   \n",
       "..                        ...                                ...   \n",
       "27                     Brazil                          149648341   \n",
       "89                  Indonesia                          178633239   \n",
       "201  United States of America                          254506647   \n",
       "88                      India                          868890700   \n",
       "41                      China                         1165428967   \n",
       "\n",
       "     Estimated number of deaths from TB (all forms, excluding HIV)  count  \n",
       "187                                               0.05                  1  \n",
       "138                                               0.03                  1  \n",
       "6                                                 0.00                  1  \n",
       "194                                               9.70                  1  \n",
       "129                                               0.61                  1  \n",
       "..                                                 ...                ...  \n",
       "27                                             8100.00                  1  \n",
       "89                                           120000.00                  1  \n",
       "201                                            1900.00                  1  \n",
       "88                                           330000.00                  1  \n",
       "41                                           220000.00                  1  \n",
       "\n",
       "[212 rows x 4 columns]"
      ]
     },
     "execution_count": 161,
     "metadata": {},
     "output_type": "execute_result"
    }
   ],
   "source": [
    "year1990.sort_values(by='Estimated total population number', inplace=False)"
   ]
  },
  {
   "cell_type": "markdown",
   "metadata": {},
   "source": [
    "In 1990 population , the first five most populated countries were Tokelau,Niue,Anguilla,Tuvalu and Nauru while Brazil,Indonesia,United States of America were the least populated country"
   ]
  },
  {
   "cell_type": "markdown",
   "metadata": {},
   "source": [
    "Question 2: The Change in Global Population Distribution from 1990 to 2013"
   ]
  },
  {
   "cell_type": "code",
   "execution_count": 162,
   "metadata": {},
   "outputs": [
    {
     "data": {
      "text/html": [
       "<div>\n",
       "<style scoped>\n",
       "    .dataframe tbody tr th:only-of-type {\n",
       "        vertical-align: middle;\n",
       "    }\n",
       "\n",
       "    .dataframe tbody tr th {\n",
       "        vertical-align: top;\n",
       "    }\n",
       "\n",
       "    .dataframe thead th {\n",
       "        text-align: right;\n",
       "    }\n",
       "</style>\n",
       "<table border=\"1\" class=\"dataframe\">\n",
       "  <thead>\n",
       "    <tr style=\"text-align: right;\">\n",
       "      <th></th>\n",
       "      <th></th>\n",
       "      <th></th>\n",
       "      <th>count</th>\n",
       "    </tr>\n",
       "    <tr>\n",
       "      <th>Year</th>\n",
       "      <th>Country or territory name</th>\n",
       "      <th>Estimated total population number</th>\n",
       "      <th></th>\n",
       "    </tr>\n",
       "  </thead>\n",
       "  <tbody>\n",
       "    <tr>\n",
       "      <th rowspan=\"5\" valign=\"top\">1990</th>\n",
       "      <th>Afghanistan</th>\n",
       "      <th>11731193</th>\n",
       "      <td>1</td>\n",
       "    </tr>\n",
       "    <tr>\n",
       "      <th>Albania</th>\n",
       "      <th>3446882</th>\n",
       "      <td>1</td>\n",
       "    </tr>\n",
       "    <tr>\n",
       "      <th>Algeria</th>\n",
       "      <th>26239708</th>\n",
       "      <td>1</td>\n",
       "    </tr>\n",
       "    <tr>\n",
       "      <th>American Samoa</th>\n",
       "      <th>47044</th>\n",
       "      <td>1</td>\n",
       "    </tr>\n",
       "    <tr>\n",
       "      <th>Andorra</th>\n",
       "      <th>54511</th>\n",
       "      <td>1</td>\n",
       "    </tr>\n",
       "    <tr>\n",
       "      <th>...</th>\n",
       "      <th>...</th>\n",
       "      <th>...</th>\n",
       "      <td>...</td>\n",
       "    </tr>\n",
       "    <tr>\n",
       "      <th rowspan=\"5\" valign=\"top\">2013</th>\n",
       "      <th>Wallis and Futuna Islands</th>\n",
       "      <th>13272</th>\n",
       "      <td>1</td>\n",
       "    </tr>\n",
       "    <tr>\n",
       "      <th>West Bank and Gaza Strip</th>\n",
       "      <th>4326295</th>\n",
       "      <td>1</td>\n",
       "    </tr>\n",
       "    <tr>\n",
       "      <th>Yemen</th>\n",
       "      <th>24407381</th>\n",
       "      <td>1</td>\n",
       "    </tr>\n",
       "    <tr>\n",
       "      <th>Zambia</th>\n",
       "      <th>14538640</th>\n",
       "      <td>1</td>\n",
       "    </tr>\n",
       "    <tr>\n",
       "      <th>Zimbabwe</th>\n",
       "      <th>14149648</th>\n",
       "      <td>1</td>\n",
       "    </tr>\n",
       "  </tbody>\n",
       "</table>\n",
       "<p>5120 rows × 1 columns</p>\n",
       "</div>"
      ],
      "text/plain": [
       "                                                                  count\n",
       "Year Country or territory name Estimated total population number       \n",
       "1990 Afghanistan               11731193                               1\n",
       "     Albania                   3446882                                1\n",
       "     Algeria                   26239708                               1\n",
       "     American Samoa            47044                                  1\n",
       "     Andorra                   54511                                  1\n",
       "...                                                                 ...\n",
       "2013 Wallis and Futuna Islands 13272                                  1\n",
       "     West Bank and Gaza Strip  4326295                                1\n",
       "     Yemen                     24407381                               1\n",
       "     Zambia                    14538640                               1\n",
       "     Zimbabwe                  14149648                               1\n",
       "\n",
       "[5120 rows x 1 columns]"
      ]
     },
     "execution_count": 162,
     "metadata": {},
     "output_type": "execute_result"
    }
   ],
   "source": [
    "year1 = tb_analysis.groupby('Year')[['Country or territory name','Estimated total population number']].value_counts()\n",
    "year1 = pd.DataFrame(year1)\n",
    "year1"
   ]
  },
  {
   "cell_type": "code",
   "execution_count": 163,
   "metadata": {},
   "outputs": [
    {
     "data": {
      "text/html": [
       "<div>\n",
       "<style scoped>\n",
       "    .dataframe tbody tr th:only-of-type {\n",
       "        vertical-align: middle;\n",
       "    }\n",
       "\n",
       "    .dataframe tbody tr th {\n",
       "        vertical-align: top;\n",
       "    }\n",
       "\n",
       "    .dataframe thead th {\n",
       "        text-align: right;\n",
       "    }\n",
       "</style>\n",
       "<table border=\"1\" class=\"dataframe\">\n",
       "  <thead>\n",
       "    <tr style=\"text-align: right;\">\n",
       "      <th></th>\n",
       "      <th>Country or territory name</th>\n",
       "      <th>Estimated total population number</th>\n",
       "      <th>count</th>\n",
       "    </tr>\n",
       "  </thead>\n",
       "  <tbody>\n",
       "    <tr>\n",
       "      <th>0</th>\n",
       "      <td>Afghanistan</td>\n",
       "      <td>11731193</td>\n",
       "      <td>1</td>\n",
       "    </tr>\n",
       "    <tr>\n",
       "      <th>1</th>\n",
       "      <td>Albania</td>\n",
       "      <td>3446882</td>\n",
       "      <td>1</td>\n",
       "    </tr>\n",
       "    <tr>\n",
       "      <th>2</th>\n",
       "      <td>Algeria</td>\n",
       "      <td>26239708</td>\n",
       "      <td>1</td>\n",
       "    </tr>\n",
       "    <tr>\n",
       "      <th>3</th>\n",
       "      <td>American Samoa</td>\n",
       "      <td>47044</td>\n",
       "      <td>1</td>\n",
       "    </tr>\n",
       "    <tr>\n",
       "      <th>4</th>\n",
       "      <td>Andorra</td>\n",
       "      <td>54511</td>\n",
       "      <td>1</td>\n",
       "    </tr>\n",
       "    <tr>\n",
       "      <th>...</th>\n",
       "      <td>...</td>\n",
       "      <td>...</td>\n",
       "      <td>...</td>\n",
       "    </tr>\n",
       "    <tr>\n",
       "      <th>207</th>\n",
       "      <td>Wallis and Futuna Islands</td>\n",
       "      <td>13880</td>\n",
       "      <td>1</td>\n",
       "    </tr>\n",
       "    <tr>\n",
       "      <th>208</th>\n",
       "      <td>West Bank and Gaza Strip</td>\n",
       "      <td>2081347</td>\n",
       "      <td>1</td>\n",
       "    </tr>\n",
       "    <tr>\n",
       "      <th>209</th>\n",
       "      <td>Yemen</td>\n",
       "      <td>11790249</td>\n",
       "      <td>1</td>\n",
       "    </tr>\n",
       "    <tr>\n",
       "      <th>210</th>\n",
       "      <td>Zambia</td>\n",
       "      <td>7844516</td>\n",
       "      <td>1</td>\n",
       "    </tr>\n",
       "    <tr>\n",
       "      <th>211</th>\n",
       "      <td>Zimbabwe</td>\n",
       "      <td>10461782</td>\n",
       "      <td>1</td>\n",
       "    </tr>\n",
       "  </tbody>\n",
       "</table>\n",
       "<p>212 rows × 3 columns</p>\n",
       "</div>"
      ],
      "text/plain": [
       "     Country or territory name  Estimated total population number  count\n",
       "0                  Afghanistan                           11731193      1\n",
       "1                      Albania                            3446882      1\n",
       "2                      Algeria                           26239708      1\n",
       "3               American Samoa                              47044      1\n",
       "4                      Andorra                              54511      1\n",
       "..                         ...                                ...    ...\n",
       "207  Wallis and Futuna Islands                              13880      1\n",
       "208   West Bank and Gaza Strip                            2081347      1\n",
       "209                      Yemen                           11790249      1\n",
       "210                     Zambia                            7844516      1\n",
       "211                   Zimbabwe                           10461782      1\n",
       "\n",
       "[212 rows x 3 columns]"
      ]
     },
     "execution_count": 163,
     "metadata": {},
     "output_type": "execute_result"
    }
   ],
   "source": [
    "year1990 = year1.loc[1990].reset_index()\n",
    "year1990"
   ]
  },
  {
   "cell_type": "code",
   "execution_count": 164,
   "metadata": {},
   "outputs": [
    {
     "data": {
      "text/plain": [
       "Index(['Country or territory name', 'totalpopulation1990', 'count'], dtype='object')"
      ]
     },
     "execution_count": 164,
     "metadata": {},
     "output_type": "execute_result"
    }
   ],
   "source": [
    "newColumnNames = {\n",
    "    \"Estimated total population number\": \"totalpopulation1990\",\n",
    "}\n",
    "\n",
    "year1990.rename(columns=newColumnNames, inplace=True)\n",
    "year1990.columns"
   ]
  },
  {
   "cell_type": "code",
   "execution_count": 165,
   "metadata": {},
   "outputs": [
    {
     "data": {
      "text/html": [
       "<div>\n",
       "<style scoped>\n",
       "    .dataframe tbody tr th:only-of-type {\n",
       "        vertical-align: middle;\n",
       "    }\n",
       "\n",
       "    .dataframe tbody tr th {\n",
       "        vertical-align: top;\n",
       "    }\n",
       "\n",
       "    .dataframe thead th {\n",
       "        text-align: right;\n",
       "    }\n",
       "</style>\n",
       "<table border=\"1\" class=\"dataframe\">\n",
       "  <thead>\n",
       "    <tr style=\"text-align: right;\">\n",
       "      <th></th>\n",
       "      <th>Country or territory name</th>\n",
       "      <th>totalpopulation1990</th>\n",
       "      <th>count</th>\n",
       "    </tr>\n",
       "  </thead>\n",
       "  <tbody>\n",
       "    <tr>\n",
       "      <th>0</th>\n",
       "      <td>Afghanistan</td>\n",
       "      <td>11731193</td>\n",
       "      <td>1</td>\n",
       "    </tr>\n",
       "    <tr>\n",
       "      <th>1</th>\n",
       "      <td>Albania</td>\n",
       "      <td>3446882</td>\n",
       "      <td>1</td>\n",
       "    </tr>\n",
       "    <tr>\n",
       "      <th>2</th>\n",
       "      <td>Algeria</td>\n",
       "      <td>26239708</td>\n",
       "      <td>1</td>\n",
       "    </tr>\n",
       "    <tr>\n",
       "      <th>3</th>\n",
       "      <td>American Samoa</td>\n",
       "      <td>47044</td>\n",
       "      <td>1</td>\n",
       "    </tr>\n",
       "    <tr>\n",
       "      <th>4</th>\n",
       "      <td>Andorra</td>\n",
       "      <td>54511</td>\n",
       "      <td>1</td>\n",
       "    </tr>\n",
       "    <tr>\n",
       "      <th>...</th>\n",
       "      <td>...</td>\n",
       "      <td>...</td>\n",
       "      <td>...</td>\n",
       "    </tr>\n",
       "    <tr>\n",
       "      <th>207</th>\n",
       "      <td>Wallis and Futuna Islands</td>\n",
       "      <td>13880</td>\n",
       "      <td>1</td>\n",
       "    </tr>\n",
       "    <tr>\n",
       "      <th>208</th>\n",
       "      <td>West Bank and Gaza Strip</td>\n",
       "      <td>2081347</td>\n",
       "      <td>1</td>\n",
       "    </tr>\n",
       "    <tr>\n",
       "      <th>209</th>\n",
       "      <td>Yemen</td>\n",
       "      <td>11790249</td>\n",
       "      <td>1</td>\n",
       "    </tr>\n",
       "    <tr>\n",
       "      <th>210</th>\n",
       "      <td>Zambia</td>\n",
       "      <td>7844516</td>\n",
       "      <td>1</td>\n",
       "    </tr>\n",
       "    <tr>\n",
       "      <th>211</th>\n",
       "      <td>Zimbabwe</td>\n",
       "      <td>10461782</td>\n",
       "      <td>1</td>\n",
       "    </tr>\n",
       "  </tbody>\n",
       "</table>\n",
       "<p>212 rows × 3 columns</p>\n",
       "</div>"
      ],
      "text/plain": [
       "     Country or territory name  totalpopulation1990  count\n",
       "0                  Afghanistan             11731193      1\n",
       "1                      Albania              3446882      1\n",
       "2                      Algeria             26239708      1\n",
       "3               American Samoa                47044      1\n",
       "4                      Andorra                54511      1\n",
       "..                         ...                  ...    ...\n",
       "207  Wallis and Futuna Islands                13880      1\n",
       "208   West Bank and Gaza Strip              2081347      1\n",
       "209                      Yemen             11790249      1\n",
       "210                     Zambia              7844516      1\n",
       "211                   Zimbabwe             10461782      1\n",
       "\n",
       "[212 rows x 3 columns]"
      ]
     },
     "execution_count": 165,
     "metadata": {},
     "output_type": "execute_result"
    }
   ],
   "source": [
    "year1990"
   ]
  },
  {
   "cell_type": "code",
   "execution_count": 166,
   "metadata": {},
   "outputs": [
    {
     "data": {
      "text/html": [
       "<div>\n",
       "<style scoped>\n",
       "    .dataframe tbody tr th:only-of-type {\n",
       "        vertical-align: middle;\n",
       "    }\n",
       "\n",
       "    .dataframe tbody tr th {\n",
       "        vertical-align: top;\n",
       "    }\n",
       "\n",
       "    .dataframe thead th {\n",
       "        text-align: right;\n",
       "    }\n",
       "</style>\n",
       "<table border=\"1\" class=\"dataframe\">\n",
       "  <thead>\n",
       "    <tr style=\"text-align: right;\">\n",
       "      <th></th>\n",
       "      <th>Country or territory name</th>\n",
       "      <th>Estimated total population number</th>\n",
       "      <th>count</th>\n",
       "    </tr>\n",
       "  </thead>\n",
       "  <tbody>\n",
       "    <tr>\n",
       "      <th>0</th>\n",
       "      <td>Afghanistan</td>\n",
       "      <td>30551674</td>\n",
       "      <td>1</td>\n",
       "    </tr>\n",
       "    <tr>\n",
       "      <th>1</th>\n",
       "      <td>Albania</td>\n",
       "      <td>3173271</td>\n",
       "      <td>1</td>\n",
       "    </tr>\n",
       "    <tr>\n",
       "      <th>2</th>\n",
       "      <td>Algeria</td>\n",
       "      <td>39208194</td>\n",
       "      <td>1</td>\n",
       "    </tr>\n",
       "    <tr>\n",
       "      <th>3</th>\n",
       "      <td>American Samoa</td>\n",
       "      <td>55165</td>\n",
       "      <td>1</td>\n",
       "    </tr>\n",
       "    <tr>\n",
       "      <th>4</th>\n",
       "      <td>Andorra</td>\n",
       "      <td>79218</td>\n",
       "      <td>1</td>\n",
       "    </tr>\n",
       "    <tr>\n",
       "      <th>...</th>\n",
       "      <td>...</td>\n",
       "      <td>...</td>\n",
       "      <td>...</td>\n",
       "    </tr>\n",
       "    <tr>\n",
       "      <th>212</th>\n",
       "      <td>Wallis and Futuna Islands</td>\n",
       "      <td>13272</td>\n",
       "      <td>1</td>\n",
       "    </tr>\n",
       "    <tr>\n",
       "      <th>213</th>\n",
       "      <td>West Bank and Gaza Strip</td>\n",
       "      <td>4326295</td>\n",
       "      <td>1</td>\n",
       "    </tr>\n",
       "    <tr>\n",
       "      <th>214</th>\n",
       "      <td>Yemen</td>\n",
       "      <td>24407381</td>\n",
       "      <td>1</td>\n",
       "    </tr>\n",
       "    <tr>\n",
       "      <th>215</th>\n",
       "      <td>Zambia</td>\n",
       "      <td>14538640</td>\n",
       "      <td>1</td>\n",
       "    </tr>\n",
       "    <tr>\n",
       "      <th>216</th>\n",
       "      <td>Zimbabwe</td>\n",
       "      <td>14149648</td>\n",
       "      <td>1</td>\n",
       "    </tr>\n",
       "  </tbody>\n",
       "</table>\n",
       "<p>217 rows × 3 columns</p>\n",
       "</div>"
      ],
      "text/plain": [
       "     Country or territory name  Estimated total population number  count\n",
       "0                  Afghanistan                           30551674      1\n",
       "1                      Albania                            3173271      1\n",
       "2                      Algeria                           39208194      1\n",
       "3               American Samoa                              55165      1\n",
       "4                      Andorra                              79218      1\n",
       "..                         ...                                ...    ...\n",
       "212  Wallis and Futuna Islands                              13272      1\n",
       "213   West Bank and Gaza Strip                            4326295      1\n",
       "214                      Yemen                           24407381      1\n",
       "215                     Zambia                           14538640      1\n",
       "216                   Zimbabwe                           14149648      1\n",
       "\n",
       "[217 rows x 3 columns]"
      ]
     },
     "execution_count": 166,
     "metadata": {},
     "output_type": "execute_result"
    }
   ],
   "source": [
    "year2013 = year1.loc[2013].reset_index()\n",
    "year2013"
   ]
  },
  {
   "cell_type": "code",
   "execution_count": 167,
   "metadata": {},
   "outputs": [
    {
     "data": {
      "text/html": [
       "<div>\n",
       "<style scoped>\n",
       "    .dataframe tbody tr th:only-of-type {\n",
       "        vertical-align: middle;\n",
       "    }\n",
       "\n",
       "    .dataframe tbody tr th {\n",
       "        vertical-align: top;\n",
       "    }\n",
       "\n",
       "    .dataframe thead th {\n",
       "        text-align: right;\n",
       "    }\n",
       "</style>\n",
       "<table border=\"1\" class=\"dataframe\">\n",
       "  <thead>\n",
       "    <tr style=\"text-align: right;\">\n",
       "      <th></th>\n",
       "      <th>Country or territory name</th>\n",
       "      <th>Estimated total population number</th>\n",
       "      <th>count</th>\n",
       "      <th>Population Change_1990_2013</th>\n",
       "    </tr>\n",
       "  </thead>\n",
       "  <tbody>\n",
       "    <tr>\n",
       "      <th>0</th>\n",
       "      <td>Afghanistan</td>\n",
       "      <td>30551674</td>\n",
       "      <td>1</td>\n",
       "      <td>18820481.0</td>\n",
       "    </tr>\n",
       "    <tr>\n",
       "      <th>1</th>\n",
       "      <td>Albania</td>\n",
       "      <td>3173271</td>\n",
       "      <td>1</td>\n",
       "      <td>-273611.0</td>\n",
       "    </tr>\n",
       "    <tr>\n",
       "      <th>2</th>\n",
       "      <td>Algeria</td>\n",
       "      <td>39208194</td>\n",
       "      <td>1</td>\n",
       "      <td>12968486.0</td>\n",
       "    </tr>\n",
       "    <tr>\n",
       "      <th>3</th>\n",
       "      <td>American Samoa</td>\n",
       "      <td>55165</td>\n",
       "      <td>1</td>\n",
       "      <td>8121.0</td>\n",
       "    </tr>\n",
       "    <tr>\n",
       "      <th>4</th>\n",
       "      <td>Andorra</td>\n",
       "      <td>79218</td>\n",
       "      <td>1</td>\n",
       "      <td>24707.0</td>\n",
       "    </tr>\n",
       "    <tr>\n",
       "      <th>...</th>\n",
       "      <td>...</td>\n",
       "      <td>...</td>\n",
       "      <td>...</td>\n",
       "      <td>...</td>\n",
       "    </tr>\n",
       "    <tr>\n",
       "      <th>212</th>\n",
       "      <td>Wallis and Futuna Islands</td>\n",
       "      <td>13272</td>\n",
       "      <td>1</td>\n",
       "      <td>NaN</td>\n",
       "    </tr>\n",
       "    <tr>\n",
       "      <th>213</th>\n",
       "      <td>West Bank and Gaza Strip</td>\n",
       "      <td>4326295</td>\n",
       "      <td>1</td>\n",
       "      <td>NaN</td>\n",
       "    </tr>\n",
       "    <tr>\n",
       "      <th>214</th>\n",
       "      <td>Yemen</td>\n",
       "      <td>24407381</td>\n",
       "      <td>1</td>\n",
       "      <td>NaN</td>\n",
       "    </tr>\n",
       "    <tr>\n",
       "      <th>215</th>\n",
       "      <td>Zambia</td>\n",
       "      <td>14538640</td>\n",
       "      <td>1</td>\n",
       "      <td>NaN</td>\n",
       "    </tr>\n",
       "    <tr>\n",
       "      <th>216</th>\n",
       "      <td>Zimbabwe</td>\n",
       "      <td>14149648</td>\n",
       "      <td>1</td>\n",
       "      <td>NaN</td>\n",
       "    </tr>\n",
       "  </tbody>\n",
       "</table>\n",
       "<p>217 rows × 4 columns</p>\n",
       "</div>"
      ],
      "text/plain": [
       "     Country or territory name  Estimated total population number  count  \\\n",
       "0                  Afghanistan                           30551674      1   \n",
       "1                      Albania                            3173271      1   \n",
       "2                      Algeria                           39208194      1   \n",
       "3               American Samoa                              55165      1   \n",
       "4                      Andorra                              79218      1   \n",
       "..                         ...                                ...    ...   \n",
       "212  Wallis and Futuna Islands                              13272      1   \n",
       "213   West Bank and Gaza Strip                            4326295      1   \n",
       "214                      Yemen                           24407381      1   \n",
       "215                     Zambia                           14538640      1   \n",
       "216                   Zimbabwe                           14149648      1   \n",
       "\n",
       "     Population Change_1990_2013  \n",
       "0                     18820481.0  \n",
       "1                      -273611.0  \n",
       "2                     12968486.0  \n",
       "3                         8121.0  \n",
       "4                        24707.0  \n",
       "..                           ...  \n",
       "212                          NaN  \n",
       "213                          NaN  \n",
       "214                          NaN  \n",
       "215                          NaN  \n",
       "216                          NaN  \n",
       "\n",
       "[217 rows x 4 columns]"
      ]
     },
     "execution_count": 167,
     "metadata": {},
     "output_type": "execute_result"
    }
   ],
   "source": [
    "year2013['Population Change_1990_2013'] = year2013['Estimated total population number'] - year1990['totalpopulation1990']\n",
    "year2013"
   ]
  },
  {
   "cell_type": "code",
   "execution_count": 168,
   "metadata": {},
   "outputs": [
    {
     "data": {
      "text/plain": [
       "Country or territory name            0\n",
       "Estimated total population number    0\n",
       "count                                0\n",
       "Population Change_1990_2013          5\n",
       "dtype: int64"
      ]
     },
     "execution_count": 168,
     "metadata": {},
     "output_type": "execute_result"
    }
   ],
   "source": [
    "year2013.isnull().sum()"
   ]
  },
  {
   "cell_type": "code",
   "execution_count": 169,
   "metadata": {},
   "outputs": [
    {
     "data": {
      "text/plain": [
       "Country or territory name            0\n",
       "Estimated total population number    0\n",
       "count                                0\n",
       "Population Change_1990_2013          0\n",
       "dtype: int64"
      ]
     },
     "execution_count": 169,
     "metadata": {},
     "output_type": "execute_result"
    }
   ],
   "source": [
    "year2013['Population Change_1990_2013'] = year2013['Population Change_1990_2013'].fillna(0)\n",
    "year2013.isnull().sum()"
   ]
  },
  {
   "cell_type": "code",
   "execution_count": 170,
   "metadata": {},
   "outputs": [
    {
     "name": "stderr",
     "output_type": "stream",
     "text": [
      "C:\\Users\\toy\\AppData\\Local\\Temp\\ipykernel_12876\\2629907134.py:2: FutureWarning:\n",
      "\n",
      "\n",
      "\n",
      "Passing `palette` without assigning `hue` is deprecated and will be removed in v0.14.0. Assign the `x` variable to `hue` and set `legend=False` for the same effect.\n",
      "\n",
      "\n"
     ]
    },
    {
     "data": {
      "image/png": "[encoded data removed]",
      "text/plain": [
       "<Figure size 2000x1000 with 1 Axes>"
      ]
     },
     "metadata": {},
     "output_type": "display_data"
    }
   ],
   "source": [
    "plt.figure(figsize = (20, 10))\n",
    "p = sns.barplot(data=year2013.head(30),x = 'Country or territory name', y = 'Population Change_1990_2013', palette=\"viridis\")\n",
    "\n",
    "\n",
    "for b in p.patches:\n",
    "    p.annotate(str(round(b.get_height() / 1e6, 1)) + 'M',\n",
    "    (b.get_x() + b.get_width() / 2., b.get_height() + 1.2e6),\n",
    "    ha='center', va='bottom',\n",
    "    xytext=(0, 12),  # Adjusted to move the labels above the bars\n",
    "    textcoords='offset points')\n",
    "\n",
    "plt.xlabel(\"Country or territory name\")\n",
    "plt.ylabel(\"Population Change_1990_2013\")\n",
    "plt.title(\"Population Change (1990 to 2013)\")\n",
    "plt.xticks(rotation=90)\n",
    "plt.show()"
   ]
  },
  {
   "cell_type": "markdown",
   "metadata": {},
   "source": [
    "The graph shows the population change from 1990 to 2013 , some population change we negative turning the bar upside down , and some of the population change was positive turning the bar upright"
   ]
  },
  {
   "cell_type": "markdown",
   "metadata": {},
   "source": [
    "Question 3: Countries with Most Population Growth and Least Population Growth  (2012–2023)\n"
   ]
  },
  {
   "cell_type": "code",
   "execution_count": 171,
   "metadata": {},
   "outputs": [
    {
     "data": {
      "text/html": [
       "<div>\n",
       "<style scoped>\n",
       "    .dataframe tbody tr th:only-of-type {\n",
       "        vertical-align: middle;\n",
       "    }\n",
       "\n",
       "    .dataframe tbody tr th {\n",
       "        vertical-align: top;\n",
       "    }\n",
       "\n",
       "    .dataframe thead th {\n",
       "        text-align: right;\n",
       "    }\n",
       "</style>\n",
       "<table border=\"1\" class=\"dataframe\">\n",
       "  <thead>\n",
       "    <tr style=\"text-align: right;\">\n",
       "      <th></th>\n",
       "      <th>Country or territory name</th>\n",
       "      <th>Estimated total population number</th>\n",
       "      <th>count</th>\n",
       "      <th>Population Change_1990_2013</th>\n",
       "      <th>population change</th>\n",
       "    </tr>\n",
       "  </thead>\n",
       "  <tbody>\n",
       "    <tr>\n",
       "      <th>0</th>\n",
       "      <td>Afghanistan</td>\n",
       "      <td>30551674</td>\n",
       "      <td>1</td>\n",
       "      <td>18820481.0</td>\n",
       "      <td>727138</td>\n",
       "    </tr>\n",
       "    <tr>\n",
       "      <th>1</th>\n",
       "      <td>Albania</td>\n",
       "      <td>3173271</td>\n",
       "      <td>1</td>\n",
       "      <td>-273611.0</td>\n",
       "      <td>11188</td>\n",
       "    </tr>\n",
       "    <tr>\n",
       "      <th>2</th>\n",
       "      <td>Algeria</td>\n",
       "      <td>39208194</td>\n",
       "      <td>1</td>\n",
       "      <td>12968486.0</td>\n",
       "      <td>726489</td>\n",
       "    </tr>\n",
       "    <tr>\n",
       "      <th>3</th>\n",
       "      <td>American Samoa</td>\n",
       "      <td>55165</td>\n",
       "      <td>1</td>\n",
       "      <td>8121.0</td>\n",
       "      <td>37</td>\n",
       "    </tr>\n",
       "    <tr>\n",
       "      <th>4</th>\n",
       "      <td>Andorra</td>\n",
       "      <td>79218</td>\n",
       "      <td>1</td>\n",
       "      <td>24707.0</td>\n",
       "      <td>858</td>\n",
       "    </tr>\n",
       "    <tr>\n",
       "      <th>...</th>\n",
       "      <td>...</td>\n",
       "      <td>...</td>\n",
       "      <td>...</td>\n",
       "      <td>...</td>\n",
       "      <td>...</td>\n",
       "    </tr>\n",
       "    <tr>\n",
       "      <th>212</th>\n",
       "      <td>Wallis and Futuna Islands</td>\n",
       "      <td>13272</td>\n",
       "      <td>1</td>\n",
       "      <td>0.0</td>\n",
       "      <td>-81</td>\n",
       "    </tr>\n",
       "    <tr>\n",
       "      <th>213</th>\n",
       "      <td>West Bank and Gaza Strip</td>\n",
       "      <td>4326295</td>\n",
       "      <td>1</td>\n",
       "      <td>0.0</td>\n",
       "      <td>107524</td>\n",
       "    </tr>\n",
       "    <tr>\n",
       "      <th>214</th>\n",
       "      <td>Yemen</td>\n",
       "      <td>24407381</td>\n",
       "      <td>1</td>\n",
       "      <td>0.0</td>\n",
       "      <td>554972</td>\n",
       "    </tr>\n",
       "    <tr>\n",
       "      <th>215</th>\n",
       "      <td>Zambia</td>\n",
       "      <td>14538640</td>\n",
       "      <td>1</td>\n",
       "      <td>0.0</td>\n",
       "      <td>463541</td>\n",
       "    </tr>\n",
       "    <tr>\n",
       "      <th>216</th>\n",
       "      <td>Zimbabwe</td>\n",
       "      <td>14149648</td>\n",
       "      <td>1</td>\n",
       "      <td>0.0</td>\n",
       "      <td>425331</td>\n",
       "    </tr>\n",
       "  </tbody>\n",
       "</table>\n",
       "<p>217 rows × 5 columns</p>\n",
       "</div>"
      ],
      "text/plain": [
       "     Country or territory name  Estimated total population number  count  \\\n",
       "0                  Afghanistan                           30551674      1   \n",
       "1                      Albania                            3173271      1   \n",
       "2                      Algeria                           39208194      1   \n",
       "3               American Samoa                              55165      1   \n",
       "4                      Andorra                              79218      1   \n",
       "..                         ...                                ...    ...   \n",
       "212  Wallis and Futuna Islands                              13272      1   \n",
       "213   West Bank and Gaza Strip                            4326295      1   \n",
       "214                      Yemen                           24407381      1   \n",
       "215                     Zambia                           14538640      1   \n",
       "216                   Zimbabwe                           14149648      1   \n",
       "\n",
       "     Population Change_1990_2013  population change  \n",
       "0                     18820481.0             727138  \n",
       "1                      -273611.0              11188  \n",
       "2                     12968486.0             726489  \n",
       "3                         8121.0                 37  \n",
       "4                        24707.0                858  \n",
       "..                           ...                ...  \n",
       "212                          0.0                -81  \n",
       "213                          0.0             107524  \n",
       "214                          0.0             554972  \n",
       "215                          0.0             463541  \n",
       "216                          0.0             425331  \n",
       "\n",
       "[217 rows x 5 columns]"
      ]
     },
     "execution_count": 171,
     "metadata": {},
     "output_type": "execute_result"
    }
   ],
   "source": [
    "year2012 = year.loc[2012].reset_index()\n",
    "year2013['population change'] = year2013['Estimated total population number'] -  year2012['Estimated total population number']\n",
    "year2013"
   ]
  },
  {
   "cell_type": "code",
   "execution_count": 172,
   "metadata": {},
   "outputs": [],
   "source": [
    "#Sorting the DataFrame by population change in descending order to find the most population changes\n",
    "growth = year2013.sort_values(by='population change', ascending=False).head(10)  # Top 10 \n",
    "least = year2013.sort_values(by='population change', ascending=True).head(10)  # bottom 10"
   ]
  },
  {
   "cell_type": "code",
   "execution_count": 173,
   "metadata": {},
   "outputs": [
    {
     "name": "stdout",
     "output_type": "stream",
     "text": [
      "Countries with the most population growth from 2012 to 2013:\n",
      "\n"
     ]
    },
    {
     "data": {
      "text/html": [
       "<div>\n",
       "<style scoped>\n",
       "    .dataframe tbody tr th:only-of-type {\n",
       "        vertical-align: middle;\n",
       "    }\n",
       "\n",
       "    .dataframe tbody tr th {\n",
       "        vertical-align: top;\n",
       "    }\n",
       "\n",
       "    .dataframe thead th {\n",
       "        text-align: right;\n",
       "    }\n",
       "</style>\n",
       "<table border=\"1\" class=\"dataframe\">\n",
       "  <thead>\n",
       "    <tr style=\"text-align: right;\">\n",
       "      <th></th>\n",
       "      <th>Country or territory name</th>\n",
       "      <th>population change</th>\n",
       "    </tr>\n",
       "  </thead>\n",
       "  <tbody>\n",
       "    <tr>\n",
       "      <th>90</th>\n",
       "      <td>India</td>\n",
       "      <td>15452864</td>\n",
       "    </tr>\n",
       "    <tr>\n",
       "      <th>42</th>\n",
       "      <td>China</td>\n",
       "      <td>8501630</td>\n",
       "    </tr>\n",
       "    <tr>\n",
       "      <th>139</th>\n",
       "      <td>Nigeria</td>\n",
       "      <td>4781569</td>\n",
       "    </tr>\n",
       "    <tr>\n",
       "      <th>91</th>\n",
       "      <td>Indonesia</td>\n",
       "      <td>3001440</td>\n",
       "    </tr>\n",
       "    <tr>\n",
       "      <th>144</th>\n",
       "      <td>Pakistan</td>\n",
       "      <td>2982483</td>\n",
       "    </tr>\n",
       "    <tr>\n",
       "      <th>206</th>\n",
       "      <td>United States of America</td>\n",
       "      <td>2545450</td>\n",
       "    </tr>\n",
       "    <tr>\n",
       "      <th>68</th>\n",
       "      <td>Ethiopia</td>\n",
       "      <td>2371907</td>\n",
       "    </tr>\n",
       "    <tr>\n",
       "      <th>16</th>\n",
       "      <td>Bangladesh</td>\n",
       "      <td>1899594</td>\n",
       "    </tr>\n",
       "    <tr>\n",
       "      <th>57</th>\n",
       "      <td>Democratic Republic of the Congo</td>\n",
       "      <td>1808584</td>\n",
       "    </tr>\n",
       "    <tr>\n",
       "      <th>28</th>\n",
       "      <td>Brazil</td>\n",
       "      <td>1705906</td>\n",
       "    </tr>\n",
       "  </tbody>\n",
       "</table>\n",
       "</div>"
      ],
      "text/plain": [
       "            Country or territory name  population change\n",
       "90                              India           15452864\n",
       "42                              China            8501630\n",
       "139                           Nigeria            4781569\n",
       "91                          Indonesia            3001440\n",
       "144                          Pakistan            2982483\n",
       "206          United States of America            2545450\n",
       "68                           Ethiopia            2371907\n",
       "16                         Bangladesh            1899594\n",
       "57   Democratic Republic of the Congo            1808584\n",
       "28                             Brazil            1705906"
      ]
     },
     "execution_count": 173,
     "metadata": {},
     "output_type": "execute_result"
    }
   ],
   "source": [
    "print(\"Countries with the most population growth from 2012 to 2013:\")\n",
    "print()\n",
    "growth = growth[['Country or territory name', 'population change']]\n",
    "pd.DataFrame(growth)\n"
   ]
  },
  {
   "cell_type": "code",
   "execution_count": 174,
   "metadata": {},
   "outputs": [
    {
     "data": {
      "image/png": "[encoded data removed]",
      "text/plain": [
       "<Figure size 1600x900 with 1 Axes>"
      ]
     },
     "metadata": {},
     "output_type": "display_data"
    }
   ],
   "source": [
    "# Sort the DataFrame by population change\n",
    "year2013 = year2013.sort_values(by='population change', ascending=False)\n",
    "\n",
    "# Select the top N countries with the most significant changes\n",
    "top_countries = year2013.head(10)\n",
    "\n",
    "# Create a bar chart to visualize the changes for growth\n",
    "plt.figure(figsize=(16, 9))\n",
    "bars = plt.barh(top_countries['Country or territory name'], top_countries['population change'],color='dodgerblue')\n",
    "plt.xlabel('Population Change (2012-2013) in Millions')\n",
    "plt.title('Top 10 Countries with the Most Population Change from 2012-2013')\n",
    "plt.gca().invert_yaxis()  # Invert the y-axis\n",
    "plt.grid(axis='x', linestyle='--', alpha=0.6)\n",
    "\n",
    "# Add numbers inside the bars\n",
    "for bar in bars:\n",
    "    plt.annotate(f\"{round(bar.get_width() / 1e6, 1)}M\",\n",
    "                (bar.get_width(), bar.get_y() + bar.get_height() / 2),\n",
    "                va='center', ha='left', xytext=(5, 0),\n",
    "                textcoords='offset points')"
   ]
  },
  {
   "cell_type": "code",
   "execution_count": 175,
   "metadata": {},
   "outputs": [
    {
     "name": "stdout",
     "output_type": "stream",
     "text": [
      "Countries with the least population growth from 2012 to 2013:\n",
      "\n"
     ]
    },
    {
     "data": {
      "text/html": [
       "<div>\n",
       "<style scoped>\n",
       "    .dataframe tbody tr th:only-of-type {\n",
       "        vertical-align: middle;\n",
       "    }\n",
       "\n",
       "    .dataframe tbody tr th {\n",
       "        vertical-align: top;\n",
       "    }\n",
       "\n",
       "    .dataframe thead th {\n",
       "        text-align: right;\n",
       "    }\n",
       "</style>\n",
       "<table border=\"1\" class=\"dataframe\">\n",
       "  <thead>\n",
       "    <tr style=\"text-align: right;\">\n",
       "      <th></th>\n",
       "      <th>Country or territory name</th>\n",
       "      <th>population change</th>\n",
       "    </tr>\n",
       "  </thead>\n",
       "  <tbody>\n",
       "    <tr>\n",
       "      <th>158</th>\n",
       "      <td>Russian Federation</td>\n",
       "      <td>-335964</td>\n",
       "    </tr>\n",
       "    <tr>\n",
       "      <th>202</th>\n",
       "      <td>Ukraine</td>\n",
       "      <td>-291139</td>\n",
       "    </tr>\n",
       "    <tr>\n",
       "      <th>98</th>\n",
       "      <td>Japan</td>\n",
       "      <td>-106127</td>\n",
       "    </tr>\n",
       "    <tr>\n",
       "      <th>76</th>\n",
       "      <td>Germany</td>\n",
       "      <td>-73495</td>\n",
       "    </tr>\n",
       "    <tr>\n",
       "      <th>157</th>\n",
       "      <td>Romania</td>\n",
       "      <td>-56156</td>\n",
       "    </tr>\n",
       "    <tr>\n",
       "      <th>31</th>\n",
       "      <td>Bulgaria</td>\n",
       "      <td>-54888</td>\n",
       "    </tr>\n",
       "    <tr>\n",
       "      <th>18</th>\n",
       "      <td>Belarus</td>\n",
       "      <td>-48419</td>\n",
       "    </tr>\n",
       "    <tr>\n",
       "      <th>168</th>\n",
       "      <td>Serbia</td>\n",
       "      <td>-42047</td>\n",
       "    </tr>\n",
       "    <tr>\n",
       "      <th>156</th>\n",
       "      <td>Republic of Moldova</td>\n",
       "      <td>-27177</td>\n",
       "    </tr>\n",
       "    <tr>\n",
       "      <th>88</th>\n",
       "      <td>Hungary</td>\n",
       "      <td>-21254</td>\n",
       "    </tr>\n",
       "  </tbody>\n",
       "</table>\n",
       "</div>"
      ],
      "text/plain": [
       "    Country or territory name  population change\n",
       "158        Russian Federation            -335964\n",
       "202                   Ukraine            -291139\n",
       "98                      Japan            -106127\n",
       "76                    Germany             -73495\n",
       "157                   Romania             -56156\n",
       "31                   Bulgaria             -54888\n",
       "18                    Belarus             -48419\n",
       "168                    Serbia             -42047\n",
       "156       Republic of Moldova             -27177\n",
       "88                    Hungary             -21254"
      ]
     },
     "execution_count": 175,
     "metadata": {},
     "output_type": "execute_result"
    }
   ],
   "source": [
    "print(\"Countries with the least population growth from 2012 to 2013:\")\n",
    "print()\n",
    "least = least[['Country or territory name', 'population change']]\n",
    "pd.DataFrame(least)"
   ]
  },
  {
   "cell_type": "code",
   "execution_count": 176,
   "metadata": {},
   "outputs": [
    {
     "data": {
      "image/png": "[encoded data removed]",
      "text/plain": [
       "<Figure size 1600x900 with 1 Axes>"
      ]
     },
     "metadata": {},
     "output_type": "display_data"
    }
   ],
   "source": [
    "# Sort the DataFrame by population change\n",
    "year2013 = year2013.sort_values(by='population change', ascending=False)\n",
    "\n",
    "# Select the top N countries with the most significant changes\n",
    "top_countries = year2013.tail(10)\n",
    "\n",
    "# Create a bar chart to visualize the changes for growth\n",
    "plt.figure(figsize=(16, 9))\n",
    "bars = plt.barh(top_countries['Country or territory name'], top_countries['population change'],color='yellow')\n",
    "plt.xlabel('Population Change (2012-2013) in Millions')\n",
    "plt.title('Top 10 Countries with the Least Population Change from 2012-2013')\n",
    "plt.gca().invert_yaxis()  # Invert the y-axis\n",
    "plt.grid(axis='x', linestyle='--', alpha=0.6)\n",
    "\n",
    "# Add numbers inside the bars\n",
    "for bar in bars:\n",
    "    plt.annotate(f\"{round(bar.get_width() / 1e6, 1)}M\",\n",
    "                (bar.get_width(), bar.get_y() + bar.get_height() / 2),\n",
    "                va='center', ha='left', xytext=(5, 0),\n",
    "                textcoords='offset points')"
   ]
  },
  {
   "cell_type": "markdown",
   "metadata": {},
   "source": [
    "CONCLUSION"
   ]
  },
  {
   "cell_type": "markdown",
   "metadata": {},
   "source": [
    "To sum up the analysis, more information could have been driven from the data, based on the country . Sampling is used to extract and analysis information based on specific country and your location . You can't analysis all the world data at once but can sample them into either in qualitative or quantitative for your analysis. \n",
    "In this case , Ghana was used as a sampled data because I'm a Ghanaian"
   ]
  }
 ],
 "metadata": {
  "kernelspec": {
   "display_name": "Python 3 (ipykernel)",
   "language": "python",
   "name": "python3"
  },
  "language_info": {
   "codemirror_mode": {
    "name": "ipython",
    "version": 3
   },
   "file_extension": ".py",
   "mimetype": "text/x-python",
   "name": "python",
   "nbconvert_exporter": "python",
   "pygments_lexer": "ipython3",
   "version": "3.12.0"
  }
 },
 "nbformat": 4,
 "nbformat_minor": 4
}
